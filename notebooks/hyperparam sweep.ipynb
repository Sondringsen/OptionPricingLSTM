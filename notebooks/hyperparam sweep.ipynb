{
 "cells": [
  {
   "cell_type": "code",
   "execution_count": 1,
   "metadata": {},
   "outputs": [
    {
     "name": "stderr",
     "output_type": "stream",
     "text": [
      "\u001b[34m\u001b[1mwandb\u001b[0m: Currently logged in as: \u001b[33msondre-rogde\u001b[0m (\u001b[33msondre-rogde-ntnu\u001b[0m). Use \u001b[1m`wandb login --relogin`\u001b[0m to force relogin\n",
      "\u001b[34m\u001b[1mwandb\u001b[0m: \u001b[33mWARNING\u001b[0m If you're specifying your api key in code, ensure this code is not shared publicly.\n",
      "\u001b[34m\u001b[1mwandb\u001b[0m: \u001b[33mWARNING\u001b[0m Consider setting the WANDB_API_KEY environment variable, or running `wandb login` from the command line.\n",
      "\u001b[34m\u001b[1mwandb\u001b[0m: Appending key for api.wandb.ai to your netrc file: /Users/sondrerogde/.netrc\n"
     ]
    },
    {
     "data": {
      "text/plain": [
       "True"
      ]
     },
     "execution_count": 1,
     "metadata": {},
     "output_type": "execute_result"
    }
   ],
   "source": [
    "from preprocessing import create_train_test, min_max_scale, df_to_xy, read_file, lag_features, read_file\n",
    "from lstm import create_model\n",
    "import numpy as np\n",
    "from sklearn.preprocessing import MinMaxScaler\n",
    "\n",
    "# Hyperparameter tuning\n",
    "\n",
    "\n",
    "import wandb\n",
    "from wandb.integration.keras import WandbMetricsLogger\n",
    "from keras.callbacks import EarlyStopping\n",
    "\n",
    "import os\n",
    "\n",
    "os.environ[\"WANDB_NOTEBOOK_NAME\"] = \"/Users/sondrerogde/Dev/LSTM-for-option-pricing\"\n",
    "wandb.login(key=\"6243a3eda53307963c7461f96bd7d2e9bad9a8b3\")"
   ]
  },
  {
   "cell_type": "code",
   "execution_count": 2,
   "metadata": {},
   "outputs": [],
   "source": [
    "#Variables\n",
    "first_year = 2019\n",
    "last_year = 2021\n",
    "split_date =\"2021-01-01\"\n",
    "\n",
    "epochs = 300\n",
    "\n",
    "features = [\"Underlying_last\", \"Strike\", \"Ttl\", \"Volatility\", \"R\"]\n",
    "seq_length = 5\n",
    "num_features = len(features)\n",
    "model_config = {\n",
    "    \"seq_length\": seq_length,\n",
    "    \"num_features\": num_features,\n",
    "    }\n",
    "\n"
   ]
  },
  {
   "cell_type": "code",
   "execution_count": 3,
   "metadata": {},
   "outputs": [
    {
     "name": "stdout",
     "output_type": "stream",
     "text": [
      "<class 'pandas.core.frame.DataFrame'>\n",
      "RangeIndex: 5123798 entries, 0 to 5123797\n",
      "Data columns (total 10 columns):\n",
      " #   Column                Dtype  \n",
      "---  ------                -----  \n",
      " 0   Unnamed: 0            int64  \n",
      " 1   Quote_date            object \n",
      " 2   Expire_date           object \n",
      " 3   Price                 float64\n",
      " 4   Underlying_last       float64\n",
      " 5   Strike                float64\n",
      " 6   Ttl                   int64  \n",
      " 7   Volatility            float64\n",
      " 8   Volatility_GJR_GARCH  float64\n",
      " 9   R                     float64\n",
      "dtypes: float64(6), int64(2), object(2)\n",
      "memory usage: 390.9+ MB\n"
     ]
    }
   ],
   "source": [
    "file = f\"../data/processed_data/{first_year}-{last_year}_underlying-strike_only-price.csv\"\n",
    "\n",
    "df_read = read_file(file)\n",
    "# print(df_read)\n",
    "df_read.info()"
   ]
  },
  {
   "cell_type": "markdown",
   "metadata": {},
   "source": [
    "# Use only the first window for hyperparameter tuning"
   ]
  },
  {
   "cell_type": "code",
   "execution_count": 4,
   "metadata": {},
   "outputs": [],
   "source": [
    "from datetime import datetime\n",
    "from dateutil.relativedelta import relativedelta\n",
    "\n",
    "training_period = 10\n",
    "val_period = 1\n",
    "test_period = 1\n",
    "\n",
    "features = [\"Underlying_last\", \"Strike\", \"Ttl\", \"Volatility\", \"R\"]\n",
    "seq_length = 5\n",
    "num_features = len(features)\n",
    "num_outputs = 1\n",
    "\n",
    "df_read_lags = lag_features(df_read, features, seq_length)\n",
    "\n",
    "train_val_test = []\n",
    "\n",
    "\n",
    "train_start = datetime(2020, 4, 1)\n",
    "val_start = train_start + relativedelta(months=8)\n",
    "test_start = val_start + relativedelta(months=1)\n",
    "test_end = test_start + relativedelta(months=1)\n",
    "\n",
    "df_train_orginal = df_read_lags.loc[(df_read_lags.loc[:, \"Quote_date\"] >= str(train_start)) & (df_read_lags.loc[:, \"Quote_date\"] < str(val_start)), :]\n",
    "df_val_orginal = df_read_lags.loc[(df_read_lags.loc[:, \"Quote_date\"] >= str(val_start)) & (df_read_lags.loc[:, \"Quote_date\"] < str(test_start)), :]\n",
    "df_test_orginal = df_read_lags.loc[(df_read_lags.loc[:, \"Quote_date\"] >= str(test_start)) & (df_read_lags.loc[:, \"Quote_date\"] < str(test_end)), :]\n",
    "\n",
    "train_x_org, train_y_org = df_to_xy(df_train_orginal, num_features, seq_length, num_outputs)\n",
    "val_x_org, val_y_org = df_to_xy(df_val_orginal, num_features, seq_length, num_outputs)\n",
    "test_x_org, test_y_org = df_to_xy(df_test_orginal, num_features, seq_length, num_outputs)\n",
    "\n",
    "scaler = MinMaxScaler()\n",
    "train_x_scaled = scaler.fit_transform(train_x_org)\n",
    "val_x_scaled = scaler.transform(val_x_org)\n",
    "test_x_scaled = scaler.transform(test_x_org)\n",
    "\n",
    "train_x_scaled = np.reshape(train_x_scaled, (len(train_x_scaled), seq_length, num_features))\n",
    "val_x_scaled = np.reshape(val_x_scaled, (len(val_x_scaled), seq_length, num_features))\n",
    "test_x_scaled = np.reshape(test_x_scaled, (len(test_x_scaled), seq_length, num_features))\n",
    "\n",
    "train_val_test.append(((train_x_scaled, train_y_org), (val_x_scaled, val_y_org), (test_x_scaled, test_y_org)))\n"
   ]
  },
  {
   "cell_type": "code",
   "execution_count": 5,
   "metadata": {},
   "outputs": [],
   "source": [
    "sweep_configuration = {\n",
    "    'method': 'bayes',\n",
    "    'name': 'sondre_test',\n",
    "    'metric': {\n",
    "        'goal': 'minimize', \n",
    "        'name': 'validation_loss'\n",
    "\t\t},\n",
    "\n",
    "    'parameters': {\n",
    "        \"units\": {'values': [32, 64, 96, 128]},\n",
    "        \"learning_rate\": {\n",
    "            \"distribution\": \"uniform\",\n",
    "            'max': 0.005, 'min': 0.0005},\n",
    "        \"layers\": {'values': [4, 5, 6]},\n",
    "        \"minibatch_size\": {'values': [1024, 2048, 4096]},\n",
    "        \"bn_momentum\": {\n",
    "            \"distribution\": \"uniform\",\n",
    "            \"max\": 0.40,\n",
    "            \"min\": 0.00\n",
    "        },\n",
    "        \"weight_decay\": {\n",
    "            \"distribution\": \"uniform\",\n",
    "            \"max\": 0.0005,\n",
    "            \"min\": 0.00\n",
    "        }\n",
    "    }\n",
    "}\n",
    "\n"
   ]
  },
  {
   "cell_type": "code",
   "execution_count": 6,
   "metadata": {},
   "outputs": [],
   "source": [
    "# Initialize sweep and creating sweepID\n",
    "#sweep_id = wandb.sweep(sweep=sweep_configuration, project=\"LSTM option pricing\")\n",
    "#sweep8: sweep_id = 7finyjz4\n",
    "#sweep10 \n",
    "sweep_id = \"iysyrskx\""
   ]
  },
  {
   "cell_type": "code",
   "execution_count": 7,
   "metadata": {},
   "outputs": [],
   "source": [
    "def trainer(train_x = train_x_scaled, train_y = train_y_org, val_x = val_x_scaled, val_y = val_y_org, model_config = model_config):\n",
    "    # Initialize a new wandb run\n",
    "    with wandb.init(config=sweep_configuration):\n",
    "\n",
    "        # If called by wandb.agent, as below,\n",
    "        # this config will be set by Sweep Controller\n",
    "        config = wandb.config\n",
    "        config[\"seq_length\"] = model_config[\"seq_length\"]\n",
    "        config[\"num_features\"] = model_config[\"num_features\"]\n",
    "\n",
    "        model = create_model(config)\n",
    "\n",
    "        early_stopping = EarlyStopping(\n",
    "            monitor='val_loss',\n",
    "            mode='min',\n",
    "            min_delta=1e-6,\n",
    "            patience=5,\n",
    "        )\n",
    "        \n",
    "        wandb_callback = WandbMetricsLogger()\n",
    "\n",
    "        # I removed these\n",
    "        # shuffle = np.random.permutation(len(train_x))\n",
    "        # train_x, train_y = train_x[shuffle], train_y[shuffle]\n",
    "\n",
    "        model.fit(\n",
    "            train_x,\n",
    "            train_y,\n",
    "            batch_size = config.minibatch_size,\n",
    "            validation_data = (val_x, val_y),\n",
    "            epochs = epochs,\n",
    "            callbacks = [early_stopping, wandb_callback] \n",
    "        )\n",
    "\n",
    "        wandb.log({\"validation_loss\": model.evaluate(val_x, val_y)[0]})\n",
    "        \n"
   ]
  },
  {
   "cell_type": "code",
   "execution_count": 9,
   "metadata": {},
   "outputs": [
    {
     "name": "stderr",
     "output_type": "stream",
     "text": [
      "\u001b[34m\u001b[1mwandb\u001b[0m: Agent Starting Run: lxqhn7ig with config:\n",
      "\u001b[34m\u001b[1mwandb\u001b[0m: \tbn_momentum: 0.23933218960525063\n",
      "\u001b[34m\u001b[1mwandb\u001b[0m: \tlayers: 6\n",
      "\u001b[34m\u001b[1mwandb\u001b[0m: \tlearning_rate: 0.0023517488601035664\n",
      "\u001b[34m\u001b[1mwandb\u001b[0m: \tminibatch_size: 1024\n",
      "\u001b[34m\u001b[1mwandb\u001b[0m: \tunits: 128\n",
      "\u001b[34m\u001b[1mwandb\u001b[0m: \tweight_decay: 0.00026372934578021087\n"
     ]
    },
    {
     "data": {
      "text/html": [
       "Tracking run with wandb version 0.17.9"
      ],
      "text/plain": [
       "<IPython.core.display.HTML object>"
      ]
     },
     "metadata": {},
     "output_type": "display_data"
    },
    {
     "data": {
      "text/html": [
       "Run data is saved locally in <code>/Users/sondrerogde/Dev/LSTM-for-option-pricing/Sondre/wandb/run-20240924_020221-lxqhn7ig</code>"
      ],
      "text/plain": [
       "<IPython.core.display.HTML object>"
      ]
     },
     "metadata": {},
     "output_type": "display_data"
    },
    {
     "data": {
      "text/html": [
       "Syncing run <strong><a href='https://wandb.ai/sondre-rogde-ntnu/LSTM_OPTION_PRICING/runs/lxqhn7ig' target=\"_blank\">noble-sweep-57</a></strong> to <a href='https://wandb.ai/sondre-rogde-ntnu/LSTM_OPTION_PRICING' target=\"_blank\">Weights & Biases</a> (<a href='https://wandb.me/run' target=\"_blank\">docs</a>)<br/>Sweep page: <a href='https://wandb.ai/sondre-rogde-ntnu/LSTM_OPTION_PRICING/sweeps/guuhakot' target=\"_blank\">https://wandb.ai/sondre-rogde-ntnu/LSTM_OPTION_PRICING/sweeps/guuhakot</a>"
      ],
      "text/plain": [
       "<IPython.core.display.HTML object>"
      ]
     },
     "metadata": {},
     "output_type": "display_data"
    },
    {
     "data": {
      "text/html": [
       " View project at <a href='https://wandb.ai/sondre-rogde-ntnu/LSTM_OPTION_PRICING' target=\"_blank\">https://wandb.ai/sondre-rogde-ntnu/LSTM_OPTION_PRICING</a>"
      ],
      "text/plain": [
       "<IPython.core.display.HTML object>"
      ]
     },
     "metadata": {},
     "output_type": "display_data"
    },
    {
     "data": {
      "text/html": [
       " View sweep at <a href='https://wandb.ai/sondre-rogde-ntnu/LSTM_OPTION_PRICING/sweeps/guuhakot' target=\"_blank\">https://wandb.ai/sondre-rogde-ntnu/LSTM_OPTION_PRICING/sweeps/guuhakot</a>"
      ],
      "text/plain": [
       "<IPython.core.display.HTML object>"
      ]
     },
     "metadata": {},
     "output_type": "display_data"
    },
    {
     "data": {
      "text/html": [
       " View run at <a href='https://wandb.ai/sondre-rogde-ntnu/LSTM_OPTION_PRICING/runs/lxqhn7ig' target=\"_blank\">https://wandb.ai/sondre-rogde-ntnu/LSTM_OPTION_PRICING/runs/lxqhn7ig</a>"
      ],
      "text/plain": [
       "<IPython.core.display.HTML object>"
      ]
     },
     "metadata": {},
     "output_type": "display_data"
    },
    {
     "name": "stdout",
     "output_type": "stream",
     "text": [
      "Epoch 1/300\n"
     ]
    },
    {
     "name": "stderr",
     "output_type": "stream",
     "text": [
      "/Library/Frameworks/Python.framework/Versions/3.12/lib/python3.12/site-packages/keras/src/layers/rnn/rnn.py:204: UserWarning: Do not pass an `input_shape`/`input_dim` argument to a layer. When using Sequential models, prefer using an `Input(shape)` object as the first layer in the model instead.\n",
      "  super().__init__(**kwargs)\n"
     ]
    },
    {
     "name": "stdout",
     "output_type": "stream",
     "text": [
      "\u001b[1m972/972\u001b[0m \u001b[32m━━━━━━━━━━━━━━━━━━━━\u001b[0m\u001b[37m\u001b[0m \u001b[1m132s\u001b[0m 129ms/step - loss: 410906.8438 - mae: 410.8974 - val_loss: 1721.0966 - val_mae: 23.6368\n",
      "Epoch 2/300\n",
      "\u001b[1m972/972\u001b[0m \u001b[32m━━━━━━━━━━━━━━━━━━━━\u001b[0m\u001b[37m\u001b[0m \u001b[1m123s\u001b[0m 126ms/step - loss: 1562.3573 - mae: 24.2912 - val_loss: 210.4158 - val_mae: 11.6421\n",
      "Epoch 3/300\n",
      "\u001b[1m972/972\u001b[0m \u001b[32m━━━━━━━━━━━━━━━━━━━━\u001b[0m\u001b[37m\u001b[0m \u001b[1m123s\u001b[0m 126ms/step - loss: 888.6682 - mae: 19.9525 - val_loss: 9973.2422 - val_mae: 88.2596\n",
      "Epoch 4/300\n",
      "\u001b[1m972/972\u001b[0m \u001b[32m━━━━━━━━━━━━━━━━━━━━\u001b[0m\u001b[37m\u001b[0m \u001b[1m127s\u001b[0m 131ms/step - loss: 942.7044 - mae: 20.5710 - val_loss: 1043.2174 - val_mae: 27.2093\n",
      "Epoch 5/300\n",
      "\u001b[1m972/972\u001b[0m \u001b[32m━━━━━━━━━━━━━━━━━━━━\u001b[0m\u001b[37m\u001b[0m \u001b[1m125s\u001b[0m 129ms/step - loss: 920.4633 - mae: 20.3254 - val_loss: 6492.9814 - val_mae: 72.7173\n",
      "Epoch 6/300\n",
      "\u001b[1m972/972\u001b[0m \u001b[32m━━━━━━━━━━━━━━━━━━━━\u001b[0m\u001b[37m\u001b[0m \u001b[1m124s\u001b[0m 128ms/step - loss: 958.7888 - mae: 20.7599 - val_loss: 22946.3262 - val_mae: 125.7849\n",
      "Epoch 7/300\n",
      "\u001b[1m972/972\u001b[0m \u001b[32m━━━━━━━━━━━━━━━━━━━━\u001b[0m\u001b[37m\u001b[0m \u001b[1m133s\u001b[0m 136ms/step - loss: 846.8317 - mae: 19.2906 - val_loss: 1094.6428 - val_mae: 28.1793\n",
      "\u001b[1m3888/3888\u001b[0m \u001b[32m━━━━━━━━━━━━━━━━━━━━\u001b[0m\u001b[37m\u001b[0m \u001b[1m17s\u001b[0m 4ms/step - loss: 949.7202 - mae: 26.3856\n"
     ]
    },
    {
     "data": {
      "text/html": [
       "<style>\n",
       "    table.wandb td:nth-child(1) { padding: 0 10px; text-align: left ; width: auto;} td:nth-child(2) {text-align: left ; width: 100%}\n",
       "    .wandb-row { display: flex; flex-direction: row; flex-wrap: wrap; justify-content: flex-start; width: 100% }\n",
       "    .wandb-col { display: flex; flex-direction: column; flex-basis: 100%; flex: 1; padding: 10px; }\n",
       "    </style>\n",
       "<div class=\"wandb-row\"><div class=\"wandb-col\"><h3>Run history:</h3><br/><table class=\"wandb\"><tr><td>epoch/epoch</td><td>▁▂▃▅▆▇█</td></tr><tr><td>epoch/learning_rate</td><td>▁▁▁▁▁▁▁</td></tr><tr><td>epoch/loss</td><td>█▁▁▁▁▁▁</td></tr><tr><td>epoch/mae</td><td>█▁▁▁▁▁▁</td></tr><tr><td>epoch/val_loss</td><td>▁▁▄▁▃█▁</td></tr><tr><td>epoch/val_mae</td><td>▂▁▆▂▅█▂</td></tr><tr><td>validation_loss</td><td>▁</td></tr></table><br/></div><div class=\"wandb-col\"><h3>Run summary:</h3><br/><table class=\"wandb\"><tr><td>epoch/epoch</td><td>6</td></tr><tr><td>epoch/learning_rate</td><td>0.00235</td></tr><tr><td>epoch/loss</td><td>774.55084</td></tr><tr><td>epoch/mae</td><td>18.46268</td></tr><tr><td>epoch/val_loss</td><td>1094.64282</td></tr><tr><td>epoch/val_mae</td><td>28.17933</td></tr><tr><td>validation_loss</td><td>1094.64368</td></tr></table><br/></div></div>"
      ],
      "text/plain": [
       "<IPython.core.display.HTML object>"
      ]
     },
     "metadata": {},
     "output_type": "display_data"
    },
    {
     "data": {
      "text/html": [
       " View run <strong style=\"color:#cdcd00\">noble-sweep-57</strong> at: <a href='https://wandb.ai/sondre-rogde-ntnu/LSTM_OPTION_PRICING/runs/lxqhn7ig' target=\"_blank\">https://wandb.ai/sondre-rogde-ntnu/LSTM_OPTION_PRICING/runs/lxqhn7ig</a><br/> View project at: <a href='https://wandb.ai/sondre-rogde-ntnu/LSTM_OPTION_PRICING' target=\"_blank\">https://wandb.ai/sondre-rogde-ntnu/LSTM_OPTION_PRICING</a><br/>Synced 5 W&B file(s), 0 media file(s), 0 artifact file(s) and 0 other file(s)"
      ],
      "text/plain": [
       "<IPython.core.display.HTML object>"
      ]
     },
     "metadata": {},
     "output_type": "display_data"
    },
    {
     "data": {
      "text/html": [
       "Find logs at: <code>./wandb/run-20240924_020221-lxqhn7ig/logs</code>"
      ],
      "text/plain": [
       "<IPython.core.display.HTML object>"
      ]
     },
     "metadata": {},
     "output_type": "display_data"
    },
    {
     "data": {
      "text/html": [
       "wandb version 0.18.1 is available!  To upgrade, please run:\n",
       " $ pip install wandb --upgrade"
      ],
      "text/plain": [
       "<IPython.core.display.HTML object>"
      ]
     },
     "metadata": {},
     "output_type": "display_data"
    },
    {
     "data": {
      "text/html": [
       "The new W&B backend becomes opt-out in version 0.18.0; try it out with `wandb.require(\"core\")`! See https://wandb.me/wandb-core for more information."
      ],
      "text/plain": [
       "<IPython.core.display.HTML object>"
      ]
     },
     "metadata": {},
     "output_type": "display_data"
    },
    {
     "name": "stderr",
     "output_type": "stream",
     "text": [
      "\u001b[34m\u001b[1mwandb\u001b[0m: Agent Starting Run: b6wr82xj with config:\n",
      "\u001b[34m\u001b[1mwandb\u001b[0m: \tbn_momentum: 0.1961369709623551\n",
      "\u001b[34m\u001b[1mwandb\u001b[0m: \tlayers: 5\n",
      "\u001b[34m\u001b[1mwandb\u001b[0m: \tlearning_rate: 0.0038405018374662167\n",
      "\u001b[34m\u001b[1mwandb\u001b[0m: \tminibatch_size: 1024\n",
      "\u001b[34m\u001b[1mwandb\u001b[0m: \tunits: 128\n",
      "\u001b[34m\u001b[1mwandb\u001b[0m: \tweight_decay: 0.00031403089074255553\n"
     ]
    },
    {
     "data": {
      "text/html": [
       "Tracking run with wandb version 0.17.9"
      ],
      "text/plain": [
       "<IPython.core.display.HTML object>"
      ]
     },
     "metadata": {},
     "output_type": "display_data"
    },
    {
     "data": {
      "text/html": [
       "Run data is saved locally in <code>/Users/sondrerogde/Dev/LSTM-for-option-pricing/Sondre/wandb/run-20240924_021735-b6wr82xj</code>"
      ],
      "text/plain": [
       "<IPython.core.display.HTML object>"
      ]
     },
     "metadata": {},
     "output_type": "display_data"
    },
    {
     "data": {
      "text/html": [
       "Syncing run <strong><a href='https://wandb.ai/sondre-rogde-ntnu/LSTM_OPTION_PRICING/runs/b6wr82xj' target=\"_blank\">expert-sweep-58</a></strong> to <a href='https://wandb.ai/sondre-rogde-ntnu/LSTM_OPTION_PRICING' target=\"_blank\">Weights & Biases</a> (<a href='https://wandb.me/run' target=\"_blank\">docs</a>)<br/>Sweep page: <a href='https://wandb.ai/sondre-rogde-ntnu/LSTM_OPTION_PRICING/sweeps/guuhakot' target=\"_blank\">https://wandb.ai/sondre-rogde-ntnu/LSTM_OPTION_PRICING/sweeps/guuhakot</a>"
      ],
      "text/plain": [
       "<IPython.core.display.HTML object>"
      ]
     },
     "metadata": {},
     "output_type": "display_data"
    },
    {
     "data": {
      "text/html": [
       " View project at <a href='https://wandb.ai/sondre-rogde-ntnu/LSTM_OPTION_PRICING' target=\"_blank\">https://wandb.ai/sondre-rogde-ntnu/LSTM_OPTION_PRICING</a>"
      ],
      "text/plain": [
       "<IPython.core.display.HTML object>"
      ]
     },
     "metadata": {},
     "output_type": "display_data"
    },
    {
     "data": {
      "text/html": [
       " View sweep at <a href='https://wandb.ai/sondre-rogde-ntnu/LSTM_OPTION_PRICING/sweeps/guuhakot' target=\"_blank\">https://wandb.ai/sondre-rogde-ntnu/LSTM_OPTION_PRICING/sweeps/guuhakot</a>"
      ],
      "text/plain": [
       "<IPython.core.display.HTML object>"
      ]
     },
     "metadata": {},
     "output_type": "display_data"
    },
    {
     "data": {
      "text/html": [
       " View run at <a href='https://wandb.ai/sondre-rogde-ntnu/LSTM_OPTION_PRICING/runs/b6wr82xj' target=\"_blank\">https://wandb.ai/sondre-rogde-ntnu/LSTM_OPTION_PRICING/runs/b6wr82xj</a>"
      ],
      "text/plain": [
       "<IPython.core.display.HTML object>"
      ]
     },
     "metadata": {},
     "output_type": "display_data"
    },
    {
     "name": "stdout",
     "output_type": "stream",
     "text": [
      "Epoch 1/300\n"
     ]
    },
    {
     "name": "stderr",
     "output_type": "stream",
     "text": [
      "/Library/Frameworks/Python.framework/Versions/3.12/lib/python3.12/site-packages/keras/src/layers/rnn/rnn.py:204: UserWarning: Do not pass an `input_shape`/`input_dim` argument to a layer. When using Sequential models, prefer using an `Input(shape)` object as the first layer in the model instead.\n",
      "  super().__init__(**kwargs)\n"
     ]
    },
    {
     "name": "stdout",
     "output_type": "stream",
     "text": [
      "\u001b[1m972/972\u001b[0m \u001b[32m━━━━━━━━━━━━━━━━━━━━\u001b[0m\u001b[37m\u001b[0m \u001b[1m107s\u001b[0m 107ms/step - loss: 317988.8125 - mae: 331.1069 - val_loss: 4471.9980 - val_mae: 58.5758\n",
      "Epoch 2/300\n",
      "\u001b[1m972/972\u001b[0m \u001b[32m━━━━━━━━━━━━━━━━━━━━\u001b[0m\u001b[37m\u001b[0m \u001b[1m118s\u001b[0m 121ms/step - loss: 951.9348 - mae: 20.7995 - val_loss: 979.9016 - val_mae: 17.6001\n",
      "Epoch 3/300\n",
      "\u001b[1m972/972\u001b[0m \u001b[32m━━━━━━━━━━━━━━━━━━━━\u001b[0m\u001b[37m\u001b[0m \u001b[1m106s\u001b[0m 109ms/step - loss: 929.3745 - mae: 20.4818 - val_loss: 3106.4988 - val_mae: 48.1609\n",
      "Epoch 4/300\n",
      "\u001b[1m972/972\u001b[0m \u001b[32m━━━━━━━━━━━━━━━━━━━━\u001b[0m\u001b[37m\u001b[0m \u001b[1m105s\u001b[0m 108ms/step - loss: 849.8300 - mae: 19.5471 - val_loss: 5594.6802 - val_mae: 64.1585\n",
      "Epoch 5/300\n",
      "\u001b[1m972/972\u001b[0m \u001b[32m━━━━━━━━━━━━━━━━━━━━\u001b[0m\u001b[37m\u001b[0m \u001b[1m105s\u001b[0m 108ms/step - loss: 811.3392 - mae: 19.0536 - val_loss: 2325.5554 - val_mae: 39.7530\n",
      "Epoch 6/300\n",
      "\u001b[1m972/972\u001b[0m \u001b[32m━━━━━━━━━━━━━━━━━━━━\u001b[0m\u001b[37m\u001b[0m \u001b[1m106s\u001b[0m 109ms/step - loss: 822.1121 - mae: 19.1036 - val_loss: 1144.9248 - val_mae: 24.9692\n",
      "Epoch 7/300\n",
      "\u001b[1m972/972\u001b[0m \u001b[32m━━━━━━━━━━━━━━━━━━━━\u001b[0m\u001b[37m\u001b[0m \u001b[1m123s\u001b[0m 127ms/step - loss: 825.1192 - mae: 19.0555 - val_loss: 1140.9889 - val_mae: 19.1799\n",
      "\u001b[1m3888/3888\u001b[0m \u001b[32m━━━━━━━━━━━━━━━━━━━━\u001b[0m\u001b[37m\u001b[0m \u001b[1m15s\u001b[0m 4ms/step - loss: 1160.2570 - mae: 19.0295\n"
     ]
    },
    {
     "data": {
      "text/html": [
       "<style>\n",
       "    table.wandb td:nth-child(1) { padding: 0 10px; text-align: left ; width: auto;} td:nth-child(2) {text-align: left ; width: 100%}\n",
       "    .wandb-row { display: flex; flex-direction: row; flex-wrap: wrap; justify-content: flex-start; width: 100% }\n",
       "    .wandb-col { display: flex; flex-direction: column; flex-basis: 100%; flex: 1; padding: 10px; }\n",
       "    </style>\n",
       "<div class=\"wandb-row\"><div class=\"wandb-col\"><h3>Run history:</h3><br/><table class=\"wandb\"><tr><td>epoch/epoch</td><td>▁▂▃▅▆▇█</td></tr><tr><td>epoch/learning_rate</td><td>▁▁▁▁▁▁▁</td></tr><tr><td>epoch/loss</td><td>█▁▁▁▁▁▁</td></tr><tr><td>epoch/mae</td><td>█▁▁▁▁▁▁</td></tr><tr><td>epoch/val_loss</td><td>▆▁▄█▃▁▁</td></tr><tr><td>epoch/val_mae</td><td>▇▁▆█▄▂▁</td></tr><tr><td>validation_loss</td><td>▁</td></tr></table><br/></div><div class=\"wandb-col\"><h3>Run summary:</h3><br/><table class=\"wandb\"><tr><td>epoch/epoch</td><td>6</td></tr><tr><td>epoch/learning_rate</td><td>0.00384</td></tr><tr><td>epoch/loss</td><td>892.40485</td></tr><tr><td>epoch/mae</td><td>19.83487</td></tr><tr><td>epoch/val_loss</td><td>1140.98889</td></tr><tr><td>epoch/val_mae</td><td>19.17992</td></tr><tr><td>validation_loss</td><td>1140.98584</td></tr></table><br/></div></div>"
      ],
      "text/plain": [
       "<IPython.core.display.HTML object>"
      ]
     },
     "metadata": {},
     "output_type": "display_data"
    },
    {
     "data": {
      "text/html": [
       " View run <strong style=\"color:#cdcd00\">expert-sweep-58</strong> at: <a href='https://wandb.ai/sondre-rogde-ntnu/LSTM_OPTION_PRICING/runs/b6wr82xj' target=\"_blank\">https://wandb.ai/sondre-rogde-ntnu/LSTM_OPTION_PRICING/runs/b6wr82xj</a><br/> View project at: <a href='https://wandb.ai/sondre-rogde-ntnu/LSTM_OPTION_PRICING' target=\"_blank\">https://wandb.ai/sondre-rogde-ntnu/LSTM_OPTION_PRICING</a><br/>Synced 5 W&B file(s), 0 media file(s), 0 artifact file(s) and 0 other file(s)"
      ],
      "text/plain": [
       "<IPython.core.display.HTML object>"
      ]
     },
     "metadata": {},
     "output_type": "display_data"
    },
    {
     "data": {
      "text/html": [
       "Find logs at: <code>./wandb/run-20240924_021735-b6wr82xj/logs</code>"
      ],
      "text/plain": [
       "<IPython.core.display.HTML object>"
      ]
     },
     "metadata": {},
     "output_type": "display_data"
    },
    {
     "data": {
      "text/html": [
       "wandb version 0.18.1 is available!  To upgrade, please run:\n",
       " $ pip install wandb --upgrade"
      ],
      "text/plain": [
       "<IPython.core.display.HTML object>"
      ]
     },
     "metadata": {},
     "output_type": "display_data"
    },
    {
     "data": {
      "text/html": [
       "The new W&B backend becomes opt-out in version 0.18.0; try it out with `wandb.require(\"core\")`! See https://wandb.me/wandb-core for more information."
      ],
      "text/plain": [
       "<IPython.core.display.HTML object>"
      ]
     },
     "metadata": {},
     "output_type": "display_data"
    },
    {
     "name": "stderr",
     "output_type": "stream",
     "text": [
      "\u001b[34m\u001b[1mwandb\u001b[0m: Agent Starting Run: t39491jn with config:\n",
      "\u001b[34m\u001b[1mwandb\u001b[0m: \tbn_momentum: 0.35663619994506074\n",
      "\u001b[34m\u001b[1mwandb\u001b[0m: \tlayers: 6\n",
      "\u001b[34m\u001b[1mwandb\u001b[0m: \tlearning_rate: 0.004571750334576239\n",
      "\u001b[34m\u001b[1mwandb\u001b[0m: \tminibatch_size: 1024\n",
      "\u001b[34m\u001b[1mwandb\u001b[0m: \tunits: 32\n",
      "\u001b[34m\u001b[1mwandb\u001b[0m: \tweight_decay: 0.0001935941222842077\n"
     ]
    },
    {
     "data": {
      "text/html": [
       "Tracking run with wandb version 0.17.9"
      ],
      "text/plain": [
       "<IPython.core.display.HTML object>"
      ]
     },
     "metadata": {},
     "output_type": "display_data"
    },
    {
     "data": {
      "text/html": [
       "Run data is saved locally in <code>/Users/sondrerogde/Dev/LSTM-for-option-pricing/Sondre/wandb/run-20240924_023053-t39491jn</code>"
      ],
      "text/plain": [
       "<IPython.core.display.HTML object>"
      ]
     },
     "metadata": {},
     "output_type": "display_data"
    },
    {
     "data": {
      "text/html": [
       "Syncing run <strong><a href='https://wandb.ai/sondre-rogde-ntnu/LSTM_OPTION_PRICING/runs/t39491jn' target=\"_blank\">genial-sweep-59</a></strong> to <a href='https://wandb.ai/sondre-rogde-ntnu/LSTM_OPTION_PRICING' target=\"_blank\">Weights & Biases</a> (<a href='https://wandb.me/run' target=\"_blank\">docs</a>)<br/>Sweep page: <a href='https://wandb.ai/sondre-rogde-ntnu/LSTM_OPTION_PRICING/sweeps/guuhakot' target=\"_blank\">https://wandb.ai/sondre-rogde-ntnu/LSTM_OPTION_PRICING/sweeps/guuhakot</a>"
      ],
      "text/plain": [
       "<IPython.core.display.HTML object>"
      ]
     },
     "metadata": {},
     "output_type": "display_data"
    },
    {
     "data": {
      "text/html": [
       " View project at <a href='https://wandb.ai/sondre-rogde-ntnu/LSTM_OPTION_PRICING' target=\"_blank\">https://wandb.ai/sondre-rogde-ntnu/LSTM_OPTION_PRICING</a>"
      ],
      "text/plain": [
       "<IPython.core.display.HTML object>"
      ]
     },
     "metadata": {},
     "output_type": "display_data"
    },
    {
     "data": {
      "text/html": [
       " View sweep at <a href='https://wandb.ai/sondre-rogde-ntnu/LSTM_OPTION_PRICING/sweeps/guuhakot' target=\"_blank\">https://wandb.ai/sondre-rogde-ntnu/LSTM_OPTION_PRICING/sweeps/guuhakot</a>"
      ],
      "text/plain": [
       "<IPython.core.display.HTML object>"
      ]
     },
     "metadata": {},
     "output_type": "display_data"
    },
    {
     "data": {
      "text/html": [
       " View run at <a href='https://wandb.ai/sondre-rogde-ntnu/LSTM_OPTION_PRICING/runs/t39491jn' target=\"_blank\">https://wandb.ai/sondre-rogde-ntnu/LSTM_OPTION_PRICING/runs/t39491jn</a>"
      ],
      "text/plain": [
       "<IPython.core.display.HTML object>"
      ]
     },
     "metadata": {},
     "output_type": "display_data"
    },
    {
     "name": "stdout",
     "output_type": "stream",
     "text": [
      "Epoch 1/300\n"
     ]
    },
    {
     "name": "stderr",
     "output_type": "stream",
     "text": [
      "/Library/Frameworks/Python.framework/Versions/3.12/lib/python3.12/site-packages/keras/src/layers/rnn/rnn.py:204: UserWarning: Do not pass an `input_shape`/`input_dim` argument to a layer. When using Sequential models, prefer using an `Input(shape)` object as the first layer in the model instead.\n",
      "  super().__init__(**kwargs)\n"
     ]
    },
    {
     "name": "stdout",
     "output_type": "stream",
     "text": [
      "\u001b[1m972/972\u001b[0m \u001b[32m━━━━━━━━━━━━━━━━━━━━\u001b[0m\u001b[37m\u001b[0m \u001b[1m37s\u001b[0m 35ms/step - loss: 439080.8750 - mae: 421.9462 - val_loss: 888.2167 - val_mae: 22.3466\n",
      "Epoch 2/300\n",
      "\u001b[1m972/972\u001b[0m \u001b[32m━━━━━━━━━━━━━━━━━━━━\u001b[0m\u001b[37m\u001b[0m \u001b[1m32s\u001b[0m 33ms/step - loss: 908.9130 - mae: 19.7473 - val_loss: 3782.6597 - val_mae: 35.5018\n",
      "Epoch 3/300\n",
      "\u001b[1m972/972\u001b[0m \u001b[32m━━━━━━━━━━━━━━━━━━━━\u001b[0m\u001b[37m\u001b[0m \u001b[1m32s\u001b[0m 33ms/step - loss: 842.7933 - mae: 19.2693 - val_loss: 1496.6697 - val_mae: 32.0898\n",
      "Epoch 4/300\n",
      "\u001b[1m972/972\u001b[0m \u001b[32m━━━━━━━━━━━━━━━━━━━━\u001b[0m\u001b[37m\u001b[0m \u001b[1m32s\u001b[0m 33ms/step - loss: 926.1177 - mae: 19.7344 - val_loss: 4815.4971 - val_mae: 46.8886\n",
      "Epoch 5/300\n",
      "\u001b[1m972/972\u001b[0m \u001b[32m━━━━━━━━━━━━━━━━━━━━\u001b[0m\u001b[37m\u001b[0m \u001b[1m32s\u001b[0m 33ms/step - loss: 827.9900 - mae: 18.7189 - val_loss: 457.5939 - val_mae: 16.9110\n",
      "Epoch 6/300\n",
      "\u001b[1m972/972\u001b[0m \u001b[32m━━━━━━━━━━━━━━━━━━━━\u001b[0m\u001b[37m\u001b[0m \u001b[1m32s\u001b[0m 33ms/step - loss: 839.7531 - mae: 18.8155 - val_loss: 1205.2773 - val_mae: 31.5802\n",
      "Epoch 7/300\n",
      "\u001b[1m972/972\u001b[0m \u001b[32m━━━━━━━━━━━━━━━━━━━━\u001b[0m\u001b[37m\u001b[0m \u001b[1m32s\u001b[0m 33ms/step - loss: 799.5995 - mae: 18.7984 - val_loss: 3699.1357 - val_mae: 55.4825\n",
      "Epoch 8/300\n",
      "\u001b[1m972/972\u001b[0m \u001b[32m━━━━━━━━━━━━━━━━━━━━\u001b[0m\u001b[37m\u001b[0m \u001b[1m31s\u001b[0m 32ms/step - loss: 749.0590 - mae: 18.0545 - val_loss: 219.9242 - val_mae: 8.5268\n",
      "Epoch 9/300\n",
      "\u001b[1m972/972\u001b[0m \u001b[32m━━━━━━━━━━━━━━━━━━━━\u001b[0m\u001b[37m\u001b[0m \u001b[1m30s\u001b[0m 31ms/step - loss: 811.5941 - mae: 19.0842 - val_loss: 1269.8773 - val_mae: 28.6055\n",
      "Epoch 10/300\n",
      "\u001b[1m972/972\u001b[0m \u001b[32m━━━━━━━━━━━━━━━━━━━━\u001b[0m\u001b[37m\u001b[0m \u001b[1m32s\u001b[0m 32ms/step - loss: 855.3604 - mae: 19.5331 - val_loss: 922.2338 - val_mae: 25.6501\n",
      "Epoch 11/300\n",
      "\u001b[1m972/972\u001b[0m \u001b[32m━━━━━━━━━━━━━━━━━━━━\u001b[0m\u001b[37m\u001b[0m \u001b[1m32s\u001b[0m 33ms/step - loss: 866.6566 - mae: 19.3436 - val_loss: 1011.8006 - val_mae: 28.2978\n",
      "Epoch 12/300\n",
      "\u001b[1m972/972\u001b[0m \u001b[32m━━━━━━━━━━━━━━━━━━━━\u001b[0m\u001b[37m\u001b[0m \u001b[1m31s\u001b[0m 32ms/step - loss: 902.7839 - mae: 19.5834 - val_loss: 817.0724 - val_mae: 25.4544\n",
      "Epoch 13/300\n",
      "\u001b[1m972/972\u001b[0m \u001b[32m━━━━━━━━━━━━━━━━━━━━\u001b[0m\u001b[37m\u001b[0m \u001b[1m31s\u001b[0m 31ms/step - loss: 772.6057 - mae: 18.1242 - val_loss: 2889.9834 - val_mae: 44.8072\n",
      "\u001b[1m3888/3888\u001b[0m \u001b[32m━━━━━━━━━━━━━━━━━━━━\u001b[0m\u001b[37m\u001b[0m \u001b[1m4s\u001b[0m 974us/step - loss: 2683.3877 - mae: 43.0421\n"
     ]
    },
    {
     "data": {
      "text/html": [
       "<style>\n",
       "    table.wandb td:nth-child(1) { padding: 0 10px; text-align: left ; width: auto;} td:nth-child(2) {text-align: left ; width: 100%}\n",
       "    .wandb-row { display: flex; flex-direction: row; flex-wrap: wrap; justify-content: flex-start; width: 100% }\n",
       "    .wandb-col { display: flex; flex-direction: column; flex-basis: 100%; flex: 1; padding: 10px; }\n",
       "    </style>\n",
       "<div class=\"wandb-row\"><div class=\"wandb-col\"><h3>Run history:</h3><br/><table class=\"wandb\"><tr><td>epoch/epoch</td><td>▁▂▂▃▃▄▅▅▆▆▇▇█</td></tr><tr><td>epoch/learning_rate</td><td>▁▁▁▁▁▁▁▁▁▁▁▁▁</td></tr><tr><td>epoch/loss</td><td>█▁▁▁▁▁▁▁▁▁▁▁▁</td></tr><tr><td>epoch/mae</td><td>█▁▁▁▁▁▁▁▁▁▁▁▁</td></tr><tr><td>epoch/val_loss</td><td>▂▆▃█▁▃▆▁▃▂▂▂▅</td></tr><tr><td>epoch/val_mae</td><td>▃▅▅▇▂▄█▁▄▄▄▄▆</td></tr><tr><td>validation_loss</td><td>▁</td></tr></table><br/></div><div class=\"wandb-col\"><h3>Run summary:</h3><br/><table class=\"wandb\"><tr><td>epoch/epoch</td><td>12</td></tr><tr><td>epoch/learning_rate</td><td>0.00457</td></tr><tr><td>epoch/loss</td><td>806.5719</td></tr><tr><td>epoch/mae</td><td>18.60305</td></tr><tr><td>epoch/val_loss</td><td>2889.9834</td></tr><tr><td>epoch/val_mae</td><td>44.80716</td></tr><tr><td>validation_loss</td><td>2889.97827</td></tr></table><br/></div></div>"
      ],
      "text/plain": [
       "<IPython.core.display.HTML object>"
      ]
     },
     "metadata": {},
     "output_type": "display_data"
    },
    {
     "data": {
      "text/html": [
       " View run <strong style=\"color:#cdcd00\">genial-sweep-59</strong> at: <a href='https://wandb.ai/sondre-rogde-ntnu/LSTM_OPTION_PRICING/runs/t39491jn' target=\"_blank\">https://wandb.ai/sondre-rogde-ntnu/LSTM_OPTION_PRICING/runs/t39491jn</a><br/> View project at: <a href='https://wandb.ai/sondre-rogde-ntnu/LSTM_OPTION_PRICING' target=\"_blank\">https://wandb.ai/sondre-rogde-ntnu/LSTM_OPTION_PRICING</a><br/>Synced 5 W&B file(s), 0 media file(s), 0 artifact file(s) and 0 other file(s)"
      ],
      "text/plain": [
       "<IPython.core.display.HTML object>"
      ]
     },
     "metadata": {},
     "output_type": "display_data"
    },
    {
     "data": {
      "text/html": [
       "Find logs at: <code>./wandb/run-20240924_023053-t39491jn/logs</code>"
      ],
      "text/plain": [
       "<IPython.core.display.HTML object>"
      ]
     },
     "metadata": {},
     "output_type": "display_data"
    },
    {
     "data": {
      "text/html": [
       "wandb version 0.18.1 is available!  To upgrade, please run:\n",
       " $ pip install wandb --upgrade"
      ],
      "text/plain": [
       "<IPython.core.display.HTML object>"
      ]
     },
     "metadata": {},
     "output_type": "display_data"
    },
    {
     "data": {
      "text/html": [
       "The new W&B backend becomes opt-out in version 0.18.0; try it out with `wandb.require(\"core\")`! See https://wandb.me/wandb-core for more information."
      ],
      "text/plain": [
       "<IPython.core.display.HTML object>"
      ]
     },
     "metadata": {},
     "output_type": "display_data"
    },
    {
     "name": "stderr",
     "output_type": "stream",
     "text": [
      "\u001b[34m\u001b[1mwandb\u001b[0m: Agent Starting Run: ftcpwexy with config:\n",
      "\u001b[34m\u001b[1mwandb\u001b[0m: \tbn_momentum: 0.3863191211564283\n",
      "\u001b[34m\u001b[1mwandb\u001b[0m: \tlayers: 4\n",
      "\u001b[34m\u001b[1mwandb\u001b[0m: \tlearning_rate: 0.0014235994331552545\n",
      "\u001b[34m\u001b[1mwandb\u001b[0m: \tminibatch_size: 1024\n",
      "\u001b[34m\u001b[1mwandb\u001b[0m: \tunits: 32\n",
      "\u001b[34m\u001b[1mwandb\u001b[0m: \tweight_decay: 0.0004407301372787966\n"
     ]
    },
    {
     "data": {
      "text/html": [
       "Tracking run with wandb version 0.17.9"
      ],
      "text/plain": [
       "<IPython.core.display.HTML object>"
      ]
     },
     "metadata": {},
     "output_type": "display_data"
    },
    {
     "data": {
      "text/html": [
       "Run data is saved locally in <code>/Users/sondrerogde/Dev/LSTM-for-option-pricing/Sondre/wandb/run-20240924_023804-ftcpwexy</code>"
      ],
      "text/plain": [
       "<IPython.core.display.HTML object>"
      ]
     },
     "metadata": {},
     "output_type": "display_data"
    },
    {
     "data": {
      "text/html": [
       "Syncing run <strong><a href='https://wandb.ai/sondre-rogde-ntnu/LSTM_OPTION_PRICING/runs/ftcpwexy' target=\"_blank\">curious-sweep-60</a></strong> to <a href='https://wandb.ai/sondre-rogde-ntnu/LSTM_OPTION_PRICING' target=\"_blank\">Weights & Biases</a> (<a href='https://wandb.me/run' target=\"_blank\">docs</a>)<br/>Sweep page: <a href='https://wandb.ai/sondre-rogde-ntnu/LSTM_OPTION_PRICING/sweeps/guuhakot' target=\"_blank\">https://wandb.ai/sondre-rogde-ntnu/LSTM_OPTION_PRICING/sweeps/guuhakot</a>"
      ],
      "text/plain": [
       "<IPython.core.display.HTML object>"
      ]
     },
     "metadata": {},
     "output_type": "display_data"
    },
    {
     "data": {
      "text/html": [
       " View project at <a href='https://wandb.ai/sondre-rogde-ntnu/LSTM_OPTION_PRICING' target=\"_blank\">https://wandb.ai/sondre-rogde-ntnu/LSTM_OPTION_PRICING</a>"
      ],
      "text/plain": [
       "<IPython.core.display.HTML object>"
      ]
     },
     "metadata": {},
     "output_type": "display_data"
    },
    {
     "data": {
      "text/html": [
       " View sweep at <a href='https://wandb.ai/sondre-rogde-ntnu/LSTM_OPTION_PRICING/sweeps/guuhakot' target=\"_blank\">https://wandb.ai/sondre-rogde-ntnu/LSTM_OPTION_PRICING/sweeps/guuhakot</a>"
      ],
      "text/plain": [
       "<IPython.core.display.HTML object>"
      ]
     },
     "metadata": {},
     "output_type": "display_data"
    },
    {
     "data": {
      "text/html": [
       " View run at <a href='https://wandb.ai/sondre-rogde-ntnu/LSTM_OPTION_PRICING/runs/ftcpwexy' target=\"_blank\">https://wandb.ai/sondre-rogde-ntnu/LSTM_OPTION_PRICING/runs/ftcpwexy</a>"
      ],
      "text/plain": [
       "<IPython.core.display.HTML object>"
      ]
     },
     "metadata": {},
     "output_type": "display_data"
    },
    {
     "name": "stdout",
     "output_type": "stream",
     "text": [
      "Epoch 1/300\n"
     ]
    },
    {
     "name": "stderr",
     "output_type": "stream",
     "text": [
      "/Library/Frameworks/Python.framework/Versions/3.12/lib/python3.12/site-packages/keras/src/layers/rnn/rnn.py:204: UserWarning: Do not pass an `input_shape`/`input_dim` argument to a layer. When using Sequential models, prefer using an `Input(shape)` object as the first layer in the model instead.\n",
      "  super().__init__(**kwargs)\n"
     ]
    },
    {
     "name": "stdout",
     "output_type": "stream",
     "text": [
      "\u001b[1m972/972\u001b[0m \u001b[32m━━━━━━━━━━━━━━━━━━━━\u001b[0m\u001b[37m\u001b[0m \u001b[1m22s\u001b[0m 21ms/step - loss: 611191.1250 - mae: 525.0129 - val_loss: 475351.3750 - val_mae: 478.5093\n",
      "Epoch 2/300\n",
      "\u001b[1m972/972\u001b[0m \u001b[32m━━━━━━━━━━━━━━━━━━━━\u001b[0m\u001b[37m\u001b[0m \u001b[1m20s\u001b[0m 21ms/step - loss: 260790.6562 - mae: 345.6613 - val_loss: 52703.9141 - val_mae: 169.0816\n",
      "Epoch 3/300\n",
      "\u001b[1m972/972\u001b[0m \u001b[32m━━━━━━━━━━━━━━━━━━━━\u001b[0m\u001b[37m\u001b[0m \u001b[1m19s\u001b[0m 20ms/step - loss: 26625.4824 - mae: 107.4430 - val_loss: 1086.7007 - val_mae: 27.7078\n",
      "Epoch 4/300\n",
      "\u001b[1m972/972\u001b[0m \u001b[32m━━━━━━━━━━━━━━━━━━━━\u001b[0m\u001b[37m\u001b[0m \u001b[1m20s\u001b[0m 20ms/step - loss: 1090.3792 - mae: 21.6400 - val_loss: 1104.0221 - val_mae: 29.6932\n",
      "Epoch 5/300\n",
      "\u001b[1m972/972\u001b[0m \u001b[32m━━━━━━━━━━━━━━━━━━━━\u001b[0m\u001b[37m\u001b[0m \u001b[1m20s\u001b[0m 21ms/step - loss: 852.0714 - mae: 19.2430 - val_loss: 1472.6371 - val_mae: 27.6698\n",
      "Epoch 6/300\n",
      "\u001b[1m972/972\u001b[0m \u001b[32m━━━━━━━━━━━━━━━━━━━━\u001b[0m\u001b[37m\u001b[0m \u001b[1m20s\u001b[0m 21ms/step - loss: 852.8380 - mae: 19.3326 - val_loss: 473.7121 - val_mae: 16.4264\n",
      "Epoch 7/300\n",
      "\u001b[1m972/972\u001b[0m \u001b[32m━━━━━━━━━━━━━━━━━━━━\u001b[0m\u001b[37m\u001b[0m \u001b[1m21s\u001b[0m 22ms/step - loss: 794.7769 - mae: 18.3370 - val_loss: 2944.1169 - val_mae: 37.1479\n",
      "Epoch 8/300\n",
      "\u001b[1m972/972\u001b[0m \u001b[32m━━━━━━━━━━━━━━━━━━━━\u001b[0m\u001b[37m\u001b[0m \u001b[1m21s\u001b[0m 22ms/step - loss: 829.2319 - mae: 18.9936 - val_loss: 104.5487 - val_mae: 7.9701\n",
      "Epoch 9/300\n",
      "\u001b[1m972/972\u001b[0m \u001b[32m━━━━━━━━━━━━━━━━━━━━\u001b[0m\u001b[37m\u001b[0m \u001b[1m21s\u001b[0m 21ms/step - loss: 829.5481 - mae: 19.1370 - val_loss: 1873.1820 - val_mae: 37.9822\n",
      "Epoch 10/300\n",
      "\u001b[1m972/972\u001b[0m \u001b[32m━━━━━━━━━━━━━━━━━━━━\u001b[0m\u001b[37m\u001b[0m \u001b[1m20s\u001b[0m 21ms/step - loss: 903.0560 - mae: 19.8719 - val_loss: 897.6614 - val_mae: 21.1203\n",
      "Epoch 11/300\n",
      "\u001b[1m972/972\u001b[0m \u001b[32m━━━━━━━━━━━━━━━━━━━━\u001b[0m\u001b[37m\u001b[0m \u001b[1m20s\u001b[0m 21ms/step - loss: 834.7220 - mae: 18.8207 - val_loss: 1289.0112 - val_mae: 21.0552\n",
      "Epoch 12/300\n",
      "\u001b[1m972/972\u001b[0m \u001b[32m━━━━━━━━━━━━━━━━━━━━\u001b[0m\u001b[37m\u001b[0m \u001b[1m20s\u001b[0m 21ms/step - loss: 718.2548 - mae: 17.8939 - val_loss: 1533.9453 - val_mae: 36.1863\n",
      "Epoch 13/300\n",
      "\u001b[1m972/972\u001b[0m \u001b[32m━━━━━━━━━━━━━━━━━━━━\u001b[0m\u001b[37m\u001b[0m \u001b[1m19s\u001b[0m 20ms/step - loss: 779.5807 - mae: 18.5366 - val_loss: 157.7859 - val_mae: 10.1560\n",
      "\u001b[1m3888/3888\u001b[0m \u001b[32m━━━━━━━━━━━━━━━━━━━━\u001b[0m\u001b[37m\u001b[0m \u001b[1m3s\u001b[0m 703us/step - loss: 116.8526 - mae: 8.7032\n"
     ]
    },
    {
     "data": {
      "text/html": [
       "<style>\n",
       "    table.wandb td:nth-child(1) { padding: 0 10px; text-align: left ; width: auto;} td:nth-child(2) {text-align: left ; width: 100%}\n",
       "    .wandb-row { display: flex; flex-direction: row; flex-wrap: wrap; justify-content: flex-start; width: 100% }\n",
       "    .wandb-col { display: flex; flex-direction: column; flex-basis: 100%; flex: 1; padding: 10px; }\n",
       "    </style>\n",
       "<div class=\"wandb-row\"><div class=\"wandb-col\"><h3>Run history:</h3><br/><table class=\"wandb\"><tr><td>epoch/epoch</td><td>▁▂▂▃▃▄▅▅▆▆▇▇█</td></tr><tr><td>epoch/learning_rate</td><td>▁▁▁▁▁▁▁▁▁▁▁▁▁</td></tr><tr><td>epoch/loss</td><td>█▃▁▁▁▁▁▁▁▁▁▁▁</td></tr><tr><td>epoch/mae</td><td>█▅▂▁▁▁▁▁▁▁▁▁▁</td></tr><tr><td>epoch/val_loss</td><td>█▂▁▁▁▁▁▁▁▁▁▁▁</td></tr><tr><td>epoch/val_mae</td><td>█▃▁▁▁▁▁▁▁▁▁▁▁</td></tr><tr><td>validation_loss</td><td>▁</td></tr></table><br/></div><div class=\"wandb-col\"><h3>Run summary:</h3><br/><table class=\"wandb\"><tr><td>epoch/epoch</td><td>12</td></tr><tr><td>epoch/learning_rate</td><td>0.00142</td></tr><tr><td>epoch/loss</td><td>778.48523</td></tr><tr><td>epoch/mae</td><td>18.44579</td></tr><tr><td>epoch/val_loss</td><td>157.7859</td></tr><tr><td>epoch/val_mae</td><td>10.15604</td></tr><tr><td>validation_loss</td><td>157.78587</td></tr></table><br/></div></div>"
      ],
      "text/plain": [
       "<IPython.core.display.HTML object>"
      ]
     },
     "metadata": {},
     "output_type": "display_data"
    },
    {
     "data": {
      "text/html": [
       " View run <strong style=\"color:#cdcd00\">curious-sweep-60</strong> at: <a href='https://wandb.ai/sondre-rogde-ntnu/LSTM_OPTION_PRICING/runs/ftcpwexy' target=\"_blank\">https://wandb.ai/sondre-rogde-ntnu/LSTM_OPTION_PRICING/runs/ftcpwexy</a><br/> View project at: <a href='https://wandb.ai/sondre-rogde-ntnu/LSTM_OPTION_PRICING' target=\"_blank\">https://wandb.ai/sondre-rogde-ntnu/LSTM_OPTION_PRICING</a><br/>Synced 5 W&B file(s), 0 media file(s), 0 artifact file(s) and 0 other file(s)"
      ],
      "text/plain": [
       "<IPython.core.display.HTML object>"
      ]
     },
     "metadata": {},
     "output_type": "display_data"
    },
    {
     "data": {
      "text/html": [
       "Find logs at: <code>./wandb/run-20240924_023804-ftcpwexy/logs</code>"
      ],
      "text/plain": [
       "<IPython.core.display.HTML object>"
      ]
     },
     "metadata": {},
     "output_type": "display_data"
    },
    {
     "data": {
      "text/html": [
       "wandb version 0.18.1 is available!  To upgrade, please run:\n",
       " $ pip install wandb --upgrade"
      ],
      "text/plain": [
       "<IPython.core.display.HTML object>"
      ]
     },
     "metadata": {},
     "output_type": "display_data"
    },
    {
     "data": {
      "text/html": [
       "The new W&B backend becomes opt-out in version 0.18.0; try it out with `wandb.require(\"core\")`! See https://wandb.me/wandb-core for more information."
      ],
      "text/plain": [
       "<IPython.core.display.HTML object>"
      ]
     },
     "metadata": {},
     "output_type": "display_data"
    },
    {
     "name": "stderr",
     "output_type": "stream",
     "text": [
      "\u001b[34m\u001b[1mwandb\u001b[0m: Agent Starting Run: 3iu9by6v with config:\n",
      "\u001b[34m\u001b[1mwandb\u001b[0m: \tbn_momentum: 0.19592679783639733\n",
      "\u001b[34m\u001b[1mwandb\u001b[0m: \tlayers: 5\n",
      "\u001b[34m\u001b[1mwandb\u001b[0m: \tlearning_rate: 0.004714103745207383\n",
      "\u001b[34m\u001b[1mwandb\u001b[0m: \tminibatch_size: 4096\n",
      "\u001b[34m\u001b[1mwandb\u001b[0m: \tunits: 32\n",
      "\u001b[34m\u001b[1mwandb\u001b[0m: \tweight_decay: 0.0004900878796948658\n"
     ]
    },
    {
     "data": {
      "text/html": [
       "Tracking run with wandb version 0.17.9"
      ],
      "text/plain": [
       "<IPython.core.display.HTML object>"
      ]
     },
     "metadata": {},
     "output_type": "display_data"
    },
    {
     "data": {
      "text/html": [
       "Run data is saved locally in <code>/Users/sondrerogde/Dev/LSTM-for-option-pricing/Sondre/wandb/run-20240924_024244-3iu9by6v</code>"
      ],
      "text/plain": [
       "<IPython.core.display.HTML object>"
      ]
     },
     "metadata": {},
     "output_type": "display_data"
    },
    {
     "data": {
      "text/html": [
       "Syncing run <strong><a href='https://wandb.ai/sondre-rogde-ntnu/LSTM_OPTION_PRICING/runs/3iu9by6v' target=\"_blank\">copper-sweep-61</a></strong> to <a href='https://wandb.ai/sondre-rogde-ntnu/LSTM_OPTION_PRICING' target=\"_blank\">Weights & Biases</a> (<a href='https://wandb.me/run' target=\"_blank\">docs</a>)<br/>Sweep page: <a href='https://wandb.ai/sondre-rogde-ntnu/LSTM_OPTION_PRICING/sweeps/guuhakot' target=\"_blank\">https://wandb.ai/sondre-rogde-ntnu/LSTM_OPTION_PRICING/sweeps/guuhakot</a>"
      ],
      "text/plain": [
       "<IPython.core.display.HTML object>"
      ]
     },
     "metadata": {},
     "output_type": "display_data"
    },
    {
     "data": {
      "text/html": [
       " View project at <a href='https://wandb.ai/sondre-rogde-ntnu/LSTM_OPTION_PRICING' target=\"_blank\">https://wandb.ai/sondre-rogde-ntnu/LSTM_OPTION_PRICING</a>"
      ],
      "text/plain": [
       "<IPython.core.display.HTML object>"
      ]
     },
     "metadata": {},
     "output_type": "display_data"
    },
    {
     "data": {
      "text/html": [
       " View sweep at <a href='https://wandb.ai/sondre-rogde-ntnu/LSTM_OPTION_PRICING/sweeps/guuhakot' target=\"_blank\">https://wandb.ai/sondre-rogde-ntnu/LSTM_OPTION_PRICING/sweeps/guuhakot</a>"
      ],
      "text/plain": [
       "<IPython.core.display.HTML object>"
      ]
     },
     "metadata": {},
     "output_type": "display_data"
    },
    {
     "data": {
      "text/html": [
       " View run at <a href='https://wandb.ai/sondre-rogde-ntnu/LSTM_OPTION_PRICING/runs/3iu9by6v' target=\"_blank\">https://wandb.ai/sondre-rogde-ntnu/LSTM_OPTION_PRICING/runs/3iu9by6v</a>"
      ],
      "text/plain": [
       "<IPython.core.display.HTML object>"
      ]
     },
     "metadata": {},
     "output_type": "display_data"
    },
    {
     "name": "stdout",
     "output_type": "stream",
     "text": [
      "Epoch 1/300\n"
     ]
    },
    {
     "name": "stderr",
     "output_type": "stream",
     "text": [
      "/Library/Frameworks/Python.framework/Versions/3.12/lib/python3.12/site-packages/keras/src/layers/rnn/rnn.py:204: UserWarning: Do not pass an `input_shape`/`input_dim` argument to a layer. When using Sequential models, prefer using an `Input(shape)` object as the first layer in the model instead.\n",
      "  super().__init__(**kwargs)\n"
     ]
    },
    {
     "name": "stdout",
     "output_type": "stream",
     "text": [
      "\u001b[1m243/243\u001b[0m \u001b[32m━━━━━━━━━━━━━━━━━━━━\u001b[0m\u001b[37m\u001b[0m \u001b[1m19s\u001b[0m 68ms/step - loss: 627551.1875 - mae: 531.1533 - val_loss: 583239.1250 - val_mae: 528.1276\n",
      "Epoch 2/300\n",
      "\u001b[1m243/243\u001b[0m \u001b[32m━━━━━━━━━━━━━━━━━━━━\u001b[0m\u001b[37m\u001b[0m \u001b[1m16s\u001b[0m 66ms/step - loss: 342118.8125 - mae: 396.5365 - val_loss: 157520.3281 - val_mae: 279.2248\n",
      "Epoch 3/300\n",
      "\u001b[1m243/243\u001b[0m \u001b[32m━━━━━━━━━━━━━━━━━━━━\u001b[0m\u001b[37m\u001b[0m \u001b[1m18s\u001b[0m 72ms/step - loss: 66581.7344 - mae: 174.0058 - val_loss: 5355.0020 - val_mae: 54.8784\n",
      "Epoch 4/300\n",
      "\u001b[1m243/243\u001b[0m \u001b[32m━━━━━━━━━━━━━━━━━━━━\u001b[0m\u001b[37m\u001b[0m \u001b[1m19s\u001b[0m 77ms/step - loss: 3006.8384 - mae: 36.1803 - val_loss: 118.7821 - val_mae: 7.3122\n",
      "Epoch 5/300\n",
      "\u001b[1m243/243\u001b[0m \u001b[32m━━━━━━━━━━━━━━━━━━━━\u001b[0m\u001b[37m\u001b[0m \u001b[1m19s\u001b[0m 77ms/step - loss: 354.9145 - mae: 12.7099 - val_loss: 1225.3951 - val_mae: 27.5355\n",
      "Epoch 6/300\n",
      "\u001b[1m243/243\u001b[0m \u001b[32m━━━━━━━━━━━━━━━━━━━━\u001b[0m\u001b[37m\u001b[0m \u001b[1m19s\u001b[0m 76ms/step - loss: 265.6711 - mae: 10.9921 - val_loss: 813.3933 - val_mae: 21.1842\n",
      "Epoch 7/300\n",
      "\u001b[1m243/243\u001b[0m \u001b[32m━━━━━━━━━━━━━━━━━━━━\u001b[0m\u001b[37m\u001b[0m \u001b[1m19s\u001b[0m 76ms/step - loss: 251.5012 - mae: 10.7478 - val_loss: 605.5383 - val_mae: 16.9373\n",
      "Epoch 8/300\n",
      "\u001b[1m243/243\u001b[0m \u001b[32m━━━━━━━━━━━━━━━━━━━━\u001b[0m\u001b[37m\u001b[0m \u001b[1m18s\u001b[0m 76ms/step - loss: 265.8014 - mae: 10.7911 - val_loss: 324.8801 - val_mae: 14.7010\n",
      "Epoch 9/300\n",
      "\u001b[1m243/243\u001b[0m \u001b[32m━━━━━━━━━━━━━━━━━━━━\u001b[0m\u001b[37m\u001b[0m \u001b[1m18s\u001b[0m 75ms/step - loss: 277.5745 - mae: 11.4023 - val_loss: 1227.7557 - val_mae: 27.2479\n",
      "\u001b[1m3888/3888\u001b[0m \u001b[32m━━━━━━━━━━━━━━━━━━━━\u001b[0m\u001b[37m\u001b[0m \u001b[1m3s\u001b[0m 850us/step - loss: 1135.6637 - mae: 25.4890\n"
     ]
    },
    {
     "data": {
      "text/html": [
       "<style>\n",
       "    table.wandb td:nth-child(1) { padding: 0 10px; text-align: left ; width: auto;} td:nth-child(2) {text-align: left ; width: 100%}\n",
       "    .wandb-row { display: flex; flex-direction: row; flex-wrap: wrap; justify-content: flex-start; width: 100% }\n",
       "    .wandb-col { display: flex; flex-direction: column; flex-basis: 100%; flex: 1; padding: 10px; }\n",
       "    </style>\n",
       "<div class=\"wandb-row\"><div class=\"wandb-col\"><h3>Run history:</h3><br/><table class=\"wandb\"><tr><td>epoch/epoch</td><td>▁▂▃▄▅▅▆▇█</td></tr><tr><td>epoch/learning_rate</td><td>▁▁▁▁▁▁▁▁▁</td></tr><tr><td>epoch/loss</td><td>█▄▁▁▁▁▁▁▁</td></tr><tr><td>epoch/mae</td><td>█▆▃▁▁▁▁▁▁</td></tr><tr><td>epoch/val_loss</td><td>█▃▁▁▁▁▁▁▁</td></tr><tr><td>epoch/val_mae</td><td>█▅▂▁▁▁▁▁▁</td></tr><tr><td>validation_loss</td><td>▁</td></tr></table><br/></div><div class=\"wandb-col\"><h3>Run summary:</h3><br/><table class=\"wandb\"><tr><td>epoch/epoch</td><td>8</td></tr><tr><td>epoch/learning_rate</td><td>0.00471</td></tr><tr><td>epoch/loss</td><td>287.88654</td></tr><tr><td>epoch/mae</td><td>11.35832</td></tr><tr><td>epoch/val_loss</td><td>1227.75574</td></tr><tr><td>epoch/val_mae</td><td>27.24792</td></tr><tr><td>validation_loss</td><td>1227.75354</td></tr></table><br/></div></div>"
      ],
      "text/plain": [
       "<IPython.core.display.HTML object>"
      ]
     },
     "metadata": {},
     "output_type": "display_data"
    },
    {
     "data": {
      "text/html": [
       " View run <strong style=\"color:#cdcd00\">copper-sweep-61</strong> at: <a href='https://wandb.ai/sondre-rogde-ntnu/LSTM_OPTION_PRICING/runs/3iu9by6v' target=\"_blank\">https://wandb.ai/sondre-rogde-ntnu/LSTM_OPTION_PRICING/runs/3iu9by6v</a><br/> View project at: <a href='https://wandb.ai/sondre-rogde-ntnu/LSTM_OPTION_PRICING' target=\"_blank\">https://wandb.ai/sondre-rogde-ntnu/LSTM_OPTION_PRICING</a><br/>Synced 5 W&B file(s), 0 media file(s), 0 artifact file(s) and 0 other file(s)"
      ],
      "text/plain": [
       "<IPython.core.display.HTML object>"
      ]
     },
     "metadata": {},
     "output_type": "display_data"
    },
    {
     "data": {
      "text/html": [
       "Find logs at: <code>./wandb/run-20240924_024244-3iu9by6v/logs</code>"
      ],
      "text/plain": [
       "<IPython.core.display.HTML object>"
      ]
     },
     "metadata": {},
     "output_type": "display_data"
    },
    {
     "data": {
      "text/html": [
       "wandb version 0.18.1 is available!  To upgrade, please run:\n",
       " $ pip install wandb --upgrade"
      ],
      "text/plain": [
       "<IPython.core.display.HTML object>"
      ]
     },
     "metadata": {},
     "output_type": "display_data"
    },
    {
     "data": {
      "text/html": [
       "The new W&B backend becomes opt-out in version 0.18.0; try it out with `wandb.require(\"core\")`! See https://wandb.me/wandb-core for more information."
      ],
      "text/plain": [
       "<IPython.core.display.HTML object>"
      ]
     },
     "metadata": {},
     "output_type": "display_data"
    },
    {
     "name": "stderr",
     "output_type": "stream",
     "text": [
      "\u001b[34m\u001b[1mwandb\u001b[0m: Agent Starting Run: 4a6uezh6 with config:\n",
      "\u001b[34m\u001b[1mwandb\u001b[0m: \tbn_momentum: 0.012876144834992422\n",
      "\u001b[34m\u001b[1mwandb\u001b[0m: \tlayers: 6\n",
      "\u001b[34m\u001b[1mwandb\u001b[0m: \tlearning_rate: 0.0017999275351148652\n",
      "\u001b[34m\u001b[1mwandb\u001b[0m: \tminibatch_size: 1024\n",
      "\u001b[34m\u001b[1mwandb\u001b[0m: \tunits: 64\n",
      "\u001b[34m\u001b[1mwandb\u001b[0m: \tweight_decay: 1.8049871672337015e-05\n"
     ]
    },
    {
     "data": {
      "text/html": [
       "Tracking run with wandb version 0.17.9"
      ],
      "text/plain": [
       "<IPython.core.display.HTML object>"
      ]
     },
     "metadata": {},
     "output_type": "display_data"
    },
    {
     "data": {
      "text/html": [
       "Run data is saved locally in <code>/Users/sondrerogde/Dev/LSTM-for-option-pricing/Sondre/wandb/run-20240924_024541-4a6uezh6</code>"
      ],
      "text/plain": [
       "<IPython.core.display.HTML object>"
      ]
     },
     "metadata": {},
     "output_type": "display_data"
    },
    {
     "data": {
      "text/html": [
       "Syncing run <strong><a href='https://wandb.ai/sondre-rogde-ntnu/LSTM_OPTION_PRICING/runs/4a6uezh6' target=\"_blank\">cool-sweep-62</a></strong> to <a href='https://wandb.ai/sondre-rogde-ntnu/LSTM_OPTION_PRICING' target=\"_blank\">Weights & Biases</a> (<a href='https://wandb.me/run' target=\"_blank\">docs</a>)<br/>Sweep page: <a href='https://wandb.ai/sondre-rogde-ntnu/LSTM_OPTION_PRICING/sweeps/guuhakot' target=\"_blank\">https://wandb.ai/sondre-rogde-ntnu/LSTM_OPTION_PRICING/sweeps/guuhakot</a>"
      ],
      "text/plain": [
       "<IPython.core.display.HTML object>"
      ]
     },
     "metadata": {},
     "output_type": "display_data"
    },
    {
     "data": {
      "text/html": [
       " View project at <a href='https://wandb.ai/sondre-rogde-ntnu/LSTM_OPTION_PRICING' target=\"_blank\">https://wandb.ai/sondre-rogde-ntnu/LSTM_OPTION_PRICING</a>"
      ],
      "text/plain": [
       "<IPython.core.display.HTML object>"
      ]
     },
     "metadata": {},
     "output_type": "display_data"
    },
    {
     "data": {
      "text/html": [
       " View sweep at <a href='https://wandb.ai/sondre-rogde-ntnu/LSTM_OPTION_PRICING/sweeps/guuhakot' target=\"_blank\">https://wandb.ai/sondre-rogde-ntnu/LSTM_OPTION_PRICING/sweeps/guuhakot</a>"
      ],
      "text/plain": [
       "<IPython.core.display.HTML object>"
      ]
     },
     "metadata": {},
     "output_type": "display_data"
    },
    {
     "data": {
      "text/html": [
       " View run at <a href='https://wandb.ai/sondre-rogde-ntnu/LSTM_OPTION_PRICING/runs/4a6uezh6' target=\"_blank\">https://wandb.ai/sondre-rogde-ntnu/LSTM_OPTION_PRICING/runs/4a6uezh6</a>"
      ],
      "text/plain": [
       "<IPython.core.display.HTML object>"
      ]
     },
     "metadata": {},
     "output_type": "display_data"
    },
    {
     "name": "stdout",
     "output_type": "stream",
     "text": [
      "Epoch 1/300\n"
     ]
    },
    {
     "name": "stderr",
     "output_type": "stream",
     "text": [
      "/Library/Frameworks/Python.framework/Versions/3.12/lib/python3.12/site-packages/keras/src/layers/rnn/rnn.py:204: UserWarning: Do not pass an `input_shape`/`input_dim` argument to a layer. When using Sequential models, prefer using an `Input(shape)` object as the first layer in the model instead.\n",
      "  super().__init__(**kwargs)\n"
     ]
    },
    {
     "name": "stdout",
     "output_type": "stream",
     "text": [
      "\u001b[1m972/972\u001b[0m \u001b[32m━━━━━━━━━━━━━━━━━━━━\u001b[0m\u001b[37m\u001b[0m \u001b[1m56s\u001b[0m 52ms/step - loss: 539645.8125 - mae: 491.9286 - val_loss: 90043.4922 - val_mae: 224.1064\n",
      "Epoch 2/300\n",
      "\u001b[1m972/972\u001b[0m \u001b[32m━━━━━━━━━━━━━━━━━━━━\u001b[0m\u001b[37m\u001b[0m \u001b[1m55s\u001b[0m 56ms/step - loss: 31271.1621 - mae: 113.0578 - val_loss: 3752.9099 - val_mae: 55.3234\n",
      "Epoch 3/300\n",
      "\u001b[1m972/972\u001b[0m \u001b[32m━━━━━━━━━━━━━━━━━━━━\u001b[0m\u001b[37m\u001b[0m \u001b[1m53s\u001b[0m 55ms/step - loss: 997.9854 - mae: 20.8479 - val_loss: 207.2579 - val_mae: 10.8411\n",
      "Epoch 4/300\n",
      "\u001b[1m972/972\u001b[0m \u001b[32m━━━━━━━━━━━━━━━━━━━━\u001b[0m\u001b[37m\u001b[0m \u001b[1m54s\u001b[0m 56ms/step - loss: 847.6531 - mae: 19.1773 - val_loss: 379.9004 - val_mae: 14.0355\n",
      "Epoch 5/300\n",
      "\u001b[1m972/972\u001b[0m \u001b[32m━━━━━━━━━━━━━━━━━━━━\u001b[0m\u001b[37m\u001b[0m \u001b[1m55s\u001b[0m 56ms/step - loss: 915.0021 - mae: 19.8657 - val_loss: 881.8858 - val_mae: 25.6219\n",
      "Epoch 6/300\n",
      "\u001b[1m972/972\u001b[0m \u001b[32m━━━━━━━━━━━━━━━━━━━━\u001b[0m\u001b[37m\u001b[0m \u001b[1m55s\u001b[0m 56ms/step - loss: 843.7083 - mae: 19.0746 - val_loss: 605.0061 - val_mae: 19.6718\n",
      "Epoch 7/300\n",
      "\u001b[1m972/972\u001b[0m \u001b[32m━━━━━━━━━━━━━━━━━━━━\u001b[0m\u001b[37m\u001b[0m \u001b[1m54s\u001b[0m 56ms/step - loss: 807.1840 - mae: 18.5725 - val_loss: 1412.3083 - val_mae: 29.6787\n",
      "Epoch 8/300\n",
      "\u001b[1m972/972\u001b[0m \u001b[32m━━━━━━━━━━━━━━━━━━━━\u001b[0m\u001b[37m\u001b[0m \u001b[1m54s\u001b[0m 55ms/step - loss: 917.6911 - mae: 19.6557 - val_loss: 5692.2046 - val_mae: 61.5536\n",
      "\u001b[1m3888/3888\u001b[0m \u001b[32m━━━━━━━━━━━━━━━━━━━━\u001b[0m\u001b[37m\u001b[0m \u001b[1m6s\u001b[0m 2ms/step - loss: 5555.2129 - mae: 60.5343\n"
     ]
    },
    {
     "data": {
      "text/html": [
       "<style>\n",
       "    table.wandb td:nth-child(1) { padding: 0 10px; text-align: left ; width: auto;} td:nth-child(2) {text-align: left ; width: 100%}\n",
       "    .wandb-row { display: flex; flex-direction: row; flex-wrap: wrap; justify-content: flex-start; width: 100% }\n",
       "    .wandb-col { display: flex; flex-direction: column; flex-basis: 100%; flex: 1; padding: 10px; }\n",
       "    </style>\n",
       "<div class=\"wandb-row\"><div class=\"wandb-col\"><h3>Run history:</h3><br/><table class=\"wandb\"><tr><td>epoch/epoch</td><td>▁▂▃▄▅▆▇█</td></tr><tr><td>epoch/learning_rate</td><td>▁▁▁▁▁▁▁▁</td></tr><tr><td>epoch/loss</td><td>█▁▁▁▁▁▁▁</td></tr><tr><td>epoch/mae</td><td>█▂▁▁▁▁▁▁</td></tr><tr><td>epoch/val_loss</td><td>█▁▁▁▁▁▁▁</td></tr><tr><td>epoch/val_mae</td><td>█▂▁▁▁▁▂▃</td></tr><tr><td>validation_loss</td><td>▁</td></tr></table><br/></div><div class=\"wandb-col\"><h3>Run summary:</h3><br/><table class=\"wandb\"><tr><td>epoch/epoch</td><td>7</td></tr><tr><td>epoch/learning_rate</td><td>0.0018</td></tr><tr><td>epoch/loss</td><td>878.03735</td></tr><tr><td>epoch/mae</td><td>19.35151</td></tr><tr><td>epoch/val_loss</td><td>5692.20459</td></tr><tr><td>epoch/val_mae</td><td>61.55363</td></tr><tr><td>validation_loss</td><td>5692.20703</td></tr></table><br/></div></div>"
      ],
      "text/plain": [
       "<IPython.core.display.HTML object>"
      ]
     },
     "metadata": {},
     "output_type": "display_data"
    },
    {
     "data": {
      "text/html": [
       " View run <strong style=\"color:#cdcd00\">cool-sweep-62</strong> at: <a href='https://wandb.ai/sondre-rogde-ntnu/LSTM_OPTION_PRICING/runs/4a6uezh6' target=\"_blank\">https://wandb.ai/sondre-rogde-ntnu/LSTM_OPTION_PRICING/runs/4a6uezh6</a><br/> View project at: <a href='https://wandb.ai/sondre-rogde-ntnu/LSTM_OPTION_PRICING' target=\"_blank\">https://wandb.ai/sondre-rogde-ntnu/LSTM_OPTION_PRICING</a><br/>Synced 5 W&B file(s), 0 media file(s), 0 artifact file(s) and 0 other file(s)"
      ],
      "text/plain": [
       "<IPython.core.display.HTML object>"
      ]
     },
     "metadata": {},
     "output_type": "display_data"
    },
    {
     "data": {
      "text/html": [
       "Find logs at: <code>./wandb/run-20240924_024541-4a6uezh6/logs</code>"
      ],
      "text/plain": [
       "<IPython.core.display.HTML object>"
      ]
     },
     "metadata": {},
     "output_type": "display_data"
    },
    {
     "data": {
      "text/html": [
       "wandb version 0.18.1 is available!  To upgrade, please run:\n",
       " $ pip install wandb --upgrade"
      ],
      "text/plain": [
       "<IPython.core.display.HTML object>"
      ]
     },
     "metadata": {},
     "output_type": "display_data"
    },
    {
     "data": {
      "text/html": [
       "The new W&B backend becomes opt-out in version 0.18.0; try it out with `wandb.require(\"core\")`! See https://wandb.me/wandb-core for more information."
      ],
      "text/plain": [
       "<IPython.core.display.HTML object>"
      ]
     },
     "metadata": {},
     "output_type": "display_data"
    },
    {
     "name": "stderr",
     "output_type": "stream",
     "text": [
      "\u001b[34m\u001b[1mwandb\u001b[0m: Sweep Agent: Waiting for job.\n",
      "\u001b[34m\u001b[1mwandb\u001b[0m: Job received.\n",
      "\u001b[34m\u001b[1mwandb\u001b[0m: Agent Starting Run: ikzucfc4 with config:\n",
      "\u001b[34m\u001b[1mwandb\u001b[0m: \tbn_momentum: 0.08106353606967476\n",
      "\u001b[34m\u001b[1mwandb\u001b[0m: \tlayers: 5\n",
      "\u001b[34m\u001b[1mwandb\u001b[0m: \tlearning_rate: 0.0012146223939763512\n",
      "\u001b[34m\u001b[1mwandb\u001b[0m: \tminibatch_size: 2048\n",
      "\u001b[34m\u001b[1mwandb\u001b[0m: \tunits: 96\n",
      "\u001b[34m\u001b[1mwandb\u001b[0m: \tweight_decay: 0.00025137605848272006\n"
     ]
    },
    {
     "data": {
      "text/html": [
       "Tracking run with wandb version 0.17.9"
      ],
      "text/plain": [
       "<IPython.core.display.HTML object>"
      ]
     },
     "metadata": {},
     "output_type": "display_data"
    },
    {
     "data": {
      "text/html": [
       "Run data is saved locally in <code>/Users/sondrerogde/Dev/LSTM-for-option-pricing/Sondre/wandb/run-20240924_025322-ikzucfc4</code>"
      ],
      "text/plain": [
       "<IPython.core.display.HTML object>"
      ]
     },
     "metadata": {},
     "output_type": "display_data"
    },
    {
     "data": {
      "text/html": [
       "Syncing run <strong><a href='https://wandb.ai/sondre-rogde-ntnu/LSTM_OPTION_PRICING/runs/ikzucfc4' target=\"_blank\">rosy-sweep-63</a></strong> to <a href='https://wandb.ai/sondre-rogde-ntnu/LSTM_OPTION_PRICING' target=\"_blank\">Weights & Biases</a> (<a href='https://wandb.me/run' target=\"_blank\">docs</a>)<br/>Sweep page: <a href='https://wandb.ai/sondre-rogde-ntnu/LSTM_OPTION_PRICING/sweeps/guuhakot' target=\"_blank\">https://wandb.ai/sondre-rogde-ntnu/LSTM_OPTION_PRICING/sweeps/guuhakot</a>"
      ],
      "text/plain": [
       "<IPython.core.display.HTML object>"
      ]
     },
     "metadata": {},
     "output_type": "display_data"
    },
    {
     "data": {
      "text/html": [
       " View project at <a href='https://wandb.ai/sondre-rogde-ntnu/LSTM_OPTION_PRICING' target=\"_blank\">https://wandb.ai/sondre-rogde-ntnu/LSTM_OPTION_PRICING</a>"
      ],
      "text/plain": [
       "<IPython.core.display.HTML object>"
      ]
     },
     "metadata": {},
     "output_type": "display_data"
    },
    {
     "data": {
      "text/html": [
       " View sweep at <a href='https://wandb.ai/sondre-rogde-ntnu/LSTM_OPTION_PRICING/sweeps/guuhakot' target=\"_blank\">https://wandb.ai/sondre-rogde-ntnu/LSTM_OPTION_PRICING/sweeps/guuhakot</a>"
      ],
      "text/plain": [
       "<IPython.core.display.HTML object>"
      ]
     },
     "metadata": {},
     "output_type": "display_data"
    },
    {
     "data": {
      "text/html": [
       " View run at <a href='https://wandb.ai/sondre-rogde-ntnu/LSTM_OPTION_PRICING/runs/ikzucfc4' target=\"_blank\">https://wandb.ai/sondre-rogde-ntnu/LSTM_OPTION_PRICING/runs/ikzucfc4</a>"
      ],
      "text/plain": [
       "<IPython.core.display.HTML object>"
      ]
     },
     "metadata": {},
     "output_type": "display_data"
    },
    {
     "name": "stdout",
     "output_type": "stream",
     "text": [
      "Epoch 1/300\n"
     ]
    },
    {
     "name": "stderr",
     "output_type": "stream",
     "text": [
      "/Library/Frameworks/Python.framework/Versions/3.12/lib/python3.12/site-packages/keras/src/layers/rnn/rnn.py:204: UserWarning: Do not pass an `input_shape`/`input_dim` argument to a layer. When using Sequential models, prefer using an `Input(shape)` object as the first layer in the model instead.\n",
      "  super().__init__(**kwargs)\n"
     ]
    },
    {
     "name": "stdout",
     "output_type": "stream",
     "text": [
      "\u001b[1m486/486\u001b[0m \u001b[32m━━━━━━━━━━━━━━━━━━━━\u001b[0m\u001b[37m\u001b[0m \u001b[1m63s\u001b[0m 125ms/step - loss: 616119.1875 - mae: 527.8774 - val_loss: 601405.2500 - val_mae: 538.9664\n",
      "Epoch 2/300\n",
      "\u001b[1m486/486\u001b[0m \u001b[32m━━━━━━━━━━━━━━━━━━━━\u001b[0m\u001b[37m\u001b[0m \u001b[1m76s\u001b[0m 156ms/step - loss: 365457.0000 - mae: 416.2352 - val_loss: 202194.1250 - val_mae: 319.8651\n",
      "Epoch 3/300\n",
      "\u001b[1m486/486\u001b[0m \u001b[32m━━━━━━━━━━━━━━━━━━━━\u001b[0m\u001b[37m\u001b[0m \u001b[1m70s\u001b[0m 145ms/step - loss: 105768.1406 - mae: 229.2392 - val_loss: 27738.8535 - val_mae: 112.4822\n",
      "Epoch 4/300\n",
      "\u001b[1m486/486\u001b[0m \u001b[32m━━━━━━━━━━━━━━━━━━━━\u001b[0m\u001b[37m\u001b[0m \u001b[1m70s\u001b[0m 144ms/step - loss: 11136.5049 - mae: 75.1849 - val_loss: 1673.5435 - val_mae: 31.9457\n",
      "Epoch 5/300\n",
      "\u001b[1m486/486\u001b[0m \u001b[32m━━━━━━━━━━━━━━━━━━━━\u001b[0m\u001b[37m\u001b[0m \u001b[1m70s\u001b[0m 145ms/step - loss: 786.9391 - mae: 18.8552 - val_loss: 140.7765 - val_mae: 8.8748\n",
      "Epoch 6/300\n",
      "\u001b[1m486/486\u001b[0m \u001b[32m━━━━━━━━━━━━━━━━━━━━\u001b[0m\u001b[37m\u001b[0m \u001b[1m70s\u001b[0m 144ms/step - loss: 529.5366 - mae: 15.1557 - val_loss: 2342.3599 - val_mae: 43.8190\n",
      "Epoch 7/300\n",
      "\u001b[1m486/486\u001b[0m \u001b[32m━━━━━━━━━━━━━━━━━━━━\u001b[0m\u001b[37m\u001b[0m \u001b[1m69s\u001b[0m 143ms/step - loss: 472.3128 - mae: 14.2745 - val_loss: 82.5230 - val_mae: 6.8761\n",
      "Epoch 8/300\n",
      "\u001b[1m486/486\u001b[0m \u001b[32m━━━━━━━━━━━━━━━━━━━━\u001b[0m\u001b[37m\u001b[0m \u001b[1m71s\u001b[0m 145ms/step - loss: 491.0501 - mae: 14.7266 - val_loss: 302.5912 - val_mae: 14.3233\n",
      "Epoch 9/300\n",
      "\u001b[1m486/486\u001b[0m \u001b[32m━━━━━━━━━━━━━━━━━━━━\u001b[0m\u001b[37m\u001b[0m \u001b[1m70s\u001b[0m 144ms/step - loss: 489.5539 - mae: 14.5447 - val_loss: 120.7540 - val_mae: 7.3969\n",
      "Epoch 10/300\n",
      "\u001b[1m486/486\u001b[0m \u001b[32m━━━━━━━━━━━━━━━━━━━━\u001b[0m\u001b[37m\u001b[0m \u001b[1m70s\u001b[0m 144ms/step - loss: 453.5308 - mae: 14.1788 - val_loss: 330.6894 - val_mae: 12.9727\n",
      "Epoch 11/300\n",
      "\u001b[1m486/486\u001b[0m \u001b[32m━━━━━━━━━━━━━━━━━━━━\u001b[0m\u001b[37m\u001b[0m \u001b[1m69s\u001b[0m 142ms/step - loss: 434.1702 - mae: 13.7889 - val_loss: 155.0882 - val_mae: 9.7219\n",
      "Epoch 12/300\n",
      "\u001b[1m486/486\u001b[0m \u001b[32m━━━━━━━━━━━━━━━━━━━━\u001b[0m\u001b[37m\u001b[0m \u001b[1m70s\u001b[0m 143ms/step - loss: 460.2142 - mae: 14.3151 - val_loss: 234.8238 - val_mae: 12.2633\n",
      "\u001b[1m3888/3888\u001b[0m \u001b[32m━━━━━━━━━━━━━━━━━━━━\u001b[0m\u001b[37m\u001b[0m \u001b[1m8s\u001b[0m 2ms/step - loss: 242.9425 - mae: 12.8010\n"
     ]
    },
    {
     "data": {
      "text/html": [
       "<style>\n",
       "    table.wandb td:nth-child(1) { padding: 0 10px; text-align: left ; width: auto;} td:nth-child(2) {text-align: left ; width: 100%}\n",
       "    .wandb-row { display: flex; flex-direction: row; flex-wrap: wrap; justify-content: flex-start; width: 100% }\n",
       "    .wandb-col { display: flex; flex-direction: column; flex-basis: 100%; flex: 1; padding: 10px; }\n",
       "    </style>\n",
       "<div class=\"wandb-row\"><div class=\"wandb-col\"><h3>Run history:</h3><br/><table class=\"wandb\"><tr><td>epoch/epoch</td><td>▁▂▂▃▄▄▅▅▆▇▇█</td></tr><tr><td>epoch/learning_rate</td><td>▁▁▁▁▁▁▁▁▁▁▁▁</td></tr><tr><td>epoch/loss</td><td>█▅▂▁▁▁▁▁▁▁▁▁</td></tr><tr><td>epoch/mae</td><td>█▆▃▂▁▁▁▁▁▁▁▁</td></tr><tr><td>epoch/val_loss</td><td>█▃▁▁▁▁▁▁▁▁▁▁</td></tr><tr><td>epoch/val_mae</td><td>█▅▂▁▁▁▁▁▁▁▁▁</td></tr><tr><td>validation_loss</td><td>▁</td></tr></table><br/></div><div class=\"wandb-col\"><h3>Run summary:</h3><br/><table class=\"wandb\"><tr><td>epoch/epoch</td><td>11</td></tr><tr><td>epoch/learning_rate</td><td>0.00121</td></tr><tr><td>epoch/loss</td><td>453.57941</td></tr><tr><td>epoch/mae</td><td>14.09497</td></tr><tr><td>epoch/val_loss</td><td>234.82379</td></tr><tr><td>epoch/val_mae</td><td>12.26335</td></tr><tr><td>validation_loss</td><td>234.82387</td></tr></table><br/></div></div>"
      ],
      "text/plain": [
       "<IPython.core.display.HTML object>"
      ]
     },
     "metadata": {},
     "output_type": "display_data"
    },
    {
     "data": {
      "text/html": [
       " View run <strong style=\"color:#cdcd00\">rosy-sweep-63</strong> at: <a href='https://wandb.ai/sondre-rogde-ntnu/LSTM_OPTION_PRICING/runs/ikzucfc4' target=\"_blank\">https://wandb.ai/sondre-rogde-ntnu/LSTM_OPTION_PRICING/runs/ikzucfc4</a><br/> View project at: <a href='https://wandb.ai/sondre-rogde-ntnu/LSTM_OPTION_PRICING' target=\"_blank\">https://wandb.ai/sondre-rogde-ntnu/LSTM_OPTION_PRICING</a><br/>Synced 5 W&B file(s), 0 media file(s), 0 artifact file(s) and 0 other file(s)"
      ],
      "text/plain": [
       "<IPython.core.display.HTML object>"
      ]
     },
     "metadata": {},
     "output_type": "display_data"
    },
    {
     "data": {
      "text/html": [
       "Find logs at: <code>./wandb/run-20240924_025322-ikzucfc4/logs</code>"
      ],
      "text/plain": [
       "<IPython.core.display.HTML object>"
      ]
     },
     "metadata": {},
     "output_type": "display_data"
    },
    {
     "data": {
      "text/html": [
       "wandb version 0.18.1 is available!  To upgrade, please run:\n",
       " $ pip install wandb --upgrade"
      ],
      "text/plain": [
       "<IPython.core.display.HTML object>"
      ]
     },
     "metadata": {},
     "output_type": "display_data"
    },
    {
     "data": {
      "text/html": [
       "The new W&B backend becomes opt-out in version 0.18.0; try it out with `wandb.require(\"core\")`! See https://wandb.me/wandb-core for more information."
      ],
      "text/plain": [
       "<IPython.core.display.HTML object>"
      ]
     },
     "metadata": {},
     "output_type": "display_data"
    },
    {
     "name": "stderr",
     "output_type": "stream",
     "text": [
      "\u001b[34m\u001b[1mwandb\u001b[0m: Sweep Agent: Waiting for job.\n",
      "\u001b[34m\u001b[1mwandb\u001b[0m: Job received.\n",
      "\u001b[34m\u001b[1mwandb\u001b[0m: Agent Starting Run: vsqij74s with config:\n",
      "\u001b[34m\u001b[1mwandb\u001b[0m: \tbn_momentum: 0.31376064552100186\n",
      "\u001b[34m\u001b[1mwandb\u001b[0m: \tlayers: 5\n",
      "\u001b[34m\u001b[1mwandb\u001b[0m: \tlearning_rate: 0.002427403167385136\n",
      "\u001b[34m\u001b[1mwandb\u001b[0m: \tminibatch_size: 4096\n",
      "\u001b[34m\u001b[1mwandb\u001b[0m: \tunits: 32\n",
      "\u001b[34m\u001b[1mwandb\u001b[0m: \tweight_decay: 0.0002366697684645341\n"
     ]
    },
    {
     "data": {
      "text/html": [
       "Tracking run with wandb version 0.17.9"
      ],
      "text/plain": [
       "<IPython.core.display.HTML object>"
      ]
     },
     "metadata": {},
     "output_type": "display_data"
    },
    {
     "data": {
      "text/html": [
       "Run data is saved locally in <code>/Users/sondrerogde/Dev/LSTM-for-option-pricing/Sondre/wandb/run-20240924_030747-vsqij74s</code>"
      ],
      "text/plain": [
       "<IPython.core.display.HTML object>"
      ]
     },
     "metadata": {},
     "output_type": "display_data"
    },
    {
     "data": {
      "text/html": [
       "Syncing run <strong><a href='https://wandb.ai/sondre-rogde-ntnu/LSTM_OPTION_PRICING/runs/vsqij74s' target=\"_blank\">rural-sweep-64</a></strong> to <a href='https://wandb.ai/sondre-rogde-ntnu/LSTM_OPTION_PRICING' target=\"_blank\">Weights & Biases</a> (<a href='https://wandb.me/run' target=\"_blank\">docs</a>)<br/>Sweep page: <a href='https://wandb.ai/sondre-rogde-ntnu/LSTM_OPTION_PRICING/sweeps/guuhakot' target=\"_blank\">https://wandb.ai/sondre-rogde-ntnu/LSTM_OPTION_PRICING/sweeps/guuhakot</a>"
      ],
      "text/plain": [
       "<IPython.core.display.HTML object>"
      ]
     },
     "metadata": {},
     "output_type": "display_data"
    },
    {
     "data": {
      "text/html": [
       " View project at <a href='https://wandb.ai/sondre-rogde-ntnu/LSTM_OPTION_PRICING' target=\"_blank\">https://wandb.ai/sondre-rogde-ntnu/LSTM_OPTION_PRICING</a>"
      ],
      "text/plain": [
       "<IPython.core.display.HTML object>"
      ]
     },
     "metadata": {},
     "output_type": "display_data"
    },
    {
     "data": {
      "text/html": [
       " View sweep at <a href='https://wandb.ai/sondre-rogde-ntnu/LSTM_OPTION_PRICING/sweeps/guuhakot' target=\"_blank\">https://wandb.ai/sondre-rogde-ntnu/LSTM_OPTION_PRICING/sweeps/guuhakot</a>"
      ],
      "text/plain": [
       "<IPython.core.display.HTML object>"
      ]
     },
     "metadata": {},
     "output_type": "display_data"
    },
    {
     "data": {
      "text/html": [
       " View run at <a href='https://wandb.ai/sondre-rogde-ntnu/LSTM_OPTION_PRICING/runs/vsqij74s' target=\"_blank\">https://wandb.ai/sondre-rogde-ntnu/LSTM_OPTION_PRICING/runs/vsqij74s</a>"
      ],
      "text/plain": [
       "<IPython.core.display.HTML object>"
      ]
     },
     "metadata": {},
     "output_type": "display_data"
    },
    {
     "name": "stdout",
     "output_type": "stream",
     "text": [
      "Epoch 1/300\n"
     ]
    },
    {
     "name": "stderr",
     "output_type": "stream",
     "text": [
      "/Library/Frameworks/Python.framework/Versions/3.12/lib/python3.12/site-packages/keras/src/layers/rnn/rnn.py:204: UserWarning: Do not pass an `input_shape`/`input_dim` argument to a layer. When using Sequential models, prefer using an `Input(shape)` object as the first layer in the model instead.\n",
      "  super().__init__(**kwargs)\n"
     ]
    },
    {
     "name": "stdout",
     "output_type": "stream",
     "text": [
      "\u001b[1m243/243\u001b[0m \u001b[32m━━━━━━━━━━━━━━━━━━━━\u001b[0m\u001b[37m\u001b[0m \u001b[1m19s\u001b[0m 69ms/step - loss: 643538.9375 - mae: 537.3033 - val_loss: 780651.7500 - val_mae: 605.8024\n",
      "Epoch 2/300\n",
      "\u001b[1m243/243\u001b[0m \u001b[32m━━━━━━━━━━━━━━━━━━━━\u001b[0m\u001b[37m\u001b[0m \u001b[1m16s\u001b[0m 65ms/step - loss: 540706.2500 - mae: 496.9875 - val_loss: 539518.0000 - val_mae: 506.3743\n",
      "Epoch 3/300\n",
      "\u001b[1m243/243\u001b[0m \u001b[32m━━━━━━━━━━━━━━━━━━━━\u001b[0m\u001b[37m\u001b[0m \u001b[1m16s\u001b[0m 67ms/step - loss: 369248.7812 - mae: 414.5094 - val_loss: 291196.5312 - val_mae: 378.1132\n",
      "Epoch 4/300\n",
      "\u001b[1m243/243\u001b[0m \u001b[32m━━━━━━━━━━━━━━━━━━━━\u001b[0m\u001b[37m\u001b[0m \u001b[1m18s\u001b[0m 76ms/step - loss: 194627.7812 - mae: 303.2037 - val_loss: 110325.0078 - val_mae: 220.8191\n",
      "Epoch 5/300\n",
      "\u001b[1m243/243\u001b[0m \u001b[32m━━━━━━━━━━━━━━━━━━━━\u001b[0m\u001b[37m\u001b[0m \u001b[1m20s\u001b[0m 80ms/step - loss: 75079.0391 - mae: 189.1604 - val_loss: 35678.1484 - val_mae: 140.8422\n",
      "Epoch 6/300\n",
      "\u001b[1m243/243\u001b[0m \u001b[32m━━━━━━━━━━━━━━━━━━━━\u001b[0m\u001b[37m\u001b[0m \u001b[1m19s\u001b[0m 79ms/step - loss: 19018.5488 - mae: 95.7594 - val_loss: 4787.3008 - val_mae: 54.2776\n",
      "Epoch 7/300\n",
      "\u001b[1m243/243\u001b[0m \u001b[32m━━━━━━━━━━━━━━━━━━━━\u001b[0m\u001b[37m\u001b[0m \u001b[1m19s\u001b[0m 78ms/step - loss: 3323.6343 - mae: 39.5987 - val_loss: 868.0620 - val_mae: 23.4715\n",
      "Epoch 8/300\n",
      "\u001b[1m243/243\u001b[0m \u001b[32m━━━━━━━━━━━━━━━━━━━━\u001b[0m\u001b[37m\u001b[0m \u001b[1m19s\u001b[0m 77ms/step - loss: 646.9238 - mae: 16.7205 - val_loss: 169.9743 - val_mae: 9.5968\n",
      "Epoch 9/300\n",
      "\u001b[1m243/243\u001b[0m \u001b[32m━━━━━━━━━━━━━━━━━━━━\u001b[0m\u001b[37m\u001b[0m \u001b[1m19s\u001b[0m 77ms/step - loss: 324.3640 - mae: 12.1545 - val_loss: 313.6687 - val_mae: 14.3006\n",
      "Epoch 10/300\n",
      "\u001b[1m243/243\u001b[0m \u001b[32m━━━━━━━━━━━━━━━━━━━━\u001b[0m\u001b[37m\u001b[0m \u001b[1m19s\u001b[0m 76ms/step - loss: 324.2429 - mae: 12.4217 - val_loss: 734.1781 - val_mae: 21.5805\n",
      "Epoch 11/300\n",
      "\u001b[1m243/243\u001b[0m \u001b[32m━━━━━━━━━━━━━━━━━━━━\u001b[0m\u001b[37m\u001b[0m \u001b[1m19s\u001b[0m 79ms/step - loss: 282.3260 - mae: 11.3416 - val_loss: 307.5219 - val_mae: 13.2577\n",
      "Epoch 12/300\n",
      "\u001b[1m243/243\u001b[0m \u001b[32m━━━━━━━━━━━━━━━━━━━━\u001b[0m\u001b[37m\u001b[0m \u001b[1m18s\u001b[0m 74ms/step - loss: 293.0321 - mae: 11.4340 - val_loss: 1122.4692 - val_mae: 27.2289\n",
      "Epoch 13/300\n",
      "\u001b[1m243/243\u001b[0m \u001b[32m━━━━━━━━━━━━━━━━━━━━\u001b[0m\u001b[37m\u001b[0m \u001b[1m19s\u001b[0m 77ms/step - loss: 282.9710 - mae: 11.4428 - val_loss: 245.9909 - val_mae: 7.9029\n",
      "\u001b[1m3888/3888\u001b[0m \u001b[32m━━━━━━━━━━━━━━━━━━━━\u001b[0m\u001b[37m\u001b[0m \u001b[1m3s\u001b[0m 851us/step - loss: 233.3359 - mae: 7.8487\n"
     ]
    },
    {
     "data": {
      "text/html": [
       "<style>\n",
       "    table.wandb td:nth-child(1) { padding: 0 10px; text-align: left ; width: auto;} td:nth-child(2) {text-align: left ; width: 100%}\n",
       "    .wandb-row { display: flex; flex-direction: row; flex-wrap: wrap; justify-content: flex-start; width: 100% }\n",
       "    .wandb-col { display: flex; flex-direction: column; flex-basis: 100%; flex: 1; padding: 10px; }\n",
       "    </style>\n",
       "<div class=\"wandb-row\"><div class=\"wandb-col\"><h3>Run history:</h3><br/><table class=\"wandb\"><tr><td>epoch/epoch</td><td>▁▂▂▃▃▄▅▅▆▆▇▇█</td></tr><tr><td>epoch/learning_rate</td><td>▁▁▁▁▁▁▁▁▁▁▁▁▁</td></tr><tr><td>epoch/loss</td><td>█▇▅▃▂▁▁▁▁▁▁▁▁</td></tr><tr><td>epoch/mae</td><td>█▇▆▅▃▂▁▁▁▁▁▁▁</td></tr><tr><td>epoch/val_loss</td><td>█▆▄▂▁▁▁▁▁▁▁▁▁</td></tr><tr><td>epoch/val_mae</td><td>█▇▅▃▃▂▁▁▁▁▁▁▁</td></tr><tr><td>validation_loss</td><td>▁</td></tr></table><br/></div><div class=\"wandb-col\"><h3>Run summary:</h3><br/><table class=\"wandb\"><tr><td>epoch/epoch</td><td>12</td></tr><tr><td>epoch/learning_rate</td><td>0.00243</td></tr><tr><td>epoch/loss</td><td>284.93719</td></tr><tr><td>epoch/mae</td><td>11.32045</td></tr><tr><td>epoch/val_loss</td><td>245.99089</td></tr><tr><td>epoch/val_mae</td><td>7.90286</td></tr><tr><td>validation_loss</td><td>245.99071</td></tr></table><br/></div></div>"
      ],
      "text/plain": [
       "<IPython.core.display.HTML object>"
      ]
     },
     "metadata": {},
     "output_type": "display_data"
    },
    {
     "data": {
      "text/html": [
       " View run <strong style=\"color:#cdcd00\">rural-sweep-64</strong> at: <a href='https://wandb.ai/sondre-rogde-ntnu/LSTM_OPTION_PRICING/runs/vsqij74s' target=\"_blank\">https://wandb.ai/sondre-rogde-ntnu/LSTM_OPTION_PRICING/runs/vsqij74s</a><br/> View project at: <a href='https://wandb.ai/sondre-rogde-ntnu/LSTM_OPTION_PRICING' target=\"_blank\">https://wandb.ai/sondre-rogde-ntnu/LSTM_OPTION_PRICING</a><br/>Synced 5 W&B file(s), 0 media file(s), 0 artifact file(s) and 0 other file(s)"
      ],
      "text/plain": [
       "<IPython.core.display.HTML object>"
      ]
     },
     "metadata": {},
     "output_type": "display_data"
    },
    {
     "data": {
      "text/html": [
       "Find logs at: <code>./wandb/run-20240924_030747-vsqij74s/logs</code>"
      ],
      "text/plain": [
       "<IPython.core.display.HTML object>"
      ]
     },
     "metadata": {},
     "output_type": "display_data"
    },
    {
     "data": {
      "text/html": [
       "wandb version 0.18.1 is available!  To upgrade, please run:\n",
       " $ pip install wandb --upgrade"
      ],
      "text/plain": [
       "<IPython.core.display.HTML object>"
      ]
     },
     "metadata": {},
     "output_type": "display_data"
    },
    {
     "data": {
      "text/html": [
       "The new W&B backend becomes opt-out in version 0.18.0; try it out with `wandb.require(\"core\")`! See https://wandb.me/wandb-core for more information."
      ],
      "text/plain": [
       "<IPython.core.display.HTML object>"
      ]
     },
     "metadata": {},
     "output_type": "display_data"
    },
    {
     "name": "stderr",
     "output_type": "stream",
     "text": [
      "\u001b[34m\u001b[1mwandb\u001b[0m: Agent Starting Run: u7ja3w37 with config:\n",
      "\u001b[34m\u001b[1mwandb\u001b[0m: \tbn_momentum: 0.21457251329038457\n",
      "\u001b[34m\u001b[1mwandb\u001b[0m: \tlayers: 5\n",
      "\u001b[34m\u001b[1mwandb\u001b[0m: \tlearning_rate: 0.002777919691226798\n",
      "\u001b[34m\u001b[1mwandb\u001b[0m: \tminibatch_size: 4096\n",
      "\u001b[34m\u001b[1mwandb\u001b[0m: \tunits: 96\n",
      "\u001b[34m\u001b[1mwandb\u001b[0m: \tweight_decay: 0.00031295244490043997\n"
     ]
    },
    {
     "data": {
      "text/html": [
       "Tracking run with wandb version 0.17.9"
      ],
      "text/plain": [
       "<IPython.core.display.HTML object>"
      ]
     },
     "metadata": {},
     "output_type": "display_data"
    },
    {
     "data": {
      "text/html": [
       "Run data is saved locally in <code>/Users/sondrerogde/Dev/LSTM-for-option-pricing/Sondre/wandb/run-20240924_031202-u7ja3w37</code>"
      ],
      "text/plain": [
       "<IPython.core.display.HTML object>"
      ]
     },
     "metadata": {},
     "output_type": "display_data"
    },
    {
     "data": {
      "text/html": [
       "Syncing run <strong><a href='https://wandb.ai/sondre-rogde-ntnu/LSTM_OPTION_PRICING/runs/u7ja3w37' target=\"_blank\">morning-sweep-65</a></strong> to <a href='https://wandb.ai/sondre-rogde-ntnu/LSTM_OPTION_PRICING' target=\"_blank\">Weights & Biases</a> (<a href='https://wandb.me/run' target=\"_blank\">docs</a>)<br/>Sweep page: <a href='https://wandb.ai/sondre-rogde-ntnu/LSTM_OPTION_PRICING/sweeps/guuhakot' target=\"_blank\">https://wandb.ai/sondre-rogde-ntnu/LSTM_OPTION_PRICING/sweeps/guuhakot</a>"
      ],
      "text/plain": [
       "<IPython.core.display.HTML object>"
      ]
     },
     "metadata": {},
     "output_type": "display_data"
    },
    {
     "data": {
      "text/html": [
       " View project at <a href='https://wandb.ai/sondre-rogde-ntnu/LSTM_OPTION_PRICING' target=\"_blank\">https://wandb.ai/sondre-rogde-ntnu/LSTM_OPTION_PRICING</a>"
      ],
      "text/plain": [
       "<IPython.core.display.HTML object>"
      ]
     },
     "metadata": {},
     "output_type": "display_data"
    },
    {
     "data": {
      "text/html": [
       " View sweep at <a href='https://wandb.ai/sondre-rogde-ntnu/LSTM_OPTION_PRICING/sweeps/guuhakot' target=\"_blank\">https://wandb.ai/sondre-rogde-ntnu/LSTM_OPTION_PRICING/sweeps/guuhakot</a>"
      ],
      "text/plain": [
       "<IPython.core.display.HTML object>"
      ]
     },
     "metadata": {},
     "output_type": "display_data"
    },
    {
     "data": {
      "text/html": [
       " View run at <a href='https://wandb.ai/sondre-rogde-ntnu/LSTM_OPTION_PRICING/runs/u7ja3w37' target=\"_blank\">https://wandb.ai/sondre-rogde-ntnu/LSTM_OPTION_PRICING/runs/u7ja3w37</a>"
      ],
      "text/plain": [
       "<IPython.core.display.HTML object>"
      ]
     },
     "metadata": {},
     "output_type": "display_data"
    },
    {
     "name": "stdout",
     "output_type": "stream",
     "text": [
      "Epoch 1/300\n"
     ]
    },
    {
     "name": "stderr",
     "output_type": "stream",
     "text": [
      "/Library/Frameworks/Python.framework/Versions/3.12/lib/python3.12/site-packages/keras/src/layers/rnn/rnn.py:204: UserWarning: Do not pass an `input_shape`/`input_dim` argument to a layer. When using Sequential models, prefer using an `Input(shape)` object as the first layer in the model instead.\n",
      "  super().__init__(**kwargs)\n"
     ]
    },
    {
     "name": "stdout",
     "output_type": "stream",
     "text": [
      "\u001b[1m243/243\u001b[0m \u001b[32m━━━━━━━━━━━━━━━━━━━━\u001b[0m\u001b[37m\u001b[0m \u001b[1m64s\u001b[0m 254ms/step - loss: 610505.0625 - mae: 525.9164 - val_loss: 531145.2500 - val_mae: 511.6989\n",
      "Epoch 2/300\n",
      "\u001b[1m243/243\u001b[0m \u001b[32m━━━━━━━━━━━━━━━━━━━━\u001b[0m\u001b[37m\u001b[0m \u001b[1m67s\u001b[0m 275ms/step - loss: 314447.3125 - mae: 386.9168 - val_loss: 132622.2188 - val_mae: 266.9609\n",
      "Epoch 3/300\n",
      "\u001b[1m243/243\u001b[0m \u001b[32m━━━━━━━━━━━━━━━━━━━━\u001b[0m\u001b[37m\u001b[0m \u001b[1m66s\u001b[0m 273ms/step - loss: 54856.9727 - mae: 164.9156 - val_loss: 7433.0474 - val_mae: 56.0605\n",
      "Epoch 4/300\n",
      "\u001b[1m243/243\u001b[0m \u001b[32m━━━━━━━━━━━━━━━━━━━━\u001b[0m\u001b[37m\u001b[0m \u001b[1m67s\u001b[0m 275ms/step - loss: 2491.9683 - mae: 34.7224 - val_loss: 851.7517 - val_mae: 20.4938\n",
      "Epoch 5/300\n",
      "\u001b[1m243/243\u001b[0m \u001b[32m━━━━━━━━━━━━━━━━━━━━\u001b[0m\u001b[37m\u001b[0m \u001b[1m67s\u001b[0m 277ms/step - loss: 335.4465 - mae: 12.7414 - val_loss: 123.3243 - val_mae: 8.2493\n",
      "Epoch 6/300\n",
      "\u001b[1m243/243\u001b[0m \u001b[32m━━━━━━━━━━━━━━━━━━━━\u001b[0m\u001b[37m\u001b[0m \u001b[1m66s\u001b[0m 271ms/step - loss: 327.3539 - mae: 12.2997 - val_loss: 358.3759 - val_mae: 13.1733\n",
      "Epoch 7/300\n",
      "\u001b[1m243/243\u001b[0m \u001b[32m━━━━━━━━━━━━━━━━━━━━\u001b[0m\u001b[37m\u001b[0m \u001b[1m67s\u001b[0m 275ms/step - loss: 243.6238 - mae: 10.3534 - val_loss: 125.3405 - val_mae: 8.6585\n",
      "Epoch 8/300\n",
      "\u001b[1m243/243\u001b[0m \u001b[32m━━━━━━━━━━━━━━━━━━━━\u001b[0m\u001b[37m\u001b[0m \u001b[1m67s\u001b[0m 276ms/step - loss: 265.6891 - mae: 11.0082 - val_loss: 39.3521 - val_mae: 4.3149\n",
      "Epoch 9/300\n",
      "\u001b[1m243/243\u001b[0m \u001b[32m━━━━━━━━━━━━━━━━━━━━\u001b[0m\u001b[37m\u001b[0m \u001b[1m66s\u001b[0m 272ms/step - loss: 307.6218 - mae: 11.9644 - val_loss: 351.3226 - val_mae: 13.4237\n",
      "Epoch 10/300\n",
      "\u001b[1m243/243\u001b[0m \u001b[32m━━━━━━━━━━━━━━━━━━━━\u001b[0m\u001b[37m\u001b[0m \u001b[1m66s\u001b[0m 271ms/step - loss: 247.7492 - mae: 10.7213 - val_loss: 371.2480 - val_mae: 16.2995\n",
      "Epoch 11/300\n",
      "\u001b[1m243/243\u001b[0m \u001b[32m━━━━━━━━━━━━━━━━━━━━\u001b[0m\u001b[37m\u001b[0m \u001b[1m66s\u001b[0m 272ms/step - loss: 266.9415 - mae: 11.0316 - val_loss: 1039.0002 - val_mae: 29.6524\n",
      "Epoch 12/300\n",
      "\u001b[1m243/243\u001b[0m \u001b[32m━━━━━━━━━━━━━━━━━━━━\u001b[0m\u001b[37m\u001b[0m \u001b[1m66s\u001b[0m 271ms/step - loss: 272.2376 - mae: 11.1187 - val_loss: 1437.3868 - val_mae: 32.9700\n",
      "Epoch 13/300\n",
      "\u001b[1m243/243\u001b[0m \u001b[32m━━━━━━━━━━━━━━━━━━━━\u001b[0m\u001b[37m\u001b[0m \u001b[1m66s\u001b[0m 273ms/step - loss: 253.6544 - mae: 10.6059 - val_loss: 977.0712 - val_mae: 26.1602\n",
      "\u001b[1m3888/3888\u001b[0m \u001b[32m━━━━━━━━━━━━━━━━━━━━\u001b[0m\u001b[37m\u001b[0m \u001b[1m8s\u001b[0m 2ms/step - loss: 1119.7019 - mae: 28.6609\n"
     ]
    },
    {
     "data": {
      "text/html": [
       "<style>\n",
       "    table.wandb td:nth-child(1) { padding: 0 10px; text-align: left ; width: auto;} td:nth-child(2) {text-align: left ; width: 100%}\n",
       "    .wandb-row { display: flex; flex-direction: row; flex-wrap: wrap; justify-content: flex-start; width: 100% }\n",
       "    .wandb-col { display: flex; flex-direction: column; flex-basis: 100%; flex: 1; padding: 10px; }\n",
       "    </style>\n",
       "<div class=\"wandb-row\"><div class=\"wandb-col\"><h3>Run history:</h3><br/><table class=\"wandb\"><tr><td>epoch/epoch</td><td>▁▂▂▃▃▄▅▅▆▆▇▇█</td></tr><tr><td>epoch/learning_rate</td><td>▁▁▁▁▁▁▁▁▁▁▁▁▁</td></tr><tr><td>epoch/loss</td><td>█▄▁▁▁▁▁▁▁▁▁▁▁</td></tr><tr><td>epoch/mae</td><td>█▆▃▁▁▁▁▁▁▁▁▁▁</td></tr><tr><td>epoch/val_loss</td><td>█▃▁▁▁▁▁▁▁▁▁▁▁</td></tr><tr><td>epoch/val_mae</td><td>█▅▂▁▁▁▁▁▁▁▁▁▁</td></tr><tr><td>validation_loss</td><td>▁</td></tr></table><br/></div><div class=\"wandb-col\"><h3>Run summary:</h3><br/><table class=\"wandb\"><tr><td>epoch/epoch</td><td>12</td></tr><tr><td>epoch/learning_rate</td><td>0.00278</td></tr><tr><td>epoch/loss</td><td>237.91075</td></tr><tr><td>epoch/mae</td><td>10.40708</td></tr><tr><td>epoch/val_loss</td><td>977.07123</td></tr><tr><td>epoch/val_mae</td><td>26.16025</td></tr><tr><td>validation_loss</td><td>977.07184</td></tr></table><br/></div></div>"
      ],
      "text/plain": [
       "<IPython.core.display.HTML object>"
      ]
     },
     "metadata": {},
     "output_type": "display_data"
    },
    {
     "data": {
      "text/html": [
       " View run <strong style=\"color:#cdcd00\">morning-sweep-65</strong> at: <a href='https://wandb.ai/sondre-rogde-ntnu/LSTM_OPTION_PRICING/runs/u7ja3w37' target=\"_blank\">https://wandb.ai/sondre-rogde-ntnu/LSTM_OPTION_PRICING/runs/u7ja3w37</a><br/> View project at: <a href='https://wandb.ai/sondre-rogde-ntnu/LSTM_OPTION_PRICING' target=\"_blank\">https://wandb.ai/sondre-rogde-ntnu/LSTM_OPTION_PRICING</a><br/>Synced 5 W&B file(s), 0 media file(s), 0 artifact file(s) and 0 other file(s)"
      ],
      "text/plain": [
       "<IPython.core.display.HTML object>"
      ]
     },
     "metadata": {},
     "output_type": "display_data"
    },
    {
     "data": {
      "text/html": [
       "Find logs at: <code>./wandb/run-20240924_031202-u7ja3w37/logs</code>"
      ],
      "text/plain": [
       "<IPython.core.display.HTML object>"
      ]
     },
     "metadata": {},
     "output_type": "display_data"
    },
    {
     "data": {
      "text/html": [
       "wandb version 0.18.1 is available!  To upgrade, please run:\n",
       " $ pip install wandb --upgrade"
      ],
      "text/plain": [
       "<IPython.core.display.HTML object>"
      ]
     },
     "metadata": {},
     "output_type": "display_data"
    },
    {
     "data": {
      "text/html": [
       "The new W&B backend becomes opt-out in version 0.18.0; try it out with `wandb.require(\"core\")`! See https://wandb.me/wandb-core for more information."
      ],
      "text/plain": [
       "<IPython.core.display.HTML object>"
      ]
     },
     "metadata": {},
     "output_type": "display_data"
    },
    {
     "name": "stderr",
     "output_type": "stream",
     "text": [
      "\u001b[34m\u001b[1mwandb\u001b[0m: Agent Starting Run: 4ennl1mu with config:\n",
      "\u001b[34m\u001b[1mwandb\u001b[0m: \tbn_momentum: 0.20051396478874295\n",
      "\u001b[34m\u001b[1mwandb\u001b[0m: \tlayers: 5\n",
      "\u001b[34m\u001b[1mwandb\u001b[0m: \tlearning_rate: 0.002019444829193497\n",
      "\u001b[34m\u001b[1mwandb\u001b[0m: \tminibatch_size: 4096\n",
      "\u001b[34m\u001b[1mwandb\u001b[0m: \tunits: 64\n",
      "\u001b[34m\u001b[1mwandb\u001b[0m: \tweight_decay: 0.00038485709705656743\n"
     ]
    },
    {
     "data": {
      "text/html": [
       "Tracking run with wandb version 0.17.9"
      ],
      "text/plain": [
       "<IPython.core.display.HTML object>"
      ]
     },
     "metadata": {},
     "output_type": "display_data"
    },
    {
     "data": {
      "text/html": [
       "Run data is saved locally in <code>/Users/sondrerogde/Dev/LSTM-for-option-pricing/Sondre/wandb/run-20240924_032643-4ennl1mu</code>"
      ],
      "text/plain": [
       "<IPython.core.display.HTML object>"
      ]
     },
     "metadata": {},
     "output_type": "display_data"
    },
    {
     "data": {
      "text/html": [
       "Syncing run <strong><a href='https://wandb.ai/sondre-rogde-ntnu/LSTM_OPTION_PRICING/runs/4ennl1mu' target=\"_blank\">distinctive-sweep-66</a></strong> to <a href='https://wandb.ai/sondre-rogde-ntnu/LSTM_OPTION_PRICING' target=\"_blank\">Weights & Biases</a> (<a href='https://wandb.me/run' target=\"_blank\">docs</a>)<br/>Sweep page: <a href='https://wandb.ai/sondre-rogde-ntnu/LSTM_OPTION_PRICING/sweeps/guuhakot' target=\"_blank\">https://wandb.ai/sondre-rogde-ntnu/LSTM_OPTION_PRICING/sweeps/guuhakot</a>"
      ],
      "text/plain": [
       "<IPython.core.display.HTML object>"
      ]
     },
     "metadata": {},
     "output_type": "display_data"
    },
    {
     "data": {
      "text/html": [
       " View project at <a href='https://wandb.ai/sondre-rogde-ntnu/LSTM_OPTION_PRICING' target=\"_blank\">https://wandb.ai/sondre-rogde-ntnu/LSTM_OPTION_PRICING</a>"
      ],
      "text/plain": [
       "<IPython.core.display.HTML object>"
      ]
     },
     "metadata": {},
     "output_type": "display_data"
    },
    {
     "data": {
      "text/html": [
       " View sweep at <a href='https://wandb.ai/sondre-rogde-ntnu/LSTM_OPTION_PRICING/sweeps/guuhakot' target=\"_blank\">https://wandb.ai/sondre-rogde-ntnu/LSTM_OPTION_PRICING/sweeps/guuhakot</a>"
      ],
      "text/plain": [
       "<IPython.core.display.HTML object>"
      ]
     },
     "metadata": {},
     "output_type": "display_data"
    },
    {
     "data": {
      "text/html": [
       " View run at <a href='https://wandb.ai/sondre-rogde-ntnu/LSTM_OPTION_PRICING/runs/4ennl1mu' target=\"_blank\">https://wandb.ai/sondre-rogde-ntnu/LSTM_OPTION_PRICING/runs/4ennl1mu</a>"
      ],
      "text/plain": [
       "<IPython.core.display.HTML object>"
      ]
     },
     "metadata": {},
     "output_type": "display_data"
    },
    {
     "name": "stdout",
     "output_type": "stream",
     "text": [
      "Epoch 1/300\n"
     ]
    },
    {
     "name": "stderr",
     "output_type": "stream",
     "text": [
      "/Library/Frameworks/Python.framework/Versions/3.12/lib/python3.12/site-packages/keras/src/layers/rnn/rnn.py:204: UserWarning: Do not pass an `input_shape`/`input_dim` argument to a layer. When using Sequential models, prefer using an `Input(shape)` object as the first layer in the model instead.\n",
      "  super().__init__(**kwargs)\n"
     ]
    },
    {
     "name": "stdout",
     "output_type": "stream",
     "text": [
      "\u001b[1m243/243\u001b[0m \u001b[32m━━━━━━━━━━━━━━━━━━━━\u001b[0m\u001b[37m\u001b[0m \u001b[1m38s\u001b[0m 147ms/step - loss: 636977.7500 - mae: 535.7900 - val_loss: 724732.8125 - val_mae: 584.6700\n",
      "Epoch 2/300\n",
      "\u001b[1m243/243\u001b[0m \u001b[32m━━━━━━━━━━━━━━━━━━━━\u001b[0m\u001b[37m\u001b[0m \u001b[1m41s\u001b[0m 170ms/step - loss: 495758.7812 - mae: 479.0356 - val_loss: 438816.4375 - val_mae: 461.0920\n",
      "Epoch 3/300\n",
      "\u001b[1m243/243\u001b[0m \u001b[32m━━━━━━━━━━━━━━━━━━━━\u001b[0m\u001b[37m\u001b[0m \u001b[1m39s\u001b[0m 162ms/step - loss: 287124.9375 - mae: 370.3480 - val_loss: 198364.6875 - val_mae: 318.5303\n",
      "Epoch 4/300\n",
      "\u001b[1m243/243\u001b[0m \u001b[32m━━━━━━━━━━━━━━━━━━━━\u001b[0m\u001b[37m\u001b[0m \u001b[1m39s\u001b[0m 159ms/step - loss: 112783.7578 - mae: 235.5631 - val_loss: 52462.8711 - val_mae: 170.4132\n",
      "Epoch 5/300\n",
      "\u001b[1m243/243\u001b[0m \u001b[32m━━━━━━━━━━━━━━━━━━━━\u001b[0m\u001b[37m\u001b[0m \u001b[1m39s\u001b[0m 160ms/step - loss: 26531.1035 - mae: 116.0043 - val_loss: 7371.2998 - val_mae: 67.4536\n",
      "Epoch 6/300\n",
      "\u001b[1m243/243\u001b[0m \u001b[32m━━━━━━━━━━━━━━━━━━━━\u001b[0m\u001b[37m\u001b[0m \u001b[1m39s\u001b[0m 162ms/step - loss: 3789.4648 - mae: 43.4573 - val_loss: 1288.1134 - val_mae: 30.6085\n",
      "Epoch 7/300\n",
      "\u001b[1m243/243\u001b[0m \u001b[32m━━━━━━━━━━━━━━━━━━━━\u001b[0m\u001b[37m\u001b[0m \u001b[1m39s\u001b[0m 161ms/step - loss: 552.5941 - mae: 15.9588 - val_loss: 1423.3337 - val_mae: 32.9787\n",
      "Epoch 8/300\n",
      "\u001b[1m243/243\u001b[0m \u001b[32m━━━━━━━━━━━━━━━━━━━━\u001b[0m\u001b[37m\u001b[0m \u001b[1m40s\u001b[0m 163ms/step - loss: 271.1659 - mae: 11.6031 - val_loss: 244.7567 - val_mae: 11.0236\n",
      "Epoch 9/300\n",
      "\u001b[1m243/243\u001b[0m \u001b[32m━━━━━━━━━━━━━━━━━━━━\u001b[0m\u001b[37m\u001b[0m \u001b[1m40s\u001b[0m 164ms/step - loss: 304.8273 - mae: 11.6454 - val_loss: 1614.4192 - val_mae: 36.0531\n",
      "Epoch 10/300\n",
      "\u001b[1m243/243\u001b[0m \u001b[32m━━━━━━━━━━━━━━━━━━━━\u001b[0m\u001b[37m\u001b[0m \u001b[1m39s\u001b[0m 162ms/step - loss: 257.2628 - mae: 10.7463 - val_loss: 324.5067 - val_mae: 14.7250\n",
      "Epoch 11/300\n",
      "\u001b[1m243/243\u001b[0m \u001b[32m━━━━━━━━━━━━━━━━━━━━\u001b[0m\u001b[37m\u001b[0m \u001b[1m39s\u001b[0m 162ms/step - loss: 292.0353 - mae: 11.4376 - val_loss: 907.6028 - val_mae: 26.2342\n",
      "Epoch 12/300\n",
      "\u001b[1m243/243\u001b[0m \u001b[32m━━━━━━━━━━━━━━━━━━━━\u001b[0m\u001b[37m\u001b[0m \u001b[1m40s\u001b[0m 164ms/step - loss: 286.2996 - mae: 11.5938 - val_loss: 836.5307 - val_mae: 25.6776\n",
      "Epoch 13/300\n",
      "\u001b[1m243/243\u001b[0m \u001b[32m━━━━━━━━━━━━━━━━━━━━\u001b[0m\u001b[37m\u001b[0m \u001b[1m39s\u001b[0m 161ms/step - loss: 274.8478 - mae: 11.4497 - val_loss: 102.4012 - val_mae: 8.1936\n",
      "Epoch 14/300\n",
      "\u001b[1m243/243\u001b[0m \u001b[32m━━━━━━━━━━━━━━━━━━━━\u001b[0m\u001b[37m\u001b[0m \u001b[1m40s\u001b[0m 163ms/step - loss: 287.9708 - mae: 11.3178 - val_loss: 724.8293 - val_mae: 24.0601\n",
      "Epoch 15/300\n",
      "\u001b[1m243/243\u001b[0m \u001b[32m━━━━━━━━━━━━━━━━━━━━\u001b[0m\u001b[37m\u001b[0m \u001b[1m39s\u001b[0m 161ms/step - loss: 245.2109 - mae: 10.3426 - val_loss: 165.0649 - val_mae: 10.0642\n",
      "Epoch 16/300\n",
      "\u001b[1m243/243\u001b[0m \u001b[32m━━━━━━━━━━━━━━━━━━━━\u001b[0m\u001b[37m\u001b[0m \u001b[1m40s\u001b[0m 163ms/step - loss: 273.9669 - mae: 11.0482 - val_loss: 2142.5085 - val_mae: 41.7395\n",
      "Epoch 17/300\n",
      "\u001b[1m243/243\u001b[0m \u001b[32m━━━━━━━━━━━━━━━━━━━━\u001b[0m\u001b[37m\u001b[0m \u001b[1m40s\u001b[0m 163ms/step - loss: 314.8341 - mae: 11.7167 - val_loss: 338.0197 - val_mae: 14.6988\n",
      "Epoch 18/300\n",
      "\u001b[1m243/243\u001b[0m \u001b[32m━━━━━━━━━━━━━━━━━━━━\u001b[0m\u001b[37m\u001b[0m \u001b[1m40s\u001b[0m 164ms/step - loss: 241.2490 - mae: 10.6979 - val_loss: 117.1113 - val_mae: 8.2407\n",
      "\u001b[1m3888/3888\u001b[0m \u001b[32m━━━━━━━━━━━━━━━━━━━━\u001b[0m\u001b[37m\u001b[0m \u001b[1m5s\u001b[0m 1ms/step - loss: 139.1834 - mae: 9.7520\n"
     ]
    },
    {
     "data": {
      "text/html": [
       "<style>\n",
       "    table.wandb td:nth-child(1) { padding: 0 10px; text-align: left ; width: auto;} td:nth-child(2) {text-align: left ; width: 100%}\n",
       "    .wandb-row { display: flex; flex-direction: row; flex-wrap: wrap; justify-content: flex-start; width: 100% }\n",
       "    .wandb-col { display: flex; flex-direction: column; flex-basis: 100%; flex: 1; padding: 10px; }\n",
       "    </style>\n",
       "<div class=\"wandb-row\"><div class=\"wandb-col\"><h3>Run history:</h3><br/><table class=\"wandb\"><tr><td>epoch/epoch</td><td>▁▁▂▂▃▃▃▄▄▅▅▆▆▆▇▇██</td></tr><tr><td>epoch/learning_rate</td><td>▁▁▁▁▁▁▁▁▁▁▁▁▁▁▁▁▁▁</td></tr><tr><td>epoch/loss</td><td>█▆▄▂▁▁▁▁▁▁▁▁▁▁▁▁▁▁</td></tr><tr><td>epoch/mae</td><td>█▇▅▄▂▁▁▁▁▁▁▁▁▁▁▁▁▁</td></tr><tr><td>epoch/val_loss</td><td>█▅▃▂▁▁▁▁▁▁▁▁▁▁▁▁▁▁</td></tr><tr><td>epoch/val_mae</td><td>█▆▅▃▂▁▁▁▁▁▁▁▁▁▁▁▁▁</td></tr><tr><td>validation_loss</td><td>▁</td></tr></table><br/></div><div class=\"wandb-col\"><h3>Run summary:</h3><br/><table class=\"wandb\"><tr><td>epoch/epoch</td><td>17</td></tr><tr><td>epoch/learning_rate</td><td>0.00202</td></tr><tr><td>epoch/loss</td><td>255.47368</td></tr><tr><td>epoch/mae</td><td>10.91266</td></tr><tr><td>epoch/val_loss</td><td>117.11131</td></tr><tr><td>epoch/val_mae</td><td>8.24072</td></tr><tr><td>validation_loss</td><td>117.11107</td></tr></table><br/></div></div>"
      ],
      "text/plain": [
       "<IPython.core.display.HTML object>"
      ]
     },
     "metadata": {},
     "output_type": "display_data"
    },
    {
     "data": {
      "text/html": [
       " View run <strong style=\"color:#cdcd00\">distinctive-sweep-66</strong> at: <a href='https://wandb.ai/sondre-rogde-ntnu/LSTM_OPTION_PRICING/runs/4ennl1mu' target=\"_blank\">https://wandb.ai/sondre-rogde-ntnu/LSTM_OPTION_PRICING/runs/4ennl1mu</a><br/> View project at: <a href='https://wandb.ai/sondre-rogde-ntnu/LSTM_OPTION_PRICING' target=\"_blank\">https://wandb.ai/sondre-rogde-ntnu/LSTM_OPTION_PRICING</a><br/>Synced 5 W&B file(s), 0 media file(s), 0 artifact file(s) and 0 other file(s)"
      ],
      "text/plain": [
       "<IPython.core.display.HTML object>"
      ]
     },
     "metadata": {},
     "output_type": "display_data"
    },
    {
     "data": {
      "text/html": [
       "Find logs at: <code>./wandb/run-20240924_032643-4ennl1mu/logs</code>"
      ],
      "text/plain": [
       "<IPython.core.display.HTML object>"
      ]
     },
     "metadata": {},
     "output_type": "display_data"
    },
    {
     "data": {
      "text/html": [
       "wandb version 0.18.1 is available!  To upgrade, please run:\n",
       " $ pip install wandb --upgrade"
      ],
      "text/plain": [
       "<IPython.core.display.HTML object>"
      ]
     },
     "metadata": {},
     "output_type": "display_data"
    },
    {
     "data": {
      "text/html": [
       "The new W&B backend becomes opt-out in version 0.18.0; try it out with `wandb.require(\"core\")`! See https://wandb.me/wandb-core for more information."
      ],
      "text/plain": [
       "<IPython.core.display.HTML object>"
      ]
     },
     "metadata": {},
     "output_type": "display_data"
    },
    {
     "name": "stderr",
     "output_type": "stream",
     "text": [
      "\u001b[34m\u001b[1mwandb\u001b[0m: Agent Starting Run: r67y91x9 with config:\n",
      "\u001b[34m\u001b[1mwandb\u001b[0m: \tbn_momentum: 0.2266762893432752\n",
      "\u001b[34m\u001b[1mwandb\u001b[0m: \tlayers: 5\n",
      "\u001b[34m\u001b[1mwandb\u001b[0m: \tlearning_rate: 0.0029493426456555344\n",
      "\u001b[34m\u001b[1mwandb\u001b[0m: \tminibatch_size: 4096\n",
      "\u001b[34m\u001b[1mwandb\u001b[0m: \tunits: 64\n",
      "\u001b[34m\u001b[1mwandb\u001b[0m: \tweight_decay: 0.0003948066806901563\n"
     ]
    },
    {
     "data": {
      "text/html": [
       "Tracking run with wandb version 0.17.9"
      ],
      "text/plain": [
       "<IPython.core.display.HTML object>"
      ]
     },
     "metadata": {},
     "output_type": "display_data"
    },
    {
     "data": {
      "text/html": [
       "Run data is saved locally in <code>/Users/sondrerogde/Dev/LSTM-for-option-pricing/Sondre/wandb/run-20240924_033849-r67y91x9</code>"
      ],
      "text/plain": [
       "<IPython.core.display.HTML object>"
      ]
     },
     "metadata": {},
     "output_type": "display_data"
    },
    {
     "data": {
      "text/html": [
       "Syncing run <strong><a href='https://wandb.ai/sondre-rogde-ntnu/LSTM_OPTION_PRICING/runs/r67y91x9' target=\"_blank\">electric-sweep-67</a></strong> to <a href='https://wandb.ai/sondre-rogde-ntnu/LSTM_OPTION_PRICING' target=\"_blank\">Weights & Biases</a> (<a href='https://wandb.me/run' target=\"_blank\">docs</a>)<br/>Sweep page: <a href='https://wandb.ai/sondre-rogde-ntnu/LSTM_OPTION_PRICING/sweeps/guuhakot' target=\"_blank\">https://wandb.ai/sondre-rogde-ntnu/LSTM_OPTION_PRICING/sweeps/guuhakot</a>"
      ],
      "text/plain": [
       "<IPython.core.display.HTML object>"
      ]
     },
     "metadata": {},
     "output_type": "display_data"
    },
    {
     "data": {
      "text/html": [
       " View project at <a href='https://wandb.ai/sondre-rogde-ntnu/LSTM_OPTION_PRICING' target=\"_blank\">https://wandb.ai/sondre-rogde-ntnu/LSTM_OPTION_PRICING</a>"
      ],
      "text/plain": [
       "<IPython.core.display.HTML object>"
      ]
     },
     "metadata": {},
     "output_type": "display_data"
    },
    {
     "data": {
      "text/html": [
       " View sweep at <a href='https://wandb.ai/sondre-rogde-ntnu/LSTM_OPTION_PRICING/sweeps/guuhakot' target=\"_blank\">https://wandb.ai/sondre-rogde-ntnu/LSTM_OPTION_PRICING/sweeps/guuhakot</a>"
      ],
      "text/plain": [
       "<IPython.core.display.HTML object>"
      ]
     },
     "metadata": {},
     "output_type": "display_data"
    },
    {
     "data": {
      "text/html": [
       " View run at <a href='https://wandb.ai/sondre-rogde-ntnu/LSTM_OPTION_PRICING/runs/r67y91x9' target=\"_blank\">https://wandb.ai/sondre-rogde-ntnu/LSTM_OPTION_PRICING/runs/r67y91x9</a>"
      ],
      "text/plain": [
       "<IPython.core.display.HTML object>"
      ]
     },
     "metadata": {},
     "output_type": "display_data"
    },
    {
     "name": "stdout",
     "output_type": "stream",
     "text": [
      "Epoch 1/300\n"
     ]
    },
    {
     "name": "stderr",
     "output_type": "stream",
     "text": [
      "/Library/Frameworks/Python.framework/Versions/3.12/lib/python3.12/site-packages/keras/src/layers/rnn/rnn.py:204: UserWarning: Do not pass an `input_shape`/`input_dim` argument to a layer. When using Sequential models, prefer using an `Input(shape)` object as the first layer in the model instead.\n",
      "  super().__init__(**kwargs)\n"
     ]
    },
    {
     "name": "stdout",
     "output_type": "stream",
     "text": [
      "\u001b[1m243/243\u001b[0m \u001b[32m━━━━━━━━━━━━━━━━━━━━\u001b[0m\u001b[37m\u001b[0m \u001b[1m39s\u001b[0m 148ms/step - loss: 623644.6875 - mae: 530.2422 - val_loss: 606858.2500 - val_mae: 540.9473\n",
      "Epoch 2/300\n",
      "\u001b[1m243/243\u001b[0m \u001b[32m━━━━━━━━━━━━━━━━━━━━\u001b[0m\u001b[37m\u001b[0m \u001b[1m39s\u001b[0m 162ms/step - loss: 380660.5938 - mae: 422.5362 - val_loss: 185780.0000 - val_mae: 304.3196\n",
      "Epoch 3/300\n",
      "\u001b[1m243/243\u001b[0m \u001b[32m━━━━━━━━━━━━━━━━━━━━\u001b[0m\u001b[37m\u001b[0m \u001b[1m39s\u001b[0m 162ms/step - loss: 109692.2500 - mae: 230.0182 - val_loss: 28741.4883 - val_mae: 132.7523\n",
      "Epoch 4/300\n",
      "\u001b[1m243/243\u001b[0m \u001b[32m━━━━━━━━━━━━━━━━━━━━\u001b[0m\u001b[37m\u001b[0m \u001b[1m40s\u001b[0m 163ms/step - loss: 10919.9795 - mae: 72.9501 - val_loss: 1440.0541 - val_mae: 28.5695\n",
      "Epoch 5/300\n",
      "\u001b[1m243/243\u001b[0m \u001b[32m━━━━━━━━━━━━━━━━━━━━\u001b[0m\u001b[37m\u001b[0m \u001b[1m39s\u001b[0m 162ms/step - loss: 607.5709 - mae: 16.8429 - val_loss: 261.5987 - val_mae: 13.4915\n",
      "Epoch 6/300\n",
      "\u001b[1m243/243\u001b[0m \u001b[32m━━━━━━━━━━━━━━━━━━━━\u001b[0m\u001b[37m\u001b[0m \u001b[1m39s\u001b[0m 160ms/step - loss: 320.7867 - mae: 12.0670 - val_loss: 75.1689 - val_mae: 6.1720\n",
      "Epoch 7/300\n",
      "\u001b[1m243/243\u001b[0m \u001b[32m━━━━━━━━━━━━━━━━━━━━\u001b[0m\u001b[37m\u001b[0m \u001b[1m39s\u001b[0m 162ms/step - loss: 310.0233 - mae: 11.4246 - val_loss: 87.6677 - val_mae: 6.9702\n",
      "Epoch 8/300\n",
      "\u001b[1m243/243\u001b[0m \u001b[32m━━━━━━━━━━━━━━━━━━━━\u001b[0m\u001b[37m\u001b[0m \u001b[1m39s\u001b[0m 160ms/step - loss: 261.3551 - mae: 10.8226 - val_loss: 449.8650 - val_mae: 17.0263\n",
      "Epoch 9/300\n",
      "\u001b[1m243/243\u001b[0m \u001b[32m━━━━━━━━━━━━━━━━━━━━\u001b[0m\u001b[37m\u001b[0m \u001b[1m39s\u001b[0m 159ms/step - loss: 247.0124 - mae: 10.6088 - val_loss: 58.3694 - val_mae: 4.8924\n",
      "Epoch 10/300\n",
      "\u001b[1m243/243\u001b[0m \u001b[32m━━━━━━━━━━━━━━━━━━━━\u001b[0m\u001b[37m\u001b[0m \u001b[1m39s\u001b[0m 160ms/step - loss: 329.8681 - mae: 12.0951 - val_loss: 911.9692 - val_mae: 25.3792\n",
      "Epoch 11/300\n",
      "\u001b[1m243/243\u001b[0m \u001b[32m━━━━━━━━━━━━━━━━━━━━\u001b[0m\u001b[37m\u001b[0m \u001b[1m39s\u001b[0m 161ms/step - loss: 282.1713 - mae: 11.2676 - val_loss: 1817.8752 - val_mae: 35.3388\n",
      "Epoch 12/300\n",
      "\u001b[1m243/243\u001b[0m \u001b[32m━━━━━━━━━━━━━━━━━━━━\u001b[0m\u001b[37m\u001b[0m \u001b[1m41s\u001b[0m 167ms/step - loss: 310.0162 - mae: 11.8841 - val_loss: 222.4921 - val_mae: 12.0191\n",
      "Epoch 13/300\n",
      "\u001b[1m243/243\u001b[0m \u001b[32m━━━━━━━━━━━━━━━━━━━━\u001b[0m\u001b[37m\u001b[0m \u001b[1m40s\u001b[0m 163ms/step - loss: 300.7542 - mae: 11.5926 - val_loss: 363.2311 - val_mae: 16.5038\n",
      "Epoch 14/300\n",
      "\u001b[1m243/243\u001b[0m \u001b[32m━━━━━━━━━━━━━━━━━━━━\u001b[0m\u001b[37m\u001b[0m \u001b[1m39s\u001b[0m 160ms/step - loss: 258.7171 - mae: 10.7158 - val_loss: 3712.6387 - val_mae: 55.9543\n",
      "\u001b[1m3888/3888\u001b[0m \u001b[32m━━━━━━━━━━━━━━━━━━━━\u001b[0m\u001b[37m\u001b[0m \u001b[1m5s\u001b[0m 1ms/step - loss: 3519.0298 - mae: 54.7014\n"
     ]
    },
    {
     "data": {
      "text/html": [
       "<style>\n",
       "    table.wandb td:nth-child(1) { padding: 0 10px; text-align: left ; width: auto;} td:nth-child(2) {text-align: left ; width: 100%}\n",
       "    .wandb-row { display: flex; flex-direction: row; flex-wrap: wrap; justify-content: flex-start; width: 100% }\n",
       "    .wandb-col { display: flex; flex-direction: column; flex-basis: 100%; flex: 1; padding: 10px; }\n",
       "    </style>\n",
       "<div class=\"wandb-row\"><div class=\"wandb-col\"><h3>Run history:</h3><br/><table class=\"wandb\"><tr><td>epoch/epoch</td><td>▁▂▂▃▃▄▄▅▅▆▆▇▇█</td></tr><tr><td>epoch/learning_rate</td><td>▁▁▁▁▁▁▁▁▁▁▁▁▁▁</td></tr><tr><td>epoch/loss</td><td>█▅▂▁▁▁▁▁▁▁▁▁▁▁</td></tr><tr><td>epoch/mae</td><td>█▆▃▂▁▁▁▁▁▁▁▁▁▁</td></tr><tr><td>epoch/val_loss</td><td>█▃▁▁▁▁▁▁▁▁▁▁▁▁</td></tr><tr><td>epoch/val_mae</td><td>█▅▃▁▁▁▁▁▁▁▁▁▁▂</td></tr><tr><td>validation_loss</td><td>▁</td></tr></table><br/></div><div class=\"wandb-col\"><h3>Run summary:</h3><br/><table class=\"wandb\"><tr><td>epoch/epoch</td><td>13</td></tr><tr><td>epoch/learning_rate</td><td>0.00295</td></tr><tr><td>epoch/loss</td><td>266.7514</td></tr><tr><td>epoch/mae</td><td>10.83099</td></tr><tr><td>epoch/val_loss</td><td>3712.63867</td></tr><tr><td>epoch/val_mae</td><td>55.95428</td></tr><tr><td>validation_loss</td><td>3712.64209</td></tr></table><br/></div></div>"
      ],
      "text/plain": [
       "<IPython.core.display.HTML object>"
      ]
     },
     "metadata": {},
     "output_type": "display_data"
    },
    {
     "data": {
      "text/html": [
       " View run <strong style=\"color:#cdcd00\">electric-sweep-67</strong> at: <a href='https://wandb.ai/sondre-rogde-ntnu/LSTM_OPTION_PRICING/runs/r67y91x9' target=\"_blank\">https://wandb.ai/sondre-rogde-ntnu/LSTM_OPTION_PRICING/runs/r67y91x9</a><br/> View project at: <a href='https://wandb.ai/sondre-rogde-ntnu/LSTM_OPTION_PRICING' target=\"_blank\">https://wandb.ai/sondre-rogde-ntnu/LSTM_OPTION_PRICING</a><br/>Synced 5 W&B file(s), 0 media file(s), 0 artifact file(s) and 0 other file(s)"
      ],
      "text/plain": [
       "<IPython.core.display.HTML object>"
      ]
     },
     "metadata": {},
     "output_type": "display_data"
    },
    {
     "data": {
      "text/html": [
       "Find logs at: <code>./wandb/run-20240924_033849-r67y91x9/logs</code>"
      ],
      "text/plain": [
       "<IPython.core.display.HTML object>"
      ]
     },
     "metadata": {},
     "output_type": "display_data"
    },
    {
     "data": {
      "text/html": [
       "wandb version 0.18.1 is available!  To upgrade, please run:\n",
       " $ pip install wandb --upgrade"
      ],
      "text/plain": [
       "<IPython.core.display.HTML object>"
      ]
     },
     "metadata": {},
     "output_type": "display_data"
    },
    {
     "data": {
      "text/html": [
       "The new W&B backend becomes opt-out in version 0.18.0; try it out with `wandb.require(\"core\")`! See https://wandb.me/wandb-core for more information."
      ],
      "text/plain": [
       "<IPython.core.display.HTML object>"
      ]
     },
     "metadata": {},
     "output_type": "display_data"
    },
    {
     "name": "stderr",
     "output_type": "stream",
     "text": [
      "\u001b[34m\u001b[1mwandb\u001b[0m: Agent Starting Run: 7v6wq5fi with config:\n",
      "\u001b[34m\u001b[1mwandb\u001b[0m: \tbn_momentum: 0.18551911617663777\n",
      "\u001b[34m\u001b[1mwandb\u001b[0m: \tlayers: 5\n",
      "\u001b[34m\u001b[1mwandb\u001b[0m: \tlearning_rate: 0.002431091411266163\n",
      "\u001b[34m\u001b[1mwandb\u001b[0m: \tminibatch_size: 1024\n",
      "\u001b[34m\u001b[1mwandb\u001b[0m: \tunits: 96\n",
      "\u001b[34m\u001b[1mwandb\u001b[0m: \tweight_decay: 0.00014535163855555346\n"
     ]
    },
    {
     "data": {
      "text/html": [
       "Tracking run with wandb version 0.17.9"
      ],
      "text/plain": [
       "<IPython.core.display.HTML object>"
      ]
     },
     "metadata": {},
     "output_type": "display_data"
    },
    {
     "data": {
      "text/html": [
       "Run data is saved locally in <code>/Users/sondrerogde/Dev/LSTM-for-option-pricing/Sondre/wandb/run-20240924_034817-7v6wq5fi</code>"
      ],
      "text/plain": [
       "<IPython.core.display.HTML object>"
      ]
     },
     "metadata": {},
     "output_type": "display_data"
    },
    {
     "data": {
      "text/html": [
       "Syncing run <strong><a href='https://wandb.ai/sondre-rogde-ntnu/LSTM_OPTION_PRICING/runs/7v6wq5fi' target=\"_blank\">skilled-sweep-68</a></strong> to <a href='https://wandb.ai/sondre-rogde-ntnu/LSTM_OPTION_PRICING' target=\"_blank\">Weights & Biases</a> (<a href='https://wandb.me/run' target=\"_blank\">docs</a>)<br/>Sweep page: <a href='https://wandb.ai/sondre-rogde-ntnu/LSTM_OPTION_PRICING/sweeps/guuhakot' target=\"_blank\">https://wandb.ai/sondre-rogde-ntnu/LSTM_OPTION_PRICING/sweeps/guuhakot</a>"
      ],
      "text/plain": [
       "<IPython.core.display.HTML object>"
      ]
     },
     "metadata": {},
     "output_type": "display_data"
    },
    {
     "data": {
      "text/html": [
       " View project at <a href='https://wandb.ai/sondre-rogde-ntnu/LSTM_OPTION_PRICING' target=\"_blank\">https://wandb.ai/sondre-rogde-ntnu/LSTM_OPTION_PRICING</a>"
      ],
      "text/plain": [
       "<IPython.core.display.HTML object>"
      ]
     },
     "metadata": {},
     "output_type": "display_data"
    },
    {
     "data": {
      "text/html": [
       " View sweep at <a href='https://wandb.ai/sondre-rogde-ntnu/LSTM_OPTION_PRICING/sweeps/guuhakot' target=\"_blank\">https://wandb.ai/sondre-rogde-ntnu/LSTM_OPTION_PRICING/sweeps/guuhakot</a>"
      ],
      "text/plain": [
       "<IPython.core.display.HTML object>"
      ]
     },
     "metadata": {},
     "output_type": "display_data"
    },
    {
     "data": {
      "text/html": [
       " View run at <a href='https://wandb.ai/sondre-rogde-ntnu/LSTM_OPTION_PRICING/runs/7v6wq5fi' target=\"_blank\">https://wandb.ai/sondre-rogde-ntnu/LSTM_OPTION_PRICING/runs/7v6wq5fi</a>"
      ],
      "text/plain": [
       "<IPython.core.display.HTML object>"
      ]
     },
     "metadata": {},
     "output_type": "display_data"
    },
    {
     "name": "stdout",
     "output_type": "stream",
     "text": [
      "Epoch 1/300\n"
     ]
    },
    {
     "name": "stderr",
     "output_type": "stream",
     "text": [
      "/Library/Frameworks/Python.framework/Versions/3.12/lib/python3.12/site-packages/keras/src/layers/rnn/rnn.py:204: UserWarning: Do not pass an `input_shape`/`input_dim` argument to a layer. When using Sequential models, prefer using an `Input(shape)` object as the first layer in the model instead.\n",
      "  super().__init__(**kwargs)\n"
     ]
    },
    {
     "name": "stdout",
     "output_type": "stream",
     "text": [
      "\u001b[1m972/972\u001b[0m \u001b[32m━━━━━━━━━━━━━━━━━━━━\u001b[0m\u001b[37m\u001b[0m \u001b[1m73s\u001b[0m 71ms/step - loss: 440226.7188 - mae: 430.6412 - val_loss: 2888.2063 - val_mae: 44.0753\n",
      "Epoch 2/300\n",
      "\u001b[1m972/972\u001b[0m \u001b[32m━━━━━━━━━━━━━━━━━━━━\u001b[0m\u001b[37m\u001b[0m \u001b[1m74s\u001b[0m 76ms/step - loss: 1109.5834 - mae: 22.2847 - val_loss: 370.0869 - val_mae: 15.4191\n",
      "Epoch 3/300\n",
      "\u001b[1m972/972\u001b[0m \u001b[32m━━━━━━━━━━━━━━━━━━━━\u001b[0m\u001b[37m\u001b[0m \u001b[1m75s\u001b[0m 78ms/step - loss: 922.9972 - mae: 19.7961 - val_loss: 1286.0481 - val_mae: 31.8872\n",
      "Epoch 4/300\n",
      "\u001b[1m972/972\u001b[0m \u001b[32m━━━━━━━━━━━━━━━━━━━━\u001b[0m\u001b[37m\u001b[0m \u001b[1m75s\u001b[0m 77ms/step - loss: 812.4119 - mae: 19.0809 - val_loss: 9420.5352 - val_mae: 85.3332\n",
      "Epoch 5/300\n",
      "\u001b[1m972/972\u001b[0m \u001b[32m━━━━━━━━━━━━━━━━━━━━\u001b[0m\u001b[37m\u001b[0m \u001b[1m75s\u001b[0m 77ms/step - loss: 844.9044 - mae: 19.6572 - val_loss: 747.2871 - val_mae: 23.2745\n",
      "Epoch 6/300\n",
      "\u001b[1m972/972\u001b[0m \u001b[32m━━━━━━━━━━━━━━━━━━━━\u001b[0m\u001b[37m\u001b[0m \u001b[1m75s\u001b[0m 77ms/step - loss: 901.3973 - mae: 20.0222 - val_loss: 3670.8352 - val_mae: 55.0225\n",
      "Epoch 7/300\n",
      "\u001b[1m972/972\u001b[0m \u001b[32m━━━━━━━━━━━━━━━━━━━━\u001b[0m\u001b[37m\u001b[0m \u001b[1m76s\u001b[0m 78ms/step - loss: 887.1537 - mae: 19.8911 - val_loss: 1922.9847 - val_mae: 39.8065\n",
      "\u001b[1m3888/3888\u001b[0m \u001b[32m━━━━━━━━━━━━━━━━━━━━\u001b[0m\u001b[37m\u001b[0m \u001b[1m8s\u001b[0m 2ms/step - loss: 1776.9747 - mae: 38.6068\n"
     ]
    },
    {
     "data": {
      "text/html": [
       "<style>\n",
       "    table.wandb td:nth-child(1) { padding: 0 10px; text-align: left ; width: auto;} td:nth-child(2) {text-align: left ; width: 100%}\n",
       "    .wandb-row { display: flex; flex-direction: row; flex-wrap: wrap; justify-content: flex-start; width: 100% }\n",
       "    .wandb-col { display: flex; flex-direction: column; flex-basis: 100%; flex: 1; padding: 10px; }\n",
       "    </style>\n",
       "<div class=\"wandb-row\"><div class=\"wandb-col\"><h3>Run history:</h3><br/><table class=\"wandb\"><tr><td>epoch/epoch</td><td>▁▂▃▅▆▇█</td></tr><tr><td>epoch/learning_rate</td><td>▁▁▁▁▁▁▁</td></tr><tr><td>epoch/loss</td><td>█▁▁▁▁▁▁</td></tr><tr><td>epoch/mae</td><td>█▁▁▁▁▁▁</td></tr><tr><td>epoch/val_loss</td><td>▃▁▂█▁▄▂</td></tr><tr><td>epoch/val_mae</td><td>▄▁▃█▂▅▃</td></tr><tr><td>validation_loss</td><td>▁</td></tr></table><br/></div><div class=\"wandb-col\"><h3>Run summary:</h3><br/><table class=\"wandb\"><tr><td>epoch/epoch</td><td>6</td></tr><tr><td>epoch/learning_rate</td><td>0.00243</td></tr><tr><td>epoch/loss</td><td>894.36835</td></tr><tr><td>epoch/mae</td><td>19.70397</td></tr><tr><td>epoch/val_loss</td><td>1922.98474</td></tr><tr><td>epoch/val_mae</td><td>39.8065</td></tr><tr><td>validation_loss</td><td>1922.9834</td></tr></table><br/></div></div>"
      ],
      "text/plain": [
       "<IPython.core.display.HTML object>"
      ]
     },
     "metadata": {},
     "output_type": "display_data"
    },
    {
     "data": {
      "text/html": [
       " View run <strong style=\"color:#cdcd00\">skilled-sweep-68</strong> at: <a href='https://wandb.ai/sondre-rogde-ntnu/LSTM_OPTION_PRICING/runs/7v6wq5fi' target=\"_blank\">https://wandb.ai/sondre-rogde-ntnu/LSTM_OPTION_PRICING/runs/7v6wq5fi</a><br/> View project at: <a href='https://wandb.ai/sondre-rogde-ntnu/LSTM_OPTION_PRICING' target=\"_blank\">https://wandb.ai/sondre-rogde-ntnu/LSTM_OPTION_PRICING</a><br/>Synced 5 W&B file(s), 0 media file(s), 0 artifact file(s) and 0 other file(s)"
      ],
      "text/plain": [
       "<IPython.core.display.HTML object>"
      ]
     },
     "metadata": {},
     "output_type": "display_data"
    },
    {
     "data": {
      "text/html": [
       "Find logs at: <code>./wandb/run-20240924_034817-7v6wq5fi/logs</code>"
      ],
      "text/plain": [
       "<IPython.core.display.HTML object>"
      ]
     },
     "metadata": {},
     "output_type": "display_data"
    },
    {
     "data": {
      "text/html": [
       "wandb version 0.18.1 is available!  To upgrade, please run:\n",
       " $ pip install wandb --upgrade"
      ],
      "text/plain": [
       "<IPython.core.display.HTML object>"
      ]
     },
     "metadata": {},
     "output_type": "display_data"
    },
    {
     "data": {
      "text/html": [
       "The new W&B backend becomes opt-out in version 0.18.0; try it out with `wandb.require(\"core\")`! See https://wandb.me/wandb-core for more information."
      ],
      "text/plain": [
       "<IPython.core.display.HTML object>"
      ]
     },
     "metadata": {},
     "output_type": "display_data"
    },
    {
     "name": "stderr",
     "output_type": "stream",
     "text": [
      "\u001b[34m\u001b[1mwandb\u001b[0m: Agent Starting Run: v91gvp3u with config:\n",
      "\u001b[34m\u001b[1mwandb\u001b[0m: \tbn_momentum: 0.3539588225791279\n",
      "\u001b[34m\u001b[1mwandb\u001b[0m: \tlayers: 5\n",
      "\u001b[34m\u001b[1mwandb\u001b[0m: \tlearning_rate: 0.0032516915536798204\n",
      "\u001b[34m\u001b[1mwandb\u001b[0m: \tminibatch_size: 4096\n",
      "\u001b[34m\u001b[1mwandb\u001b[0m: \tunits: 32\n",
      "\u001b[34m\u001b[1mwandb\u001b[0m: \tweight_decay: 0.0004953503436522215\n"
     ]
    },
    {
     "data": {
      "text/html": [
       "Tracking run with wandb version 0.17.9"
      ],
      "text/plain": [
       "<IPython.core.display.HTML object>"
      ]
     },
     "metadata": {},
     "output_type": "display_data"
    },
    {
     "data": {
      "text/html": [
       "Run data is saved locally in <code>/Users/sondrerogde/Dev/LSTM-for-option-pricing/Sondre/wandb/run-20240924_035723-v91gvp3u</code>"
      ],
      "text/plain": [
       "<IPython.core.display.HTML object>"
      ]
     },
     "metadata": {},
     "output_type": "display_data"
    },
    {
     "data": {
      "text/html": [
       "Syncing run <strong><a href='https://wandb.ai/sondre-rogde-ntnu/LSTM_OPTION_PRICING/runs/v91gvp3u' target=\"_blank\">smart-sweep-69</a></strong> to <a href='https://wandb.ai/sondre-rogde-ntnu/LSTM_OPTION_PRICING' target=\"_blank\">Weights & Biases</a> (<a href='https://wandb.me/run' target=\"_blank\">docs</a>)<br/>Sweep page: <a href='https://wandb.ai/sondre-rogde-ntnu/LSTM_OPTION_PRICING/sweeps/guuhakot' target=\"_blank\">https://wandb.ai/sondre-rogde-ntnu/LSTM_OPTION_PRICING/sweeps/guuhakot</a>"
      ],
      "text/plain": [
       "<IPython.core.display.HTML object>"
      ]
     },
     "metadata": {},
     "output_type": "display_data"
    },
    {
     "data": {
      "text/html": [
       " View project at <a href='https://wandb.ai/sondre-rogde-ntnu/LSTM_OPTION_PRICING' target=\"_blank\">https://wandb.ai/sondre-rogde-ntnu/LSTM_OPTION_PRICING</a>"
      ],
      "text/plain": [
       "<IPython.core.display.HTML object>"
      ]
     },
     "metadata": {},
     "output_type": "display_data"
    },
    {
     "data": {
      "text/html": [
       " View sweep at <a href='https://wandb.ai/sondre-rogde-ntnu/LSTM_OPTION_PRICING/sweeps/guuhakot' target=\"_blank\">https://wandb.ai/sondre-rogde-ntnu/LSTM_OPTION_PRICING/sweeps/guuhakot</a>"
      ],
      "text/plain": [
       "<IPython.core.display.HTML object>"
      ]
     },
     "metadata": {},
     "output_type": "display_data"
    },
    {
     "data": {
      "text/html": [
       " View run at <a href='https://wandb.ai/sondre-rogde-ntnu/LSTM_OPTION_PRICING/runs/v91gvp3u' target=\"_blank\">https://wandb.ai/sondre-rogde-ntnu/LSTM_OPTION_PRICING/runs/v91gvp3u</a>"
      ],
      "text/plain": [
       "<IPython.core.display.HTML object>"
      ]
     },
     "metadata": {},
     "output_type": "display_data"
    },
    {
     "name": "stdout",
     "output_type": "stream",
     "text": [
      "Epoch 1/300\n"
     ]
    },
    {
     "name": "stderr",
     "output_type": "stream",
     "text": [
      "/Library/Frameworks/Python.framework/Versions/3.12/lib/python3.12/site-packages/keras/src/layers/rnn/rnn.py:204: UserWarning: Do not pass an `input_shape`/`input_dim` argument to a layer. When using Sequential models, prefer using an `Input(shape)` object as the first layer in the model instead.\n",
      "  super().__init__(**kwargs)\n"
     ]
    },
    {
     "name": "stdout",
     "output_type": "stream",
     "text": [
      "\u001b[1m243/243\u001b[0m \u001b[32m━━━━━━━━━━━━━━━━━━━━\u001b[0m\u001b[37m\u001b[0m \u001b[1m19s\u001b[0m 68ms/step - loss: 640011.3750 - mae: 536.0886 - val_loss: 717267.6875 - val_mae: 580.9641\n",
      "Epoch 2/300\n",
      "\u001b[1m243/243\u001b[0m \u001b[32m━━━━━━━━━━━━━━━━━━━━\u001b[0m\u001b[37m\u001b[0m \u001b[1m17s\u001b[0m 68ms/step - loss: 475556.9062 - mae: 467.2260 - val_loss: 396037.0625 - val_mae: 441.4977\n",
      "Epoch 3/300\n",
      "\u001b[1m243/243\u001b[0m \u001b[32m━━━━━━━━━━━━━━━━━━━━\u001b[0m\u001b[37m\u001b[0m \u001b[1m18s\u001b[0m 75ms/step - loss: 232618.6250 - mae: 329.7224 - val_loss: 129904.0625 - val_mae: 259.0279\n",
      "Epoch 4/300\n",
      "\u001b[1m243/243\u001b[0m \u001b[32m━━━━━━━━━━━━━━━━━━━━\u001b[0m\u001b[37m\u001b[0m \u001b[1m19s\u001b[0m 77ms/step - loss: 64979.3281 - mae: 175.1013 - val_loss: 16024.7314 - val_mae: 94.2197\n",
      "Epoch 5/300\n",
      "\u001b[1m243/243\u001b[0m \u001b[32m━━━━━━━━━━━━━━━━━━━━\u001b[0m\u001b[37m\u001b[0m \u001b[1m18s\u001b[0m 76ms/step - loss: 9157.1670 - mae: 65.1809 - val_loss: 1218.3864 - val_mae: 31.1771\n",
      "Epoch 6/300\n",
      "\u001b[1m243/243\u001b[0m \u001b[32m━━━━━━━━━━━━━━━━━━━━\u001b[0m\u001b[37m\u001b[0m \u001b[1m20s\u001b[0m 83ms/step - loss: 860.6180 - mae: 19.4463 - val_loss: 149.0933 - val_mae: 7.9423\n",
      "Epoch 7/300\n",
      "\u001b[1m243/243\u001b[0m \u001b[32m━━━━━━━━━━━━━━━━━━━━\u001b[0m\u001b[37m\u001b[0m \u001b[1m19s\u001b[0m 77ms/step - loss: 364.8546 - mae: 12.7495 - val_loss: 322.8915 - val_mae: 13.7891\n",
      "Epoch 8/300\n",
      "\u001b[1m243/243\u001b[0m \u001b[32m━━━━━━━━━━━━━━━━━━━━\u001b[0m\u001b[37m\u001b[0m \u001b[1m19s\u001b[0m 77ms/step - loss: 323.2563 - mae: 12.1298 - val_loss: 198.4005 - val_mae: 11.0042\n",
      "Epoch 9/300\n",
      "\u001b[1m243/243\u001b[0m \u001b[32m━━━━━━━━━━━━━━━━━━━━\u001b[0m\u001b[37m\u001b[0m \u001b[1m19s\u001b[0m 77ms/step - loss: 274.2154 - mae: 11.1481 - val_loss: 496.6910 - val_mae: 17.6080\n",
      "Epoch 10/300\n",
      "\u001b[1m243/243\u001b[0m \u001b[32m━━━━━━━━━━━━━━━━━━━━\u001b[0m\u001b[37m\u001b[0m \u001b[1m19s\u001b[0m 77ms/step - loss: 302.1612 - mae: 11.7514 - val_loss: 145.4369 - val_mae: 9.2232\n",
      "Epoch 11/300\n",
      "\u001b[1m243/243\u001b[0m \u001b[32m━━━━━━━━━━━━━━━━━━━━\u001b[0m\u001b[37m\u001b[0m \u001b[1m18s\u001b[0m 75ms/step - loss: 262.0562 - mae: 10.7723 - val_loss: 449.5300 - val_mae: 17.2967\n",
      "Epoch 12/300\n",
      "\u001b[1m243/243\u001b[0m \u001b[32m━━━━━━━━━━━━━━━━━━━━\u001b[0m\u001b[37m\u001b[0m \u001b[1m18s\u001b[0m 75ms/step - loss: 263.3714 - mae: 10.8044 - val_loss: 671.2629 - val_mae: 20.9343\n",
      "Epoch 13/300\n",
      "\u001b[1m243/243\u001b[0m \u001b[32m━━━━━━━━━━━━━━━━━━━━\u001b[0m\u001b[37m\u001b[0m \u001b[1m18s\u001b[0m 74ms/step - loss: 289.2660 - mae: 11.3321 - val_loss: 136.9549 - val_mae: 8.9704\n",
      "Epoch 14/300\n",
      "\u001b[1m243/243\u001b[0m \u001b[32m━━━━━━━━━━━━━━━━━━━━\u001b[0m\u001b[37m\u001b[0m \u001b[1m18s\u001b[0m 74ms/step - loss: 256.8657 - mae: 10.8319 - val_loss: 1079.5807 - val_mae: 29.7507\n",
      "Epoch 15/300\n",
      "\u001b[1m243/243\u001b[0m \u001b[32m━━━━━━━━━━━━━━━━━━━━\u001b[0m\u001b[37m\u001b[0m \u001b[1m18s\u001b[0m 75ms/step - loss: 246.5327 - mae: 10.7292 - val_loss: 260.9620 - val_mae: 13.7244\n",
      "Epoch 16/300\n",
      "\u001b[1m243/243\u001b[0m \u001b[32m━━━━━━━━━━━━━━━━━━━━\u001b[0m\u001b[37m\u001b[0m \u001b[1m19s\u001b[0m 76ms/step - loss: 258.2762 - mae: 10.7547 - val_loss: 278.8957 - val_mae: 13.2150\n",
      "Epoch 17/300\n",
      "\u001b[1m243/243\u001b[0m \u001b[32m━━━━━━━━━━━━━━━━━━━━\u001b[0m\u001b[37m\u001b[0m \u001b[1m18s\u001b[0m 74ms/step - loss: 307.4043 - mae: 11.6407 - val_loss: 200.3571 - val_mae: 11.1891\n",
      "Epoch 18/300\n",
      "\u001b[1m243/243\u001b[0m \u001b[32m━━━━━━━━━━━━━━━━━━━━\u001b[0m\u001b[37m\u001b[0m \u001b[1m18s\u001b[0m 74ms/step - loss: 302.9582 - mae: 11.0881 - val_loss: 188.1922 - val_mae: 9.7342\n",
      "\u001b[1m3888/3888\u001b[0m \u001b[32m━━━━━━━━━━━━━━━━━━━━\u001b[0m\u001b[37m\u001b[0m \u001b[1m3s\u001b[0m 839us/step - loss: 171.6319 - mae: 9.6422\n"
     ]
    },
    {
     "data": {
      "text/html": [
       "<style>\n",
       "    table.wandb td:nth-child(1) { padding: 0 10px; text-align: left ; width: auto;} td:nth-child(2) {text-align: left ; width: 100%}\n",
       "    .wandb-row { display: flex; flex-direction: row; flex-wrap: wrap; justify-content: flex-start; width: 100% }\n",
       "    .wandb-col { display: flex; flex-direction: column; flex-basis: 100%; flex: 1; padding: 10px; }\n",
       "    </style>\n",
       "<div class=\"wandb-row\"><div class=\"wandb-col\"><h3>Run history:</h3><br/><table class=\"wandb\"><tr><td>epoch/epoch</td><td>▁▁▂▂▃▃▃▄▄▅▅▆▆▆▇▇██</td></tr><tr><td>epoch/learning_rate</td><td>▁▁▁▁▁▁▁▁▁▁▁▁▁▁▁▁▁▁</td></tr><tr><td>epoch/loss</td><td>█▆▃▂▁▁▁▁▁▁▁▁▁▁▁▁▁▁</td></tr><tr><td>epoch/mae</td><td>█▇▅▃▂▁▁▁▁▁▁▁▁▁▁▁▁▁</td></tr><tr><td>epoch/val_loss</td><td>█▅▂▁▁▁▁▁▁▁▁▁▁▁▁▁▁▁</td></tr><tr><td>epoch/val_mae</td><td>█▆▄▂▁▁▁▁▁▁▁▁▁▁▁▁▁▁</td></tr><tr><td>validation_loss</td><td>▁</td></tr></table><br/></div><div class=\"wandb-col\"><h3>Run summary:</h3><br/><table class=\"wandb\"><tr><td>epoch/epoch</td><td>17</td></tr><tr><td>epoch/learning_rate</td><td>0.00325</td></tr><tr><td>epoch/loss</td><td>298.04544</td></tr><tr><td>epoch/mae</td><td>11.17816</td></tr><tr><td>epoch/val_loss</td><td>188.19221</td></tr><tr><td>epoch/val_mae</td><td>9.73421</td></tr><tr><td>validation_loss</td><td>188.19231</td></tr></table><br/></div></div>"
      ],
      "text/plain": [
       "<IPython.core.display.HTML object>"
      ]
     },
     "metadata": {},
     "output_type": "display_data"
    },
    {
     "data": {
      "text/html": [
       " View run <strong style=\"color:#cdcd00\">smart-sweep-69</strong> at: <a href='https://wandb.ai/sondre-rogde-ntnu/LSTM_OPTION_PRICING/runs/v91gvp3u' target=\"_blank\">https://wandb.ai/sondre-rogde-ntnu/LSTM_OPTION_PRICING/runs/v91gvp3u</a><br/> View project at: <a href='https://wandb.ai/sondre-rogde-ntnu/LSTM_OPTION_PRICING' target=\"_blank\">https://wandb.ai/sondre-rogde-ntnu/LSTM_OPTION_PRICING</a><br/>Synced 5 W&B file(s), 0 media file(s), 0 artifact file(s) and 0 other file(s)"
      ],
      "text/plain": [
       "<IPython.core.display.HTML object>"
      ]
     },
     "metadata": {},
     "output_type": "display_data"
    },
    {
     "data": {
      "text/html": [
       "Find logs at: <code>./wandb/run-20240924_035723-v91gvp3u/logs</code>"
      ],
      "text/plain": [
       "<IPython.core.display.HTML object>"
      ]
     },
     "metadata": {},
     "output_type": "display_data"
    },
    {
     "data": {
      "text/html": [
       "wandb version 0.18.1 is available!  To upgrade, please run:\n",
       " $ pip install wandb --upgrade"
      ],
      "text/plain": [
       "<IPython.core.display.HTML object>"
      ]
     },
     "metadata": {},
     "output_type": "display_data"
    },
    {
     "data": {
      "text/html": [
       "The new W&B backend becomes opt-out in version 0.18.0; try it out with `wandb.require(\"core\")`! See https://wandb.me/wandb-core for more information."
      ],
      "text/plain": [
       "<IPython.core.display.HTML object>"
      ]
     },
     "metadata": {},
     "output_type": "display_data"
    },
    {
     "name": "stderr",
     "output_type": "stream",
     "text": [
      "\u001b[34m\u001b[1mwandb\u001b[0m: Agent Starting Run: 7alqf5qp with config:\n",
      "\u001b[34m\u001b[1mwandb\u001b[0m: \tbn_momentum: 0.006638903762442805\n",
      "\u001b[34m\u001b[1mwandb\u001b[0m: \tlayers: 5\n",
      "\u001b[34m\u001b[1mwandb\u001b[0m: \tlearning_rate: 0.0030508744293142793\n",
      "\u001b[34m\u001b[1mwandb\u001b[0m: \tminibatch_size: 4096\n",
      "\u001b[34m\u001b[1mwandb\u001b[0m: \tunits: 128\n",
      "\u001b[34m\u001b[1mwandb\u001b[0m: \tweight_decay: 0.0003334770040019294\n"
     ]
    },
    {
     "data": {
      "text/html": [
       "Tracking run with wandb version 0.17.9"
      ],
      "text/plain": [
       "<IPython.core.display.HTML object>"
      ]
     },
     "metadata": {},
     "output_type": "display_data"
    },
    {
     "data": {
      "text/html": [
       "Run data is saved locally in <code>/Users/sondrerogde/Dev/LSTM-for-option-pricing/Sondre/wandb/run-20240924_040307-7alqf5qp</code>"
      ],
      "text/plain": [
       "<IPython.core.display.HTML object>"
      ]
     },
     "metadata": {},
     "output_type": "display_data"
    },
    {
     "data": {
      "text/html": [
       "Syncing run <strong><a href='https://wandb.ai/sondre-rogde-ntnu/LSTM_OPTION_PRICING/runs/7alqf5qp' target=\"_blank\">upbeat-sweep-70</a></strong> to <a href='https://wandb.ai/sondre-rogde-ntnu/LSTM_OPTION_PRICING' target=\"_blank\">Weights & Biases</a> (<a href='https://wandb.me/run' target=\"_blank\">docs</a>)<br/>Sweep page: <a href='https://wandb.ai/sondre-rogde-ntnu/LSTM_OPTION_PRICING/sweeps/guuhakot' target=\"_blank\">https://wandb.ai/sondre-rogde-ntnu/LSTM_OPTION_PRICING/sweeps/guuhakot</a>"
      ],
      "text/plain": [
       "<IPython.core.display.HTML object>"
      ]
     },
     "metadata": {},
     "output_type": "display_data"
    },
    {
     "data": {
      "text/html": [
       " View project at <a href='https://wandb.ai/sondre-rogde-ntnu/LSTM_OPTION_PRICING' target=\"_blank\">https://wandb.ai/sondre-rogde-ntnu/LSTM_OPTION_PRICING</a>"
      ],
      "text/plain": [
       "<IPython.core.display.HTML object>"
      ]
     },
     "metadata": {},
     "output_type": "display_data"
    },
    {
     "data": {
      "text/html": [
       " View sweep at <a href='https://wandb.ai/sondre-rogde-ntnu/LSTM_OPTION_PRICING/sweeps/guuhakot' target=\"_blank\">https://wandb.ai/sondre-rogde-ntnu/LSTM_OPTION_PRICING/sweeps/guuhakot</a>"
      ],
      "text/plain": [
       "<IPython.core.display.HTML object>"
      ]
     },
     "metadata": {},
     "output_type": "display_data"
    },
    {
     "data": {
      "text/html": [
       " View run at <a href='https://wandb.ai/sondre-rogde-ntnu/LSTM_OPTION_PRICING/runs/7alqf5qp' target=\"_blank\">https://wandb.ai/sondre-rogde-ntnu/LSTM_OPTION_PRICING/runs/7alqf5qp</a>"
      ],
      "text/plain": [
       "<IPython.core.display.HTML object>"
      ]
     },
     "metadata": {},
     "output_type": "display_data"
    },
    {
     "name": "stdout",
     "output_type": "stream",
     "text": [
      "Epoch 1/300\n"
     ]
    },
    {
     "name": "stderr",
     "output_type": "stream",
     "text": [
      "/Library/Frameworks/Python.framework/Versions/3.12/lib/python3.12/site-packages/keras/src/layers/rnn/rnn.py:204: UserWarning: Do not pass an `input_shape`/`input_dim` argument to a layer. When using Sequential models, prefer using an `Input(shape)` object as the first layer in the model instead.\n",
      "  super().__init__(**kwargs)\n"
     ]
    },
    {
     "name": "stdout",
     "output_type": "stream",
     "text": [
      "\u001b[1m243/243\u001b[0m \u001b[32m━━━━━━━━━━━━━━━━━━━━\u001b[0m\u001b[37m\u001b[0m \u001b[1m102s\u001b[0m 406ms/step - loss: 592070.5625 - mae: 518.7726 - val_loss: 440068.8438 - val_mae: 473.2136\n",
      "Epoch 2/300\n",
      "\u001b[1m243/243\u001b[0m \u001b[32m━━━━━━━━━━━━━━━━━━━━\u001b[0m\u001b[37m\u001b[0m \u001b[1m101s\u001b[0m 415ms/step - loss: 208410.5938 - mae: 315.4860 - val_loss: 18991.8496 - val_mae: 87.8073\n",
      "Epoch 3/300\n",
      "\u001b[1m243/243\u001b[0m \u001b[32m━━━━━━━━━━━━━━━━━━━━\u001b[0m\u001b[37m\u001b[0m \u001b[1m101s\u001b[0m 414ms/step - loss: 10626.8311 - mae: 71.7215 - val_loss: 225.2350 - val_mae: 10.7565\n",
      "Epoch 4/300\n",
      "\u001b[1m243/243\u001b[0m \u001b[32m━━━━━━━━━━━━━━━━━━━━\u001b[0m\u001b[37m\u001b[0m \u001b[1m100s\u001b[0m 411ms/step - loss: 674.6986 - mae: 15.7988 - val_loss: 859.1044 - val_mae: 25.6298\n",
      "Epoch 5/300\n",
      "\u001b[1m243/243\u001b[0m \u001b[32m━━━━━━━━━━━━━━━━━━━━\u001b[0m\u001b[37m\u001b[0m \u001b[1m100s\u001b[0m 413ms/step - loss: 387.3005 - mae: 13.6888 - val_loss: 767.2772 - val_mae: 24.7623\n",
      "Epoch 6/300\n",
      "\u001b[1m243/243\u001b[0m \u001b[32m━━━━━━━━━━━━━━━━━━━━\u001b[0m\u001b[37m\u001b[0m \u001b[1m100s\u001b[0m 413ms/step - loss: 326.8564 - mae: 12.5495 - val_loss: 2077.3208 - val_mae: 37.0583\n",
      "Epoch 7/300\n",
      "\u001b[1m243/243\u001b[0m \u001b[32m━━━━━━━━━━━━━━━━━━━━\u001b[0m\u001b[37m\u001b[0m \u001b[1m100s\u001b[0m 413ms/step - loss: 283.3230 - mae: 11.6217 - val_loss: 966.0156 - val_mae: 28.2812\n",
      "Epoch 8/300\n",
      "\u001b[1m243/243\u001b[0m \u001b[32m━━━━━━━━━━━━━━━━━━━━\u001b[0m\u001b[37m\u001b[0m \u001b[1m100s\u001b[0m 414ms/step - loss: 292.0985 - mae: 11.7729 - val_loss: 365.0919 - val_mae: 16.8060\n",
      "\u001b[1m3888/3888\u001b[0m \u001b[32m━━━━━━━━━━━━━━━━━━━━\u001b[0m\u001b[37m\u001b[0m \u001b[1m13s\u001b[0m 3ms/step - loss: 303.9102 - mae: 15.3962\n"
     ]
    },
    {
     "data": {
      "text/html": [
       "<style>\n",
       "    table.wandb td:nth-child(1) { padding: 0 10px; text-align: left ; width: auto;} td:nth-child(2) {text-align: left ; width: 100%}\n",
       "    .wandb-row { display: flex; flex-direction: row; flex-wrap: wrap; justify-content: flex-start; width: 100% }\n",
       "    .wandb-col { display: flex; flex-direction: column; flex-basis: 100%; flex: 1; padding: 10px; }\n",
       "    </style>\n",
       "<div class=\"wandb-row\"><div class=\"wandb-col\"><h3>Run history:</h3><br/><table class=\"wandb\"><tr><td>epoch/epoch</td><td>▁▂▃▄▅▆▇█</td></tr><tr><td>epoch/learning_rate</td><td>▁▁▁▁▁▁▁▁</td></tr><tr><td>epoch/loss</td><td>█▃▁▁▁▁▁▁</td></tr><tr><td>epoch/mae</td><td>█▄▂▁▁▁▁▁</td></tr><tr><td>epoch/val_loss</td><td>█▁▁▁▁▁▁▁</td></tr><tr><td>epoch/val_mae</td><td>█▂▁▁▁▁▁▁</td></tr><tr><td>validation_loss</td><td>▁</td></tr></table><br/></div><div class=\"wandb-col\"><h3>Run summary:</h3><br/><table class=\"wandb\"><tr><td>epoch/epoch</td><td>7</td></tr><tr><td>epoch/learning_rate</td><td>0.00305</td></tr><tr><td>epoch/loss</td><td>293.94995</td></tr><tr><td>epoch/mae</td><td>11.63633</td></tr><tr><td>epoch/val_loss</td><td>365.09195</td></tr><tr><td>epoch/val_mae</td><td>16.80599</td></tr><tr><td>validation_loss</td><td>365.09155</td></tr></table><br/></div></div>"
      ],
      "text/plain": [
       "<IPython.core.display.HTML object>"
      ]
     },
     "metadata": {},
     "output_type": "display_data"
    },
    {
     "data": {
      "text/html": [
       " View run <strong style=\"color:#cdcd00\">upbeat-sweep-70</strong> at: <a href='https://wandb.ai/sondre-rogde-ntnu/LSTM_OPTION_PRICING/runs/7alqf5qp' target=\"_blank\">https://wandb.ai/sondre-rogde-ntnu/LSTM_OPTION_PRICING/runs/7alqf5qp</a><br/> View project at: <a href='https://wandb.ai/sondre-rogde-ntnu/LSTM_OPTION_PRICING' target=\"_blank\">https://wandb.ai/sondre-rogde-ntnu/LSTM_OPTION_PRICING</a><br/>Synced 5 W&B file(s), 0 media file(s), 0 artifact file(s) and 0 other file(s)"
      ],
      "text/plain": [
       "<IPython.core.display.HTML object>"
      ]
     },
     "metadata": {},
     "output_type": "display_data"
    },
    {
     "data": {
      "text/html": [
       "Find logs at: <code>./wandb/run-20240924_040307-7alqf5qp/logs</code>"
      ],
      "text/plain": [
       "<IPython.core.display.HTML object>"
      ]
     },
     "metadata": {},
     "output_type": "display_data"
    },
    {
     "data": {
      "text/html": [
       "wandb version 0.18.1 is available!  To upgrade, please run:\n",
       " $ pip install wandb --upgrade"
      ],
      "text/plain": [
       "<IPython.core.display.HTML object>"
      ]
     },
     "metadata": {},
     "output_type": "display_data"
    },
    {
     "data": {
      "text/html": [
       "The new W&B backend becomes opt-out in version 0.18.0; try it out with `wandb.require(\"core\")`! See https://wandb.me/wandb-core for more information."
      ],
      "text/plain": [
       "<IPython.core.display.HTML object>"
      ]
     },
     "metadata": {},
     "output_type": "display_data"
    },
    {
     "name": "stderr",
     "output_type": "stream",
     "text": [
      "\u001b[34m\u001b[1mwandb\u001b[0m: Agent Starting Run: 56idjzib with config:\n",
      "\u001b[34m\u001b[1mwandb\u001b[0m: \tbn_momentum: 0.37955787842553274\n",
      "\u001b[34m\u001b[1mwandb\u001b[0m: \tlayers: 5\n",
      "\u001b[34m\u001b[1mwandb\u001b[0m: \tlearning_rate: 0.0021714375841090415\n",
      "\u001b[34m\u001b[1mwandb\u001b[0m: \tminibatch_size: 1024\n",
      "\u001b[34m\u001b[1mwandb\u001b[0m: \tunits: 128\n",
      "\u001b[34m\u001b[1mwandb\u001b[0m: \tweight_decay: 0.00013539312788186475\n"
     ]
    },
    {
     "data": {
      "text/html": [
       "Tracking run with wandb version 0.17.9"
      ],
      "text/plain": [
       "<IPython.core.display.HTML object>"
      ]
     },
     "metadata": {},
     "output_type": "display_data"
    },
    {
     "data": {
      "text/html": [
       "Run data is saved locally in <code>/Users/sondrerogde/Dev/LSTM-for-option-pricing/Sondre/wandb/run-20240924_041656-56idjzib</code>"
      ],
      "text/plain": [
       "<IPython.core.display.HTML object>"
      ]
     },
     "metadata": {},
     "output_type": "display_data"
    },
    {
     "data": {
      "text/html": [
       "Syncing run <strong><a href='https://wandb.ai/sondre-rogde-ntnu/LSTM_OPTION_PRICING/runs/56idjzib' target=\"_blank\">dashing-sweep-71</a></strong> to <a href='https://wandb.ai/sondre-rogde-ntnu/LSTM_OPTION_PRICING' target=\"_blank\">Weights & Biases</a> (<a href='https://wandb.me/run' target=\"_blank\">docs</a>)<br/>Sweep page: <a href='https://wandb.ai/sondre-rogde-ntnu/LSTM_OPTION_PRICING/sweeps/guuhakot' target=\"_blank\">https://wandb.ai/sondre-rogde-ntnu/LSTM_OPTION_PRICING/sweeps/guuhakot</a>"
      ],
      "text/plain": [
       "<IPython.core.display.HTML object>"
      ]
     },
     "metadata": {},
     "output_type": "display_data"
    },
    {
     "data": {
      "text/html": [
       " View project at <a href='https://wandb.ai/sondre-rogde-ntnu/LSTM_OPTION_PRICING' target=\"_blank\">https://wandb.ai/sondre-rogde-ntnu/LSTM_OPTION_PRICING</a>"
      ],
      "text/plain": [
       "<IPython.core.display.HTML object>"
      ]
     },
     "metadata": {},
     "output_type": "display_data"
    },
    {
     "data": {
      "text/html": [
       " View sweep at <a href='https://wandb.ai/sondre-rogde-ntnu/LSTM_OPTION_PRICING/sweeps/guuhakot' target=\"_blank\">https://wandb.ai/sondre-rogde-ntnu/LSTM_OPTION_PRICING/sweeps/guuhakot</a>"
      ],
      "text/plain": [
       "<IPython.core.display.HTML object>"
      ]
     },
     "metadata": {},
     "output_type": "display_data"
    },
    {
     "data": {
      "text/html": [
       " View run at <a href='https://wandb.ai/sondre-rogde-ntnu/LSTM_OPTION_PRICING/runs/56idjzib' target=\"_blank\">https://wandb.ai/sondre-rogde-ntnu/LSTM_OPTION_PRICING/runs/56idjzib</a>"
      ],
      "text/plain": [
       "<IPython.core.display.HTML object>"
      ]
     },
     "metadata": {},
     "output_type": "display_data"
    },
    {
     "name": "stdout",
     "output_type": "stream",
     "text": [
      "Epoch 1/300\n"
     ]
    },
    {
     "name": "stderr",
     "output_type": "stream",
     "text": [
      "/Library/Frameworks/Python.framework/Versions/3.12/lib/python3.12/site-packages/keras/src/layers/rnn/rnn.py:204: UserWarning: Do not pass an `input_shape`/`input_dim` argument to a layer. When using Sequential models, prefer using an `Input(shape)` object as the first layer in the model instead.\n",
      "  super().__init__(**kwargs)\n"
     ]
    },
    {
     "name": "stdout",
     "output_type": "stream",
     "text": [
      "\u001b[1m972/972\u001b[0m \u001b[32m━━━━━━━━━━━━━━━━━━━━\u001b[0m\u001b[37m\u001b[0m \u001b[1m106s\u001b[0m 106ms/step - loss: 426293.0625 - mae: 422.4697 - val_loss: 1023.3629 - val_mae: 26.5387\n",
      "Epoch 2/300\n",
      "\u001b[1m972/972\u001b[0m \u001b[32m━━━━━━━━━━━━━━━━━━━━\u001b[0m\u001b[37m\u001b[0m \u001b[1m108s\u001b[0m 111ms/step - loss: 984.2332 - mae: 21.2125 - val_loss: 447.0921 - val_mae: 18.5184\n",
      "Epoch 3/300\n",
      "\u001b[1m972/972\u001b[0m \u001b[32m━━━━━━━━━━━━━━━━━━━━\u001b[0m\u001b[37m\u001b[0m \u001b[1m108s\u001b[0m 111ms/step - loss: 932.1990 - mae: 20.4891 - val_loss: 5937.3223 - val_mae: 66.9655\n",
      "Epoch 4/300\n",
      "\u001b[1m972/972\u001b[0m \u001b[32m━━━━━━━━━━━━━━━━━━━━\u001b[0m\u001b[37m\u001b[0m \u001b[1m108s\u001b[0m 111ms/step - loss: 880.7333 - mae: 19.7213 - val_loss: 745.3904 - val_mae: 22.2993\n",
      "Epoch 5/300\n",
      "\u001b[1m972/972\u001b[0m \u001b[32m━━━━━━━━━━━━━━━━━━━━\u001b[0m\u001b[37m\u001b[0m \u001b[1m107s\u001b[0m 110ms/step - loss: 843.8102 - mae: 19.1584 - val_loss: 1589.4714 - val_mae: 34.2669\n",
      "Epoch 6/300\n",
      "\u001b[1m972/972\u001b[0m \u001b[32m━━━━━━━━━━━━━━━━━━━━\u001b[0m\u001b[37m\u001b[0m \u001b[1m110s\u001b[0m 114ms/step - loss: 854.5052 - mae: 19.3204 - val_loss: 10385.5879 - val_mae: 89.1701\n",
      "Epoch 7/300\n",
      "\u001b[1m972/972\u001b[0m \u001b[32m━━━━━━━━━━━━━━━━━━━━\u001b[0m\u001b[37m\u001b[0m \u001b[1m112s\u001b[0m 115ms/step - loss: 814.2159 - mae: 18.9261 - val_loss: 1923.1045 - val_mae: 38.8724\n",
      "\u001b[1m3888/3888\u001b[0m \u001b[32m━━━━━━━━━━━━━━━━━━━━\u001b[0m\u001b[37m\u001b[0m \u001b[1m12s\u001b[0m 3ms/step - loss: 1725.1888 - mae: 36.7889\n"
     ]
    },
    {
     "data": {
      "text/html": [
       "<style>\n",
       "    table.wandb td:nth-child(1) { padding: 0 10px; text-align: left ; width: auto;} td:nth-child(2) {text-align: left ; width: 100%}\n",
       "    .wandb-row { display: flex; flex-direction: row; flex-wrap: wrap; justify-content: flex-start; width: 100% }\n",
       "    .wandb-col { display: flex; flex-direction: column; flex-basis: 100%; flex: 1; padding: 10px; }\n",
       "    </style>\n",
       "<div class=\"wandb-row\"><div class=\"wandb-col\"><h3>Run history:</h3><br/><table class=\"wandb\"><tr><td>epoch/epoch</td><td>▁▂▃▅▆▇█</td></tr><tr><td>epoch/learning_rate</td><td>▁▁▁▁▁▁▁</td></tr><tr><td>epoch/loss</td><td>█▁▁▁▁▁▁</td></tr><tr><td>epoch/mae</td><td>█▁▁▁▁▁▁</td></tr><tr><td>epoch/val_loss</td><td>▁▁▅▁▂█▂</td></tr><tr><td>epoch/val_mae</td><td>▂▁▆▁▃█▃</td></tr><tr><td>validation_loss</td><td>▁</td></tr></table><br/></div><div class=\"wandb-col\"><h3>Run summary:</h3><br/><table class=\"wandb\"><tr><td>epoch/epoch</td><td>6</td></tr><tr><td>epoch/learning_rate</td><td>0.00217</td></tr><tr><td>epoch/loss</td><td>845.45697</td></tr><tr><td>epoch/mae</td><td>19.38583</td></tr><tr><td>epoch/val_loss</td><td>1923.10449</td></tr><tr><td>epoch/val_mae</td><td>38.87244</td></tr><tr><td>validation_loss</td><td>1923.10339</td></tr></table><br/></div></div>"
      ],
      "text/plain": [
       "<IPython.core.display.HTML object>"
      ]
     },
     "metadata": {},
     "output_type": "display_data"
    },
    {
     "data": {
      "text/html": [
       " View run <strong style=\"color:#cdcd00\">dashing-sweep-71</strong> at: <a href='https://wandb.ai/sondre-rogde-ntnu/LSTM_OPTION_PRICING/runs/56idjzib' target=\"_blank\">https://wandb.ai/sondre-rogde-ntnu/LSTM_OPTION_PRICING/runs/56idjzib</a><br/> View project at: <a href='https://wandb.ai/sondre-rogde-ntnu/LSTM_OPTION_PRICING' target=\"_blank\">https://wandb.ai/sondre-rogde-ntnu/LSTM_OPTION_PRICING</a><br/>Synced 5 W&B file(s), 0 media file(s), 0 artifact file(s) and 0 other file(s)"
      ],
      "text/plain": [
       "<IPython.core.display.HTML object>"
      ]
     },
     "metadata": {},
     "output_type": "display_data"
    },
    {
     "data": {
      "text/html": [
       "Find logs at: <code>./wandb/run-20240924_041656-56idjzib/logs</code>"
      ],
      "text/plain": [
       "<IPython.core.display.HTML object>"
      ]
     },
     "metadata": {},
     "output_type": "display_data"
    },
    {
     "data": {
      "text/html": [
       "wandb version 0.18.1 is available!  To upgrade, please run:\n",
       " $ pip install wandb --upgrade"
      ],
      "text/plain": [
       "<IPython.core.display.HTML object>"
      ]
     },
     "metadata": {},
     "output_type": "display_data"
    },
    {
     "data": {
      "text/html": [
       "The new W&B backend becomes opt-out in version 0.18.0; try it out with `wandb.require(\"core\")`! See https://wandb.me/wandb-core for more information."
      ],
      "text/plain": [
       "<IPython.core.display.HTML object>"
      ]
     },
     "metadata": {},
     "output_type": "display_data"
    },
    {
     "name": "stderr",
     "output_type": "stream",
     "text": [
      "\u001b[34m\u001b[1mwandb\u001b[0m: Agent Starting Run: zonhhalj with config:\n",
      "\u001b[34m\u001b[1mwandb\u001b[0m: \tbn_momentum: 0.26583594105200414\n",
      "\u001b[34m\u001b[1mwandb\u001b[0m: \tlayers: 5\n",
      "\u001b[34m\u001b[1mwandb\u001b[0m: \tlearning_rate: 0.00170859744857675\n",
      "\u001b[34m\u001b[1mwandb\u001b[0m: \tminibatch_size: 4096\n",
      "\u001b[34m\u001b[1mwandb\u001b[0m: \tunits: 128\n",
      "\u001b[34m\u001b[1mwandb\u001b[0m: \tweight_decay: 0.00043264972923972065\n"
     ]
    },
    {
     "data": {
      "text/html": [
       "Tracking run with wandb version 0.17.9"
      ],
      "text/plain": [
       "<IPython.core.display.HTML object>"
      ]
     },
     "metadata": {},
     "output_type": "display_data"
    },
    {
     "data": {
      "text/html": [
       "Run data is saved locally in <code>/Users/sondrerogde/Dev/LSTM-for-option-pricing/Sondre/wandb/run-20240924_043000-zonhhalj</code>"
      ],
      "text/plain": [
       "<IPython.core.display.HTML object>"
      ]
     },
     "metadata": {},
     "output_type": "display_data"
    },
    {
     "data": {
      "text/html": [
       "Syncing run <strong><a href='https://wandb.ai/sondre-rogde-ntnu/LSTM_OPTION_PRICING/runs/zonhhalj' target=\"_blank\">blooming-sweep-72</a></strong> to <a href='https://wandb.ai/sondre-rogde-ntnu/LSTM_OPTION_PRICING' target=\"_blank\">Weights & Biases</a> (<a href='https://wandb.me/run' target=\"_blank\">docs</a>)<br/>Sweep page: <a href='https://wandb.ai/sondre-rogde-ntnu/LSTM_OPTION_PRICING/sweeps/guuhakot' target=\"_blank\">https://wandb.ai/sondre-rogde-ntnu/LSTM_OPTION_PRICING/sweeps/guuhakot</a>"
      ],
      "text/plain": [
       "<IPython.core.display.HTML object>"
      ]
     },
     "metadata": {},
     "output_type": "display_data"
    },
    {
     "data": {
      "text/html": [
       " View project at <a href='https://wandb.ai/sondre-rogde-ntnu/LSTM_OPTION_PRICING' target=\"_blank\">https://wandb.ai/sondre-rogde-ntnu/LSTM_OPTION_PRICING</a>"
      ],
      "text/plain": [
       "<IPython.core.display.HTML object>"
      ]
     },
     "metadata": {},
     "output_type": "display_data"
    },
    {
     "data": {
      "text/html": [
       " View sweep at <a href='https://wandb.ai/sondre-rogde-ntnu/LSTM_OPTION_PRICING/sweeps/guuhakot' target=\"_blank\">https://wandb.ai/sondre-rogde-ntnu/LSTM_OPTION_PRICING/sweeps/guuhakot</a>"
      ],
      "text/plain": [
       "<IPython.core.display.HTML object>"
      ]
     },
     "metadata": {},
     "output_type": "display_data"
    },
    {
     "data": {
      "text/html": [
       " View run at <a href='https://wandb.ai/sondre-rogde-ntnu/LSTM_OPTION_PRICING/runs/zonhhalj' target=\"_blank\">https://wandb.ai/sondre-rogde-ntnu/LSTM_OPTION_PRICING/runs/zonhhalj</a>"
      ],
      "text/plain": [
       "<IPython.core.display.HTML object>"
      ]
     },
     "metadata": {},
     "output_type": "display_data"
    },
    {
     "name": "stdout",
     "output_type": "stream",
     "text": [
      "Epoch 1/300\n"
     ]
    },
    {
     "name": "stderr",
     "output_type": "stream",
     "text": [
      "/Library/Frameworks/Python.framework/Versions/3.12/lib/python3.12/site-packages/keras/src/layers/rnn/rnn.py:204: UserWarning: Do not pass an `input_shape`/`input_dim` argument to a layer. When using Sequential models, prefer using an `Input(shape)` object as the first layer in the model instead.\n",
      "  super().__init__(**kwargs)\n"
     ]
    },
    {
     "name": "stdout",
     "output_type": "stream",
     "text": [
      "\u001b[1m243/243\u001b[0m \u001b[32m━━━━━━━━━━━━━━━━━━━━\u001b[0m\u001b[37m\u001b[0m \u001b[1m100s\u001b[0m 401ms/step - loss: 623857.6250 - mae: 530.9971 - val_loss: 650124.2500 - val_mae: 559.0433\n",
      "Epoch 2/300\n",
      "\u001b[1m243/243\u001b[0m \u001b[32m━━━━━━━━━━━━━━━━━━━━\u001b[0m\u001b[37m\u001b[0m \u001b[1m102s\u001b[0m 420ms/step - loss: 432643.1562 - mae: 452.3831 - val_loss: 325732.4062 - val_mae: 405.3647\n",
      "Epoch 3/300\n",
      "\u001b[1m243/243\u001b[0m \u001b[32m━━━━━━━━━━━━━━━━━━━━\u001b[0m\u001b[37m\u001b[0m \u001b[1m101s\u001b[0m 415ms/step - loss: 191060.9531 - mae: 308.2895 - val_loss: 78974.7109 - val_mae: 207.0953\n",
      "Epoch 4/300\n",
      "\u001b[1m243/243\u001b[0m \u001b[32m━━━━━━━━━━━━━━━━━━━━\u001b[0m\u001b[37m\u001b[0m \u001b[1m101s\u001b[0m 417ms/step - loss: 45351.2461 - mae: 154.3984 - val_loss: 8663.0234 - val_mae: 76.7714\n",
      "Epoch 5/300\n",
      "\u001b[1m243/243\u001b[0m \u001b[32m━━━━━━━━━━━━━━━━━━━━\u001b[0m\u001b[37m\u001b[0m \u001b[1m101s\u001b[0m 415ms/step - loss: 5088.3398 - mae: 52.3268 - val_loss: 529.2476 - val_mae: 17.9134\n",
      "Epoch 6/300\n",
      "\u001b[1m243/243\u001b[0m \u001b[32m━━━━━━━━━━━━━━━━━━━━\u001b[0m\u001b[37m\u001b[0m \u001b[1m101s\u001b[0m 416ms/step - loss: 572.2266 - mae: 16.1289 - val_loss: 700.8133 - val_mae: 23.5077\n",
      "Epoch 7/300\n",
      "\u001b[1m243/243\u001b[0m \u001b[32m━━━━━━━━━━━━━━━━━━━━\u001b[0m\u001b[37m\u001b[0m \u001b[1m102s\u001b[0m 421ms/step - loss: 349.0332 - mae: 12.5970 - val_loss: 276.0553 - val_mae: 13.3212\n",
      "Epoch 8/300\n",
      "\u001b[1m243/243\u001b[0m \u001b[32m━━━━━━━━━━━━━━━━━━━━\u001b[0m\u001b[37m\u001b[0m \u001b[1m102s\u001b[0m 419ms/step - loss: 307.3666 - mae: 11.8034 - val_loss: 1198.4814 - val_mae: 28.0122\n",
      "Epoch 9/300\n",
      "\u001b[1m243/243\u001b[0m \u001b[32m━━━━━━━━━━━━━━━━━━━━\u001b[0m\u001b[37m\u001b[0m \u001b[1m102s\u001b[0m 419ms/step - loss: 277.2813 - mae: 11.3013 - val_loss: 139.5923 - val_mae: 7.3366\n",
      "Epoch 10/300\n",
      "\u001b[1m243/243\u001b[0m \u001b[32m━━━━━━━━━━━━━━━━━━━━\u001b[0m\u001b[37m\u001b[0m \u001b[1m103s\u001b[0m 422ms/step - loss: 329.2511 - mae: 11.9781 - val_loss: 216.1982 - val_mae: 12.6705\n",
      "Epoch 11/300\n",
      "\u001b[1m243/243\u001b[0m \u001b[32m━━━━━━━━━━━━━━━━━━━━\u001b[0m\u001b[37m\u001b[0m \u001b[1m101s\u001b[0m 417ms/step - loss: 287.1444 - mae: 11.4787 - val_loss: 724.7617 - val_mae: 23.4101\n",
      "Epoch 12/300\n",
      "\u001b[1m243/243\u001b[0m \u001b[32m━━━━━━━━━━━━━━━━━━━━\u001b[0m\u001b[37m\u001b[0m \u001b[1m101s\u001b[0m 414ms/step - loss: 293.2092 - mae: 11.2586 - val_loss: 1098.7057 - val_mae: 26.0849\n",
      "Epoch 13/300\n",
      "\u001b[1m243/243\u001b[0m \u001b[32m━━━━━━━━━━━━━━━━━━━━\u001b[0m\u001b[37m\u001b[0m \u001b[1m101s\u001b[0m 415ms/step - loss: 255.4490 - mae: 10.7264 - val_loss: 319.9778 - val_mae: 11.9640\n",
      "Epoch 14/300\n",
      "\u001b[1m243/243\u001b[0m \u001b[32m━━━━━━━━━━━━━━━━━━━━\u001b[0m\u001b[37m\u001b[0m \u001b[1m100s\u001b[0m 412ms/step - loss: 256.4781 - mae: 10.5071 - val_loss: 141.5901 - val_mae: 9.3864\n",
      "\u001b[1m3888/3888\u001b[0m \u001b[32m━━━━━━━━━━━━━━━━━━━━\u001b[0m\u001b[37m\u001b[0m \u001b[1m13s\u001b[0m 3ms/step - loss: 172.8288 - mae: 10.9237\n"
     ]
    },
    {
     "data": {
      "text/html": [
       "<style>\n",
       "    table.wandb td:nth-child(1) { padding: 0 10px; text-align: left ; width: auto;} td:nth-child(2) {text-align: left ; width: 100%}\n",
       "    .wandb-row { display: flex; flex-direction: row; flex-wrap: wrap; justify-content: flex-start; width: 100% }\n",
       "    .wandb-col { display: flex; flex-direction: column; flex-basis: 100%; flex: 1; padding: 10px; }\n",
       "    </style>\n",
       "<div class=\"wandb-row\"><div class=\"wandb-col\"><h3>Run history:</h3><br/><table class=\"wandb\"><tr><td>epoch/epoch</td><td>▁▂▂▃▃▄▄▅▅▆▆▇▇█</td></tr><tr><td>epoch/learning_rate</td><td>▁▁▁▁▁▁▁▁▁▁▁▁▁▁</td></tr><tr><td>epoch/loss</td><td>█▅▃▁▁▁▁▁▁▁▁▁▁▁</td></tr><tr><td>epoch/mae</td><td>█▇▅▃▁▁▁▁▁▁▁▁▁▁</td></tr><tr><td>epoch/val_loss</td><td>█▅▂▁▁▁▁▁▁▁▁▁▁▁</td></tr><tr><td>epoch/val_mae</td><td>█▆▄▂▁▁▁▁▁▁▁▁▁▁</td></tr><tr><td>validation_loss</td><td>▁</td></tr></table><br/></div><div class=\"wandb-col\"><h3>Run summary:</h3><br/><table class=\"wandb\"><tr><td>epoch/epoch</td><td>13</td></tr><tr><td>epoch/learning_rate</td><td>0.00171</td></tr><tr><td>epoch/loss</td><td>274.99811</td></tr><tr><td>epoch/mae</td><td>10.99007</td></tr><tr><td>epoch/val_loss</td><td>141.5901</td></tr><tr><td>epoch/val_mae</td><td>9.38636</td></tr><tr><td>validation_loss</td><td>141.59013</td></tr></table><br/></div></div>"
      ],
      "text/plain": [
       "<IPython.core.display.HTML object>"
      ]
     },
     "metadata": {},
     "output_type": "display_data"
    },
    {
     "data": {
      "text/html": [
       " View run <strong style=\"color:#cdcd00\">blooming-sweep-72</strong> at: <a href='https://wandb.ai/sondre-rogde-ntnu/LSTM_OPTION_PRICING/runs/zonhhalj' target=\"_blank\">https://wandb.ai/sondre-rogde-ntnu/LSTM_OPTION_PRICING/runs/zonhhalj</a><br/> View project at: <a href='https://wandb.ai/sondre-rogde-ntnu/LSTM_OPTION_PRICING' target=\"_blank\">https://wandb.ai/sondre-rogde-ntnu/LSTM_OPTION_PRICING</a><br/>Synced 5 W&B file(s), 0 media file(s), 0 artifact file(s) and 0 other file(s)"
      ],
      "text/plain": [
       "<IPython.core.display.HTML object>"
      ]
     },
     "metadata": {},
     "output_type": "display_data"
    },
    {
     "data": {
      "text/html": [
       "Find logs at: <code>./wandb/run-20240924_043000-zonhhalj/logs</code>"
      ],
      "text/plain": [
       "<IPython.core.display.HTML object>"
      ]
     },
     "metadata": {},
     "output_type": "display_data"
    },
    {
     "data": {
      "text/html": [
       "wandb version 0.18.1 is available!  To upgrade, please run:\n",
       " $ pip install wandb --upgrade"
      ],
      "text/plain": [
       "<IPython.core.display.HTML object>"
      ]
     },
     "metadata": {},
     "output_type": "display_data"
    },
    {
     "data": {
      "text/html": [
       "The new W&B backend becomes opt-out in version 0.18.0; try it out with `wandb.require(\"core\")`! See https://wandb.me/wandb-core for more information."
      ],
      "text/plain": [
       "<IPython.core.display.HTML object>"
      ]
     },
     "metadata": {},
     "output_type": "display_data"
    },
    {
     "name": "stderr",
     "output_type": "stream",
     "text": [
      "\u001b[34m\u001b[1mwandb\u001b[0m: Agent Starting Run: jpqlbw7m with config:\n",
      "\u001b[34m\u001b[1mwandb\u001b[0m: \tbn_momentum: 0.26565188808950274\n",
      "\u001b[34m\u001b[1mwandb\u001b[0m: \tlayers: 6\n",
      "\u001b[34m\u001b[1mwandb\u001b[0m: \tlearning_rate: 0.001061447173267303\n",
      "\u001b[34m\u001b[1mwandb\u001b[0m: \tminibatch_size: 2048\n",
      "\u001b[34m\u001b[1mwandb\u001b[0m: \tunits: 128\n",
      "\u001b[34m\u001b[1mwandb\u001b[0m: \tweight_decay: 0.0004497673205010118\n"
     ]
    },
    {
     "data": {
      "text/html": [
       "Tracking run with wandb version 0.17.9"
      ],
      "text/plain": [
       "<IPython.core.display.HTML object>"
      ]
     },
     "metadata": {},
     "output_type": "display_data"
    },
    {
     "data": {
      "text/html": [
       "Run data is saved locally in <code>/Users/sondrerogde/Dev/LSTM-for-option-pricing/Sondre/wandb/run-20240924_045403-jpqlbw7m</code>"
      ],
      "text/plain": [
       "<IPython.core.display.HTML object>"
      ]
     },
     "metadata": {},
     "output_type": "display_data"
    },
    {
     "data": {
      "text/html": [
       "Syncing run <strong><a href='https://wandb.ai/sondre-rogde-ntnu/LSTM_OPTION_PRICING/runs/jpqlbw7m' target=\"_blank\">stellar-sweep-73</a></strong> to <a href='https://wandb.ai/sondre-rogde-ntnu/LSTM_OPTION_PRICING' target=\"_blank\">Weights & Biases</a> (<a href='https://wandb.me/run' target=\"_blank\">docs</a>)<br/>Sweep page: <a href='https://wandb.ai/sondre-rogde-ntnu/LSTM_OPTION_PRICING/sweeps/guuhakot' target=\"_blank\">https://wandb.ai/sondre-rogde-ntnu/LSTM_OPTION_PRICING/sweeps/guuhakot</a>"
      ],
      "text/plain": [
       "<IPython.core.display.HTML object>"
      ]
     },
     "metadata": {},
     "output_type": "display_data"
    },
    {
     "data": {
      "text/html": [
       " View project at <a href='https://wandb.ai/sondre-rogde-ntnu/LSTM_OPTION_PRICING' target=\"_blank\">https://wandb.ai/sondre-rogde-ntnu/LSTM_OPTION_PRICING</a>"
      ],
      "text/plain": [
       "<IPython.core.display.HTML object>"
      ]
     },
     "metadata": {},
     "output_type": "display_data"
    },
    {
     "data": {
      "text/html": [
       " View sweep at <a href='https://wandb.ai/sondre-rogde-ntnu/LSTM_OPTION_PRICING/sweeps/guuhakot' target=\"_blank\">https://wandb.ai/sondre-rogde-ntnu/LSTM_OPTION_PRICING/sweeps/guuhakot</a>"
      ],
      "text/plain": [
       "<IPython.core.display.HTML object>"
      ]
     },
     "metadata": {},
     "output_type": "display_data"
    },
    {
     "data": {
      "text/html": [
       " View run at <a href='https://wandb.ai/sondre-rogde-ntnu/LSTM_OPTION_PRICING/runs/jpqlbw7m' target=\"_blank\">https://wandb.ai/sondre-rogde-ntnu/LSTM_OPTION_PRICING/runs/jpqlbw7m</a>"
      ],
      "text/plain": [
       "<IPython.core.display.HTML object>"
      ]
     },
     "metadata": {},
     "output_type": "display_data"
    },
    {
     "name": "stdout",
     "output_type": "stream",
     "text": [
      "Epoch 1/300\n"
     ]
    },
    {
     "name": "stderr",
     "output_type": "stream",
     "text": [
      "/Library/Frameworks/Python.framework/Versions/3.12/lib/python3.12/site-packages/keras/src/layers/rnn/rnn.py:204: UserWarning: Do not pass an `input_shape`/`input_dim` argument to a layer. When using Sequential models, prefer using an `Input(shape)` object as the first layer in the model instead.\n",
      "  super().__init__(**kwargs)\n"
     ]
    },
    {
     "name": "stdout",
     "output_type": "stream",
     "text": [
      "\u001b[1m486/486\u001b[0m \u001b[32m━━━━━━━━━━━━━━━━━━━━\u001b[0m\u001b[37m\u001b[0m \u001b[1m124s\u001b[0m 249ms/step - loss: 610358.7500 - mae: 525.8936 - val_loss: 582125.8125 - val_mae: 533.2305\n",
      "Epoch 2/300\n",
      "\u001b[1m486/486\u001b[0m \u001b[32m━━━━━━━━━━━━━━━━━━━━\u001b[0m\u001b[37m\u001b[0m \u001b[1m130s\u001b[0m 268ms/step - loss: 355144.7500 - mae: 411.7807 - val_loss: 207065.0469 - val_mae: 334.7979\n",
      "Epoch 3/300\n",
      "\u001b[1m486/486\u001b[0m \u001b[32m━━━━━━━━━━━━━━━━━━━━\u001b[0m\u001b[37m\u001b[0m \u001b[1m125s\u001b[0m 257ms/step - loss: 99607.0859 - mae: 224.6900 - val_loss: 17263.5762 - val_mae: 111.1196\n",
      "Epoch 4/300\n",
      "\u001b[1m486/486\u001b[0m \u001b[32m━━━━━━━━━━━━━━━━━━━━\u001b[0m\u001b[37m\u001b[0m \u001b[1m123s\u001b[0m 253ms/step - loss: 9791.4307 - mae: 71.3991 - val_loss: 742.2529 - val_mae: 17.6292\n",
      "Epoch 5/300\n",
      "\u001b[1m486/486\u001b[0m \u001b[32m━━━━━━━━━━━━━━━━━━━━\u001b[0m\u001b[37m\u001b[0m \u001b[1m124s\u001b[0m 256ms/step - loss: 729.4789 - mae: 18.5868 - val_loss: 293.8488 - val_mae: 9.5075\n",
      "Epoch 6/300\n",
      "\u001b[1m486/486\u001b[0m \u001b[32m━━━━━━━━━━━━━━━━━━━━\u001b[0m\u001b[37m\u001b[0m \u001b[1m125s\u001b[0m 258ms/step - loss: 477.7813 - mae: 14.6976 - val_loss: 354.2171 - val_mae: 11.8376\n",
      "Epoch 7/300\n",
      "\u001b[1m486/486\u001b[0m \u001b[32m━━━━━━━━━━━━━━━━━━━━\u001b[0m\u001b[37m\u001b[0m \u001b[1m124s\u001b[0m 255ms/step - loss: 553.6323 - mae: 15.6913 - val_loss: 92.4859 - val_mae: 7.0411\n",
      "Epoch 8/300\n",
      "\u001b[1m486/486\u001b[0m \u001b[32m━━━━━━━━━━━━━━━━━━━━\u001b[0m\u001b[37m\u001b[0m \u001b[1m128s\u001b[0m 263ms/step - loss: 517.5461 - mae: 14.8666 - val_loss: 155.9026 - val_mae: 9.4029\n",
      "Epoch 9/300\n",
      "\u001b[1m486/486\u001b[0m \u001b[32m━━━━━━━━━━━━━━━━━━━━\u001b[0m\u001b[37m\u001b[0m \u001b[1m124s\u001b[0m 256ms/step - loss: 476.2613 - mae: 14.5377 - val_loss: 1050.9968 - val_mae: 28.7362\n",
      "Epoch 10/300\n",
      "\u001b[1m486/486\u001b[0m \u001b[32m━━━━━━━━━━━━━━━━━━━━\u001b[0m\u001b[37m\u001b[0m \u001b[1m126s\u001b[0m 259ms/step - loss: 436.0192 - mae: 13.6788 - val_loss: 190.1652 - val_mae: 10.1296\n",
      "Epoch 11/300\n",
      "\u001b[1m486/486\u001b[0m \u001b[32m━━━━━━━━━━━━━━━━━━━━\u001b[0m\u001b[37m\u001b[0m \u001b[1m125s\u001b[0m 257ms/step - loss: 568.7587 - mae: 14.9796 - val_loss: 232.5118 - val_mae: 12.5624\n",
      "Epoch 12/300\n",
      "\u001b[1m486/486\u001b[0m \u001b[32m━━━━━━━━━━━━━━━━━━━━\u001b[0m\u001b[37m\u001b[0m \u001b[1m125s\u001b[0m 258ms/step - loss: 490.0098 - mae: 14.9257 - val_loss: 302.2593 - val_mae: 14.1195\n",
      "\u001b[1m3888/3888\u001b[0m \u001b[32m━━━━━━━━━━━━━━━━━━━━\u001b[0m\u001b[37m\u001b[0m \u001b[1m15s\u001b[0m 4ms/step - loss: 244.1011 - mae: 12.6780\n"
     ]
    },
    {
     "data": {
      "text/html": [
       "<style>\n",
       "    table.wandb td:nth-child(1) { padding: 0 10px; text-align: left ; width: auto;} td:nth-child(2) {text-align: left ; width: 100%}\n",
       "    .wandb-row { display: flex; flex-direction: row; flex-wrap: wrap; justify-content: flex-start; width: 100% }\n",
       "    .wandb-col { display: flex; flex-direction: column; flex-basis: 100%; flex: 1; padding: 10px; }\n",
       "    </style>\n",
       "<div class=\"wandb-row\"><div class=\"wandb-col\"><h3>Run history:</h3><br/><table class=\"wandb\"><tr><td>epoch/epoch</td><td>▁▂▂▃▄▄▅▅▆▇▇█</td></tr><tr><td>epoch/learning_rate</td><td>▁▁▁▁▁▁▁▁▁▁▁▁</td></tr><tr><td>epoch/loss</td><td>█▅▂▁▁▁▁▁▁▁▁▁</td></tr><tr><td>epoch/mae</td><td>█▆▃▂▁▁▁▁▁▁▁▁</td></tr><tr><td>epoch/val_loss</td><td>█▃▁▁▁▁▁▁▁▁▁▁</td></tr><tr><td>epoch/val_mae</td><td>█▅▂▁▁▁▁▁▁▁▁▁</td></tr><tr><td>validation_loss</td><td>▁</td></tr></table><br/></div><div class=\"wandb-col\"><h3>Run summary:</h3><br/><table class=\"wandb\"><tr><td>epoch/epoch</td><td>11</td></tr><tr><td>epoch/learning_rate</td><td>0.00106</td></tr><tr><td>epoch/loss</td><td>485.62027</td></tr><tr><td>epoch/mae</td><td>14.60918</td></tr><tr><td>epoch/val_loss</td><td>302.25931</td></tr><tr><td>epoch/val_mae</td><td>14.1195</td></tr><tr><td>validation_loss</td><td>302.25912</td></tr></table><br/></div></div>"
      ],
      "text/plain": [
       "<IPython.core.display.HTML object>"
      ]
     },
     "metadata": {},
     "output_type": "display_data"
    },
    {
     "data": {
      "text/html": [
       " View run <strong style=\"color:#cdcd00\">stellar-sweep-73</strong> at: <a href='https://wandb.ai/sondre-rogde-ntnu/LSTM_OPTION_PRICING/runs/jpqlbw7m' target=\"_blank\">https://wandb.ai/sondre-rogde-ntnu/LSTM_OPTION_PRICING/runs/jpqlbw7m</a><br/> View project at: <a href='https://wandb.ai/sondre-rogde-ntnu/LSTM_OPTION_PRICING' target=\"_blank\">https://wandb.ai/sondre-rogde-ntnu/LSTM_OPTION_PRICING</a><br/>Synced 5 W&B file(s), 0 media file(s), 0 artifact file(s) and 0 other file(s)"
      ],
      "text/plain": [
       "<IPython.core.display.HTML object>"
      ]
     },
     "metadata": {},
     "output_type": "display_data"
    },
    {
     "data": {
      "text/html": [
       "Find logs at: <code>./wandb/run-20240924_045403-jpqlbw7m/logs</code>"
      ],
      "text/plain": [
       "<IPython.core.display.HTML object>"
      ]
     },
     "metadata": {},
     "output_type": "display_data"
    },
    {
     "data": {
      "text/html": [
       "wandb version 0.18.1 is available!  To upgrade, please run:\n",
       " $ pip install wandb --upgrade"
      ],
      "text/plain": [
       "<IPython.core.display.HTML object>"
      ]
     },
     "metadata": {},
     "output_type": "display_data"
    },
    {
     "data": {
      "text/html": [
       "The new W&B backend becomes opt-out in version 0.18.0; try it out with `wandb.require(\"core\")`! See https://wandb.me/wandb-core for more information."
      ],
      "text/plain": [
       "<IPython.core.display.HTML object>"
      ]
     },
     "metadata": {},
     "output_type": "display_data"
    },
    {
     "name": "stderr",
     "output_type": "stream",
     "text": [
      "\u001b[34m\u001b[1mwandb\u001b[0m: Agent Starting Run: 93amguuy with config:\n",
      "\u001b[34m\u001b[1mwandb\u001b[0m: \tbn_momentum: 0.060953767824802\n",
      "\u001b[34m\u001b[1mwandb\u001b[0m: \tlayers: 4\n",
      "\u001b[34m\u001b[1mwandb\u001b[0m: \tlearning_rate: 0.004304492274124734\n",
      "\u001b[34m\u001b[1mwandb\u001b[0m: \tminibatch_size: 4096\n",
      "\u001b[34m\u001b[1mwandb\u001b[0m: \tunits: 128\n",
      "\u001b[34m\u001b[1mwandb\u001b[0m: \tweight_decay: 0.0003329059535346597\n"
     ]
    },
    {
     "data": {
      "text/html": [
       "Tracking run with wandb version 0.17.9"
      ],
      "text/plain": [
       "<IPython.core.display.HTML object>"
      ]
     },
     "metadata": {},
     "output_type": "display_data"
    },
    {
     "data": {
      "text/html": [
       "Run data is saved locally in <code>/Users/sondrerogde/Dev/LSTM-for-option-pricing/Sondre/wandb/run-20240924_051933-93amguuy</code>"
      ],
      "text/plain": [
       "<IPython.core.display.HTML object>"
      ]
     },
     "metadata": {},
     "output_type": "display_data"
    },
    {
     "data": {
      "text/html": [
       "Syncing run <strong><a href='https://wandb.ai/sondre-rogde-ntnu/LSTM_OPTION_PRICING/runs/93amguuy' target=\"_blank\">smooth-sweep-74</a></strong> to <a href='https://wandb.ai/sondre-rogde-ntnu/LSTM_OPTION_PRICING' target=\"_blank\">Weights & Biases</a> (<a href='https://wandb.me/run' target=\"_blank\">docs</a>)<br/>Sweep page: <a href='https://wandb.ai/sondre-rogde-ntnu/LSTM_OPTION_PRICING/sweeps/guuhakot' target=\"_blank\">https://wandb.ai/sondre-rogde-ntnu/LSTM_OPTION_PRICING/sweeps/guuhakot</a>"
      ],
      "text/plain": [
       "<IPython.core.display.HTML object>"
      ]
     },
     "metadata": {},
     "output_type": "display_data"
    },
    {
     "data": {
      "text/html": [
       " View project at <a href='https://wandb.ai/sondre-rogde-ntnu/LSTM_OPTION_PRICING' target=\"_blank\">https://wandb.ai/sondre-rogde-ntnu/LSTM_OPTION_PRICING</a>"
      ],
      "text/plain": [
       "<IPython.core.display.HTML object>"
      ]
     },
     "metadata": {},
     "output_type": "display_data"
    },
    {
     "data": {
      "text/html": [
       " View sweep at <a href='https://wandb.ai/sondre-rogde-ntnu/LSTM_OPTION_PRICING/sweeps/guuhakot' target=\"_blank\">https://wandb.ai/sondre-rogde-ntnu/LSTM_OPTION_PRICING/sweeps/guuhakot</a>"
      ],
      "text/plain": [
       "<IPython.core.display.HTML object>"
      ]
     },
     "metadata": {},
     "output_type": "display_data"
    },
    {
     "data": {
      "text/html": [
       " View run at <a href='https://wandb.ai/sondre-rogde-ntnu/LSTM_OPTION_PRICING/runs/93amguuy' target=\"_blank\">https://wandb.ai/sondre-rogde-ntnu/LSTM_OPTION_PRICING/runs/93amguuy</a>"
      ],
      "text/plain": [
       "<IPython.core.display.HTML object>"
      ]
     },
     "metadata": {},
     "output_type": "display_data"
    },
    {
     "name": "stdout",
     "output_type": "stream",
     "text": [
      "Epoch 1/300\n"
     ]
    },
    {
     "name": "stderr",
     "output_type": "stream",
     "text": [
      "/Library/Frameworks/Python.framework/Versions/3.12/lib/python3.12/site-packages/keras/src/layers/rnn/rnn.py:204: UserWarning: Do not pass an `input_shape`/`input_dim` argument to a layer. When using Sequential models, prefer using an `Input(shape)` object as the first layer in the model instead.\n",
      "  super().__init__(**kwargs)\n"
     ]
    },
    {
     "name": "stdout",
     "output_type": "stream",
     "text": [
      "\u001b[1m243/243\u001b[0m \u001b[32m━━━━━━━━━━━━━━━━━━━━\u001b[0m\u001b[37m\u001b[0m \u001b[1m76s\u001b[0m 305ms/step - loss: 555116.9375 - mae: 501.9054 - val_loss: 199179.1250 - val_mae: 327.7475\n",
      "Epoch 2/300\n",
      "\u001b[1m243/243\u001b[0m \u001b[32m━━━━━━━━━━━━━━━━━━━━\u001b[0m\u001b[37m\u001b[0m \u001b[1m78s\u001b[0m 322ms/step - loss: 66450.1016 - mae: 173.6225 - val_loss: 934.3719 - val_mae: 27.8237\n",
      "Epoch 3/300\n",
      "\u001b[1m243/243\u001b[0m \u001b[32m━━━━━━━━━━━━━━━━━━━━\u001b[0m\u001b[37m\u001b[0m \u001b[1m77s\u001b[0m 318ms/step - loss: 443.0297 - mae: 14.5138 - val_loss: 766.3477 - val_mae: 24.8647\n",
      "Epoch 4/300\n",
      "\u001b[1m243/243\u001b[0m \u001b[32m━━━━━━━━━━━━━━━━━━━━\u001b[0m\u001b[37m\u001b[0m \u001b[1m78s\u001b[0m 322ms/step - loss: 329.5510 - mae: 12.6030 - val_loss: 888.6686 - val_mae: 26.2492\n",
      "Epoch 5/300\n",
      "\u001b[1m243/243\u001b[0m \u001b[32m━━━━━━━━━━━━━━━━━━━━\u001b[0m\u001b[37m\u001b[0m \u001b[1m78s\u001b[0m 319ms/step - loss: 340.1710 - mae: 12.7654 - val_loss: 1482.0366 - val_mae: 34.3467\n",
      "Epoch 6/300\n",
      "\u001b[1m243/243\u001b[0m \u001b[32m━━━━━━━━━━━━━━━━━━━━\u001b[0m\u001b[37m\u001b[0m \u001b[1m79s\u001b[0m 323ms/step - loss: 300.6426 - mae: 11.9371 - val_loss: 148.8271 - val_mae: 9.2867\n",
      "Epoch 7/300\n",
      "\u001b[1m243/243\u001b[0m \u001b[32m━━━━━━━━━━━━━━━━━━━━\u001b[0m\u001b[37m\u001b[0m \u001b[1m81s\u001b[0m 332ms/step - loss: 231.7049 - mae: 10.2992 - val_loss: 610.8957 - val_mae: 21.9285\n",
      "Epoch 8/300\n",
      "\u001b[1m243/243\u001b[0m \u001b[32m━━━━━━━━━━━━━━━━━━━━\u001b[0m\u001b[37m\u001b[0m \u001b[1m80s\u001b[0m 331ms/step - loss: 276.8152 - mae: 11.3812 - val_loss: 603.4105 - val_mae: 17.3916\n",
      "Epoch 9/300\n",
      "\u001b[1m243/243\u001b[0m \u001b[32m━━━━━━━━━━━━━━━━━━━━\u001b[0m\u001b[37m\u001b[0m \u001b[1m80s\u001b[0m 327ms/step - loss: 319.2156 - mae: 11.7445 - val_loss: 1374.2223 - val_mae: 29.6467\n",
      "Epoch 10/300\n",
      "\u001b[1m243/243\u001b[0m \u001b[32m━━━━━━━━━━━━━━━━━━━━\u001b[0m\u001b[37m\u001b[0m \u001b[1m79s\u001b[0m 327ms/step - loss: 255.0560 - mae: 10.8104 - val_loss: 670.6575 - val_mae: 20.8927\n",
      "Epoch 11/300\n",
      "\u001b[1m243/243\u001b[0m \u001b[32m━━━━━━━━━━━━━━━━━━━━\u001b[0m\u001b[37m\u001b[0m \u001b[1m80s\u001b[0m 330ms/step - loss: 336.6468 - mae: 12.5167 - val_loss: 915.6045 - val_mae: 23.3222\n",
      "\u001b[1m3888/3888\u001b[0m \u001b[32m━━━━━━━━━━━━━━━━━━━━\u001b[0m\u001b[37m\u001b[0m \u001b[1m10s\u001b[0m 3ms/step - loss: 1005.3792 - mae: 25.4525\n"
     ]
    },
    {
     "data": {
      "text/html": [
       "<style>\n",
       "    table.wandb td:nth-child(1) { padding: 0 10px; text-align: left ; width: auto;} td:nth-child(2) {text-align: left ; width: 100%}\n",
       "    .wandb-row { display: flex; flex-direction: row; flex-wrap: wrap; justify-content: flex-start; width: 100% }\n",
       "    .wandb-col { display: flex; flex-direction: column; flex-basis: 100%; flex: 1; padding: 10px; }\n",
       "    </style>\n",
       "<div class=\"wandb-row\"><div class=\"wandb-col\"><h3>Run history:</h3><br/><table class=\"wandb\"><tr><td>epoch/epoch</td><td>▁▂▂▃▄▅▅▆▇▇█</td></tr><tr><td>epoch/learning_rate</td><td>▁▁▁▁▁▁▁▁▁▁▁</td></tr><tr><td>epoch/loss</td><td>█▂▁▁▁▁▁▁▁▁▁</td></tr><tr><td>epoch/mae</td><td>█▃▁▁▁▁▁▁▁▁▁</td></tr><tr><td>epoch/val_loss</td><td>█▁▁▁▁▁▁▁▁▁▁</td></tr><tr><td>epoch/val_mae</td><td>█▁▁▁▂▁▁▁▁▁▁</td></tr><tr><td>validation_loss</td><td>▁</td></tr></table><br/></div><div class=\"wandb-col\"><h3>Run summary:</h3><br/><table class=\"wandb\"><tr><td>epoch/epoch</td><td>10</td></tr><tr><td>epoch/learning_rate</td><td>0.0043</td></tr><tr><td>epoch/loss</td><td>296.53391</td></tr><tr><td>epoch/mae</td><td>11.61071</td></tr><tr><td>epoch/val_loss</td><td>915.60449</td></tr><tr><td>epoch/val_mae</td><td>23.3222</td></tr><tr><td>validation_loss</td><td>915.60437</td></tr></table><br/></div></div>"
      ],
      "text/plain": [
       "<IPython.core.display.HTML object>"
      ]
     },
     "metadata": {},
     "output_type": "display_data"
    },
    {
     "data": {
      "text/html": [
       " View run <strong style=\"color:#cdcd00\">smooth-sweep-74</strong> at: <a href='https://wandb.ai/sondre-rogde-ntnu/LSTM_OPTION_PRICING/runs/93amguuy' target=\"_blank\">https://wandb.ai/sondre-rogde-ntnu/LSTM_OPTION_PRICING/runs/93amguuy</a><br/> View project at: <a href='https://wandb.ai/sondre-rogde-ntnu/LSTM_OPTION_PRICING' target=\"_blank\">https://wandb.ai/sondre-rogde-ntnu/LSTM_OPTION_PRICING</a><br/>Synced 5 W&B file(s), 0 media file(s), 0 artifact file(s) and 0 other file(s)"
      ],
      "text/plain": [
       "<IPython.core.display.HTML object>"
      ]
     },
     "metadata": {},
     "output_type": "display_data"
    },
    {
     "data": {
      "text/html": [
       "Find logs at: <code>./wandb/run-20240924_051933-93amguuy/logs</code>"
      ],
      "text/plain": [
       "<IPython.core.display.HTML object>"
      ]
     },
     "metadata": {},
     "output_type": "display_data"
    },
    {
     "data": {
      "text/html": [
       "wandb version 0.18.1 is available!  To upgrade, please run:\n",
       " $ pip install wandb --upgrade"
      ],
      "text/plain": [
       "<IPython.core.display.HTML object>"
      ]
     },
     "metadata": {},
     "output_type": "display_data"
    },
    {
     "data": {
      "text/html": [
       "The new W&B backend becomes opt-out in version 0.18.0; try it out with `wandb.require(\"core\")`! See https://wandb.me/wandb-core for more information."
      ],
      "text/plain": [
       "<IPython.core.display.HTML object>"
      ]
     },
     "metadata": {},
     "output_type": "display_data"
    },
    {
     "name": "stderr",
     "output_type": "stream",
     "text": [
      "\u001b[34m\u001b[1mwandb\u001b[0m: Agent Starting Run: 1hi6sdqg with config:\n",
      "\u001b[34m\u001b[1mwandb\u001b[0m: \tbn_momentum: 0.2738340171251482\n",
      "\u001b[34m\u001b[1mwandb\u001b[0m: \tlayers: 6\n",
      "\u001b[34m\u001b[1mwandb\u001b[0m: \tlearning_rate: 0.0020704903835652116\n",
      "\u001b[34m\u001b[1mwandb\u001b[0m: \tminibatch_size: 1024\n",
      "\u001b[34m\u001b[1mwandb\u001b[0m: \tunits: 128\n",
      "\u001b[34m\u001b[1mwandb\u001b[0m: \tweight_decay: 0.00029427093953942745\n"
     ]
    },
    {
     "data": {
      "text/html": [
       "Tracking run with wandb version 0.17.9"
      ],
      "text/plain": [
       "<IPython.core.display.HTML object>"
      ]
     },
     "metadata": {},
     "output_type": "display_data"
    },
    {
     "data": {
      "text/html": [
       "Run data is saved locally in <code>/Users/sondrerogde/Dev/LSTM-for-option-pricing/Sondre/wandb/run-20240924_053422-1hi6sdqg</code>"
      ],
      "text/plain": [
       "<IPython.core.display.HTML object>"
      ]
     },
     "metadata": {},
     "output_type": "display_data"
    },
    {
     "data": {
      "text/html": [
       "Syncing run <strong><a href='https://wandb.ai/sondre-rogde-ntnu/LSTM_OPTION_PRICING/runs/1hi6sdqg' target=\"_blank\">toasty-sweep-75</a></strong> to <a href='https://wandb.ai/sondre-rogde-ntnu/LSTM_OPTION_PRICING' target=\"_blank\">Weights & Biases</a> (<a href='https://wandb.me/run' target=\"_blank\">docs</a>)<br/>Sweep page: <a href='https://wandb.ai/sondre-rogde-ntnu/LSTM_OPTION_PRICING/sweeps/guuhakot' target=\"_blank\">https://wandb.ai/sondre-rogde-ntnu/LSTM_OPTION_PRICING/sweeps/guuhakot</a>"
      ],
      "text/plain": [
       "<IPython.core.display.HTML object>"
      ]
     },
     "metadata": {},
     "output_type": "display_data"
    },
    {
     "data": {
      "text/html": [
       " View project at <a href='https://wandb.ai/sondre-rogde-ntnu/LSTM_OPTION_PRICING' target=\"_blank\">https://wandb.ai/sondre-rogde-ntnu/LSTM_OPTION_PRICING</a>"
      ],
      "text/plain": [
       "<IPython.core.display.HTML object>"
      ]
     },
     "metadata": {},
     "output_type": "display_data"
    },
    {
     "data": {
      "text/html": [
       " View sweep at <a href='https://wandb.ai/sondre-rogde-ntnu/LSTM_OPTION_PRICING/sweeps/guuhakot' target=\"_blank\">https://wandb.ai/sondre-rogde-ntnu/LSTM_OPTION_PRICING/sweeps/guuhakot</a>"
      ],
      "text/plain": [
       "<IPython.core.display.HTML object>"
      ]
     },
     "metadata": {},
     "output_type": "display_data"
    },
    {
     "data": {
      "text/html": [
       " View run at <a href='https://wandb.ai/sondre-rogde-ntnu/LSTM_OPTION_PRICING/runs/1hi6sdqg' target=\"_blank\">https://wandb.ai/sondre-rogde-ntnu/LSTM_OPTION_PRICING/runs/1hi6sdqg</a>"
      ],
      "text/plain": [
       "<IPython.core.display.HTML object>"
      ]
     },
     "metadata": {},
     "output_type": "display_data"
    },
    {
     "name": "stdout",
     "output_type": "stream",
     "text": [
      "Epoch 1/300\n"
     ]
    },
    {
     "name": "stderr",
     "output_type": "stream",
     "text": [
      "/Library/Frameworks/Python.framework/Versions/3.12/lib/python3.12/site-packages/keras/src/layers/rnn/rnn.py:204: UserWarning: Do not pass an `input_shape`/`input_dim` argument to a layer. When using Sequential models, prefer using an `Input(shape)` object as the first layer in the model instead.\n",
      "  super().__init__(**kwargs)\n"
     ]
    },
    {
     "name": "stdout",
     "output_type": "stream",
     "text": [
      "\u001b[1m972/972\u001b[0m \u001b[32m━━━━━━━━━━━━━━━━━━━━\u001b[0m\u001b[37m\u001b[0m \u001b[1m137s\u001b[0m 136ms/step - loss: 433140.8438 - mae: 428.8540 - val_loss: 2625.6792 - val_mae: 38.4650\n",
      "Epoch 2/300\n",
      "\u001b[1m972/972\u001b[0m \u001b[32m━━━━━━━━━━━━━━━━━━━━\u001b[0m\u001b[37m\u001b[0m \u001b[1m134s\u001b[0m 138ms/step - loss: 1196.1117 - mae: 23.1705 - val_loss: 12094.9639 - val_mae: 96.2059\n",
      "Epoch 3/300\n",
      "\u001b[1m972/972\u001b[0m \u001b[32m━━━━━━━━━━━━━━━━━━━━\u001b[0m\u001b[37m\u001b[0m \u001b[1m135s\u001b[0m 139ms/step - loss: 943.4050 - mae: 20.3057 - val_loss: 1124.4508 - val_mae: 19.0887\n",
      "Epoch 4/300\n",
      "\u001b[1m972/972\u001b[0m \u001b[32m━━━━━━━━━━━━━━━━━━━━\u001b[0m\u001b[37m\u001b[0m \u001b[1m132s\u001b[0m 136ms/step - loss: 858.4493 - mae: 19.3460 - val_loss: 15095.2139 - val_mae: 108.9126\n",
      "Epoch 5/300\n",
      "\u001b[1m972/972\u001b[0m \u001b[32m━━━━━━━━━━━━━━━━━━━━\u001b[0m\u001b[37m\u001b[0m \u001b[1m133s\u001b[0m 136ms/step - loss: 830.6979 - mae: 19.1910 - val_loss: 742.7598 - val_mae: 24.6388\n",
      "Epoch 6/300\n",
      "\u001b[1m972/972\u001b[0m \u001b[32m━━━━━━━━━━━━━━━━━━━━\u001b[0m\u001b[37m\u001b[0m \u001b[1m135s\u001b[0m 139ms/step - loss: 890.5933 - mae: 19.5990 - val_loss: 6532.8550 - val_mae: 72.7823\n",
      "Epoch 7/300\n",
      "\u001b[1m972/972\u001b[0m \u001b[32m━━━━━━━━━━━━━━━━━━━━\u001b[0m\u001b[37m\u001b[0m \u001b[1m133s\u001b[0m 137ms/step - loss: 880.9554 - mae: 19.4955 - val_loss: 421.1446 - val_mae: 15.9368\n",
      "Epoch 8/300\n",
      "\u001b[1m972/972\u001b[0m \u001b[32m━━━━━━━━━━━━━━━━━━━━\u001b[0m\u001b[37m\u001b[0m \u001b[1m134s\u001b[0m 138ms/step - loss: 884.6289 - mae: 19.7810 - val_loss: 3615.8469 - val_mae: 55.1383\n",
      "Epoch 9/300\n",
      "\u001b[1m972/972\u001b[0m \u001b[32m━━━━━━━━━━━━━━━━━━━━\u001b[0m\u001b[37m\u001b[0m \u001b[1m134s\u001b[0m 138ms/step - loss: 803.0135 - mae: 18.4415 - val_loss: 416.9009 - val_mae: 17.4175\n",
      "Epoch 10/300\n",
      "\u001b[1m972/972\u001b[0m \u001b[32m━━━━━━━━━━━━━━━━━━━━\u001b[0m\u001b[37m\u001b[0m \u001b[1m134s\u001b[0m 138ms/step - loss: 769.7917 - mae: 18.7393 - val_loss: 100.4772 - val_mae: 7.4805\n",
      "Epoch 11/300\n",
      "\u001b[1m972/972\u001b[0m \u001b[32m━━━━━━━━━━━━━━━━━━━━\u001b[0m\u001b[37m\u001b[0m \u001b[1m136s\u001b[0m 140ms/step - loss: 800.7169 - mae: 18.3225 - val_loss: 14455.7266 - val_mae: 106.6156\n",
      "Epoch 12/300\n",
      "\u001b[1m972/972\u001b[0m \u001b[32m━━━━━━━━━━━━━━━━━━━━\u001b[0m\u001b[37m\u001b[0m \u001b[1m134s\u001b[0m 137ms/step - loss: 749.1799 - mae: 18.1475 - val_loss: 5242.4756 - val_mae: 61.1277\n",
      "Epoch 13/300\n",
      "\u001b[1m972/972\u001b[0m \u001b[32m━━━━━━━━━━━━━━━━━━━━\u001b[0m\u001b[37m\u001b[0m \u001b[1m133s\u001b[0m 137ms/step - loss: 811.2092 - mae: 18.9407 - val_loss: 1237.6426 - val_mae: 30.9732\n",
      "Epoch 14/300\n",
      "\u001b[1m972/972\u001b[0m \u001b[32m━━━━━━━━━━━━━━━━━━━━\u001b[0m\u001b[37m\u001b[0m \u001b[1m133s\u001b[0m 137ms/step - loss: 826.6697 - mae: 18.8885 - val_loss: 184.4254 - val_mae: 9.4629\n",
      "Epoch 15/300\n",
      "\u001b[1m972/972\u001b[0m \u001b[32m━━━━━━━━━━━━━━━━━━━━\u001b[0m\u001b[37m\u001b[0m \u001b[1m134s\u001b[0m 138ms/step - loss: 784.0135 - mae: 18.7206 - val_loss: 693.6313 - val_mae: 21.0516\n",
      "\u001b[1m3888/3888\u001b[0m \u001b[32m━━━━━━━━━━━━━━━━━━━━\u001b[0m\u001b[37m\u001b[0m \u001b[1m16s\u001b[0m 4ms/step - loss: 582.6635 - mae: 19.4649\n"
     ]
    },
    {
     "data": {
      "text/html": [
       "<style>\n",
       "    table.wandb td:nth-child(1) { padding: 0 10px; text-align: left ; width: auto;} td:nth-child(2) {text-align: left ; width: 100%}\n",
       "    .wandb-row { display: flex; flex-direction: row; flex-wrap: wrap; justify-content: flex-start; width: 100% }\n",
       "    .wandb-col { display: flex; flex-direction: column; flex-basis: 100%; flex: 1; padding: 10px; }\n",
       "    </style>\n",
       "<div class=\"wandb-row\"><div class=\"wandb-col\"><h3>Run history:</h3><br/><table class=\"wandb\"><tr><td>epoch/epoch</td><td>▁▁▂▃▃▃▄▅▅▅▆▇▇▇█</td></tr><tr><td>epoch/learning_rate</td><td>▁▁▁▁▁▁▁▁▁▁▁▁▁▁▁</td></tr><tr><td>epoch/loss</td><td>█▁▁▁▁▁▁▁▁▁▁▁▁▁▁</td></tr><tr><td>epoch/mae</td><td>█▁▁▁▁▁▁▁▁▁▁▁▁▁▁</td></tr><tr><td>epoch/val_loss</td><td>▂▇▁█▁▄▁▃▁▁█▃▂▁▁</td></tr><tr><td>epoch/val_mae</td><td>▃▇▂█▂▆▂▄▂▁█▅▃▁▂</td></tr><tr><td>validation_loss</td><td>▁</td></tr></table><br/></div><div class=\"wandb-col\"><h3>Run summary:</h3><br/><table class=\"wandb\"><tr><td>epoch/epoch</td><td>14</td></tr><tr><td>epoch/learning_rate</td><td>0.00207</td></tr><tr><td>epoch/loss</td><td>789.82892</td></tr><tr><td>epoch/mae</td><td>18.80729</td></tr><tr><td>epoch/val_loss</td><td>693.63135</td></tr><tr><td>epoch/val_mae</td><td>21.05161</td></tr><tr><td>validation_loss</td><td>693.63184</td></tr></table><br/></div></div>"
      ],
      "text/plain": [
       "<IPython.core.display.HTML object>"
      ]
     },
     "metadata": {},
     "output_type": "display_data"
    },
    {
     "data": {
      "text/html": [
       " View run <strong style=\"color:#cdcd00\">toasty-sweep-75</strong> at: <a href='https://wandb.ai/sondre-rogde-ntnu/LSTM_OPTION_PRICING/runs/1hi6sdqg' target=\"_blank\">https://wandb.ai/sondre-rogde-ntnu/LSTM_OPTION_PRICING/runs/1hi6sdqg</a><br/> View project at: <a href='https://wandb.ai/sondre-rogde-ntnu/LSTM_OPTION_PRICING' target=\"_blank\">https://wandb.ai/sondre-rogde-ntnu/LSTM_OPTION_PRICING</a><br/>Synced 5 W&B file(s), 0 media file(s), 0 artifact file(s) and 0 other file(s)"
      ],
      "text/plain": [
       "<IPython.core.display.HTML object>"
      ]
     },
     "metadata": {},
     "output_type": "display_data"
    },
    {
     "data": {
      "text/html": [
       "Find logs at: <code>./wandb/run-20240924_053422-1hi6sdqg/logs</code>"
      ],
      "text/plain": [
       "<IPython.core.display.HTML object>"
      ]
     },
     "metadata": {},
     "output_type": "display_data"
    },
    {
     "data": {
      "text/html": [
       "wandb version 0.18.1 is available!  To upgrade, please run:\n",
       " $ pip install wandb --upgrade"
      ],
      "text/plain": [
       "<IPython.core.display.HTML object>"
      ]
     },
     "metadata": {},
     "output_type": "display_data"
    },
    {
     "data": {
      "text/html": [
       "The new W&B backend becomes opt-out in version 0.18.0; try it out with `wandb.require(\"core\")`! See https://wandb.me/wandb-core for more information."
      ],
      "text/plain": [
       "<IPython.core.display.HTML object>"
      ]
     },
     "metadata": {},
     "output_type": "display_data"
    },
    {
     "name": "stderr",
     "output_type": "stream",
     "text": [
      "\u001b[34m\u001b[1mwandb\u001b[0m: Agent Starting Run: ccygb5gr with config:\n",
      "\u001b[34m\u001b[1mwandb\u001b[0m: \tbn_momentum: 0.23550524970807865\n",
      "\u001b[34m\u001b[1mwandb\u001b[0m: \tlayers: 4\n",
      "\u001b[34m\u001b[1mwandb\u001b[0m: \tlearning_rate: 0.004076472897851824\n",
      "\u001b[34m\u001b[1mwandb\u001b[0m: \tminibatch_size: 2048\n",
      "\u001b[34m\u001b[1mwandb\u001b[0m: \tunits: 128\n",
      "\u001b[34m\u001b[1mwandb\u001b[0m: \tweight_decay: 7.783867499730823e-05\n"
     ]
    },
    {
     "data": {
      "text/html": [
       "Tracking run with wandb version 0.17.9"
      ],
      "text/plain": [
       "<IPython.core.display.HTML object>"
      ]
     },
     "metadata": {},
     "output_type": "display_data"
    },
    {
     "data": {
      "text/html": [
       "Run data is saved locally in <code>/Users/sondrerogde/Dev/LSTM-for-option-pricing/Sondre/wandb/run-20240924_060822-ccygb5gr</code>"
      ],
      "text/plain": [
       "<IPython.core.display.HTML object>"
      ]
     },
     "metadata": {},
     "output_type": "display_data"
    },
    {
     "data": {
      "text/html": [
       "Syncing run <strong><a href='https://wandb.ai/sondre-rogde-ntnu/LSTM_OPTION_PRICING/runs/ccygb5gr' target=\"_blank\">dainty-sweep-76</a></strong> to <a href='https://wandb.ai/sondre-rogde-ntnu/LSTM_OPTION_PRICING' target=\"_blank\">Weights & Biases</a> (<a href='https://wandb.me/run' target=\"_blank\">docs</a>)<br/>Sweep page: <a href='https://wandb.ai/sondre-rogde-ntnu/LSTM_OPTION_PRICING/sweeps/guuhakot' target=\"_blank\">https://wandb.ai/sondre-rogde-ntnu/LSTM_OPTION_PRICING/sweeps/guuhakot</a>"
      ],
      "text/plain": [
       "<IPython.core.display.HTML object>"
      ]
     },
     "metadata": {},
     "output_type": "display_data"
    },
    {
     "data": {
      "text/html": [
       " View project at <a href='https://wandb.ai/sondre-rogde-ntnu/LSTM_OPTION_PRICING' target=\"_blank\">https://wandb.ai/sondre-rogde-ntnu/LSTM_OPTION_PRICING</a>"
      ],
      "text/plain": [
       "<IPython.core.display.HTML object>"
      ]
     },
     "metadata": {},
     "output_type": "display_data"
    },
    {
     "data": {
      "text/html": [
       " View sweep at <a href='https://wandb.ai/sondre-rogde-ntnu/LSTM_OPTION_PRICING/sweeps/guuhakot' target=\"_blank\">https://wandb.ai/sondre-rogde-ntnu/LSTM_OPTION_PRICING/sweeps/guuhakot</a>"
      ],
      "text/plain": [
       "<IPython.core.display.HTML object>"
      ]
     },
     "metadata": {},
     "output_type": "display_data"
    },
    {
     "data": {
      "text/html": [
       " View run at <a href='https://wandb.ai/sondre-rogde-ntnu/LSTM_OPTION_PRICING/runs/ccygb5gr' target=\"_blank\">https://wandb.ai/sondre-rogde-ntnu/LSTM_OPTION_PRICING/runs/ccygb5gr</a>"
      ],
      "text/plain": [
       "<IPython.core.display.HTML object>"
      ]
     },
     "metadata": {},
     "output_type": "display_data"
    },
    {
     "name": "stdout",
     "output_type": "stream",
     "text": [
      "Epoch 1/300\n"
     ]
    },
    {
     "name": "stderr",
     "output_type": "stream",
     "text": [
      "/Library/Frameworks/Python.framework/Versions/3.12/lib/python3.12/site-packages/keras/src/layers/rnn/rnn.py:204: UserWarning: Do not pass an `input_shape`/`input_dim` argument to a layer. When using Sequential models, prefer using an `Input(shape)` object as the first layer in the model instead.\n",
      "  super().__init__(**kwargs)\n"
     ]
    },
    {
     "name": "stdout",
     "output_type": "stream",
     "text": [
      "\u001b[1m486/486\u001b[0m \u001b[32m━━━━━━━━━━━━━━━━━━━━\u001b[0m\u001b[37m\u001b[0m \u001b[1m80s\u001b[0m 160ms/step - loss: 445230.7812 - mae: 435.2738 - val_loss: 466.4412 - val_mae: 18.6176\n",
      "Epoch 2/300\n",
      "\u001b[1m486/486\u001b[0m \u001b[32m━━━━━━━━━━━━━━━━━━━━\u001b[0m\u001b[37m\u001b[0m \u001b[1m83s\u001b[0m 170ms/step - loss: 672.6390 - mae: 17.6690 - val_loss: 2607.7507 - val_mae: 45.9680\n",
      "Epoch 3/300\n",
      "\u001b[1m486/486\u001b[0m \u001b[32m━━━━━━━━━━━━━━━━━━━━\u001b[0m\u001b[37m\u001b[0m \u001b[1m83s\u001b[0m 170ms/step - loss: 538.6830 - mae: 15.9333 - val_loss: 213.1544 - val_mae: 10.6658\n",
      "Epoch 4/300\n",
      "\u001b[1m486/486\u001b[0m \u001b[32m━━━━━━━━━━━━━━━━━━━━\u001b[0m\u001b[37m\u001b[0m \u001b[1m83s\u001b[0m 170ms/step - loss: 492.4647 - mae: 14.6319 - val_loss: 104.0829 - val_mae: 6.4858\n",
      "Epoch 5/300\n",
      "\u001b[1m486/486\u001b[0m \u001b[32m━━━━━━━━━━━━━━━━━━━━\u001b[0m\u001b[37m\u001b[0m \u001b[1m82s\u001b[0m 168ms/step - loss: 481.3156 - mae: 14.8410 - val_loss: 493.9431 - val_mae: 19.7089\n",
      "Epoch 6/300\n",
      "\u001b[1m486/486\u001b[0m \u001b[32m━━━━━━━━━━━━━━━━━━━━\u001b[0m\u001b[37m\u001b[0m \u001b[1m82s\u001b[0m 169ms/step - loss: 495.8972 - mae: 14.6837 - val_loss: 101.2217 - val_mae: 6.6871\n",
      "Epoch 7/300\n",
      "\u001b[1m486/486\u001b[0m \u001b[32m━━━━━━━━━━━━━━━━━━━━\u001b[0m\u001b[37m\u001b[0m \u001b[1m83s\u001b[0m 170ms/step - loss: 514.5859 - mae: 15.4504 - val_loss: 580.7459 - val_mae: 21.5102\n",
      "Epoch 8/300\n",
      "\u001b[1m486/486\u001b[0m \u001b[32m━━━━━━━━━━━━━━━━━━━━\u001b[0m\u001b[37m\u001b[0m \u001b[1m83s\u001b[0m 171ms/step - loss: 496.2202 - mae: 14.7999 - val_loss: 229.1984 - val_mae: 11.3102\n",
      "Epoch 9/300\n",
      "\u001b[1m486/486\u001b[0m \u001b[32m━━━━━━━━━━━━━━━━━━━━\u001b[0m\u001b[37m\u001b[0m \u001b[1m82s\u001b[0m 169ms/step - loss: 506.0605 - mae: 14.8030 - val_loss: 536.9846 - val_mae: 20.1983\n",
      "Epoch 10/300\n",
      "\u001b[1m486/486\u001b[0m \u001b[32m━━━━━━━━━━━━━━━━━━━━\u001b[0m\u001b[37m\u001b[0m \u001b[1m82s\u001b[0m 168ms/step - loss: 470.8638 - mae: 14.2563 - val_loss: 111.7430 - val_mae: 7.5883\n",
      "Epoch 11/300\n",
      "\u001b[1m486/486\u001b[0m \u001b[32m━━━━━━━━━━━━━━━━━━━━\u001b[0m\u001b[37m\u001b[0m \u001b[1m82s\u001b[0m 169ms/step - loss: 423.3191 - mae: 13.6812 - val_loss: 1329.8367 - val_mae: 30.8941\n",
      "\u001b[1m3888/3888\u001b[0m \u001b[32m━━━━━━━━━━━━━━━━━━━━\u001b[0m\u001b[37m\u001b[0m \u001b[1m10s\u001b[0m 3ms/step - loss: 1482.9822 - mae: 33.3887\n"
     ]
    },
    {
     "data": {
      "text/html": [
       "<style>\n",
       "    table.wandb td:nth-child(1) { padding: 0 10px; text-align: left ; width: auto;} td:nth-child(2) {text-align: left ; width: 100%}\n",
       "    .wandb-row { display: flex; flex-direction: row; flex-wrap: wrap; justify-content: flex-start; width: 100% }\n",
       "    .wandb-col { display: flex; flex-direction: column; flex-basis: 100%; flex: 1; padding: 10px; }\n",
       "    </style>\n",
       "<div class=\"wandb-row\"><div class=\"wandb-col\"><h3>Run history:</h3><br/><table class=\"wandb\"><tr><td>epoch/epoch</td><td>▁▂▂▃▄▅▅▆▇▇█</td></tr><tr><td>epoch/learning_rate</td><td>▁▁▁▁▁▁▁▁▁▁▁</td></tr><tr><td>epoch/loss</td><td>█▁▁▁▁▁▁▁▁▁▁</td></tr><tr><td>epoch/mae</td><td>█▁▁▁▁▁▁▁▁▁▁</td></tr><tr><td>epoch/val_loss</td><td>▂█▁▁▂▁▂▁▂▁▄</td></tr><tr><td>epoch/val_mae</td><td>▃█▂▁▃▁▄▂▃▁▅</td></tr><tr><td>validation_loss</td><td>▁</td></tr></table><br/></div><div class=\"wandb-col\"><h3>Run summary:</h3><br/><table class=\"wandb\"><tr><td>epoch/epoch</td><td>10</td></tr><tr><td>epoch/learning_rate</td><td>0.00408</td></tr><tr><td>epoch/loss</td><td>417.31537</td></tr><tr><td>epoch/mae</td><td>13.67546</td></tr><tr><td>epoch/val_loss</td><td>1329.83667</td></tr><tr><td>epoch/val_mae</td><td>30.89414</td></tr><tr><td>validation_loss</td><td>1329.83972</td></tr></table><br/></div></div>"
      ],
      "text/plain": [
       "<IPython.core.display.HTML object>"
      ]
     },
     "metadata": {},
     "output_type": "display_data"
    },
    {
     "data": {
      "text/html": [
       " View run <strong style=\"color:#cdcd00\">dainty-sweep-76</strong> at: <a href='https://wandb.ai/sondre-rogde-ntnu/LSTM_OPTION_PRICING/runs/ccygb5gr' target=\"_blank\">https://wandb.ai/sondre-rogde-ntnu/LSTM_OPTION_PRICING/runs/ccygb5gr</a><br/> View project at: <a href='https://wandb.ai/sondre-rogde-ntnu/LSTM_OPTION_PRICING' target=\"_blank\">https://wandb.ai/sondre-rogde-ntnu/LSTM_OPTION_PRICING</a><br/>Synced 5 W&B file(s), 0 media file(s), 0 artifact file(s) and 0 other file(s)"
      ],
      "text/plain": [
       "<IPython.core.display.HTML object>"
      ]
     },
     "metadata": {},
     "output_type": "display_data"
    },
    {
     "data": {
      "text/html": [
       "Find logs at: <code>./wandb/run-20240924_060822-ccygb5gr/logs</code>"
      ],
      "text/plain": [
       "<IPython.core.display.HTML object>"
      ]
     },
     "metadata": {},
     "output_type": "display_data"
    },
    {
     "data": {
      "text/html": [
       "wandb version 0.18.1 is available!  To upgrade, please run:\n",
       " $ pip install wandb --upgrade"
      ],
      "text/plain": [
       "<IPython.core.display.HTML object>"
      ]
     },
     "metadata": {},
     "output_type": "display_data"
    },
    {
     "data": {
      "text/html": [
       "The new W&B backend becomes opt-out in version 0.18.0; try it out with `wandb.require(\"core\")`! See https://wandb.me/wandb-core for more information."
      ],
      "text/plain": [
       "<IPython.core.display.HTML object>"
      ]
     },
     "metadata": {},
     "output_type": "display_data"
    },
    {
     "name": "stderr",
     "output_type": "stream",
     "text": [
      "\u001b[34m\u001b[1mwandb\u001b[0m: Agent Starting Run: ruv08b4v with config:\n",
      "\u001b[34m\u001b[1mwandb\u001b[0m: \tbn_momentum: 0.3768519788879332\n",
      "\u001b[34m\u001b[1mwandb\u001b[0m: \tlayers: 6\n",
      "\u001b[34m\u001b[1mwandb\u001b[0m: \tlearning_rate: 0.003837607353968963\n",
      "\u001b[34m\u001b[1mwandb\u001b[0m: \tminibatch_size: 1024\n",
      "\u001b[34m\u001b[1mwandb\u001b[0m: \tunits: 64\n",
      "\u001b[34m\u001b[1mwandb\u001b[0m: \tweight_decay: 0.00047663156385031706\n"
     ]
    },
    {
     "data": {
      "text/html": [
       "Tracking run with wandb version 0.17.9"
      ],
      "text/plain": [
       "<IPython.core.display.HTML object>"
      ]
     },
     "metadata": {},
     "output_type": "display_data"
    },
    {
     "data": {
      "text/html": [
       "Run data is saved locally in <code>/Users/sondrerogde/Dev/LSTM-for-option-pricing/Sondre/wandb/run-20240924_062347-ruv08b4v</code>"
      ],
      "text/plain": [
       "<IPython.core.display.HTML object>"
      ]
     },
     "metadata": {},
     "output_type": "display_data"
    },
    {
     "data": {
      "text/html": [
       "Syncing run <strong><a href='https://wandb.ai/sondre-rogde-ntnu/LSTM_OPTION_PRICING/runs/ruv08b4v' target=\"_blank\">wandering-sweep-77</a></strong> to <a href='https://wandb.ai/sondre-rogde-ntnu/LSTM_OPTION_PRICING' target=\"_blank\">Weights & Biases</a> (<a href='https://wandb.me/run' target=\"_blank\">docs</a>)<br/>Sweep page: <a href='https://wandb.ai/sondre-rogde-ntnu/LSTM_OPTION_PRICING/sweeps/guuhakot' target=\"_blank\">https://wandb.ai/sondre-rogde-ntnu/LSTM_OPTION_PRICING/sweeps/guuhakot</a>"
      ],
      "text/plain": [
       "<IPython.core.display.HTML object>"
      ]
     },
     "metadata": {},
     "output_type": "display_data"
    },
    {
     "data": {
      "text/html": [
       " View project at <a href='https://wandb.ai/sondre-rogde-ntnu/LSTM_OPTION_PRICING' target=\"_blank\">https://wandb.ai/sondre-rogde-ntnu/LSTM_OPTION_PRICING</a>"
      ],
      "text/plain": [
       "<IPython.core.display.HTML object>"
      ]
     },
     "metadata": {},
     "output_type": "display_data"
    },
    {
     "data": {
      "text/html": [
       " View sweep at <a href='https://wandb.ai/sondre-rogde-ntnu/LSTM_OPTION_PRICING/sweeps/guuhakot' target=\"_blank\">https://wandb.ai/sondre-rogde-ntnu/LSTM_OPTION_PRICING/sweeps/guuhakot</a>"
      ],
      "text/plain": [
       "<IPython.core.display.HTML object>"
      ]
     },
     "metadata": {},
     "output_type": "display_data"
    },
    {
     "data": {
      "text/html": [
       " View run at <a href='https://wandb.ai/sondre-rogde-ntnu/LSTM_OPTION_PRICING/runs/ruv08b4v' target=\"_blank\">https://wandb.ai/sondre-rogde-ntnu/LSTM_OPTION_PRICING/runs/ruv08b4v</a>"
      ],
      "text/plain": [
       "<IPython.core.display.HTML object>"
      ]
     },
     "metadata": {},
     "output_type": "display_data"
    },
    {
     "name": "stdout",
     "output_type": "stream",
     "text": [
      "Epoch 1/300\n"
     ]
    },
    {
     "name": "stderr",
     "output_type": "stream",
     "text": [
      "/Library/Frameworks/Python.framework/Versions/3.12/lib/python3.12/site-packages/keras/src/layers/rnn/rnn.py:204: UserWarning: Do not pass an `input_shape`/`input_dim` argument to a layer. When using Sequential models, prefer using an `Input(shape)` object as the first layer in the model instead.\n",
      "  super().__init__(**kwargs)\n"
     ]
    },
    {
     "name": "stdout",
     "output_type": "stream",
     "text": [
      "\u001b[1m972/972\u001b[0m \u001b[32m━━━━━━━━━━━━━━━━━━━━\u001b[0m\u001b[37m\u001b[0m \u001b[1m55s\u001b[0m 53ms/step - loss: 395850.7188 - mae: 391.5356 - val_loss: 936.1468 - val_mae: 26.6460\n",
      "Epoch 2/300\n",
      "\u001b[1m972/972\u001b[0m \u001b[32m━━━━━━━━━━━━━━━━━━━━\u001b[0m\u001b[37m\u001b[0m \u001b[1m56s\u001b[0m 58ms/step - loss: 899.7966 - mae: 20.3067 - val_loss: 3436.4265 - val_mae: 47.6396\n",
      "Epoch 3/300\n",
      "\u001b[1m972/972\u001b[0m \u001b[32m━━━━━━━━━━━━━━━━━━━━\u001b[0m\u001b[37m\u001b[0m \u001b[1m55s\u001b[0m 57ms/step - loss: 917.1649 - mae: 20.1491 - val_loss: 703.9481 - val_mae: 22.7520\n",
      "Epoch 4/300\n",
      "\u001b[1m972/972\u001b[0m \u001b[32m━━━━━━━━━━━━━━━━━━━━\u001b[0m\u001b[37m\u001b[0m \u001b[1m55s\u001b[0m 57ms/step - loss: 819.2785 - mae: 19.0383 - val_loss: 909.8000 - val_mae: 26.9819\n",
      "Epoch 5/300\n",
      "\u001b[1m972/972\u001b[0m \u001b[32m━━━━━━━━━━━━━━━━━━━━\u001b[0m\u001b[37m\u001b[0m \u001b[1m56s\u001b[0m 57ms/step - loss: 885.0634 - mae: 19.5826 - val_loss: 774.4413 - val_mae: 24.6532\n",
      "Epoch 6/300\n",
      "\u001b[1m972/972\u001b[0m \u001b[32m━━━━━━━━━━━━━━━━━━━━\u001b[0m\u001b[37m\u001b[0m \u001b[1m54s\u001b[0m 55ms/step - loss: 934.4675 - mae: 20.4128 - val_loss: 13868.4072 - val_mae: 106.8541\n",
      "Epoch 7/300\n",
      "\u001b[1m972/972\u001b[0m \u001b[32m━━━━━━━━━━━━━━━━━━━━\u001b[0m\u001b[37m\u001b[0m \u001b[1m53s\u001b[0m 54ms/step - loss: 912.7442 - mae: 20.0648 - val_loss: 2022.3883 - val_mae: 36.7211\n",
      "Epoch 8/300\n",
      "\u001b[1m972/972\u001b[0m \u001b[32m━━━━━━━━━━━━━━━━━━━━\u001b[0m\u001b[37m\u001b[0m \u001b[1m54s\u001b[0m 55ms/step - loss: 743.2234 - mae: 17.7931 - val_loss: 1049.4291 - val_mae: 28.1460\n",
      "\u001b[1m3888/3888\u001b[0m \u001b[32m━━━━━━━━━━━━━━━━━━━━\u001b[0m\u001b[37m\u001b[0m \u001b[1m6s\u001b[0m 2ms/step - loss: 1104.0839 - mae: 29.4427\n"
     ]
    },
    {
     "data": {
      "text/html": [
       "<style>\n",
       "    table.wandb td:nth-child(1) { padding: 0 10px; text-align: left ; width: auto;} td:nth-child(2) {text-align: left ; width: 100%}\n",
       "    .wandb-row { display: flex; flex-direction: row; flex-wrap: wrap; justify-content: flex-start; width: 100% }\n",
       "    .wandb-col { display: flex; flex-direction: column; flex-basis: 100%; flex: 1; padding: 10px; }\n",
       "    </style>\n",
       "<div class=\"wandb-row\"><div class=\"wandb-col\"><h3>Run history:</h3><br/><table class=\"wandb\"><tr><td>epoch/epoch</td><td>▁▂▃▄▅▆▇█</td></tr><tr><td>epoch/learning_rate</td><td>▁▁▁▁▁▁▁▁</td></tr><tr><td>epoch/loss</td><td>█▁▁▁▁▁▁▁</td></tr><tr><td>epoch/mae</td><td>█▁▁▁▁▁▁▁</td></tr><tr><td>epoch/val_loss</td><td>▁▂▁▁▁█▂▁</td></tr><tr><td>epoch/val_mae</td><td>▁▃▁▁▁█▂▁</td></tr><tr><td>validation_loss</td><td>▁</td></tr></table><br/></div><div class=\"wandb-col\"><h3>Run summary:</h3><br/><table class=\"wandb\"><tr><td>epoch/epoch</td><td>7</td></tr><tr><td>epoch/learning_rate</td><td>0.00384</td></tr><tr><td>epoch/loss</td><td>793.14484</td></tr><tr><td>epoch/mae</td><td>18.41138</td></tr><tr><td>epoch/val_loss</td><td>1049.42908</td></tr><tr><td>epoch/val_mae</td><td>28.14597</td></tr><tr><td>validation_loss</td><td>1049.42883</td></tr></table><br/></div></div>"
      ],
      "text/plain": [
       "<IPython.core.display.HTML object>"
      ]
     },
     "metadata": {},
     "output_type": "display_data"
    },
    {
     "data": {
      "text/html": [
       " View run <strong style=\"color:#cdcd00\">wandering-sweep-77</strong> at: <a href='https://wandb.ai/sondre-rogde-ntnu/LSTM_OPTION_PRICING/runs/ruv08b4v' target=\"_blank\">https://wandb.ai/sondre-rogde-ntnu/LSTM_OPTION_PRICING/runs/ruv08b4v</a><br/> View project at: <a href='https://wandb.ai/sondre-rogde-ntnu/LSTM_OPTION_PRICING' target=\"_blank\">https://wandb.ai/sondre-rogde-ntnu/LSTM_OPTION_PRICING</a><br/>Synced 5 W&B file(s), 0 media file(s), 0 artifact file(s) and 0 other file(s)"
      ],
      "text/plain": [
       "<IPython.core.display.HTML object>"
      ]
     },
     "metadata": {},
     "output_type": "display_data"
    },
    {
     "data": {
      "text/html": [
       "Find logs at: <code>./wandb/run-20240924_062347-ruv08b4v/logs</code>"
      ],
      "text/plain": [
       "<IPython.core.display.HTML object>"
      ]
     },
     "metadata": {},
     "output_type": "display_data"
    },
    {
     "data": {
      "text/html": [
       "wandb version 0.18.1 is available!  To upgrade, please run:\n",
       " $ pip install wandb --upgrade"
      ],
      "text/plain": [
       "<IPython.core.display.HTML object>"
      ]
     },
     "metadata": {},
     "output_type": "display_data"
    },
    {
     "data": {
      "text/html": [
       "The new W&B backend becomes opt-out in version 0.18.0; try it out with `wandb.require(\"core\")`! See https://wandb.me/wandb-core for more information."
      ],
      "text/plain": [
       "<IPython.core.display.HTML object>"
      ]
     },
     "metadata": {},
     "output_type": "display_data"
    },
    {
     "name": "stderr",
     "output_type": "stream",
     "text": [
      "\u001b[34m\u001b[1mwandb\u001b[0m: Sweep Agent: Waiting for job.\n",
      "\u001b[34m\u001b[1mwandb\u001b[0m: Job received.\n",
      "\u001b[34m\u001b[1mwandb\u001b[0m: Agent Starting Run: eubsn2yl with config:\n",
      "\u001b[34m\u001b[1mwandb\u001b[0m: \tbn_momentum: 0.02427103547096312\n",
      "\u001b[34m\u001b[1mwandb\u001b[0m: \tlayers: 6\n",
      "\u001b[34m\u001b[1mwandb\u001b[0m: \tlearning_rate: 0.001616273020108031\n",
      "\u001b[34m\u001b[1mwandb\u001b[0m: \tminibatch_size: 2048\n",
      "\u001b[34m\u001b[1mwandb\u001b[0m: \tunits: 32\n",
      "\u001b[34m\u001b[1mwandb\u001b[0m: \tweight_decay: 0.00036530943826457575\n"
     ]
    },
    {
     "data": {
      "text/html": [
       "Tracking run with wandb version 0.17.9"
      ],
      "text/plain": [
       "<IPython.core.display.HTML object>"
      ]
     },
     "metadata": {},
     "output_type": "display_data"
    },
    {
     "data": {
      "text/html": [
       "Run data is saved locally in <code>/Users/sondrerogde/Dev/LSTM-for-option-pricing/Sondre/wandb/run-20240924_063128-eubsn2yl</code>"
      ],
      "text/plain": [
       "<IPython.core.display.HTML object>"
      ]
     },
     "metadata": {},
     "output_type": "display_data"
    },
    {
     "data": {
      "text/html": [
       "Syncing run <strong><a href='https://wandb.ai/sondre-rogde-ntnu/LSTM_OPTION_PRICING/runs/eubsn2yl' target=\"_blank\">fragrant-sweep-78</a></strong> to <a href='https://wandb.ai/sondre-rogde-ntnu/LSTM_OPTION_PRICING' target=\"_blank\">Weights & Biases</a> (<a href='https://wandb.me/run' target=\"_blank\">docs</a>)<br/>Sweep page: <a href='https://wandb.ai/sondre-rogde-ntnu/LSTM_OPTION_PRICING/sweeps/guuhakot' target=\"_blank\">https://wandb.ai/sondre-rogde-ntnu/LSTM_OPTION_PRICING/sweeps/guuhakot</a>"
      ],
      "text/plain": [
       "<IPython.core.display.HTML object>"
      ]
     },
     "metadata": {},
     "output_type": "display_data"
    },
    {
     "data": {
      "text/html": [
       " View project at <a href='https://wandb.ai/sondre-rogde-ntnu/LSTM_OPTION_PRICING' target=\"_blank\">https://wandb.ai/sondre-rogde-ntnu/LSTM_OPTION_PRICING</a>"
      ],
      "text/plain": [
       "<IPython.core.display.HTML object>"
      ]
     },
     "metadata": {},
     "output_type": "display_data"
    },
    {
     "data": {
      "text/html": [
       " View sweep at <a href='https://wandb.ai/sondre-rogde-ntnu/LSTM_OPTION_PRICING/sweeps/guuhakot' target=\"_blank\">https://wandb.ai/sondre-rogde-ntnu/LSTM_OPTION_PRICING/sweeps/guuhakot</a>"
      ],
      "text/plain": [
       "<IPython.core.display.HTML object>"
      ]
     },
     "metadata": {},
     "output_type": "display_data"
    },
    {
     "data": {
      "text/html": [
       " View run at <a href='https://wandb.ai/sondre-rogde-ntnu/LSTM_OPTION_PRICING/runs/eubsn2yl' target=\"_blank\">https://wandb.ai/sondre-rogde-ntnu/LSTM_OPTION_PRICING/runs/eubsn2yl</a>"
      ],
      "text/plain": [
       "<IPython.core.display.HTML object>"
      ]
     },
     "metadata": {},
     "output_type": "display_data"
    },
    {
     "name": "stdout",
     "output_type": "stream",
     "text": [
      "Epoch 1/300\n"
     ]
    },
    {
     "name": "stderr",
     "output_type": "stream",
     "text": [
      "/Library/Frameworks/Python.framework/Versions/3.12/lib/python3.12/site-packages/keras/src/layers/rnn/rnn.py:204: UserWarning: Do not pass an `input_shape`/`input_dim` argument to a layer. When using Sequential models, prefer using an `Input(shape)` object as the first layer in the model instead.\n",
      "  super().__init__(**kwargs)\n"
     ]
    },
    {
     "name": "stdout",
     "output_type": "stream",
     "text": [
      "\u001b[1m486/486\u001b[0m \u001b[32m━━━━━━━━━━━━━━━━━━━━\u001b[0m\u001b[37m\u001b[0m \u001b[1m27s\u001b[0m 48ms/step - loss: 638324.6875 - mae: 535.8131 - val_loss: 712556.8125 - val_mae: 580.7613\n",
      "Epoch 2/300\n",
      "\u001b[1m486/486\u001b[0m \u001b[32m━━━━━━━━━━━━━━━━━━━━\u001b[0m\u001b[37m\u001b[0m \u001b[1m24s\u001b[0m 49ms/step - loss: 474809.4375 - mae: 467.0884 - val_loss: 387197.2812 - val_mae: 429.1895\n",
      "Epoch 3/300\n",
      "\u001b[1m486/486\u001b[0m \u001b[32m━━━━━━━━━━━━━━━━━━━━\u001b[0m\u001b[37m\u001b[0m \u001b[1m24s\u001b[0m 49ms/step - loss: 241171.9531 - mae: 335.9199 - val_loss: 146740.1562 - val_mae: 274.0294\n",
      "Epoch 4/300\n",
      "\u001b[1m486/486\u001b[0m \u001b[32m━━━━━━━━━━━━━━━━━━━━\u001b[0m\u001b[37m\u001b[0m \u001b[1m24s\u001b[0m 48ms/step - loss: 74453.7578 - mae: 187.6408 - val_loss: 17707.1738 - val_mae: 96.0338\n",
      "Epoch 5/300\n",
      "\u001b[1m486/486\u001b[0m \u001b[32m━━━━━━━━━━━━━━━━━━━━\u001b[0m\u001b[37m\u001b[0m \u001b[1m26s\u001b[0m 53ms/step - loss: 12046.8926 - mae: 74.5114 - val_loss: 3394.6401 - val_mae: 44.0626\n",
      "Epoch 6/300\n",
      "\u001b[1m486/486\u001b[0m \u001b[32m━━━━━━━━━━━━━━━━━━━━\u001b[0m\u001b[37m\u001b[0m \u001b[1m28s\u001b[0m 57ms/step - loss: 1137.3671 - mae: 22.2478 - val_loss: 355.3641 - val_mae: 10.3571\n",
      "Epoch 7/300\n",
      "\u001b[1m486/486\u001b[0m \u001b[32m━━━━━━━━━━━━━━━━━━━━\u001b[0m\u001b[37m\u001b[0m \u001b[1m26s\u001b[0m 54ms/step - loss: 474.5839 - mae: 14.5158 - val_loss: 1051.7957 - val_mae: 21.2058\n",
      "Epoch 8/300\n",
      "\u001b[1m486/486\u001b[0m \u001b[32m━━━━━━━━━━━━━━━━━━━━\u001b[0m\u001b[37m\u001b[0m \u001b[1m25s\u001b[0m 51ms/step - loss: 529.0308 - mae: 14.9229 - val_loss: 4952.9722 - val_mae: 51.6076\n",
      "Epoch 9/300\n",
      "\u001b[1m486/486\u001b[0m \u001b[32m━━━━━━━━━━━━━━━━━━━━\u001b[0m\u001b[37m\u001b[0m \u001b[1m25s\u001b[0m 52ms/step - loss: 467.8879 - mae: 14.3046 - val_loss: 137.2852 - val_mae: 7.7066\n",
      "Epoch 10/300\n",
      "\u001b[1m486/486\u001b[0m \u001b[32m━━━━━━━━━━━━━━━━━━━━\u001b[0m\u001b[37m\u001b[0m \u001b[1m24s\u001b[0m 50ms/step - loss: 466.8628 - mae: 14.1224 - val_loss: 241.8857 - val_mae: 13.1321\n",
      "Epoch 11/300\n",
      "\u001b[1m486/486\u001b[0m \u001b[32m━━━━━━━━━━━━━━━━━━━━\u001b[0m\u001b[37m\u001b[0m \u001b[1m24s\u001b[0m 50ms/step - loss: 443.7408 - mae: 13.8906 - val_loss: 707.7809 - val_mae: 23.1392\n",
      "Epoch 12/300\n",
      "\u001b[1m486/486\u001b[0m \u001b[32m━━━━━━━━━━━━━━━━━━━━\u001b[0m\u001b[37m\u001b[0m \u001b[1m24s\u001b[0m 49ms/step - loss: 432.1865 - mae: 13.5350 - val_loss: 1009.5859 - val_mae: 21.4873\n",
      "Epoch 13/300\n",
      "\u001b[1m486/486\u001b[0m \u001b[32m━━━━━━━━━━━━━━━━━━━━\u001b[0m\u001b[37m\u001b[0m \u001b[1m24s\u001b[0m 50ms/step - loss: 475.9974 - mae: 14.2314 - val_loss: 141.2638 - val_mae: 9.6446\n",
      "Epoch 14/300\n",
      "\u001b[1m486/486\u001b[0m \u001b[32m━━━━━━━━━━━━━━━━━━━━\u001b[0m\u001b[37m\u001b[0m \u001b[1m25s\u001b[0m 52ms/step - loss: 458.2381 - mae: 14.1888 - val_loss: 57.4122 - val_mae: 5.4804\n",
      "Epoch 15/300\n",
      "\u001b[1m486/486\u001b[0m \u001b[32m━━━━━━━━━━━━━━━━━━━━\u001b[0m\u001b[37m\u001b[0m \u001b[1m24s\u001b[0m 50ms/step - loss: 441.1636 - mae: 13.7253 - val_loss: 82.6626 - val_mae: 5.9910\n",
      "Epoch 16/300\n",
      "\u001b[1m486/486\u001b[0m \u001b[32m━━━━━━━━━━━━━━━━━━━━\u001b[0m\u001b[37m\u001b[0m \u001b[1m24s\u001b[0m 50ms/step - loss: 427.3125 - mae: 13.8005 - val_loss: 858.6725 - val_mae: 25.6816\n",
      "Epoch 17/300\n",
      "\u001b[1m486/486\u001b[0m \u001b[32m━━━━━━━━━━━━━━━━━━━━\u001b[0m\u001b[37m\u001b[0m \u001b[1m25s\u001b[0m 52ms/step - loss: 437.4120 - mae: 13.6104 - val_loss: 495.3204 - val_mae: 15.5051\n",
      "Epoch 18/300\n",
      "\u001b[1m486/486\u001b[0m \u001b[32m━━━━━━━━━━━━━━━━━━━━\u001b[0m\u001b[37m\u001b[0m \u001b[1m24s\u001b[0m 50ms/step - loss: 449.4576 - mae: 13.9823 - val_loss: 121.0560 - val_mae: 8.2983\n",
      "Epoch 19/300\n",
      "\u001b[1m486/486\u001b[0m \u001b[32m━━━━━━━━━━━━━━━━━━━━\u001b[0m\u001b[37m\u001b[0m \u001b[1m25s\u001b[0m 52ms/step - loss: 526.8965 - mae: 15.1085 - val_loss: 963.4424 - val_mae: 23.1603\n",
      "\u001b[1m3888/3888\u001b[0m \u001b[32m━━━━━━━━━━━━━━━━━━━━\u001b[0m\u001b[37m\u001b[0m \u001b[1m4s\u001b[0m 968us/step - loss: 985.4291 - mae: 23.2138\n"
     ]
    },
    {
     "data": {
      "text/html": [
       "<style>\n",
       "    table.wandb td:nth-child(1) { padding: 0 10px; text-align: left ; width: auto;} td:nth-child(2) {text-align: left ; width: 100%}\n",
       "    .wandb-row { display: flex; flex-direction: row; flex-wrap: wrap; justify-content: flex-start; width: 100% }\n",
       "    .wandb-col { display: flex; flex-direction: column; flex-basis: 100%; flex: 1; padding: 10px; }\n",
       "    </style>\n",
       "<div class=\"wandb-row\"><div class=\"wandb-col\"><h3>Run history:</h3><br/><table class=\"wandb\"><tr><td>epoch/epoch</td><td>▁▁▂▂▃▃▃▄▄▅▅▅▆▆▆▇▇██</td></tr><tr><td>epoch/learning_rate</td><td>▁▁▁▁▁▁▁▁▁▁▁▁▁▁▁▁▁▁▁</td></tr><tr><td>epoch/loss</td><td>█▆▃▂▁▁▁▁▁▁▁▁▁▁▁▁▁▁▁</td></tr><tr><td>epoch/mae</td><td>█▇▅▃▂▁▁▁▁▁▁▁▁▁▁▁▁▁▁</td></tr><tr><td>epoch/val_loss</td><td>█▅▂▁▁▁▁▁▁▁▁▁▁▁▁▁▁▁▁</td></tr><tr><td>epoch/val_mae</td><td>█▆▄▂▁▁▁▂▁▁▁▁▁▁▁▁▁▁▁</td></tr><tr><td>validation_loss</td><td>▁</td></tr></table><br/></div><div class=\"wandb-col\"><h3>Run summary:</h3><br/><table class=\"wandb\"><tr><td>epoch/epoch</td><td>18</td></tr><tr><td>epoch/learning_rate</td><td>0.00162</td></tr><tr><td>epoch/loss</td><td>524.77008</td></tr><tr><td>epoch/mae</td><td>15.17583</td></tr><tr><td>epoch/val_loss</td><td>963.44244</td></tr><tr><td>epoch/val_mae</td><td>23.16033</td></tr><tr><td>validation_loss</td><td>963.44269</td></tr></table><br/></div></div>"
      ],
      "text/plain": [
       "<IPython.core.display.HTML object>"
      ]
     },
     "metadata": {},
     "output_type": "display_data"
    },
    {
     "data": {
      "text/html": [
       " View run <strong style=\"color:#cdcd00\">fragrant-sweep-78</strong> at: <a href='https://wandb.ai/sondre-rogde-ntnu/LSTM_OPTION_PRICING/runs/eubsn2yl' target=\"_blank\">https://wandb.ai/sondre-rogde-ntnu/LSTM_OPTION_PRICING/runs/eubsn2yl</a><br/> View project at: <a href='https://wandb.ai/sondre-rogde-ntnu/LSTM_OPTION_PRICING' target=\"_blank\">https://wandb.ai/sondre-rogde-ntnu/LSTM_OPTION_PRICING</a><br/>Synced 5 W&B file(s), 0 media file(s), 0 artifact file(s) and 0 other file(s)"
      ],
      "text/plain": [
       "<IPython.core.display.HTML object>"
      ]
     },
     "metadata": {},
     "output_type": "display_data"
    },
    {
     "data": {
      "text/html": [
       "Find logs at: <code>./wandb/run-20240924_063128-eubsn2yl/logs</code>"
      ],
      "text/plain": [
       "<IPython.core.display.HTML object>"
      ]
     },
     "metadata": {},
     "output_type": "display_data"
    },
    {
     "data": {
      "text/html": [
       "wandb version 0.18.1 is available!  To upgrade, please run:\n",
       " $ pip install wandb --upgrade"
      ],
      "text/plain": [
       "<IPython.core.display.HTML object>"
      ]
     },
     "metadata": {},
     "output_type": "display_data"
    },
    {
     "data": {
      "text/html": [
       "The new W&B backend becomes opt-out in version 0.18.0; try it out with `wandb.require(\"core\")`! See https://wandb.me/wandb-core for more information."
      ],
      "text/plain": [
       "<IPython.core.display.HTML object>"
      ]
     },
     "metadata": {},
     "output_type": "display_data"
    },
    {
     "name": "stderr",
     "output_type": "stream",
     "text": [
      "\u001b[34m\u001b[1mwandb\u001b[0m: Agent Starting Run: ygkpm3cc with config:\n",
      "\u001b[34m\u001b[1mwandb\u001b[0m: \tbn_momentum: 0.3723968335782064\n",
      "\u001b[34m\u001b[1mwandb\u001b[0m: \tlayers: 5\n",
      "\u001b[34m\u001b[1mwandb\u001b[0m: \tlearning_rate: 0.0009102343532095466\n",
      "\u001b[34m\u001b[1mwandb\u001b[0m: \tminibatch_size: 2048\n",
      "\u001b[34m\u001b[1mwandb\u001b[0m: \tunits: 32\n",
      "\u001b[34m\u001b[1mwandb\u001b[0m: \tweight_decay: 0.0004476983845259455\n"
     ]
    },
    {
     "data": {
      "text/html": [
       "Tracking run with wandb version 0.17.9"
      ],
      "text/plain": [
       "<IPython.core.display.HTML object>"
      ]
     },
     "metadata": {},
     "output_type": "display_data"
    },
    {
     "data": {
      "text/html": [
       "Run data is saved locally in <code>/Users/sondrerogde/Dev/LSTM-for-option-pricing/Sondre/wandb/run-20240924_063935-ygkpm3cc</code>"
      ],
      "text/plain": [
       "<IPython.core.display.HTML object>"
      ]
     },
     "metadata": {},
     "output_type": "display_data"
    },
    {
     "data": {
      "text/html": [
       "Syncing run <strong><a href='https://wandb.ai/sondre-rogde-ntnu/LSTM_OPTION_PRICING/runs/ygkpm3cc' target=\"_blank\">gallant-sweep-79</a></strong> to <a href='https://wandb.ai/sondre-rogde-ntnu/LSTM_OPTION_PRICING' target=\"_blank\">Weights & Biases</a> (<a href='https://wandb.me/run' target=\"_blank\">docs</a>)<br/>Sweep page: <a href='https://wandb.ai/sondre-rogde-ntnu/LSTM_OPTION_PRICING/sweeps/guuhakot' target=\"_blank\">https://wandb.ai/sondre-rogde-ntnu/LSTM_OPTION_PRICING/sweeps/guuhakot</a>"
      ],
      "text/plain": [
       "<IPython.core.display.HTML object>"
      ]
     },
     "metadata": {},
     "output_type": "display_data"
    },
    {
     "data": {
      "text/html": [
       " View project at <a href='https://wandb.ai/sondre-rogde-ntnu/LSTM_OPTION_PRICING' target=\"_blank\">https://wandb.ai/sondre-rogde-ntnu/LSTM_OPTION_PRICING</a>"
      ],
      "text/plain": [
       "<IPython.core.display.HTML object>"
      ]
     },
     "metadata": {},
     "output_type": "display_data"
    },
    {
     "data": {
      "text/html": [
       " View sweep at <a href='https://wandb.ai/sondre-rogde-ntnu/LSTM_OPTION_PRICING/sweeps/guuhakot' target=\"_blank\">https://wandb.ai/sondre-rogde-ntnu/LSTM_OPTION_PRICING/sweeps/guuhakot</a>"
      ],
      "text/plain": [
       "<IPython.core.display.HTML object>"
      ]
     },
     "metadata": {},
     "output_type": "display_data"
    },
    {
     "data": {
      "text/html": [
       " View run at <a href='https://wandb.ai/sondre-rogde-ntnu/LSTM_OPTION_PRICING/runs/ygkpm3cc' target=\"_blank\">https://wandb.ai/sondre-rogde-ntnu/LSTM_OPTION_PRICING/runs/ygkpm3cc</a>"
      ],
      "text/plain": [
       "<IPython.core.display.HTML object>"
      ]
     },
     "metadata": {},
     "output_type": "display_data"
    },
    {
     "name": "stdout",
     "output_type": "stream",
     "text": [
      "Epoch 1/300\n"
     ]
    },
    {
     "name": "stderr",
     "output_type": "stream",
     "text": [
      "/Library/Frameworks/Python.framework/Versions/3.12/lib/python3.12/site-packages/keras/src/layers/rnn/rnn.py:204: UserWarning: Do not pass an `input_shape`/`input_dim` argument to a layer. When using Sequential models, prefer using an `Input(shape)` object as the first layer in the model instead.\n",
      "  super().__init__(**kwargs)\n"
     ]
    },
    {
     "name": "stdout",
     "output_type": "stream",
     "text": [
      "\u001b[1m486/486\u001b[0m \u001b[32m━━━━━━━━━━━━━━━━━━━━\u001b[0m\u001b[37m\u001b[0m \u001b[1m22s\u001b[0m 40ms/step - loss: 648717.7500 - mae: 539.6772 - val_loss: 798622.4375 - val_mae: 609.2460\n",
      "Epoch 2/300\n",
      "\u001b[1m486/486\u001b[0m \u001b[32m━━━━━━━━━━━━━━━━━━━━\u001b[0m\u001b[37m\u001b[0m \u001b[1m19s\u001b[0m 40ms/step - loss: 583645.4375 - mae: 514.9193 - val_loss: 672862.0000 - val_mae: 563.6649\n",
      "Epoch 3/300\n",
      "\u001b[1m486/486\u001b[0m \u001b[32m━━━━━━━━━━━━━━━━━━━━\u001b[0m\u001b[37m\u001b[0m \u001b[1m19s\u001b[0m 40ms/step - loss: 475770.5938 - mae: 468.0978 - val_loss: 512007.9375 - val_mae: 497.3457\n",
      "Epoch 4/300\n",
      "\u001b[1m486/486\u001b[0m \u001b[32m━━━━━━━━━━━━━━━━━━━━\u001b[0m\u001b[37m\u001b[0m \u001b[1m21s\u001b[0m 42ms/step - loss: 346939.3750 - mae: 402.4110 - val_loss: 344207.2500 - val_mae: 413.5767\n",
      "Epoch 5/300\n",
      "\u001b[1m486/486\u001b[0m \u001b[32m━━━━━━━━━━━━━━━━━━━━\u001b[0m\u001b[37m\u001b[0m \u001b[1m22s\u001b[0m 44ms/step - loss: 224828.0469 - mae: 326.0482 - val_loss: 179208.6250 - val_mae: 291.5811\n",
      "Epoch 6/300\n",
      "\u001b[1m486/486\u001b[0m \u001b[32m━━━━━━━━━━━━━━━━━━━━\u001b[0m\u001b[37m\u001b[0m \u001b[1m20s\u001b[0m 42ms/step - loss: 123987.7812 - mae: 243.8246 - val_loss: 93694.8359 - val_mae: 218.2342\n",
      "Epoch 7/300\n",
      "\u001b[1m486/486\u001b[0m \u001b[32m━━━━━━━━━━━━━━━━━━━━\u001b[0m\u001b[37m\u001b[0m \u001b[1m20s\u001b[0m 42ms/step - loss: 57529.0352 - mae: 166.7381 - val_loss: 37710.0625 - val_mae: 138.9988\n",
      "Epoch 8/300\n",
      "\u001b[1m486/486\u001b[0m \u001b[32m━━━━━━━━━━━━━━━━━━━━\u001b[0m\u001b[37m\u001b[0m \u001b[1m20s\u001b[0m 42ms/step - loss: 19900.2031 - mae: 98.3168 - val_loss: 8154.5249 - val_mae: 67.2883\n",
      "Epoch 9/300\n",
      "\u001b[1m486/486\u001b[0m \u001b[32m━━━━━━━━━━━━━━━━━━━━\u001b[0m\u001b[37m\u001b[0m \u001b[1m21s\u001b[0m 43ms/step - loss: 5063.6987 - mae: 48.6963 - val_loss: 1711.1112 - val_mae: 35.5614\n",
      "Epoch 10/300\n",
      "\u001b[1m486/486\u001b[0m \u001b[32m━━━━━━━━━━━━━━━━━━━━\u001b[0m\u001b[37m\u001b[0m \u001b[1m20s\u001b[0m 42ms/step - loss: 1184.0132 - mae: 22.7836 - val_loss: 659.9691 - val_mae: 14.6539\n",
      "Epoch 11/300\n",
      "\u001b[1m486/486\u001b[0m \u001b[32m━━━━━━━━━━━━━━━━━━━━\u001b[0m\u001b[37m\u001b[0m \u001b[1m20s\u001b[0m 41ms/step - loss: 484.5073 - mae: 14.6107 - val_loss: 207.4518 - val_mae: 11.6904\n",
      "Epoch 12/300\n",
      "\u001b[1m486/486\u001b[0m \u001b[32m━━━━━━━━━━━━━━━━━━━━\u001b[0m\u001b[37m\u001b[0m \u001b[1m21s\u001b[0m 43ms/step - loss: 482.9409 - mae: 14.3310 - val_loss: 466.7156 - val_mae: 12.9116\n",
      "Epoch 13/300\n",
      "\u001b[1m486/486\u001b[0m \u001b[32m━━━━━━━━━━━━━━━━━━━━\u001b[0m\u001b[37m\u001b[0m \u001b[1m20s\u001b[0m 41ms/step - loss: 547.7859 - mae: 15.4933 - val_loss: 457.5409 - val_mae: 11.5881\n",
      "Epoch 14/300\n",
      "\u001b[1m486/486\u001b[0m \u001b[32m━━━━━━━━━━━━━━━━━━━━\u001b[0m\u001b[37m\u001b[0m \u001b[1m20s\u001b[0m 41ms/step - loss: 475.7846 - mae: 14.3123 - val_loss: 75.1517 - val_mae: 6.1930\n",
      "Epoch 15/300\n",
      "\u001b[1m486/486\u001b[0m \u001b[32m━━━━━━━━━━━━━━━━━━━━\u001b[0m\u001b[37m\u001b[0m \u001b[1m20s\u001b[0m 41ms/step - loss: 404.6028 - mae: 13.2691 - val_loss: 302.4464 - val_mae: 10.2349\n",
      "Epoch 16/300\n",
      "\u001b[1m486/486\u001b[0m \u001b[32m━━━━━━━━━━━━━━━━━━━━\u001b[0m\u001b[37m\u001b[0m \u001b[1m20s\u001b[0m 41ms/step - loss: 467.2732 - mae: 14.5152 - val_loss: 467.9059 - val_mae: 14.5536\n",
      "Epoch 17/300\n",
      "\u001b[1m486/486\u001b[0m \u001b[32m━━━━━━━━━━━━━━━━━━━━\u001b[0m\u001b[37m\u001b[0m \u001b[1m20s\u001b[0m 42ms/step - loss: 498.5798 - mae: 14.6391 - val_loss: 248.5743 - val_mae: 8.9634\n",
      "Epoch 18/300\n",
      "\u001b[1m486/486\u001b[0m \u001b[32m━━━━━━━━━━━━━━━━━━━━\u001b[0m\u001b[37m\u001b[0m \u001b[1m21s\u001b[0m 43ms/step - loss: 398.9765 - mae: 13.3065 - val_loss: 417.5160 - val_mae: 14.2515\n",
      "Epoch 19/300\n",
      "\u001b[1m486/486\u001b[0m \u001b[32m━━━━━━━━━━━━━━━━━━━━\u001b[0m\u001b[37m\u001b[0m \u001b[1m21s\u001b[0m 43ms/step - loss: 442.7859 - mae: 13.5237 - val_loss: 242.4076 - val_mae: 12.7863\n",
      "\u001b[1m3888/3888\u001b[0m \u001b[32m━━━━━━━━━━━━━━━━━━━━\u001b[0m\u001b[37m\u001b[0m \u001b[1m3s\u001b[0m 841us/step - loss: 262.5865 - mae: 13.9111\n"
     ]
    },
    {
     "data": {
      "text/html": [
       "<style>\n",
       "    table.wandb td:nth-child(1) { padding: 0 10px; text-align: left ; width: auto;} td:nth-child(2) {text-align: left ; width: 100%}\n",
       "    .wandb-row { display: flex; flex-direction: row; flex-wrap: wrap; justify-content: flex-start; width: 100% }\n",
       "    .wandb-col { display: flex; flex-direction: column; flex-basis: 100%; flex: 1; padding: 10px; }\n",
       "    </style>\n",
       "<div class=\"wandb-row\"><div class=\"wandb-col\"><h3>Run history:</h3><br/><table class=\"wandb\"><tr><td>epoch/epoch</td><td>▁▁▂▂▃▃▃▄▄▅▅▅▆▆▆▇▇██</td></tr><tr><td>epoch/learning_rate</td><td>▁▁▁▁▁▁▁▁▁▁▁▁▁▁▁▁▁▁▁</td></tr><tr><td>epoch/loss</td><td>█▇▆▄▃▂▁▁▁▁▁▁▁▁▁▁▁▁▁</td></tr><tr><td>epoch/mae</td><td>██▇▆▅▄▃▂▁▁▁▁▁▁▁▁▁▁▁</td></tr><tr><td>epoch/val_loss</td><td>█▇▅▄▃▂▁▁▁▁▁▁▁▁▁▁▁▁▁</td></tr><tr><td>epoch/val_mae</td><td>█▇▇▆▄▃▃▂▁▁▁▁▁▁▁▁▁▁▁</td></tr><tr><td>validation_loss</td><td>▁</td></tr></table><br/></div><div class=\"wandb-col\"><h3>Run summary:</h3><br/><table class=\"wandb\"><tr><td>epoch/epoch</td><td>18</td></tr><tr><td>epoch/learning_rate</td><td>0.00091</td></tr><tr><td>epoch/loss</td><td>451.72525</td></tr><tr><td>epoch/mae</td><td>13.8696</td></tr><tr><td>epoch/val_loss</td><td>242.40762</td></tr><tr><td>epoch/val_mae</td><td>12.78635</td></tr><tr><td>validation_loss</td><td>242.40704</td></tr></table><br/></div></div>"
      ],
      "text/plain": [
       "<IPython.core.display.HTML object>"
      ]
     },
     "metadata": {},
     "output_type": "display_data"
    },
    {
     "data": {
      "text/html": [
       " View run <strong style=\"color:#cdcd00\">gallant-sweep-79</strong> at: <a href='https://wandb.ai/sondre-rogde-ntnu/LSTM_OPTION_PRICING/runs/ygkpm3cc' target=\"_blank\">https://wandb.ai/sondre-rogde-ntnu/LSTM_OPTION_PRICING/runs/ygkpm3cc</a><br/> View project at: <a href='https://wandb.ai/sondre-rogde-ntnu/LSTM_OPTION_PRICING' target=\"_blank\">https://wandb.ai/sondre-rogde-ntnu/LSTM_OPTION_PRICING</a><br/>Synced 5 W&B file(s), 0 media file(s), 0 artifact file(s) and 0 other file(s)"
      ],
      "text/plain": [
       "<IPython.core.display.HTML object>"
      ]
     },
     "metadata": {},
     "output_type": "display_data"
    },
    {
     "data": {
      "text/html": [
       "Find logs at: <code>./wandb/run-20240924_063935-ygkpm3cc/logs</code>"
      ],
      "text/plain": [
       "<IPython.core.display.HTML object>"
      ]
     },
     "metadata": {},
     "output_type": "display_data"
    },
    {
     "data": {
      "text/html": [
       "wandb version 0.18.1 is available!  To upgrade, please run:\n",
       " $ pip install wandb --upgrade"
      ],
      "text/plain": [
       "<IPython.core.display.HTML object>"
      ]
     },
     "metadata": {},
     "output_type": "display_data"
    },
    {
     "data": {
      "text/html": [
       "The new W&B backend becomes opt-out in version 0.18.0; try it out with `wandb.require(\"core\")`! See https://wandb.me/wandb-core for more information."
      ],
      "text/plain": [
       "<IPython.core.display.HTML object>"
      ]
     },
     "metadata": {},
     "output_type": "display_data"
    },
    {
     "name": "stderr",
     "output_type": "stream",
     "text": [
      "\u001b[34m\u001b[1mwandb\u001b[0m: Agent Starting Run: htk0khml with config:\n",
      "\u001b[34m\u001b[1mwandb\u001b[0m: \tbn_momentum: 0.16365359623347958\n",
      "\u001b[34m\u001b[1mwandb\u001b[0m: \tlayers: 6\n",
      "\u001b[34m\u001b[1mwandb\u001b[0m: \tlearning_rate: 0.004539730657787426\n",
      "\u001b[34m\u001b[1mwandb\u001b[0m: \tminibatch_size: 4096\n",
      "\u001b[34m\u001b[1mwandb\u001b[0m: \tunits: 96\n",
      "\u001b[34m\u001b[1mwandb\u001b[0m: \tweight_decay: 8.9537888137393e-05\n"
     ]
    },
    {
     "data": {
      "text/html": [
       "Tracking run with wandb version 0.17.9"
      ],
      "text/plain": [
       "<IPython.core.display.HTML object>"
      ]
     },
     "metadata": {},
     "output_type": "display_data"
    },
    {
     "data": {
      "text/html": [
       "Run data is saved locally in <code>/Users/sondrerogde/Dev/LSTM-for-option-pricing/Sondre/wandb/run-20240924_064616-htk0khml</code>"
      ],
      "text/plain": [
       "<IPython.core.display.HTML object>"
      ]
     },
     "metadata": {},
     "output_type": "display_data"
    },
    {
     "data": {
      "text/html": [
       "Syncing run <strong><a href='https://wandb.ai/sondre-rogde-ntnu/LSTM_OPTION_PRICING/runs/htk0khml' target=\"_blank\">autumn-sweep-80</a></strong> to <a href='https://wandb.ai/sondre-rogde-ntnu/LSTM_OPTION_PRICING' target=\"_blank\">Weights & Biases</a> (<a href='https://wandb.me/run' target=\"_blank\">docs</a>)<br/>Sweep page: <a href='https://wandb.ai/sondre-rogde-ntnu/LSTM_OPTION_PRICING/sweeps/guuhakot' target=\"_blank\">https://wandb.ai/sondre-rogde-ntnu/LSTM_OPTION_PRICING/sweeps/guuhakot</a>"
      ],
      "text/plain": [
       "<IPython.core.display.HTML object>"
      ]
     },
     "metadata": {},
     "output_type": "display_data"
    },
    {
     "data": {
      "text/html": [
       " View project at <a href='https://wandb.ai/sondre-rogde-ntnu/LSTM_OPTION_PRICING' target=\"_blank\">https://wandb.ai/sondre-rogde-ntnu/LSTM_OPTION_PRICING</a>"
      ],
      "text/plain": [
       "<IPython.core.display.HTML object>"
      ]
     },
     "metadata": {},
     "output_type": "display_data"
    },
    {
     "data": {
      "text/html": [
       " View sweep at <a href='https://wandb.ai/sondre-rogde-ntnu/LSTM_OPTION_PRICING/sweeps/guuhakot' target=\"_blank\">https://wandb.ai/sondre-rogde-ntnu/LSTM_OPTION_PRICING/sweeps/guuhakot</a>"
      ],
      "text/plain": [
       "<IPython.core.display.HTML object>"
      ]
     },
     "metadata": {},
     "output_type": "display_data"
    },
    {
     "data": {
      "text/html": [
       " View run at <a href='https://wandb.ai/sondre-rogde-ntnu/LSTM_OPTION_PRICING/runs/htk0khml' target=\"_blank\">https://wandb.ai/sondre-rogde-ntnu/LSTM_OPTION_PRICING/runs/htk0khml</a>"
      ],
      "text/plain": [
       "<IPython.core.display.HTML object>"
      ]
     },
     "metadata": {},
     "output_type": "display_data"
    },
    {
     "name": "stdout",
     "output_type": "stream",
     "text": [
      "Epoch 1/300\n"
     ]
    },
    {
     "name": "stderr",
     "output_type": "stream",
     "text": [
      "/Library/Frameworks/Python.framework/Versions/3.12/lib/python3.12/site-packages/keras/src/layers/rnn/rnn.py:204: UserWarning: Do not pass an `input_shape`/`input_dim` argument to a layer. When using Sequential models, prefer using an `Input(shape)` object as the first layer in the model instead.\n",
      "  super().__init__(**kwargs)\n"
     ]
    },
    {
     "name": "stdout",
     "output_type": "stream",
     "text": [
      "\u001b[1m243/243\u001b[0m \u001b[32m━━━━━━━━━━━━━━━━━━━━\u001b[0m\u001b[37m\u001b[0m \u001b[1m77s\u001b[0m 304ms/step - loss: 573125.4375 - mae: 509.9984 - val_loss: 242913.5781 - val_mae: 359.3605\n",
      "Epoch 2/300\n",
      "\u001b[1m243/243\u001b[0m \u001b[32m━━━━━━━━━━━━━━━━━━━━\u001b[0m\u001b[37m\u001b[0m \u001b[1m78s\u001b[0m 322ms/step - loss: 102300.8672 - mae: 215.7206 - val_loss: 416.1731 - val_mae: 16.6273\n",
      "Epoch 3/300\n",
      "\u001b[1m243/243\u001b[0m \u001b[32m━━━━━━━━━━━━━━━━━━━━\u001b[0m\u001b[37m\u001b[0m \u001b[1m77s\u001b[0m 317ms/step - loss: 916.8460 - mae: 20.5589 - val_loss: 705.6099 - val_mae: 23.1239\n",
      "Epoch 4/300\n",
      "\u001b[1m243/243\u001b[0m \u001b[32m━━━━━━━━━━━━━━━━━━━━\u001b[0m\u001b[37m\u001b[0m \u001b[1m77s\u001b[0m 316ms/step - loss: 340.0226 - mae: 12.6059 - val_loss: 2181.4426 - val_mae: 32.7818\n",
      "Epoch 5/300\n",
      "\u001b[1m243/243\u001b[0m \u001b[32m━━━━━━━━━━━━━━━━━━━━\u001b[0m\u001b[37m\u001b[0m \u001b[1m77s\u001b[0m 316ms/step - loss: 305.1460 - mae: 11.7685 - val_loss: 690.0999 - val_mae: 23.3501\n",
      "Epoch 6/300\n",
      "\u001b[1m243/243\u001b[0m \u001b[32m━━━━━━━━━━━━━━━━━━━━\u001b[0m\u001b[37m\u001b[0m \u001b[1m77s\u001b[0m 319ms/step - loss: 333.7733 - mae: 12.4470 - val_loss: 855.8618 - val_mae: 25.1268\n",
      "Epoch 7/300\n",
      "\u001b[1m243/243\u001b[0m \u001b[32m━━━━━━━━━━━━━━━━━━━━\u001b[0m\u001b[37m\u001b[0m \u001b[1m77s\u001b[0m 317ms/step - loss: 290.3365 - mae: 11.6596 - val_loss: 3841.2927 - val_mae: 46.3982\n",
      "\u001b[1m3888/3888\u001b[0m \u001b[32m━━━━━━━━━━━━━━━━━━━━\u001b[0m\u001b[37m\u001b[0m \u001b[1m10s\u001b[0m 3ms/step - loss: 4037.1565 - mae: 48.9793\n"
     ]
    },
    {
     "data": {
      "text/html": [
       "<style>\n",
       "    table.wandb td:nth-child(1) { padding: 0 10px; text-align: left ; width: auto;} td:nth-child(2) {text-align: left ; width: 100%}\n",
       "    .wandb-row { display: flex; flex-direction: row; flex-wrap: wrap; justify-content: flex-start; width: 100% }\n",
       "    .wandb-col { display: flex; flex-direction: column; flex-basis: 100%; flex: 1; padding: 10px; }\n",
       "    </style>\n",
       "<div class=\"wandb-row\"><div class=\"wandb-col\"><h3>Run history:</h3><br/><table class=\"wandb\"><tr><td>epoch/epoch</td><td>▁▂▃▅▆▇█</td></tr><tr><td>epoch/learning_rate</td><td>▁▁▁▁▁▁▁</td></tr><tr><td>epoch/loss</td><td>█▂▁▁▁▁▁</td></tr><tr><td>epoch/mae</td><td>█▃▁▁▁▁▁</td></tr><tr><td>epoch/val_loss</td><td>█▁▁▁▁▁▁</td></tr><tr><td>epoch/val_mae</td><td>█▁▁▁▁▁▂</td></tr><tr><td>validation_loss</td><td>▁</td></tr></table><br/></div><div class=\"wandb-col\"><h3>Run summary:</h3><br/><table class=\"wandb\"><tr><td>epoch/epoch</td><td>6</td></tr><tr><td>epoch/learning_rate</td><td>0.00454</td></tr><tr><td>epoch/loss</td><td>309.60385</td></tr><tr><td>epoch/mae</td><td>11.92973</td></tr><tr><td>epoch/val_loss</td><td>3841.29272</td></tr><tr><td>epoch/val_mae</td><td>46.39821</td></tr><tr><td>validation_loss</td><td>3841.29297</td></tr></table><br/></div></div>"
      ],
      "text/plain": [
       "<IPython.core.display.HTML object>"
      ]
     },
     "metadata": {},
     "output_type": "display_data"
    },
    {
     "data": {
      "text/html": [
       " View run <strong style=\"color:#cdcd00\">autumn-sweep-80</strong> at: <a href='https://wandb.ai/sondre-rogde-ntnu/LSTM_OPTION_PRICING/runs/htk0khml' target=\"_blank\">https://wandb.ai/sondre-rogde-ntnu/LSTM_OPTION_PRICING/runs/htk0khml</a><br/> View project at: <a href='https://wandb.ai/sondre-rogde-ntnu/LSTM_OPTION_PRICING' target=\"_blank\">https://wandb.ai/sondre-rogde-ntnu/LSTM_OPTION_PRICING</a><br/>Synced 5 W&B file(s), 0 media file(s), 0 artifact file(s) and 0 other file(s)"
      ],
      "text/plain": [
       "<IPython.core.display.HTML object>"
      ]
     },
     "metadata": {},
     "output_type": "display_data"
    },
    {
     "data": {
      "text/html": [
       "Find logs at: <code>./wandb/run-20240924_064616-htk0khml/logs</code>"
      ],
      "text/plain": [
       "<IPython.core.display.HTML object>"
      ]
     },
     "metadata": {},
     "output_type": "display_data"
    },
    {
     "data": {
      "text/html": [
       "wandb version 0.18.1 is available!  To upgrade, please run:\n",
       " $ pip install wandb --upgrade"
      ],
      "text/plain": [
       "<IPython.core.display.HTML object>"
      ]
     },
     "metadata": {},
     "output_type": "display_data"
    },
    {
     "data": {
      "text/html": [
       "The new W&B backend becomes opt-out in version 0.18.0; try it out with `wandb.require(\"core\")`! See https://wandb.me/wandb-core for more information."
      ],
      "text/plain": [
       "<IPython.core.display.HTML object>"
      ]
     },
     "metadata": {},
     "output_type": "display_data"
    },
    {
     "name": "stderr",
     "output_type": "stream",
     "text": [
      "\u001b[34m\u001b[1mwandb\u001b[0m: Sweep Agent: Waiting for job.\n",
      "\u001b[34m\u001b[1mwandb\u001b[0m: Job received.\n",
      "\u001b[34m\u001b[1mwandb\u001b[0m: Agent Starting Run: 8devf6nz with config:\n",
      "\u001b[34m\u001b[1mwandb\u001b[0m: \tbn_momentum: 0.3710629047976988\n",
      "\u001b[34m\u001b[1mwandb\u001b[0m: \tlayers: 4\n",
      "\u001b[34m\u001b[1mwandb\u001b[0m: \tlearning_rate: 0.00219852826557527\n",
      "\u001b[34m\u001b[1mwandb\u001b[0m: \tminibatch_size: 4096\n",
      "\u001b[34m\u001b[1mwandb\u001b[0m: \tunits: 64\n",
      "\u001b[34m\u001b[1mwandb\u001b[0m: \tweight_decay: 7.339894970536443e-06\n"
     ]
    },
    {
     "data": {
      "text/html": [
       "Tracking run with wandb version 0.17.9"
      ],
      "text/plain": [
       "<IPython.core.display.HTML object>"
      ]
     },
     "metadata": {},
     "output_type": "display_data"
    },
    {
     "data": {
      "text/html": [
       "Run data is saved locally in <code>/Users/sondrerogde/Dev/LSTM-for-option-pricing/Sondre/wandb/run-20240924_065544-8devf6nz</code>"
      ],
      "text/plain": [
       "<IPython.core.display.HTML object>"
      ]
     },
     "metadata": {},
     "output_type": "display_data"
    },
    {
     "data": {
      "text/html": [
       "Syncing run <strong><a href='https://wandb.ai/sondre-rogde-ntnu/LSTM_OPTION_PRICING/runs/8devf6nz' target=\"_blank\">swift-sweep-81</a></strong> to <a href='https://wandb.ai/sondre-rogde-ntnu/LSTM_OPTION_PRICING' target=\"_blank\">Weights & Biases</a> (<a href='https://wandb.me/run' target=\"_blank\">docs</a>)<br/>Sweep page: <a href='https://wandb.ai/sondre-rogde-ntnu/LSTM_OPTION_PRICING/sweeps/guuhakot' target=\"_blank\">https://wandb.ai/sondre-rogde-ntnu/LSTM_OPTION_PRICING/sweeps/guuhakot</a>"
      ],
      "text/plain": [
       "<IPython.core.display.HTML object>"
      ]
     },
     "metadata": {},
     "output_type": "display_data"
    },
    {
     "data": {
      "text/html": [
       " View project at <a href='https://wandb.ai/sondre-rogde-ntnu/LSTM_OPTION_PRICING' target=\"_blank\">https://wandb.ai/sondre-rogde-ntnu/LSTM_OPTION_PRICING</a>"
      ],
      "text/plain": [
       "<IPython.core.display.HTML object>"
      ]
     },
     "metadata": {},
     "output_type": "display_data"
    },
    {
     "data": {
      "text/html": [
       " View sweep at <a href='https://wandb.ai/sondre-rogde-ntnu/LSTM_OPTION_PRICING/sweeps/guuhakot' target=\"_blank\">https://wandb.ai/sondre-rogde-ntnu/LSTM_OPTION_PRICING/sweeps/guuhakot</a>"
      ],
      "text/plain": [
       "<IPython.core.display.HTML object>"
      ]
     },
     "metadata": {},
     "output_type": "display_data"
    },
    {
     "data": {
      "text/html": [
       " View run at <a href='https://wandb.ai/sondre-rogde-ntnu/LSTM_OPTION_PRICING/runs/8devf6nz' target=\"_blank\">https://wandb.ai/sondre-rogde-ntnu/LSTM_OPTION_PRICING/runs/8devf6nz</a>"
      ],
      "text/plain": [
       "<IPython.core.display.HTML object>"
      ]
     },
     "metadata": {},
     "output_type": "display_data"
    },
    {
     "name": "stdout",
     "output_type": "stream",
     "text": [
      "Epoch 1/300\n"
     ]
    },
    {
     "name": "stderr",
     "output_type": "stream",
     "text": [
      "/Library/Frameworks/Python.framework/Versions/3.12/lib/python3.12/site-packages/keras/src/layers/rnn/rnn.py:204: UserWarning: Do not pass an `input_shape`/`input_dim` argument to a layer. When using Sequential models, prefer using an `Input(shape)` object as the first layer in the model instead.\n",
      "  super().__init__(**kwargs)\n"
     ]
    },
    {
     "name": "stdout",
     "output_type": "stream",
     "text": [
      "\u001b[1m243/243\u001b[0m \u001b[32m━━━━━━━━━━━━━━━━━━━━\u001b[0m\u001b[37m\u001b[0m \u001b[1m29s\u001b[0m 109ms/step - loss: 636010.7500 - mae: 535.3353 - val_loss: 713039.5625 - val_mae: 581.0704\n",
      "Epoch 2/300\n",
      "\u001b[1m243/243\u001b[0m \u001b[32m━━━━━━━━━━━━━━━━━━━━\u001b[0m\u001b[37m\u001b[0m \u001b[1m27s\u001b[0m 110ms/step - loss: 478541.1250 - mae: 471.1646 - val_loss: 402081.3438 - val_mae: 442.4833\n",
      "Epoch 3/300\n",
      "\u001b[1m243/243\u001b[0m \u001b[32m━━━━━━━━━━━━━━━━━━━━\u001b[0m\u001b[37m\u001b[0m \u001b[1m32s\u001b[0m 131ms/step - loss: 248659.1094 - mae: 345.2572 - val_loss: 152882.7656 - val_mae: 282.1095\n",
      "Epoch 4/300\n",
      "\u001b[1m243/243\u001b[0m \u001b[32m━━━━━━━━━━━━━━━━━━━━\u001b[0m\u001b[37m\u001b[0m \u001b[1m31s\u001b[0m 129ms/step - loss: 78151.3828 - mae: 196.7578 - val_loss: 24184.8262 - val_mae: 113.8954\n",
      "Epoch 5/300\n",
      "\u001b[1m243/243\u001b[0m \u001b[32m━━━━━━━━━━━━━━━━━━━━\u001b[0m\u001b[37m\u001b[0m \u001b[1m32s\u001b[0m 131ms/step - loss: 13107.3916 - mae: 81.5205 - val_loss: 4120.5483 - val_mae: 45.1248\n",
      "Epoch 6/300\n",
      "\u001b[1m243/243\u001b[0m \u001b[32m━━━━━━━━━━━━━━━━━━━━\u001b[0m\u001b[37m\u001b[0m \u001b[1m31s\u001b[0m 126ms/step - loss: 1449.1873 - mae: 26.3074 - val_loss: 1138.1996 - val_mae: 28.7339\n",
      "Epoch 7/300\n",
      "\u001b[1m243/243\u001b[0m \u001b[32m━━━━━━━━━━━━━━━━━━━━\u001b[0m\u001b[37m\u001b[0m \u001b[1m31s\u001b[0m 126ms/step - loss: 341.9548 - mae: 12.6585 - val_loss: 473.0843 - val_mae: 17.8895\n",
      "Epoch 8/300\n",
      "\u001b[1m243/243\u001b[0m \u001b[32m━━━━━━━━━━━━━━━━━━━━\u001b[0m\u001b[37m\u001b[0m \u001b[1m31s\u001b[0m 127ms/step - loss: 262.3037 - mae: 10.9183 - val_loss: 365.0714 - val_mae: 14.6417\n",
      "Epoch 9/300\n",
      "\u001b[1m243/243\u001b[0m \u001b[32m━━━━━━━━━━━━━━━━━━━━\u001b[0m\u001b[37m\u001b[0m \u001b[1m31s\u001b[0m 127ms/step - loss: 285.0836 - mae: 11.4583 - val_loss: 102.4827 - val_mae: 7.9606\n",
      "Epoch 10/300\n",
      "\u001b[1m243/243\u001b[0m \u001b[32m━━━━━━━━━━━━━━━━━━━━\u001b[0m\u001b[37m\u001b[0m \u001b[1m31s\u001b[0m 127ms/step - loss: 264.7959 - mae: 10.9105 - val_loss: 474.6194 - val_mae: 19.1727\n",
      "Epoch 11/300\n",
      "\u001b[1m243/243\u001b[0m \u001b[32m━━━━━━━━━━━━━━━━━━━━\u001b[0m\u001b[37m\u001b[0m \u001b[1m30s\u001b[0m 125ms/step - loss: 291.6285 - mae: 11.6090 - val_loss: 154.4084 - val_mae: 9.7842\n",
      "Epoch 12/300\n",
      "\u001b[1m243/243\u001b[0m \u001b[32m━━━━━━━━━━━━━━━━━━━━\u001b[0m\u001b[37m\u001b[0m \u001b[1m31s\u001b[0m 126ms/step - loss: 299.7238 - mae: 11.7957 - val_loss: 1056.9844 - val_mae: 29.2160\n",
      "Epoch 13/300\n",
      "\u001b[1m243/243\u001b[0m \u001b[32m━━━━━━━━━━━━━━━━━━━━\u001b[0m\u001b[37m\u001b[0m \u001b[1m31s\u001b[0m 126ms/step - loss: 288.0265 - mae: 11.5419 - val_loss: 58.0827 - val_mae: 5.4583\n",
      "Epoch 14/300\n",
      "\u001b[1m243/243\u001b[0m \u001b[32m━━━━━━━━━━━━━━━━━━━━\u001b[0m\u001b[37m\u001b[0m \u001b[1m31s\u001b[0m 126ms/step - loss: 274.8571 - mae: 11.0598 - val_loss: 1512.8538 - val_mae: 35.1403\n",
      "Epoch 15/300\n",
      "\u001b[1m243/243\u001b[0m \u001b[32m━━━━━━━━━━━━━━━━━━━━\u001b[0m\u001b[37m\u001b[0m \u001b[1m31s\u001b[0m 126ms/step - loss: 248.2262 - mae: 10.3483 - val_loss: 70.4101 - val_mae: 5.5383\n",
      "Epoch 16/300\n",
      "\u001b[1m243/243\u001b[0m \u001b[32m━━━━━━━━━━━━━━━━━━━━\u001b[0m\u001b[37m\u001b[0m \u001b[1m30s\u001b[0m 123ms/step - loss: 292.0512 - mae: 11.5124 - val_loss: 260.4145 - val_mae: 13.2070\n",
      "Epoch 17/300\n",
      "\u001b[1m243/243\u001b[0m \u001b[32m━━━━━━━━━━━━━━━━━━━━\u001b[0m\u001b[37m\u001b[0m \u001b[1m30s\u001b[0m 125ms/step - loss: 226.7757 - mae: 10.1942 - val_loss: 78.8479 - val_mae: 6.6226\n",
      "Epoch 18/300\n",
      "\u001b[1m243/243\u001b[0m \u001b[32m━━━━━━━━━━━━━━━━━━━━\u001b[0m\u001b[37m\u001b[0m \u001b[1m30s\u001b[0m 125ms/step - loss: 247.1294 - mae: 10.4097 - val_loss: 128.3587 - val_mae: 9.4289\n",
      "\u001b[1m3888/3888\u001b[0m \u001b[32m━━━━━━━━━━━━━━━━━━━━\u001b[0m\u001b[37m\u001b[0m \u001b[1m4s\u001b[0m 1ms/step - loss: 86.7204 - mae: 7.8119\n"
     ]
    },
    {
     "data": {
      "text/html": [
       "<style>\n",
       "    table.wandb td:nth-child(1) { padding: 0 10px; text-align: left ; width: auto;} td:nth-child(2) {text-align: left ; width: 100%}\n",
       "    .wandb-row { display: flex; flex-direction: row; flex-wrap: wrap; justify-content: flex-start; width: 100% }\n",
       "    .wandb-col { display: flex; flex-direction: column; flex-basis: 100%; flex: 1; padding: 10px; }\n",
       "    </style>\n",
       "<div class=\"wandb-row\"><div class=\"wandb-col\"><h3>Run history:</h3><br/><table class=\"wandb\"><tr><td>epoch/epoch</td><td>▁▁▂▂▃▃▃▄▄▅▅▆▆▆▇▇██</td></tr><tr><td>epoch/learning_rate</td><td>▁▁▁▁▁▁▁▁▁▁▁▁▁▁▁▁▁▁</td></tr><tr><td>epoch/loss</td><td>█▆▃▂▁▁▁▁▁▁▁▁▁▁▁▁▁▁</td></tr><tr><td>epoch/mae</td><td>█▇▅▃▂▁▁▁▁▁▁▁▁▁▁▁▁▁</td></tr><tr><td>epoch/val_loss</td><td>█▅▃▁▁▁▁▁▁▁▁▁▁▁▁▁▁▁</td></tr><tr><td>epoch/val_mae</td><td>█▆▄▂▁▁▁▁▁▁▁▁▁▁▁▁▁▁</td></tr><tr><td>validation_loss</td><td>▁</td></tr></table><br/></div><div class=\"wandb-col\"><h3>Run summary:</h3><br/><table class=\"wandb\"><tr><td>epoch/epoch</td><td>17</td></tr><tr><td>epoch/learning_rate</td><td>0.0022</td></tr><tr><td>epoch/loss</td><td>269.22607</td></tr><tr><td>epoch/mae</td><td>10.84306</td></tr><tr><td>epoch/val_loss</td><td>128.35867</td></tr><tr><td>epoch/val_mae</td><td>9.42886</td></tr><tr><td>validation_loss</td><td>128.35861</td></tr></table><br/></div></div>"
      ],
      "text/plain": [
       "<IPython.core.display.HTML object>"
      ]
     },
     "metadata": {},
     "output_type": "display_data"
    },
    {
     "data": {
      "text/html": [
       " View run <strong style=\"color:#cdcd00\">swift-sweep-81</strong> at: <a href='https://wandb.ai/sondre-rogde-ntnu/LSTM_OPTION_PRICING/runs/8devf6nz' target=\"_blank\">https://wandb.ai/sondre-rogde-ntnu/LSTM_OPTION_PRICING/runs/8devf6nz</a><br/> View project at: <a href='https://wandb.ai/sondre-rogde-ntnu/LSTM_OPTION_PRICING' target=\"_blank\">https://wandb.ai/sondre-rogde-ntnu/LSTM_OPTION_PRICING</a><br/>Synced 5 W&B file(s), 0 media file(s), 0 artifact file(s) and 0 other file(s)"
      ],
      "text/plain": [
       "<IPython.core.display.HTML object>"
      ]
     },
     "metadata": {},
     "output_type": "display_data"
    },
    {
     "data": {
      "text/html": [
       "Find logs at: <code>./wandb/run-20240924_065544-8devf6nz/logs</code>"
      ],
      "text/plain": [
       "<IPython.core.display.HTML object>"
      ]
     },
     "metadata": {},
     "output_type": "display_data"
    },
    {
     "data": {
      "text/html": [
       "wandb version 0.18.1 is available!  To upgrade, please run:\n",
       " $ pip install wandb --upgrade"
      ],
      "text/plain": [
       "<IPython.core.display.HTML object>"
      ]
     },
     "metadata": {},
     "output_type": "display_data"
    },
    {
     "data": {
      "text/html": [
       "The new W&B backend becomes opt-out in version 0.18.0; try it out with `wandb.require(\"core\")`! See https://wandb.me/wandb-core for more information."
      ],
      "text/plain": [
       "<IPython.core.display.HTML object>"
      ]
     },
     "metadata": {},
     "output_type": "display_data"
    },
    {
     "name": "stderr",
     "output_type": "stream",
     "text": [
      "\u001b[34m\u001b[1mwandb\u001b[0m: Agent Starting Run: 615lab4f with config:\n",
      "\u001b[34m\u001b[1mwandb\u001b[0m: \tbn_momentum: 0.21658632029611669\n",
      "\u001b[34m\u001b[1mwandb\u001b[0m: \tlayers: 4\n",
      "\u001b[34m\u001b[1mwandb\u001b[0m: \tlearning_rate: 0.0030136136619310153\n",
      "\u001b[34m\u001b[1mwandb\u001b[0m: \tminibatch_size: 2048\n",
      "\u001b[34m\u001b[1mwandb\u001b[0m: \tunits: 128\n",
      "\u001b[34m\u001b[1mwandb\u001b[0m: \tweight_decay: 0.0004222338191855514\n"
     ]
    },
    {
     "data": {
      "text/html": [
       "Tracking run with wandb version 0.17.9"
      ],
      "text/plain": [
       "<IPython.core.display.HTML object>"
      ]
     },
     "metadata": {},
     "output_type": "display_data"
    },
    {
     "data": {
      "text/html": [
       "Run data is saved locally in <code>/Users/sondrerogde/Dev/LSTM-for-option-pricing/Sondre/wandb/run-20240924_070509-615lab4f</code>"
      ],
      "text/plain": [
       "<IPython.core.display.HTML object>"
      ]
     },
     "metadata": {},
     "output_type": "display_data"
    },
    {
     "data": {
      "text/html": [
       "Syncing run <strong><a href='https://wandb.ai/sondre-rogde-ntnu/LSTM_OPTION_PRICING/runs/615lab4f' target=\"_blank\">wise-sweep-82</a></strong> to <a href='https://wandb.ai/sondre-rogde-ntnu/LSTM_OPTION_PRICING' target=\"_blank\">Weights & Biases</a> (<a href='https://wandb.me/run' target=\"_blank\">docs</a>)<br/>Sweep page: <a href='https://wandb.ai/sondre-rogde-ntnu/LSTM_OPTION_PRICING/sweeps/guuhakot' target=\"_blank\">https://wandb.ai/sondre-rogde-ntnu/LSTM_OPTION_PRICING/sweeps/guuhakot</a>"
      ],
      "text/plain": [
       "<IPython.core.display.HTML object>"
      ]
     },
     "metadata": {},
     "output_type": "display_data"
    },
    {
     "data": {
      "text/html": [
       " View project at <a href='https://wandb.ai/sondre-rogde-ntnu/LSTM_OPTION_PRICING' target=\"_blank\">https://wandb.ai/sondre-rogde-ntnu/LSTM_OPTION_PRICING</a>"
      ],
      "text/plain": [
       "<IPython.core.display.HTML object>"
      ]
     },
     "metadata": {},
     "output_type": "display_data"
    },
    {
     "data": {
      "text/html": [
       " View sweep at <a href='https://wandb.ai/sondre-rogde-ntnu/LSTM_OPTION_PRICING/sweeps/guuhakot' target=\"_blank\">https://wandb.ai/sondre-rogde-ntnu/LSTM_OPTION_PRICING/sweeps/guuhakot</a>"
      ],
      "text/plain": [
       "<IPython.core.display.HTML object>"
      ]
     },
     "metadata": {},
     "output_type": "display_data"
    },
    {
     "data": {
      "text/html": [
       " View run at <a href='https://wandb.ai/sondre-rogde-ntnu/LSTM_OPTION_PRICING/runs/615lab4f' target=\"_blank\">https://wandb.ai/sondre-rogde-ntnu/LSTM_OPTION_PRICING/runs/615lab4f</a>"
      ],
      "text/plain": [
       "<IPython.core.display.HTML object>"
      ]
     },
     "metadata": {},
     "output_type": "display_data"
    },
    {
     "name": "stdout",
     "output_type": "stream",
     "text": [
      "Epoch 1/300\n"
     ]
    },
    {
     "name": "stderr",
     "output_type": "stream",
     "text": [
      "/Library/Frameworks/Python.framework/Versions/3.12/lib/python3.12/site-packages/keras/src/layers/rnn/rnn.py:204: UserWarning: Do not pass an `input_shape`/`input_dim` argument to a layer. When using Sequential models, prefer using an `Input(shape)` object as the first layer in the model instead.\n",
      "  super().__init__(**kwargs)\n"
     ]
    },
    {
     "name": "stdout",
     "output_type": "stream",
     "text": [
      "\u001b[1m486/486\u001b[0m \u001b[32m━━━━━━━━━━━━━━━━━━━━\u001b[0m\u001b[37m\u001b[0m \u001b[1m81s\u001b[0m 161ms/step - loss: 499529.0000 - mae: 472.5603 - val_loss: 29291.8652 - val_mae: 131.7258\n",
      "Epoch 2/300\n",
      "\u001b[1m486/486\u001b[0m \u001b[32m━━━━━━━━━━━━━━━━━━━━\u001b[0m\u001b[37m\u001b[0m \u001b[1m82s\u001b[0m 168ms/step - loss: 7738.3774 - mae: 56.4870 - val_loss: 267.7260 - val_mae: 13.4525\n",
      "Epoch 3/300\n",
      "\u001b[1m486/486\u001b[0m \u001b[32m━━━━━━━━━━━━━━━━━━━━\u001b[0m\u001b[37m\u001b[0m \u001b[1m83s\u001b[0m 170ms/step - loss: 495.6990 - mae: 15.1071 - val_loss: 1116.7681 - val_mae: 28.6510\n",
      "Epoch 4/300\n",
      "\u001b[1m486/486\u001b[0m \u001b[32m━━━━━━━━━━━━━━━━━━━━\u001b[0m\u001b[37m\u001b[0m \u001b[1m82s\u001b[0m 170ms/step - loss: 501.1927 - mae: 15.2611 - val_loss: 601.4973 - val_mae: 19.5505\n",
      "Epoch 5/300\n",
      "\u001b[1m486/486\u001b[0m \u001b[32m━━━━━━━━━━━━━━━━━━━━\u001b[0m\u001b[37m\u001b[0m \u001b[1m83s\u001b[0m 170ms/step - loss: 533.9100 - mae: 15.8032 - val_loss: 583.1255 - val_mae: 21.6002\n",
      "Epoch 6/300\n",
      "\u001b[1m486/486\u001b[0m \u001b[32m━━━━━━━━━━━━━━━━━━━━\u001b[0m\u001b[37m\u001b[0m \u001b[1m85s\u001b[0m 176ms/step - loss: 450.0808 - mae: 14.4888 - val_loss: 582.2287 - val_mae: 20.3714\n",
      "Epoch 7/300\n",
      "\u001b[1m486/486\u001b[0m \u001b[32m━━━━━━━━━━━━━━━━━━━━\u001b[0m\u001b[37m\u001b[0m \u001b[1m85s\u001b[0m 175ms/step - loss: 453.7436 - mae: 14.3368 - val_loss: 2877.4968 - val_mae: 45.7230\n",
      "\u001b[1m3888/3888\u001b[0m \u001b[32m━━━━━━━━━━━━━━━━━━━━\u001b[0m\u001b[37m\u001b[0m \u001b[1m10s\u001b[0m 3ms/step - loss: 2727.6418 - mae: 44.2408\n"
     ]
    },
    {
     "data": {
      "text/html": [
       "<style>\n",
       "    table.wandb td:nth-child(1) { padding: 0 10px; text-align: left ; width: auto;} td:nth-child(2) {text-align: left ; width: 100%}\n",
       "    .wandb-row { display: flex; flex-direction: row; flex-wrap: wrap; justify-content: flex-start; width: 100% }\n",
       "    .wandb-col { display: flex; flex-direction: column; flex-basis: 100%; flex: 1; padding: 10px; }\n",
       "    </style>\n",
       "<div class=\"wandb-row\"><div class=\"wandb-col\"><h3>Run history:</h3><br/><table class=\"wandb\"><tr><td>epoch/epoch</td><td>▁▂▃▅▆▇█</td></tr><tr><td>epoch/learning_rate</td><td>▁▁▁▁▁▁▁</td></tr><tr><td>epoch/loss</td><td>█▁▁▁▁▁▁</td></tr><tr><td>epoch/mae</td><td>█▁▁▁▁▁▁</td></tr><tr><td>epoch/val_loss</td><td>█▁▁▁▁▁▂</td></tr><tr><td>epoch/val_mae</td><td>█▁▂▁▁▁▃</td></tr><tr><td>validation_loss</td><td>▁</td></tr></table><br/></div><div class=\"wandb-col\"><h3>Run summary:</h3><br/><table class=\"wandb\"><tr><td>epoch/epoch</td><td>6</td></tr><tr><td>epoch/learning_rate</td><td>0.00301</td></tr><tr><td>epoch/loss</td><td>444.68665</td></tr><tr><td>epoch/mae</td><td>14.23214</td></tr><tr><td>epoch/val_loss</td><td>2877.49683</td></tr><tr><td>epoch/val_mae</td><td>45.72301</td></tr><tr><td>validation_loss</td><td>2877.49609</td></tr></table><br/></div></div>"
      ],
      "text/plain": [
       "<IPython.core.display.HTML object>"
      ]
     },
     "metadata": {},
     "output_type": "display_data"
    },
    {
     "data": {
      "text/html": [
       " View run <strong style=\"color:#cdcd00\">wise-sweep-82</strong> at: <a href='https://wandb.ai/sondre-rogde-ntnu/LSTM_OPTION_PRICING/runs/615lab4f' target=\"_blank\">https://wandb.ai/sondre-rogde-ntnu/LSTM_OPTION_PRICING/runs/615lab4f</a><br/> View project at: <a href='https://wandb.ai/sondre-rogde-ntnu/LSTM_OPTION_PRICING' target=\"_blank\">https://wandb.ai/sondre-rogde-ntnu/LSTM_OPTION_PRICING</a><br/>Synced 5 W&B file(s), 0 media file(s), 0 artifact file(s) and 0 other file(s)"
      ],
      "text/plain": [
       "<IPython.core.display.HTML object>"
      ]
     },
     "metadata": {},
     "output_type": "display_data"
    },
    {
     "data": {
      "text/html": [
       "Find logs at: <code>./wandb/run-20240924_070509-615lab4f/logs</code>"
      ],
      "text/plain": [
       "<IPython.core.display.HTML object>"
      ]
     },
     "metadata": {},
     "output_type": "display_data"
    },
    {
     "data": {
      "text/html": [
       "wandb version 0.18.1 is available!  To upgrade, please run:\n",
       " $ pip install wandb --upgrade"
      ],
      "text/plain": [
       "<IPython.core.display.HTML object>"
      ]
     },
     "metadata": {},
     "output_type": "display_data"
    },
    {
     "data": {
      "text/html": [
       "The new W&B backend becomes opt-out in version 0.18.0; try it out with `wandb.require(\"core\")`! See https://wandb.me/wandb-core for more information."
      ],
      "text/plain": [
       "<IPython.core.display.HTML object>"
      ]
     },
     "metadata": {},
     "output_type": "display_data"
    },
    {
     "name": "stderr",
     "output_type": "stream",
     "text": [
      "\u001b[34m\u001b[1mwandb\u001b[0m: Agent Starting Run: 4q71nucq with config:\n",
      "\u001b[34m\u001b[1mwandb\u001b[0m: \tbn_momentum: 0.1643082037803524\n",
      "\u001b[34m\u001b[1mwandb\u001b[0m: \tlayers: 6\n",
      "\u001b[34m\u001b[1mwandb\u001b[0m: \tlearning_rate: 0.0014151348765080074\n",
      "\u001b[34m\u001b[1mwandb\u001b[0m: \tminibatch_size: 1024\n",
      "\u001b[34m\u001b[1mwandb\u001b[0m: \tunits: 64\n",
      "\u001b[34m\u001b[1mwandb\u001b[0m: \tweight_decay: 0.0003444317264492877\n"
     ]
    },
    {
     "data": {
      "text/html": [
       "Tracking run with wandb version 0.17.9"
      ],
      "text/plain": [
       "<IPython.core.display.HTML object>"
      ]
     },
     "metadata": {},
     "output_type": "display_data"
    },
    {
     "data": {
      "text/html": [
       "Run data is saved locally in <code>/Users/sondrerogde/Dev/LSTM-for-option-pricing/Sondre/wandb/run-20240924_071512-4q71nucq</code>"
      ],
      "text/plain": [
       "<IPython.core.display.HTML object>"
      ]
     },
     "metadata": {},
     "output_type": "display_data"
    },
    {
     "data": {
      "text/html": [
       "Syncing run <strong><a href='https://wandb.ai/sondre-rogde-ntnu/LSTM_OPTION_PRICING/runs/4q71nucq' target=\"_blank\">vague-sweep-83</a></strong> to <a href='https://wandb.ai/sondre-rogde-ntnu/LSTM_OPTION_PRICING' target=\"_blank\">Weights & Biases</a> (<a href='https://wandb.me/run' target=\"_blank\">docs</a>)<br/>Sweep page: <a href='https://wandb.ai/sondre-rogde-ntnu/LSTM_OPTION_PRICING/sweeps/guuhakot' target=\"_blank\">https://wandb.ai/sondre-rogde-ntnu/LSTM_OPTION_PRICING/sweeps/guuhakot</a>"
      ],
      "text/plain": [
       "<IPython.core.display.HTML object>"
      ]
     },
     "metadata": {},
     "output_type": "display_data"
    },
    {
     "data": {
      "text/html": [
       " View project at <a href='https://wandb.ai/sondre-rogde-ntnu/LSTM_OPTION_PRICING' target=\"_blank\">https://wandb.ai/sondre-rogde-ntnu/LSTM_OPTION_PRICING</a>"
      ],
      "text/plain": [
       "<IPython.core.display.HTML object>"
      ]
     },
     "metadata": {},
     "output_type": "display_data"
    },
    {
     "data": {
      "text/html": [
       " View sweep at <a href='https://wandb.ai/sondre-rogde-ntnu/LSTM_OPTION_PRICING/sweeps/guuhakot' target=\"_blank\">https://wandb.ai/sondre-rogde-ntnu/LSTM_OPTION_PRICING/sweeps/guuhakot</a>"
      ],
      "text/plain": [
       "<IPython.core.display.HTML object>"
      ]
     },
     "metadata": {},
     "output_type": "display_data"
    },
    {
     "data": {
      "text/html": [
       " View run at <a href='https://wandb.ai/sondre-rogde-ntnu/LSTM_OPTION_PRICING/runs/4q71nucq' target=\"_blank\">https://wandb.ai/sondre-rogde-ntnu/LSTM_OPTION_PRICING/runs/4q71nucq</a>"
      ],
      "text/plain": [
       "<IPython.core.display.HTML object>"
      ]
     },
     "metadata": {},
     "output_type": "display_data"
    },
    {
     "name": "stdout",
     "output_type": "stream",
     "text": [
      "Epoch 1/300\n"
     ]
    },
    {
     "name": "stderr",
     "output_type": "stream",
     "text": [
      "/Library/Frameworks/Python.framework/Versions/3.12/lib/python3.12/site-packages/keras/src/layers/rnn/rnn.py:204: UserWarning: Do not pass an `input_shape`/`input_dim` argument to a layer. When using Sequential models, prefer using an `Input(shape)` object as the first layer in the model instead.\n",
      "  super().__init__(**kwargs)\n"
     ]
    },
    {
     "name": "stdout",
     "output_type": "stream",
     "text": [
      "\u001b[1m972/972\u001b[0m \u001b[32m━━━━━━━━━━━━━━━━━━━━\u001b[0m\u001b[37m\u001b[0m \u001b[1m56s\u001b[0m 52ms/step - loss: 572729.4375 - mae: 508.4153 - val_loss: 227793.9062 - val_mae: 330.5263\n",
      "Epoch 2/300\n",
      "\u001b[1m972/972\u001b[0m \u001b[32m━━━━━━━━━━━━━━━━━━━━\u001b[0m\u001b[37m\u001b[0m \u001b[1m55s\u001b[0m 57ms/step - loss: 99823.7188 - mae: 211.4326 - val_loss: 4184.9263 - val_mae: 52.5273\n",
      "Epoch 3/300\n",
      "\u001b[1m972/972\u001b[0m \u001b[32m━━━━━━━━━━━━━━━━━━━━\u001b[0m\u001b[37m\u001b[0m \u001b[1m55s\u001b[0m 57ms/step - loss: 1408.1625 - mae: 24.4003 - val_loss: 216.4822 - val_mae: 11.4080\n",
      "Epoch 4/300\n",
      "\u001b[1m972/972\u001b[0m \u001b[32m━━━━━━━━━━━━━━━━━━━━\u001b[0m\u001b[37m\u001b[0m \u001b[1m55s\u001b[0m 57ms/step - loss: 903.6090 - mae: 19.7613 - val_loss: 7084.8911 - val_mae: 61.8090\n",
      "Epoch 5/300\n",
      "\u001b[1m972/972\u001b[0m \u001b[32m━━━━━━━━━━━━━━━━━━━━\u001b[0m\u001b[37m\u001b[0m \u001b[1m55s\u001b[0m 56ms/step - loss: 882.4742 - mae: 19.7174 - val_loss: 2784.0918 - val_mae: 46.5985\n",
      "Epoch 6/300\n",
      "\u001b[1m972/972\u001b[0m \u001b[32m━━━━━━━━━━━━━━━━━━━━\u001b[0m\u001b[37m\u001b[0m \u001b[1m54s\u001b[0m 56ms/step - loss: 847.3796 - mae: 19.3585 - val_loss: 860.0768 - val_mae: 21.1671\n",
      "Epoch 7/300\n",
      "\u001b[1m972/972\u001b[0m \u001b[32m━━━━━━━━━━━━━━━━━━━━\u001b[0m\u001b[37m\u001b[0m \u001b[1m55s\u001b[0m 56ms/step - loss: 825.3998 - mae: 18.9929 - val_loss: 1358.2689 - val_mae: 24.9978\n",
      "Epoch 8/300\n",
      "\u001b[1m972/972\u001b[0m \u001b[32m━━━━━━━━━━━━━━━━━━━━\u001b[0m\u001b[37m\u001b[0m \u001b[1m54s\u001b[0m 56ms/step - loss: 809.6616 - mae: 18.6341 - val_loss: 911.4092 - val_mae: 18.7301\n",
      "\u001b[1m3888/3888\u001b[0m \u001b[32m━━━━━━━━━━━━━━━━━━━━\u001b[0m\u001b[37m\u001b[0m \u001b[1m6s\u001b[0m 2ms/step - loss: 950.5426 - mae: 18.6347\n"
     ]
    },
    {
     "data": {
      "text/html": [
       "<style>\n",
       "    table.wandb td:nth-child(1) { padding: 0 10px; text-align: left ; width: auto;} td:nth-child(2) {text-align: left ; width: 100%}\n",
       "    .wandb-row { display: flex; flex-direction: row; flex-wrap: wrap; justify-content: flex-start; width: 100% }\n",
       "    .wandb-col { display: flex; flex-direction: column; flex-basis: 100%; flex: 1; padding: 10px; }\n",
       "    </style>\n",
       "<div class=\"wandb-row\"><div class=\"wandb-col\"><h3>Run history:</h3><br/><table class=\"wandb\"><tr><td>epoch/epoch</td><td>▁▂▃▄▅▆▇█</td></tr><tr><td>epoch/learning_rate</td><td>▁▁▁▁▁▁▁▁</td></tr><tr><td>epoch/loss</td><td>█▂▁▁▁▁▁▁</td></tr><tr><td>epoch/mae</td><td>█▃▁▁▁▁▁▁</td></tr><tr><td>epoch/val_loss</td><td>█▁▁▁▁▁▁▁</td></tr><tr><td>epoch/val_mae</td><td>█▂▁▂▂▁▁▁</td></tr><tr><td>validation_loss</td><td>▁</td></tr></table><br/></div><div class=\"wandb-col\"><h3>Run summary:</h3><br/><table class=\"wandb\"><tr><td>epoch/epoch</td><td>7</td></tr><tr><td>epoch/learning_rate</td><td>0.00142</td></tr><tr><td>epoch/loss</td><td>855.92371</td></tr><tr><td>epoch/mae</td><td>18.96784</td></tr><tr><td>epoch/val_loss</td><td>911.40924</td></tr><tr><td>epoch/val_mae</td><td>18.73011</td></tr><tr><td>validation_loss</td><td>911.40967</td></tr></table><br/></div></div>"
      ],
      "text/plain": [
       "<IPython.core.display.HTML object>"
      ]
     },
     "metadata": {},
     "output_type": "display_data"
    },
    {
     "data": {
      "text/html": [
       " View run <strong style=\"color:#cdcd00\">vague-sweep-83</strong> at: <a href='https://wandb.ai/sondre-rogde-ntnu/LSTM_OPTION_PRICING/runs/4q71nucq' target=\"_blank\">https://wandb.ai/sondre-rogde-ntnu/LSTM_OPTION_PRICING/runs/4q71nucq</a><br/> View project at: <a href='https://wandb.ai/sondre-rogde-ntnu/LSTM_OPTION_PRICING' target=\"_blank\">https://wandb.ai/sondre-rogde-ntnu/LSTM_OPTION_PRICING</a><br/>Synced 5 W&B file(s), 0 media file(s), 0 artifact file(s) and 0 other file(s)"
      ],
      "text/plain": [
       "<IPython.core.display.HTML object>"
      ]
     },
     "metadata": {},
     "output_type": "display_data"
    },
    {
     "data": {
      "text/html": [
       "Find logs at: <code>./wandb/run-20240924_071512-4q71nucq/logs</code>"
      ],
      "text/plain": [
       "<IPython.core.display.HTML object>"
      ]
     },
     "metadata": {},
     "output_type": "display_data"
    },
    {
     "data": {
      "text/html": [
       "wandb version 0.18.1 is available!  To upgrade, please run:\n",
       " $ pip install wandb --upgrade"
      ],
      "text/plain": [
       "<IPython.core.display.HTML object>"
      ]
     },
     "metadata": {},
     "output_type": "display_data"
    },
    {
     "data": {
      "text/html": [
       "The new W&B backend becomes opt-out in version 0.18.0; try it out with `wandb.require(\"core\")`! See https://wandb.me/wandb-core for more information."
      ],
      "text/plain": [
       "<IPython.core.display.HTML object>"
      ]
     },
     "metadata": {},
     "output_type": "display_data"
    },
    {
     "name": "stderr",
     "output_type": "stream",
     "text": [
      "\u001b[34m\u001b[1mwandb\u001b[0m: Agent Starting Run: nt8hcjms with config:\n",
      "\u001b[34m\u001b[1mwandb\u001b[0m: \tbn_momentum: 0.38574885850738866\n",
      "\u001b[34m\u001b[1mwandb\u001b[0m: \tlayers: 6\n",
      "\u001b[34m\u001b[1mwandb\u001b[0m: \tlearning_rate: 0.0039000011120744593\n",
      "\u001b[34m\u001b[1mwandb\u001b[0m: \tminibatch_size: 1024\n",
      "\u001b[34m\u001b[1mwandb\u001b[0m: \tunits: 64\n",
      "\u001b[34m\u001b[1mwandb\u001b[0m: \tweight_decay: 0.00039997770674531633\n"
     ]
    },
    {
     "data": {
      "text/html": [
       "Tracking run with wandb version 0.17.9"
      ],
      "text/plain": [
       "<IPython.core.display.HTML object>"
      ]
     },
     "metadata": {},
     "output_type": "display_data"
    },
    {
     "data": {
      "text/html": [
       "Run data is saved locally in <code>/Users/sondrerogde/Dev/LSTM-for-option-pricing/Sondre/wandb/run-20240924_072249-nt8hcjms</code>"
      ],
      "text/plain": [
       "<IPython.core.display.HTML object>"
      ]
     },
     "metadata": {},
     "output_type": "display_data"
    },
    {
     "data": {
      "text/html": [
       "Syncing run <strong><a href='https://wandb.ai/sondre-rogde-ntnu/LSTM_OPTION_PRICING/runs/nt8hcjms' target=\"_blank\">lucky-sweep-84</a></strong> to <a href='https://wandb.ai/sondre-rogde-ntnu/LSTM_OPTION_PRICING' target=\"_blank\">Weights & Biases</a> (<a href='https://wandb.me/run' target=\"_blank\">docs</a>)<br/>Sweep page: <a href='https://wandb.ai/sondre-rogde-ntnu/LSTM_OPTION_PRICING/sweeps/guuhakot' target=\"_blank\">https://wandb.ai/sondre-rogde-ntnu/LSTM_OPTION_PRICING/sweeps/guuhakot</a>"
      ],
      "text/plain": [
       "<IPython.core.display.HTML object>"
      ]
     },
     "metadata": {},
     "output_type": "display_data"
    },
    {
     "data": {
      "text/html": [
       " View project at <a href='https://wandb.ai/sondre-rogde-ntnu/LSTM_OPTION_PRICING' target=\"_blank\">https://wandb.ai/sondre-rogde-ntnu/LSTM_OPTION_PRICING</a>"
      ],
      "text/plain": [
       "<IPython.core.display.HTML object>"
      ]
     },
     "metadata": {},
     "output_type": "display_data"
    },
    {
     "data": {
      "text/html": [
       " View sweep at <a href='https://wandb.ai/sondre-rogde-ntnu/LSTM_OPTION_PRICING/sweeps/guuhakot' target=\"_blank\">https://wandb.ai/sondre-rogde-ntnu/LSTM_OPTION_PRICING/sweeps/guuhakot</a>"
      ],
      "text/plain": [
       "<IPython.core.display.HTML object>"
      ]
     },
     "metadata": {},
     "output_type": "display_data"
    },
    {
     "data": {
      "text/html": [
       " View run at <a href='https://wandb.ai/sondre-rogde-ntnu/LSTM_OPTION_PRICING/runs/nt8hcjms' target=\"_blank\">https://wandb.ai/sondre-rogde-ntnu/LSTM_OPTION_PRICING/runs/nt8hcjms</a>"
      ],
      "text/plain": [
       "<IPython.core.display.HTML object>"
      ]
     },
     "metadata": {},
     "output_type": "display_data"
    },
    {
     "name": "stdout",
     "output_type": "stream",
     "text": [
      "Epoch 1/300\n"
     ]
    },
    {
     "name": "stderr",
     "output_type": "stream",
     "text": [
      "/Library/Frameworks/Python.framework/Versions/3.12/lib/python3.12/site-packages/keras/src/layers/rnn/rnn.py:204: UserWarning: Do not pass an `input_shape`/`input_dim` argument to a layer. When using Sequential models, prefer using an `Input(shape)` object as the first layer in the model instead.\n",
      "  super().__init__(**kwargs)\n"
     ]
    },
    {
     "name": "stdout",
     "output_type": "stream",
     "text": [
      "\u001b[1m972/972\u001b[0m \u001b[32m━━━━━━━━━━━━━━━━━━━━\u001b[0m\u001b[37m\u001b[0m \u001b[1m53s\u001b[0m 51ms/step - loss: 391492.0000 - mae: 388.7370 - val_loss: 508.5442 - val_mae: 19.3335\n",
      "Epoch 2/300\n",
      "\u001b[1m972/972\u001b[0m \u001b[32m━━━━━━━━━━━━━━━━━━━━\u001b[0m\u001b[37m\u001b[0m \u001b[1m55s\u001b[0m 56ms/step - loss: 918.0943 - mae: 20.1187 - val_loss: 31352.3047 - val_mae: 157.2270\n",
      "Epoch 3/300\n",
      "\u001b[1m972/972\u001b[0m \u001b[32m━━━━━━━━━━━━━━━━━━━━\u001b[0m\u001b[37m\u001b[0m \u001b[1m54s\u001b[0m 56ms/step - loss: 944.0586 - mae: 20.4395 - val_loss: 2308.2573 - val_mae: 37.8736\n",
      "Epoch 4/300\n",
      "\u001b[1m972/972\u001b[0m \u001b[32m━━━━━━━━━━━━━━━━━━━━\u001b[0m\u001b[37m\u001b[0m \u001b[1m54s\u001b[0m 56ms/step - loss: 895.5564 - mae: 19.9923 - val_loss: 626.2528 - val_mae: 15.1414\n",
      "Epoch 5/300\n",
      "\u001b[1m972/972\u001b[0m \u001b[32m━━━━━━━━━━━━━━━━━━━━\u001b[0m\u001b[37m\u001b[0m \u001b[1m54s\u001b[0m 56ms/step - loss: 891.3589 - mae: 19.6749 - val_loss: 1007.1836 - val_mae: 26.9292\n",
      "Epoch 6/300\n",
      "\u001b[1m972/972\u001b[0m \u001b[32m━━━━━━━━━━━━━━━━━━━━\u001b[0m\u001b[37m\u001b[0m \u001b[1m54s\u001b[0m 56ms/step - loss: 849.2014 - mae: 19.2733 - val_loss: 930.7577 - val_mae: 23.7956\n",
      "\u001b[1m3888/3888\u001b[0m \u001b[32m━━━━━━━━━━━━━━━━━━━━\u001b[0m\u001b[37m\u001b[0m \u001b[1m6s\u001b[0m 2ms/step - loss: 830.6273 - mae: 22.0141\n"
     ]
    },
    {
     "data": {
      "text/html": [
       "<style>\n",
       "    table.wandb td:nth-child(1) { padding: 0 10px; text-align: left ; width: auto;} td:nth-child(2) {text-align: left ; width: 100%}\n",
       "    .wandb-row { display: flex; flex-direction: row; flex-wrap: wrap; justify-content: flex-start; width: 100% }\n",
       "    .wandb-col { display: flex; flex-direction: column; flex-basis: 100%; flex: 1; padding: 10px; }\n",
       "    </style>\n",
       "<div class=\"wandb-row\"><div class=\"wandb-col\"><h3>Run history:</h3><br/><table class=\"wandb\"><tr><td>epoch/epoch</td><td>▁▂▄▅▇█</td></tr><tr><td>epoch/learning_rate</td><td>▁▁▁▁▁▁</td></tr><tr><td>epoch/loss</td><td>█▁▁▁▁▁</td></tr><tr><td>epoch/mae</td><td>█▁▁▁▁▁</td></tr><tr><td>epoch/val_loss</td><td>▁█▁▁▁▁</td></tr><tr><td>epoch/val_mae</td><td>▁█▂▁▂▁</td></tr><tr><td>validation_loss</td><td>▁</td></tr></table><br/></div><div class=\"wandb-col\"><h3>Run summary:</h3><br/><table class=\"wandb\"><tr><td>epoch/epoch</td><td>5</td></tr><tr><td>epoch/learning_rate</td><td>0.0039</td></tr><tr><td>epoch/loss</td><td>835.20221</td></tr><tr><td>epoch/mae</td><td>19.264</td></tr><tr><td>epoch/val_loss</td><td>930.75769</td></tr><tr><td>epoch/val_mae</td><td>23.79564</td></tr><tr><td>validation_loss</td><td>930.75861</td></tr></table><br/></div></div>"
      ],
      "text/plain": [
       "<IPython.core.display.HTML object>"
      ]
     },
     "metadata": {},
     "output_type": "display_data"
    },
    {
     "data": {
      "text/html": [
       " View run <strong style=\"color:#cdcd00\">lucky-sweep-84</strong> at: <a href='https://wandb.ai/sondre-rogde-ntnu/LSTM_OPTION_PRICING/runs/nt8hcjms' target=\"_blank\">https://wandb.ai/sondre-rogde-ntnu/LSTM_OPTION_PRICING/runs/nt8hcjms</a><br/> View project at: <a href='https://wandb.ai/sondre-rogde-ntnu/LSTM_OPTION_PRICING' target=\"_blank\">https://wandb.ai/sondre-rogde-ntnu/LSTM_OPTION_PRICING</a><br/>Synced 5 W&B file(s), 0 media file(s), 0 artifact file(s) and 0 other file(s)"
      ],
      "text/plain": [
       "<IPython.core.display.HTML object>"
      ]
     },
     "metadata": {},
     "output_type": "display_data"
    },
    {
     "data": {
      "text/html": [
       "Find logs at: <code>./wandb/run-20240924_072249-nt8hcjms/logs</code>"
      ],
      "text/plain": [
       "<IPython.core.display.HTML object>"
      ]
     },
     "metadata": {},
     "output_type": "display_data"
    },
    {
     "data": {
      "text/html": [
       "wandb version 0.18.1 is available!  To upgrade, please run:\n",
       " $ pip install wandb --upgrade"
      ],
      "text/plain": [
       "<IPython.core.display.HTML object>"
      ]
     },
     "metadata": {},
     "output_type": "display_data"
    },
    {
     "data": {
      "text/html": [
       "The new W&B backend becomes opt-out in version 0.18.0; try it out with `wandb.require(\"core\")`! See https://wandb.me/wandb-core for more information."
      ],
      "text/plain": [
       "<IPython.core.display.HTML object>"
      ]
     },
     "metadata": {},
     "output_type": "display_data"
    },
    {
     "name": "stderr",
     "output_type": "stream",
     "text": [
      "\u001b[34m\u001b[1mwandb\u001b[0m: Agent Starting Run: nfsz9j92 with config:\n",
      "\u001b[34m\u001b[1mwandb\u001b[0m: \tbn_momentum: 0.33618795414224323\n",
      "\u001b[34m\u001b[1mwandb\u001b[0m: \tlayers: 6\n",
      "\u001b[34m\u001b[1mwandb\u001b[0m: \tlearning_rate: 0.0024330173227372623\n",
      "\u001b[34m\u001b[1mwandb\u001b[0m: \tminibatch_size: 1024\n",
      "\u001b[34m\u001b[1mwandb\u001b[0m: \tunits: 32\n",
      "\u001b[34m\u001b[1mwandb\u001b[0m: \tweight_decay: 0.00010839210662777112\n"
     ]
    },
    {
     "data": {
      "text/html": [
       "Tracking run with wandb version 0.17.9"
      ],
      "text/plain": [
       "<IPython.core.display.HTML object>"
      ]
     },
     "metadata": {},
     "output_type": "display_data"
    },
    {
     "data": {
      "text/html": [
       "Run data is saved locally in <code>/Users/sondrerogde/Dev/LSTM-for-option-pricing/Sondre/wandb/run-20240924_072833-nfsz9j92</code>"
      ],
      "text/plain": [
       "<IPython.core.display.HTML object>"
      ]
     },
     "metadata": {},
     "output_type": "display_data"
    },
    {
     "data": {
      "text/html": [
       "Syncing run <strong><a href='https://wandb.ai/sondre-rogde-ntnu/LSTM_OPTION_PRICING/runs/nfsz9j92' target=\"_blank\">woven-sweep-85</a></strong> to <a href='https://wandb.ai/sondre-rogde-ntnu/LSTM_OPTION_PRICING' target=\"_blank\">Weights & Biases</a> (<a href='https://wandb.me/run' target=\"_blank\">docs</a>)<br/>Sweep page: <a href='https://wandb.ai/sondre-rogde-ntnu/LSTM_OPTION_PRICING/sweeps/guuhakot' target=\"_blank\">https://wandb.ai/sondre-rogde-ntnu/LSTM_OPTION_PRICING/sweeps/guuhakot</a>"
      ],
      "text/plain": [
       "<IPython.core.display.HTML object>"
      ]
     },
     "metadata": {},
     "output_type": "display_data"
    },
    {
     "data": {
      "text/html": [
       " View project at <a href='https://wandb.ai/sondre-rogde-ntnu/LSTM_OPTION_PRICING' target=\"_blank\">https://wandb.ai/sondre-rogde-ntnu/LSTM_OPTION_PRICING</a>"
      ],
      "text/plain": [
       "<IPython.core.display.HTML object>"
      ]
     },
     "metadata": {},
     "output_type": "display_data"
    },
    {
     "data": {
      "text/html": [
       " View sweep at <a href='https://wandb.ai/sondre-rogde-ntnu/LSTM_OPTION_PRICING/sweeps/guuhakot' target=\"_blank\">https://wandb.ai/sondre-rogde-ntnu/LSTM_OPTION_PRICING/sweeps/guuhakot</a>"
      ],
      "text/plain": [
       "<IPython.core.display.HTML object>"
      ]
     },
     "metadata": {},
     "output_type": "display_data"
    },
    {
     "data": {
      "text/html": [
       " View run at <a href='https://wandb.ai/sondre-rogde-ntnu/LSTM_OPTION_PRICING/runs/nfsz9j92' target=\"_blank\">https://wandb.ai/sondre-rogde-ntnu/LSTM_OPTION_PRICING/runs/nfsz9j92</a>"
      ],
      "text/plain": [
       "<IPython.core.display.HTML object>"
      ]
     },
     "metadata": {},
     "output_type": "display_data"
    },
    {
     "name": "stdout",
     "output_type": "stream",
     "text": [
      "Epoch 1/300\n"
     ]
    },
    {
     "name": "stderr",
     "output_type": "stream",
     "text": [
      "/Library/Frameworks/Python.framework/Versions/3.12/lib/python3.12/site-packages/keras/src/layers/rnn/rnn.py:204: UserWarning: Do not pass an `input_shape`/`input_dim` argument to a layer. When using Sequential models, prefer using an `Input(shape)` object as the first layer in the model instead.\n",
      "  super().__init__(**kwargs)\n"
     ]
    },
    {
     "name": "stdout",
     "output_type": "stream",
     "text": [
      "\u001b[1m972/972\u001b[0m \u001b[32m━━━━━━━━━━━━━━━━━━━━\u001b[0m\u001b[37m\u001b[0m \u001b[1m34s\u001b[0m 31ms/step - loss: 555101.0625 - mae: 497.5544 - val_loss: 148777.9375 - val_mae: 276.4197\n",
      "Epoch 2/300\n",
      "\u001b[1m972/972\u001b[0m \u001b[32m━━━━━━━━━━━━━━━━━━━━\u001b[0m\u001b[37m\u001b[0m \u001b[1m30s\u001b[0m 31ms/step - loss: 42174.7383 - mae: 129.1545 - val_loss: 90.5201 - val_mae: 6.9897\n",
      "Epoch 3/300\n",
      "\u001b[1m972/972\u001b[0m \u001b[32m━━━━━━━━━━━━━━━━━━━━\u001b[0m\u001b[37m\u001b[0m \u001b[1m30s\u001b[0m 31ms/step - loss: 930.5468 - mae: 20.2545 - val_loss: 1354.3970 - val_mae: 32.1870\n",
      "Epoch 4/300\n",
      "\u001b[1m972/972\u001b[0m \u001b[32m━━━━━━━━━━━━━━━━━━━━\u001b[0m\u001b[37m\u001b[0m \u001b[1m31s\u001b[0m 31ms/step - loss: 886.2197 - mae: 19.7559 - val_loss: 1183.7571 - val_mae: 30.9822\n",
      "Epoch 5/300\n",
      "\u001b[1m972/972\u001b[0m \u001b[32m━━━━━━━━━━━━━━━━━━━━\u001b[0m\u001b[37m\u001b[0m \u001b[1m32s\u001b[0m 33ms/step - loss: 887.2657 - mae: 19.5637 - val_loss: 85.2665 - val_mae: 6.4989\n",
      "Epoch 6/300\n",
      "\u001b[1m972/972\u001b[0m \u001b[32m━━━━━━━━━━━━━━━━━━━━\u001b[0m\u001b[37m\u001b[0m \u001b[1m32s\u001b[0m 33ms/step - loss: 856.4312 - mae: 19.0792 - val_loss: 5811.3340 - val_mae: 71.2517\n",
      "Epoch 7/300\n",
      "\u001b[1m972/972\u001b[0m \u001b[32m━━━━━━━━━━━━━━━━━━━━\u001b[0m\u001b[37m\u001b[0m \u001b[1m31s\u001b[0m 32ms/step - loss: 801.1706 - mae: 18.5814 - val_loss: 4047.7695 - val_mae: 55.1379\n",
      "Epoch 8/300\n",
      "\u001b[1m972/972\u001b[0m \u001b[32m━━━━━━━━━━━━━━━━━━━━\u001b[0m\u001b[37m\u001b[0m \u001b[1m30s\u001b[0m 31ms/step - loss: 875.4686 - mae: 19.4391 - val_loss: 425.4053 - val_mae: 14.2500\n",
      "Epoch 9/300\n",
      "\u001b[1m972/972\u001b[0m \u001b[32m━━━━━━━━━━━━━━━━━━━━\u001b[0m\u001b[37m\u001b[0m \u001b[1m31s\u001b[0m 32ms/step - loss: 822.1821 - mae: 18.8574 - val_loss: 451.3214 - val_mae: 16.2038\n",
      "Epoch 10/300\n",
      "\u001b[1m972/972\u001b[0m \u001b[32m━━━━━━━━━━━━━━━━━━━━\u001b[0m\u001b[37m\u001b[0m \u001b[1m30s\u001b[0m 31ms/step - loss: 799.4073 - mae: 18.5283 - val_loss: 1930.0280 - val_mae: 39.9968\n",
      "\u001b[1m3888/3888\u001b[0m \u001b[32m━━━━━━━━━━━━━━━━━━━━\u001b[0m\u001b[37m\u001b[0m \u001b[1m4s\u001b[0m 972us/step - loss: 1820.9955 - mae: 39.1210\n"
     ]
    },
    {
     "data": {
      "text/html": [
       "<style>\n",
       "    table.wandb td:nth-child(1) { padding: 0 10px; text-align: left ; width: auto;} td:nth-child(2) {text-align: left ; width: 100%}\n",
       "    .wandb-row { display: flex; flex-direction: row; flex-wrap: wrap; justify-content: flex-start; width: 100% }\n",
       "    .wandb-col { display: flex; flex-direction: column; flex-basis: 100%; flex: 1; padding: 10px; }\n",
       "    </style>\n",
       "<div class=\"wandb-row\"><div class=\"wandb-col\"><h3>Run history:</h3><br/><table class=\"wandb\"><tr><td>epoch/epoch</td><td>▁▂▃▃▄▅▆▆▇█</td></tr><tr><td>epoch/learning_rate</td><td>▁▁▁▁▁▁▁▁▁▁</td></tr><tr><td>epoch/loss</td><td>█▁▁▁▁▁▁▁▁▁</td></tr><tr><td>epoch/mae</td><td>█▂▁▁▁▁▁▁▁▁</td></tr><tr><td>epoch/val_loss</td><td>█▁▁▁▁▁▁▁▁▁</td></tr><tr><td>epoch/val_mae</td><td>█▁▂▂▁▃▂▁▁▂</td></tr><tr><td>validation_loss</td><td>▁</td></tr></table><br/></div><div class=\"wandb-col\"><h3>Run summary:</h3><br/><table class=\"wandb\"><tr><td>epoch/epoch</td><td>9</td></tr><tr><td>epoch/learning_rate</td><td>0.00243</td></tr><tr><td>epoch/loss</td><td>824.94958</td></tr><tr><td>epoch/mae</td><td>18.72435</td></tr><tr><td>epoch/val_loss</td><td>1930.02795</td></tr><tr><td>epoch/val_mae</td><td>39.99679</td></tr><tr><td>validation_loss</td><td>1930.0271</td></tr></table><br/></div></div>"
      ],
      "text/plain": [
       "<IPython.core.display.HTML object>"
      ]
     },
     "metadata": {},
     "output_type": "display_data"
    },
    {
     "data": {
      "text/html": [
       " View run <strong style=\"color:#cdcd00\">woven-sweep-85</strong> at: <a href='https://wandb.ai/sondre-rogde-ntnu/LSTM_OPTION_PRICING/runs/nfsz9j92' target=\"_blank\">https://wandb.ai/sondre-rogde-ntnu/LSTM_OPTION_PRICING/runs/nfsz9j92</a><br/> View project at: <a href='https://wandb.ai/sondre-rogde-ntnu/LSTM_OPTION_PRICING' target=\"_blank\">https://wandb.ai/sondre-rogde-ntnu/LSTM_OPTION_PRICING</a><br/>Synced 5 W&B file(s), 0 media file(s), 0 artifact file(s) and 0 other file(s)"
      ],
      "text/plain": [
       "<IPython.core.display.HTML object>"
      ]
     },
     "metadata": {},
     "output_type": "display_data"
    },
    {
     "data": {
      "text/html": [
       "Find logs at: <code>./wandb/run-20240924_072833-nfsz9j92/logs</code>"
      ],
      "text/plain": [
       "<IPython.core.display.HTML object>"
      ]
     },
     "metadata": {},
     "output_type": "display_data"
    },
    {
     "data": {
      "text/html": [
       "wandb version 0.18.1 is available!  To upgrade, please run:\n",
       " $ pip install wandb --upgrade"
      ],
      "text/plain": [
       "<IPython.core.display.HTML object>"
      ]
     },
     "metadata": {},
     "output_type": "display_data"
    },
    {
     "data": {
      "text/html": [
       "The new W&B backend becomes opt-out in version 0.18.0; try it out with `wandb.require(\"core\")`! See https://wandb.me/wandb-core for more information."
      ],
      "text/plain": [
       "<IPython.core.display.HTML object>"
      ]
     },
     "metadata": {},
     "output_type": "display_data"
    },
    {
     "name": "stderr",
     "output_type": "stream",
     "text": [
      "\u001b[34m\u001b[1mwandb\u001b[0m: Agent Starting Run: g70ceyh6 with config:\n",
      "\u001b[34m\u001b[1mwandb\u001b[0m: \tbn_momentum: 0.10374982099648752\n",
      "\u001b[34m\u001b[1mwandb\u001b[0m: \tlayers: 5\n",
      "\u001b[34m\u001b[1mwandb\u001b[0m: \tlearning_rate: 0.002991866725685296\n",
      "\u001b[34m\u001b[1mwandb\u001b[0m: \tminibatch_size: 2048\n",
      "\u001b[34m\u001b[1mwandb\u001b[0m: \tunits: 64\n",
      "\u001b[34m\u001b[1mwandb\u001b[0m: \tweight_decay: 0.00028904041910592527\n"
     ]
    },
    {
     "data": {
      "text/html": [
       "Tracking run with wandb version 0.17.9"
      ],
      "text/plain": [
       "<IPython.core.display.HTML object>"
      ]
     },
     "metadata": {},
     "output_type": "display_data"
    },
    {
     "data": {
      "text/html": [
       "Run data is saved locally in <code>/Users/sondrerogde/Dev/LSTM-for-option-pricing/Sondre/wandb/run-20240924_073356-g70ceyh6</code>"
      ],
      "text/plain": [
       "<IPython.core.display.HTML object>"
      ]
     },
     "metadata": {},
     "output_type": "display_data"
    },
    {
     "data": {
      "text/html": [
       "Syncing run <strong><a href='https://wandb.ai/sondre-rogde-ntnu/LSTM_OPTION_PRICING/runs/g70ceyh6' target=\"_blank\">gentle-sweep-86</a></strong> to <a href='https://wandb.ai/sondre-rogde-ntnu/LSTM_OPTION_PRICING' target=\"_blank\">Weights & Biases</a> (<a href='https://wandb.me/run' target=\"_blank\">docs</a>)<br/>Sweep page: <a href='https://wandb.ai/sondre-rogde-ntnu/LSTM_OPTION_PRICING/sweeps/guuhakot' target=\"_blank\">https://wandb.ai/sondre-rogde-ntnu/LSTM_OPTION_PRICING/sweeps/guuhakot</a>"
      ],
      "text/plain": [
       "<IPython.core.display.HTML object>"
      ]
     },
     "metadata": {},
     "output_type": "display_data"
    },
    {
     "data": {
      "text/html": [
       " View project at <a href='https://wandb.ai/sondre-rogde-ntnu/LSTM_OPTION_PRICING' target=\"_blank\">https://wandb.ai/sondre-rogde-ntnu/LSTM_OPTION_PRICING</a>"
      ],
      "text/plain": [
       "<IPython.core.display.HTML object>"
      ]
     },
     "metadata": {},
     "output_type": "display_data"
    },
    {
     "data": {
      "text/html": [
       " View sweep at <a href='https://wandb.ai/sondre-rogde-ntnu/LSTM_OPTION_PRICING/sweeps/guuhakot' target=\"_blank\">https://wandb.ai/sondre-rogde-ntnu/LSTM_OPTION_PRICING/sweeps/guuhakot</a>"
      ],
      "text/plain": [
       "<IPython.core.display.HTML object>"
      ]
     },
     "metadata": {},
     "output_type": "display_data"
    },
    {
     "data": {
      "text/html": [
       " View run at <a href='https://wandb.ai/sondre-rogde-ntnu/LSTM_OPTION_PRICING/runs/g70ceyh6' target=\"_blank\">https://wandb.ai/sondre-rogde-ntnu/LSTM_OPTION_PRICING/runs/g70ceyh6</a>"
      ],
      "text/plain": [
       "<IPython.core.display.HTML object>"
      ]
     },
     "metadata": {},
     "output_type": "display_data"
    },
    {
     "name": "stdout",
     "output_type": "stream",
     "text": [
      "Epoch 1/300\n"
     ]
    },
    {
     "name": "stderr",
     "output_type": "stream",
     "text": [
      "/Library/Frameworks/Python.framework/Versions/3.12/lib/python3.12/site-packages/keras/src/layers/rnn/rnn.py:204: UserWarning: Do not pass an `input_shape`/`input_dim` argument to a layer. When using Sequential models, prefer using an `Input(shape)` object as the first layer in the model instead.\n",
      "  super().__init__(**kwargs)\n"
     ]
    },
    {
     "name": "stdout",
     "output_type": "stream",
     "text": [
      "\u001b[1m486/486\u001b[0m \u001b[32m━━━━━━━━━━━━━━━━━━━━\u001b[0m\u001b[37m\u001b[0m \u001b[1m40s\u001b[0m 77ms/step - loss: 567255.0000 - mae: 506.0863 - val_loss: 198404.5469 - val_mae: 315.5019\n",
      "Epoch 2/300\n",
      "\u001b[1m486/486\u001b[0m \u001b[32m━━━━━━━━━━━━━━━━━━━━\u001b[0m\u001b[37m\u001b[0m \u001b[1m42s\u001b[0m 86ms/step - loss: 76888.1953 - mae: 182.7078 - val_loss: 236.1822 - val_mae: 11.1178\n",
      "Epoch 3/300\n",
      "\u001b[1m486/486\u001b[0m \u001b[32m━━━━━━━━━━━━━━━━━━━━\u001b[0m\u001b[37m\u001b[0m \u001b[1m40s\u001b[0m 83ms/step - loss: 692.6809 - mae: 17.8246 - val_loss: 1441.9520 - val_mae: 27.9879\n",
      "Epoch 4/300\n",
      "\u001b[1m486/486\u001b[0m \u001b[32m━━━━━━━━━━━━━━━━━━━━\u001b[0m\u001b[37m\u001b[0m \u001b[1m40s\u001b[0m 83ms/step - loss: 510.0985 - mae: 15.1299 - val_loss: 223.2498 - val_mae: 11.7875\n",
      "Epoch 5/300\n",
      "\u001b[1m486/486\u001b[0m \u001b[32m━━━━━━━━━━━━━━━━━━━━\u001b[0m\u001b[37m\u001b[0m \u001b[1m40s\u001b[0m 83ms/step - loss: 451.8654 - mae: 14.0372 - val_loss: 2032.3844 - val_mae: 37.0261\n",
      "Epoch 6/300\n",
      "\u001b[1m486/486\u001b[0m \u001b[32m━━━━━━━━━━━━━━━━━━━━\u001b[0m\u001b[37m\u001b[0m \u001b[1m39s\u001b[0m 81ms/step - loss: 540.6388 - mae: 15.4588 - val_loss: 931.8746 - val_mae: 27.6859\n",
      "Epoch 7/300\n",
      "\u001b[1m486/486\u001b[0m \u001b[32m━━━━━━━━━━━━━━━━━━━━\u001b[0m\u001b[37m\u001b[0m \u001b[1m40s\u001b[0m 82ms/step - loss: 529.7983 - mae: 15.5204 - val_loss: 635.3840 - val_mae: 22.4441\n",
      "Epoch 8/300\n",
      "\u001b[1m486/486\u001b[0m \u001b[32m━━━━━━━━━━━━━━━━━━━━\u001b[0m\u001b[37m\u001b[0m \u001b[1m40s\u001b[0m 82ms/step - loss: 520.2880 - mae: 15.1053 - val_loss: 384.9557 - val_mae: 14.9724\n",
      "Epoch 9/300\n",
      "\u001b[1m486/486\u001b[0m \u001b[32m━━━━━━━━━━━━━━━━━━━━\u001b[0m\u001b[37m\u001b[0m \u001b[1m40s\u001b[0m 82ms/step - loss: 516.7715 - mae: 15.0788 - val_loss: 255.9537 - val_mae: 12.7651\n",
      "\u001b[1m3888/3888\u001b[0m \u001b[32m━━━━━━━━━━━━━━━━━━━━\u001b[0m\u001b[37m\u001b[0m \u001b[1m5s\u001b[0m 1ms/step - loss: 311.6296 - mae: 14.6657\n"
     ]
    },
    {
     "data": {
      "text/html": [
       "<style>\n",
       "    table.wandb td:nth-child(1) { padding: 0 10px; text-align: left ; width: auto;} td:nth-child(2) {text-align: left ; width: 100%}\n",
       "    .wandb-row { display: flex; flex-direction: row; flex-wrap: wrap; justify-content: flex-start; width: 100% }\n",
       "    .wandb-col { display: flex; flex-direction: column; flex-basis: 100%; flex: 1; padding: 10px; }\n",
       "    </style>\n",
       "<div class=\"wandb-row\"><div class=\"wandb-col\"><h3>Run history:</h3><br/><table class=\"wandb\"><tr><td>epoch/epoch</td><td>▁▂▃▄▅▅▆▇█</td></tr><tr><td>epoch/learning_rate</td><td>▁▁▁▁▁▁▁▁▁</td></tr><tr><td>epoch/loss</td><td>█▂▁▁▁▁▁▁▁</td></tr><tr><td>epoch/mae</td><td>█▃▁▁▁▁▁▁▁</td></tr><tr><td>epoch/val_loss</td><td>█▁▁▁▁▁▁▁▁</td></tr><tr><td>epoch/val_mae</td><td>█▁▁▁▂▁▁▁▁</td></tr><tr><td>validation_loss</td><td>▁</td></tr></table><br/></div><div class=\"wandb-col\"><h3>Run summary:</h3><br/><table class=\"wandb\"><tr><td>epoch/epoch</td><td>8</td></tr><tr><td>epoch/learning_rate</td><td>0.00299</td></tr><tr><td>epoch/loss</td><td>497.31854</td></tr><tr><td>epoch/mae</td><td>14.82909</td></tr><tr><td>epoch/val_loss</td><td>255.95366</td></tr><tr><td>epoch/val_mae</td><td>12.7651</td></tr><tr><td>validation_loss</td><td>255.95366</td></tr></table><br/></div></div>"
      ],
      "text/plain": [
       "<IPython.core.display.HTML object>"
      ]
     },
     "metadata": {},
     "output_type": "display_data"
    },
    {
     "data": {
      "text/html": [
       " View run <strong style=\"color:#cdcd00\">gentle-sweep-86</strong> at: <a href='https://wandb.ai/sondre-rogde-ntnu/LSTM_OPTION_PRICING/runs/g70ceyh6' target=\"_blank\">https://wandb.ai/sondre-rogde-ntnu/LSTM_OPTION_PRICING/runs/g70ceyh6</a><br/> View project at: <a href='https://wandb.ai/sondre-rogde-ntnu/LSTM_OPTION_PRICING' target=\"_blank\">https://wandb.ai/sondre-rogde-ntnu/LSTM_OPTION_PRICING</a><br/>Synced 5 W&B file(s), 0 media file(s), 0 artifact file(s) and 0 other file(s)"
      ],
      "text/plain": [
       "<IPython.core.display.HTML object>"
      ]
     },
     "metadata": {},
     "output_type": "display_data"
    },
    {
     "data": {
      "text/html": [
       "Find logs at: <code>./wandb/run-20240924_073356-g70ceyh6/logs</code>"
      ],
      "text/plain": [
       "<IPython.core.display.HTML object>"
      ]
     },
     "metadata": {},
     "output_type": "display_data"
    },
    {
     "data": {
      "text/html": [
       "wandb version 0.18.1 is available!  To upgrade, please run:\n",
       " $ pip install wandb --upgrade"
      ],
      "text/plain": [
       "<IPython.core.display.HTML object>"
      ]
     },
     "metadata": {},
     "output_type": "display_data"
    },
    {
     "data": {
      "text/html": [
       "The new W&B backend becomes opt-out in version 0.18.0; try it out with `wandb.require(\"core\")`! See https://wandb.me/wandb-core for more information."
      ],
      "text/plain": [
       "<IPython.core.display.HTML object>"
      ]
     },
     "metadata": {},
     "output_type": "display_data"
    },
    {
     "name": "stderr",
     "output_type": "stream",
     "text": [
      "\u001b[34m\u001b[1mwandb\u001b[0m: Agent Starting Run: ibkxmwvo with config:\n",
      "\u001b[34m\u001b[1mwandb\u001b[0m: \tbn_momentum: 0.17487057692479985\n",
      "\u001b[34m\u001b[1mwandb\u001b[0m: \tlayers: 4\n",
      "\u001b[34m\u001b[1mwandb\u001b[0m: \tlearning_rate: 0.0008198938409946552\n",
      "\u001b[34m\u001b[1mwandb\u001b[0m: \tminibatch_size: 1024\n",
      "\u001b[34m\u001b[1mwandb\u001b[0m: \tunits: 32\n",
      "\u001b[34m\u001b[1mwandb\u001b[0m: \tweight_decay: 0.00015981097388061626\n"
     ]
    },
    {
     "data": {
      "text/html": [
       "Tracking run with wandb version 0.17.9"
      ],
      "text/plain": [
       "<IPython.core.display.HTML object>"
      ]
     },
     "metadata": {},
     "output_type": "display_data"
    },
    {
     "data": {
      "text/html": [
       "Run data is saved locally in <code>/Users/sondrerogde/Dev/LSTM-for-option-pricing/Sondre/wandb/run-20240924_074015-ibkxmwvo</code>"
      ],
      "text/plain": [
       "<IPython.core.display.HTML object>"
      ]
     },
     "metadata": {},
     "output_type": "display_data"
    },
    {
     "data": {
      "text/html": [
       "Syncing run <strong><a href='https://wandb.ai/sondre-rogde-ntnu/LSTM_OPTION_PRICING/runs/ibkxmwvo' target=\"_blank\">genial-sweep-87</a></strong> to <a href='https://wandb.ai/sondre-rogde-ntnu/LSTM_OPTION_PRICING' target=\"_blank\">Weights & Biases</a> (<a href='https://wandb.me/run' target=\"_blank\">docs</a>)<br/>Sweep page: <a href='https://wandb.ai/sondre-rogde-ntnu/LSTM_OPTION_PRICING/sweeps/guuhakot' target=\"_blank\">https://wandb.ai/sondre-rogde-ntnu/LSTM_OPTION_PRICING/sweeps/guuhakot</a>"
      ],
      "text/plain": [
       "<IPython.core.display.HTML object>"
      ]
     },
     "metadata": {},
     "output_type": "display_data"
    },
    {
     "data": {
      "text/html": [
       " View project at <a href='https://wandb.ai/sondre-rogde-ntnu/LSTM_OPTION_PRICING' target=\"_blank\">https://wandb.ai/sondre-rogde-ntnu/LSTM_OPTION_PRICING</a>"
      ],
      "text/plain": [
       "<IPython.core.display.HTML object>"
      ]
     },
     "metadata": {},
     "output_type": "display_data"
    },
    {
     "data": {
      "text/html": [
       " View sweep at <a href='https://wandb.ai/sondre-rogde-ntnu/LSTM_OPTION_PRICING/sweeps/guuhakot' target=\"_blank\">https://wandb.ai/sondre-rogde-ntnu/LSTM_OPTION_PRICING/sweeps/guuhakot</a>"
      ],
      "text/plain": [
       "<IPython.core.display.HTML object>"
      ]
     },
     "metadata": {},
     "output_type": "display_data"
    },
    {
     "data": {
      "text/html": [
       " View run at <a href='https://wandb.ai/sondre-rogde-ntnu/LSTM_OPTION_PRICING/runs/ibkxmwvo' target=\"_blank\">https://wandb.ai/sondre-rogde-ntnu/LSTM_OPTION_PRICING/runs/ibkxmwvo</a>"
      ],
      "text/plain": [
       "<IPython.core.display.HTML object>"
      ]
     },
     "metadata": {},
     "output_type": "display_data"
    },
    {
     "name": "stdout",
     "output_type": "stream",
     "text": [
      "Epoch 1/300\n"
     ]
    },
    {
     "name": "stderr",
     "output_type": "stream",
     "text": [
      "/Library/Frameworks/Python.framework/Versions/3.12/lib/python3.12/site-packages/keras/src/layers/rnn/rnn.py:204: UserWarning: Do not pass an `input_shape`/`input_dim` argument to a layer. When using Sequential models, prefer using an `Input(shape)` object as the first layer in the model instead.\n",
      "  super().__init__(**kwargs)\n"
     ]
    },
    {
     "name": "stdout",
     "output_type": "stream",
     "text": [
      "\u001b[1m972/972\u001b[0m \u001b[32m━━━━━━━━━━━━━━━━━━━━\u001b[0m\u001b[37m\u001b[0m \u001b[1m22s\u001b[0m 20ms/step - loss: 636969.1875 - mae: 534.8558 - val_loss: 701719.8750 - val_mae: 575.4333\n",
      "Epoch 2/300\n",
      "\u001b[1m972/972\u001b[0m \u001b[32m━━━━━━━━━━━━━━━━━━━━\u001b[0m\u001b[37m\u001b[0m \u001b[1m19s\u001b[0m 19ms/step - loss: 473526.0000 - mae: 466.5945 - val_loss: 388782.4688 - val_mae: 436.3069\n",
      "Epoch 3/300\n",
      "\u001b[1m972/972\u001b[0m \u001b[32m━━━━━━━━━━━━━━━━━━━━\u001b[0m\u001b[37m\u001b[0m \u001b[1m19s\u001b[0m 19ms/step - loss: 250034.7969 - mae: 342.2612 - val_loss: 141167.1406 - val_mae: 273.0061\n",
      "Epoch 4/300\n",
      "\u001b[1m972/972\u001b[0m \u001b[32m━━━━━━━━━━━━━━━━━━━━\u001b[0m\u001b[37m\u001b[0m \u001b[1m19s\u001b[0m 19ms/step - loss: 84254.5781 - mae: 199.2601 - val_loss: 25780.2617 - val_mae: 117.7568\n",
      "Epoch 5/300\n",
      "\u001b[1m972/972\u001b[0m \u001b[32m━━━━━━━━━━━━━━━━━━━━\u001b[0m\u001b[37m\u001b[0m \u001b[1m19s\u001b[0m 20ms/step - loss: 13331.3291 - mae: 78.1077 - val_loss: 2607.9314 - val_mae: 40.8539\n",
      "Epoch 6/300\n",
      "\u001b[1m972/972\u001b[0m \u001b[32m━━━━━━━━━━━━━━━━━━━━\u001b[0m\u001b[37m\u001b[0m \u001b[1m19s\u001b[0m 20ms/step - loss: 1398.3911 - mae: 23.9248 - val_loss: 1433.8412 - val_mae: 30.0244\n",
      "Epoch 7/300\n",
      "\u001b[1m972/972\u001b[0m \u001b[32m━━━━━━━━━━━━━━━━━━━━\u001b[0m\u001b[37m\u001b[0m \u001b[1m19s\u001b[0m 19ms/step - loss: 831.7440 - mae: 18.9275 - val_loss: 1363.4336 - val_mae: 26.7109\n",
      "Epoch 8/300\n",
      "\u001b[1m972/972\u001b[0m \u001b[32m━━━━━━━━━━━━━━━━━━━━\u001b[0m\u001b[37m\u001b[0m \u001b[1m19s\u001b[0m 19ms/step - loss: 908.4990 - mae: 20.1145 - val_loss: 1292.1724 - val_mae: 27.3882\n",
      "Epoch 9/300\n",
      "\u001b[1m972/972\u001b[0m \u001b[32m━━━━━━━━━━━━━━━━━━━━\u001b[0m\u001b[37m\u001b[0m \u001b[1m19s\u001b[0m 19ms/step - loss: 843.5496 - mae: 18.9835 - val_loss: 2154.6782 - val_mae: 39.5404\n",
      "Epoch 10/300\n",
      "\u001b[1m972/972\u001b[0m \u001b[32m━━━━━━━━━━━━━━━━━━━━\u001b[0m\u001b[37m\u001b[0m \u001b[1m19s\u001b[0m 19ms/step - loss: 786.8375 - mae: 18.6917 - val_loss: 175.3803 - val_mae: 10.5195\n",
      "Epoch 11/300\n",
      "\u001b[1m972/972\u001b[0m \u001b[32m━━━━━━━━━━━━━━━━━━━━\u001b[0m\u001b[37m\u001b[0m \u001b[1m19s\u001b[0m 19ms/step - loss: 854.1874 - mae: 19.3231 - val_loss: 923.1374 - val_mae: 17.4564\n",
      "Epoch 12/300\n",
      "\u001b[1m972/972\u001b[0m \u001b[32m━━━━━━━━━━━━━━━━━━━━\u001b[0m\u001b[37m\u001b[0m \u001b[1m19s\u001b[0m 19ms/step - loss: 854.6819 - mae: 19.3333 - val_loss: 183.5836 - val_mae: 7.6919\n",
      "Epoch 13/300\n",
      "\u001b[1m972/972\u001b[0m \u001b[32m━━━━━━━━━━━━━━━━━━━━\u001b[0m\u001b[37m\u001b[0m \u001b[1m19s\u001b[0m 19ms/step - loss: 766.3950 - mae: 18.0272 - val_loss: 1576.2401 - val_mae: 35.5219\n",
      "Epoch 14/300\n",
      "\u001b[1m972/972\u001b[0m \u001b[32m━━━━━━━━━━━━━━━━━━━━\u001b[0m\u001b[37m\u001b[0m \u001b[1m19s\u001b[0m 19ms/step - loss: 837.4641 - mae: 19.1166 - val_loss: 689.7556 - val_mae: 23.5908\n",
      "Epoch 15/300\n",
      "\u001b[1m972/972\u001b[0m \u001b[32m━━━━━━━━━━━━━━━━━━━━\u001b[0m\u001b[37m\u001b[0m \u001b[1m19s\u001b[0m 20ms/step - loss: 824.9890 - mae: 18.6377 - val_loss: 2129.0022 - val_mae: 41.5832\n",
      "\u001b[1m3888/3888\u001b[0m \u001b[32m━━━━━━━━━━━━━━━━━━━━\u001b[0m\u001b[37m\u001b[0m \u001b[1m3s\u001b[0m 702us/step - loss: 2008.1744 - mae: 40.4601\n"
     ]
    },
    {
     "data": {
      "text/html": [
       "<style>\n",
       "    table.wandb td:nth-child(1) { padding: 0 10px; text-align: left ; width: auto;} td:nth-child(2) {text-align: left ; width: 100%}\n",
       "    .wandb-row { display: flex; flex-direction: row; flex-wrap: wrap; justify-content: flex-start; width: 100% }\n",
       "    .wandb-col { display: flex; flex-direction: column; flex-basis: 100%; flex: 1; padding: 10px; }\n",
       "    </style>\n",
       "<div class=\"wandb-row\"><div class=\"wandb-col\"><h3>Run history:</h3><br/><table class=\"wandb\"><tr><td>epoch/epoch</td><td>▁▁▂▃▃▃▄▅▅▅▆▇▇▇█</td></tr><tr><td>epoch/learning_rate</td><td>▁▁▁▁▁▁▁▁▁▁▁▁▁▁▁</td></tr><tr><td>epoch/loss</td><td>█▆▃▂▁▁▁▁▁▁▁▁▁▁▁</td></tr><tr><td>epoch/mae</td><td>█▇▅▃▂▁▁▁▁▁▁▁▁▁▁</td></tr><tr><td>epoch/val_loss</td><td>█▅▂▁▁▁▁▁▁▁▁▁▁▁▁</td></tr><tr><td>epoch/val_mae</td><td>█▆▄▂▁▁▁▁▁▁▁▁▁▁▁</td></tr><tr><td>validation_loss</td><td>▁</td></tr></table><br/></div><div class=\"wandb-col\"><h3>Run summary:</h3><br/><table class=\"wandb\"><tr><td>epoch/epoch</td><td>14</td></tr><tr><td>epoch/learning_rate</td><td>0.00082</td></tr><tr><td>epoch/loss</td><td>865.54382</td></tr><tr><td>epoch/mae</td><td>19.23217</td></tr><tr><td>epoch/val_loss</td><td>2129.0022</td></tr><tr><td>epoch/val_mae</td><td>41.58319</td></tr><tr><td>validation_loss</td><td>2129.00537</td></tr></table><br/></div></div>"
      ],
      "text/plain": [
       "<IPython.core.display.HTML object>"
      ]
     },
     "metadata": {},
     "output_type": "display_data"
    },
    {
     "data": {
      "text/html": [
       " View run <strong style=\"color:#cdcd00\">genial-sweep-87</strong> at: <a href='https://wandb.ai/sondre-rogde-ntnu/LSTM_OPTION_PRICING/runs/ibkxmwvo' target=\"_blank\">https://wandb.ai/sondre-rogde-ntnu/LSTM_OPTION_PRICING/runs/ibkxmwvo</a><br/> View project at: <a href='https://wandb.ai/sondre-rogde-ntnu/LSTM_OPTION_PRICING' target=\"_blank\">https://wandb.ai/sondre-rogde-ntnu/LSTM_OPTION_PRICING</a><br/>Synced 5 W&B file(s), 0 media file(s), 0 artifact file(s) and 0 other file(s)"
      ],
      "text/plain": [
       "<IPython.core.display.HTML object>"
      ]
     },
     "metadata": {},
     "output_type": "display_data"
    },
    {
     "data": {
      "text/html": [
       "Find logs at: <code>./wandb/run-20240924_074015-ibkxmwvo/logs</code>"
      ],
      "text/plain": [
       "<IPython.core.display.HTML object>"
      ]
     },
     "metadata": {},
     "output_type": "display_data"
    },
    {
     "data": {
      "text/html": [
       "wandb version 0.18.1 is available!  To upgrade, please run:\n",
       " $ pip install wandb --upgrade"
      ],
      "text/plain": [
       "<IPython.core.display.HTML object>"
      ]
     },
     "metadata": {},
     "output_type": "display_data"
    },
    {
     "data": {
      "text/html": [
       "The new W&B backend becomes opt-out in version 0.18.0; try it out with `wandb.require(\"core\")`! See https://wandb.me/wandb-core for more information."
      ],
      "text/plain": [
       "<IPython.core.display.HTML object>"
      ]
     },
     "metadata": {},
     "output_type": "display_data"
    },
    {
     "name": "stderr",
     "output_type": "stream",
     "text": [
      "\u001b[34m\u001b[1mwandb\u001b[0m: Agent Starting Run: 4m734tl1 with config:\n",
      "\u001b[34m\u001b[1mwandb\u001b[0m: \tbn_momentum: 0.24428077479642535\n",
      "\u001b[34m\u001b[1mwandb\u001b[0m: \tlayers: 4\n",
      "\u001b[34m\u001b[1mwandb\u001b[0m: \tlearning_rate: 0.004099547862240302\n",
      "\u001b[34m\u001b[1mwandb\u001b[0m: \tminibatch_size: 4096\n",
      "\u001b[34m\u001b[1mwandb\u001b[0m: \tunits: 128\n",
      "\u001b[34m\u001b[1mwandb\u001b[0m: \tweight_decay: 3.103897678274692e-05\n"
     ]
    },
    {
     "data": {
      "text/html": [
       "Tracking run with wandb version 0.17.9"
      ],
      "text/plain": [
       "<IPython.core.display.HTML object>"
      ]
     },
     "metadata": {},
     "output_type": "display_data"
    },
    {
     "data": {
      "text/html": [
       "Run data is saved locally in <code>/Users/sondrerogde/Dev/LSTM-for-option-pricing/Sondre/wandb/run-20240924_074520-4m734tl1</code>"
      ],
      "text/plain": [
       "<IPython.core.display.HTML object>"
      ]
     },
     "metadata": {},
     "output_type": "display_data"
    },
    {
     "data": {
      "text/html": [
       "Syncing run <strong><a href='https://wandb.ai/sondre-rogde-ntnu/LSTM_OPTION_PRICING/runs/4m734tl1' target=\"_blank\">fiery-sweep-88</a></strong> to <a href='https://wandb.ai/sondre-rogde-ntnu/LSTM_OPTION_PRICING' target=\"_blank\">Weights & Biases</a> (<a href='https://wandb.me/run' target=\"_blank\">docs</a>)<br/>Sweep page: <a href='https://wandb.ai/sondre-rogde-ntnu/LSTM_OPTION_PRICING/sweeps/guuhakot' target=\"_blank\">https://wandb.ai/sondre-rogde-ntnu/LSTM_OPTION_PRICING/sweeps/guuhakot</a>"
      ],
      "text/plain": [
       "<IPython.core.display.HTML object>"
      ]
     },
     "metadata": {},
     "output_type": "display_data"
    },
    {
     "data": {
      "text/html": [
       " View project at <a href='https://wandb.ai/sondre-rogde-ntnu/LSTM_OPTION_PRICING' target=\"_blank\">https://wandb.ai/sondre-rogde-ntnu/LSTM_OPTION_PRICING</a>"
      ],
      "text/plain": [
       "<IPython.core.display.HTML object>"
      ]
     },
     "metadata": {},
     "output_type": "display_data"
    },
    {
     "data": {
      "text/html": [
       " View sweep at <a href='https://wandb.ai/sondre-rogde-ntnu/LSTM_OPTION_PRICING/sweeps/guuhakot' target=\"_blank\">https://wandb.ai/sondre-rogde-ntnu/LSTM_OPTION_PRICING/sweeps/guuhakot</a>"
      ],
      "text/plain": [
       "<IPython.core.display.HTML object>"
      ]
     },
     "metadata": {},
     "output_type": "display_data"
    },
    {
     "data": {
      "text/html": [
       " View run at <a href='https://wandb.ai/sondre-rogde-ntnu/LSTM_OPTION_PRICING/runs/4m734tl1' target=\"_blank\">https://wandb.ai/sondre-rogde-ntnu/LSTM_OPTION_PRICING/runs/4m734tl1</a>"
      ],
      "text/plain": [
       "<IPython.core.display.HTML object>"
      ]
     },
     "metadata": {},
     "output_type": "display_data"
    },
    {
     "name": "stdout",
     "output_type": "stream",
     "text": [
      "Epoch 1/300\n"
     ]
    },
    {
     "name": "stderr",
     "output_type": "stream",
     "text": [
      "/Library/Frameworks/Python.framework/Versions/3.12/lib/python3.12/site-packages/keras/src/layers/rnn/rnn.py:204: UserWarning: Do not pass an `input_shape`/`input_dim` argument to a layer. When using Sequential models, prefer using an `Input(shape)` object as the first layer in the model instead.\n",
      "  super().__init__(**kwargs)\n"
     ]
    },
    {
     "name": "stdout",
     "output_type": "stream",
     "text": [
      "\u001b[1m243/243\u001b[0m \u001b[32m━━━━━━━━━━━━━━━━━━━━\u001b[0m\u001b[37m\u001b[0m \u001b[1m71s\u001b[0m 284ms/step - loss: 558866.2500 - mae: 503.8344 - val_loss: 223606.0000 - val_mae: 348.0910\n",
      "Epoch 2/300\n",
      "\u001b[1m243/243\u001b[0m \u001b[32m━━━━━━━━━━━━━━━━━━━━\u001b[0m\u001b[37m\u001b[0m \u001b[1m85s\u001b[0m 351ms/step - loss: 81389.6797 - mae: 193.5012 - val_loss: 963.9193 - val_mae: 23.2647\n",
      "Epoch 3/300\n",
      "\u001b[1m243/243\u001b[0m \u001b[32m━━━━━━━━━━━━━━━━━━━━\u001b[0m\u001b[37m\u001b[0m \u001b[1m79s\u001b[0m 326ms/step - loss: 549.6428 - mae: 16.0831 - val_loss: 263.6419 - val_mae: 12.0695\n",
      "Epoch 4/300\n",
      "\u001b[1m243/243\u001b[0m \u001b[32m━━━━━━━━━━━━━━━━━━━━\u001b[0m\u001b[37m\u001b[0m \u001b[1m78s\u001b[0m 320ms/step - loss: 319.3690 - mae: 12.3152 - val_loss: 137.4484 - val_mae: 8.6139\n",
      "Epoch 5/300\n",
      "\u001b[1m243/243\u001b[0m \u001b[32m━━━━━━━━━━━━━━━━━━━━\u001b[0m\u001b[37m\u001b[0m \u001b[1m78s\u001b[0m 323ms/step - loss: 343.3335 - mae: 12.3981 - val_loss: 142.2077 - val_mae: 8.5223\n",
      "Epoch 6/300\n",
      "\u001b[1m243/243\u001b[0m \u001b[32m━━━━━━━━━━━━━━━━━━━━\u001b[0m\u001b[37m\u001b[0m \u001b[1m78s\u001b[0m 322ms/step - loss: 252.1111 - mae: 10.8835 - val_loss: 542.9847 - val_mae: 19.4382\n",
      "Epoch 7/300\n",
      "\u001b[1m243/243\u001b[0m \u001b[32m━━━━━━━━━━━━━━━━━━━━\u001b[0m\u001b[37m\u001b[0m \u001b[1m78s\u001b[0m 319ms/step - loss: 275.9025 - mae: 11.2878 - val_loss: 330.2368 - val_mae: 12.5101\n",
      "Epoch 8/300\n",
      "\u001b[1m243/243\u001b[0m \u001b[32m━━━━━━━━━━━━━━━━━━━━\u001b[0m\u001b[37m\u001b[0m \u001b[1m78s\u001b[0m 319ms/step - loss: 299.3958 - mae: 11.5873 - val_loss: 148.5260 - val_mae: 7.7798\n",
      "Epoch 9/300\n",
      "\u001b[1m243/243\u001b[0m \u001b[32m━━━━━━━━━━━━━━━━━━━━\u001b[0m\u001b[37m\u001b[0m \u001b[1m80s\u001b[0m 329ms/step - loss: 279.0703 - mae: 11.3099 - val_loss: 247.4793 - val_mae: 11.4621\n",
      "\u001b[1m3888/3888\u001b[0m \u001b[32m━━━━━━━━━━━━━━━━━━━━\u001b[0m\u001b[37m\u001b[0m \u001b[1m10s\u001b[0m 3ms/step - loss: 187.0762 - mae: 9.9757\n"
     ]
    },
    {
     "data": {
      "text/html": [
       "<style>\n",
       "    table.wandb td:nth-child(1) { padding: 0 10px; text-align: left ; width: auto;} td:nth-child(2) {text-align: left ; width: 100%}\n",
       "    .wandb-row { display: flex; flex-direction: row; flex-wrap: wrap; justify-content: flex-start; width: 100% }\n",
       "    .wandb-col { display: flex; flex-direction: column; flex-basis: 100%; flex: 1; padding: 10px; }\n",
       "    </style>\n",
       "<div class=\"wandb-row\"><div class=\"wandb-col\"><h3>Run history:</h3><br/><table class=\"wandb\"><tr><td>epoch/epoch</td><td>▁▂▃▄▅▅▆▇█</td></tr><tr><td>epoch/learning_rate</td><td>▁▁▁▁▁▁▁▁▁</td></tr><tr><td>epoch/loss</td><td>█▂▁▁▁▁▁▁▁</td></tr><tr><td>epoch/mae</td><td>█▃▁▁▁▁▁▁▁</td></tr><tr><td>epoch/val_loss</td><td>█▁▁▁▁▁▁▁▁</td></tr><tr><td>epoch/val_mae</td><td>█▁▁▁▁▁▁▁▁</td></tr><tr><td>validation_loss</td><td>▁</td></tr></table><br/></div><div class=\"wandb-col\"><h3>Run summary:</h3><br/><table class=\"wandb\"><tr><td>epoch/epoch</td><td>8</td></tr><tr><td>epoch/learning_rate</td><td>0.0041</td></tr><tr><td>epoch/loss</td><td>292.96289</td></tr><tr><td>epoch/mae</td><td>11.68827</td></tr><tr><td>epoch/val_loss</td><td>247.47932</td></tr><tr><td>epoch/val_mae</td><td>11.46213</td></tr><tr><td>validation_loss</td><td>247.47942</td></tr></table><br/></div></div>"
      ],
      "text/plain": [
       "<IPython.core.display.HTML object>"
      ]
     },
     "metadata": {},
     "output_type": "display_data"
    },
    {
     "data": {
      "text/html": [
       " View run <strong style=\"color:#cdcd00\">fiery-sweep-88</strong> at: <a href='https://wandb.ai/sondre-rogde-ntnu/LSTM_OPTION_PRICING/runs/4m734tl1' target=\"_blank\">https://wandb.ai/sondre-rogde-ntnu/LSTM_OPTION_PRICING/runs/4m734tl1</a><br/> View project at: <a href='https://wandb.ai/sondre-rogde-ntnu/LSTM_OPTION_PRICING' target=\"_blank\">https://wandb.ai/sondre-rogde-ntnu/LSTM_OPTION_PRICING</a><br/>Synced 5 W&B file(s), 0 media file(s), 0 artifact file(s) and 0 other file(s)"
      ],
      "text/plain": [
       "<IPython.core.display.HTML object>"
      ]
     },
     "metadata": {},
     "output_type": "display_data"
    },
    {
     "data": {
      "text/html": [
       "Find logs at: <code>./wandb/run-20240924_074520-4m734tl1/logs</code>"
      ],
      "text/plain": [
       "<IPython.core.display.HTML object>"
      ]
     },
     "metadata": {},
     "output_type": "display_data"
    },
    {
     "data": {
      "text/html": [
       "wandb version 0.18.1 is available!  To upgrade, please run:\n",
       " $ pip install wandb --upgrade"
      ],
      "text/plain": [
       "<IPython.core.display.HTML object>"
      ]
     },
     "metadata": {},
     "output_type": "display_data"
    },
    {
     "data": {
      "text/html": [
       "The new W&B backend becomes opt-out in version 0.18.0; try it out with `wandb.require(\"core\")`! See https://wandb.me/wandb-core for more information."
      ],
      "text/plain": [
       "<IPython.core.display.HTML object>"
      ]
     },
     "metadata": {},
     "output_type": "display_data"
    },
    {
     "name": "stderr",
     "output_type": "stream",
     "text": [
      "\u001b[34m\u001b[1mwandb\u001b[0m: Agent Starting Run: woplb9s5 with config:\n",
      "\u001b[34m\u001b[1mwandb\u001b[0m: \tbn_momentum: 0.018032006925013545\n",
      "\u001b[34m\u001b[1mwandb\u001b[0m: \tlayers: 5\n",
      "\u001b[34m\u001b[1mwandb\u001b[0m: \tlearning_rate: 0.0029672541324273776\n",
      "\u001b[34m\u001b[1mwandb\u001b[0m: \tminibatch_size: 1024\n",
      "\u001b[34m\u001b[1mwandb\u001b[0m: \tunits: 128\n",
      "\u001b[34m\u001b[1mwandb\u001b[0m: \tweight_decay: 0.00027274955431818925\n"
     ]
    },
    {
     "data": {
      "text/html": [
       "Tracking run with wandb version 0.17.9"
      ],
      "text/plain": [
       "<IPython.core.display.HTML object>"
      ]
     },
     "metadata": {},
     "output_type": "display_data"
    },
    {
     "data": {
      "text/html": [
       "Run data is saved locally in <code>/Users/sondrerogde/Dev/LSTM-for-option-pricing/Sondre/wandb/run-20240924_075727-woplb9s5</code>"
      ],
      "text/plain": [
       "<IPython.core.display.HTML object>"
      ]
     },
     "metadata": {},
     "output_type": "display_data"
    },
    {
     "data": {
      "text/html": [
       "Syncing run <strong><a href='https://wandb.ai/sondre-rogde-ntnu/LSTM_OPTION_PRICING/runs/woplb9s5' target=\"_blank\">glamorous-sweep-89</a></strong> to <a href='https://wandb.ai/sondre-rogde-ntnu/LSTM_OPTION_PRICING' target=\"_blank\">Weights & Biases</a> (<a href='https://wandb.me/run' target=\"_blank\">docs</a>)<br/>Sweep page: <a href='https://wandb.ai/sondre-rogde-ntnu/LSTM_OPTION_PRICING/sweeps/guuhakot' target=\"_blank\">https://wandb.ai/sondre-rogde-ntnu/LSTM_OPTION_PRICING/sweeps/guuhakot</a>"
      ],
      "text/plain": [
       "<IPython.core.display.HTML object>"
      ]
     },
     "metadata": {},
     "output_type": "display_data"
    },
    {
     "data": {
      "text/html": [
       " View project at <a href='https://wandb.ai/sondre-rogde-ntnu/LSTM_OPTION_PRICING' target=\"_blank\">https://wandb.ai/sondre-rogde-ntnu/LSTM_OPTION_PRICING</a>"
      ],
      "text/plain": [
       "<IPython.core.display.HTML object>"
      ]
     },
     "metadata": {},
     "output_type": "display_data"
    },
    {
     "data": {
      "text/html": [
       " View sweep at <a href='https://wandb.ai/sondre-rogde-ntnu/LSTM_OPTION_PRICING/sweeps/guuhakot' target=\"_blank\">https://wandb.ai/sondre-rogde-ntnu/LSTM_OPTION_PRICING/sweeps/guuhakot</a>"
      ],
      "text/plain": [
       "<IPython.core.display.HTML object>"
      ]
     },
     "metadata": {},
     "output_type": "display_data"
    },
    {
     "data": {
      "text/html": [
       " View run at <a href='https://wandb.ai/sondre-rogde-ntnu/LSTM_OPTION_PRICING/runs/woplb9s5' target=\"_blank\">https://wandb.ai/sondre-rogde-ntnu/LSTM_OPTION_PRICING/runs/woplb9s5</a>"
      ],
      "text/plain": [
       "<IPython.core.display.HTML object>"
      ]
     },
     "metadata": {},
     "output_type": "display_data"
    },
    {
     "name": "stdout",
     "output_type": "stream",
     "text": [
      "Epoch 1/300\n"
     ]
    },
    {
     "name": "stderr",
     "output_type": "stream",
     "text": [
      "/Library/Frameworks/Python.framework/Versions/3.12/lib/python3.12/site-packages/keras/src/layers/rnn/rnn.py:204: UserWarning: Do not pass an `input_shape`/`input_dim` argument to a layer. When using Sequential models, prefer using an `Input(shape)` object as the first layer in the model instead.\n",
      "  super().__init__(**kwargs)\n"
     ]
    },
    {
     "name": "stdout",
     "output_type": "stream",
     "text": [
      "\u001b[1m972/972\u001b[0m \u001b[32m━━━━━━━━━━━━━━━━━━━━\u001b[0m\u001b[37m\u001b[0m \u001b[1m110s\u001b[0m 110ms/step - loss: 364603.0000 - mae: 372.6882 - val_loss: 2049.3232 - val_mae: 26.7235\n",
      "Epoch 2/300\n",
      "\u001b[1m972/972\u001b[0m \u001b[32m━━━━━━━━━━━━━━━━━━━━\u001b[0m\u001b[37m\u001b[0m \u001b[1m109s\u001b[0m 112ms/step - loss: 1059.6431 - mae: 21.9132 - val_loss: 496.9100 - val_mae: 18.7483\n",
      "Epoch 3/300\n",
      "\u001b[1m972/972\u001b[0m \u001b[32m━━━━━━━━━━━━━━━━━━━━\u001b[0m\u001b[37m\u001b[0m \u001b[1m108s\u001b[0m 111ms/step - loss: 901.3481 - mae: 20.2897 - val_loss: 884.6841 - val_mae: 16.6900\n",
      "Epoch 4/300\n",
      "\u001b[1m972/972\u001b[0m \u001b[32m━━━━━━━━━━━━━━━━━━━━\u001b[0m\u001b[37m\u001b[0m \u001b[1m108s\u001b[0m 111ms/step - loss: 933.6552 - mae: 20.6180 - val_loss: 531.5092 - val_mae: 16.1962\n",
      "Epoch 5/300\n",
      "\u001b[1m972/972\u001b[0m \u001b[32m━━━━━━━━━━━━━━━━━━━━\u001b[0m\u001b[37m\u001b[0m \u001b[1m107s\u001b[0m 110ms/step - loss: 769.3291 - mae: 18.3328 - val_loss: 541.7526 - val_mae: 16.2981\n",
      "Epoch 6/300\n",
      "\u001b[1m972/972\u001b[0m \u001b[32m━━━━━━━━━━━━━━━━━━━━\u001b[0m\u001b[37m\u001b[0m \u001b[1m107s\u001b[0m 110ms/step - loss: 805.7509 - mae: 19.0870 - val_loss: 13931.6787 - val_mae: 84.0965\n",
      "Epoch 7/300\n",
      "\u001b[1m972/972\u001b[0m \u001b[32m━━━━━━━━━━━━━━━━━━━━\u001b[0m\u001b[37m\u001b[0m \u001b[1m109s\u001b[0m 112ms/step - loss: 910.6778 - mae: 20.1268 - val_loss: 3660.7690 - val_mae: 43.9231\n",
      "\u001b[1m3888/3888\u001b[0m \u001b[32m━━━━━━━━━━━━━━━━━━━━\u001b[0m\u001b[37m\u001b[0m \u001b[1m13s\u001b[0m 3ms/step - loss: 3831.8491 - mae: 45.8189\n"
     ]
    },
    {
     "data": {
      "text/html": [
       "<style>\n",
       "    table.wandb td:nth-child(1) { padding: 0 10px; text-align: left ; width: auto;} td:nth-child(2) {text-align: left ; width: 100%}\n",
       "    .wandb-row { display: flex; flex-direction: row; flex-wrap: wrap; justify-content: flex-start; width: 100% }\n",
       "    .wandb-col { display: flex; flex-direction: column; flex-basis: 100%; flex: 1; padding: 10px; }\n",
       "    </style>\n",
       "<div class=\"wandb-row\"><div class=\"wandb-col\"><h3>Run history:</h3><br/><table class=\"wandb\"><tr><td>epoch/epoch</td><td>▁▂▃▅▆▇█</td></tr><tr><td>epoch/learning_rate</td><td>▁▁▁▁▁▁▁</td></tr><tr><td>epoch/loss</td><td>█▁▁▁▁▁▁</td></tr><tr><td>epoch/mae</td><td>█▁▁▁▁▁▁</td></tr><tr><td>epoch/val_loss</td><td>▂▁▁▁▁█▃</td></tr><tr><td>epoch/val_mae</td><td>▂▁▁▁▁█▄</td></tr><tr><td>validation_loss</td><td>▁</td></tr></table><br/></div><div class=\"wandb-col\"><h3>Run summary:</h3><br/><table class=\"wandb\"><tr><td>epoch/epoch</td><td>6</td></tr><tr><td>epoch/learning_rate</td><td>0.00297</td></tr><tr><td>epoch/loss</td><td>858.35168</td></tr><tr><td>epoch/mae</td><td>19.48283</td></tr><tr><td>epoch/val_loss</td><td>3660.76904</td></tr><tr><td>epoch/val_mae</td><td>43.92314</td></tr><tr><td>validation_loss</td><td>3660.77222</td></tr></table><br/></div></div>"
      ],
      "text/plain": [
       "<IPython.core.display.HTML object>"
      ]
     },
     "metadata": {},
     "output_type": "display_data"
    },
    {
     "data": {
      "text/html": [
       " View run <strong style=\"color:#cdcd00\">glamorous-sweep-89</strong> at: <a href='https://wandb.ai/sondre-rogde-ntnu/LSTM_OPTION_PRICING/runs/woplb9s5' target=\"_blank\">https://wandb.ai/sondre-rogde-ntnu/LSTM_OPTION_PRICING/runs/woplb9s5</a><br/> View project at: <a href='https://wandb.ai/sondre-rogde-ntnu/LSTM_OPTION_PRICING' target=\"_blank\">https://wandb.ai/sondre-rogde-ntnu/LSTM_OPTION_PRICING</a><br/>Synced 5 W&B file(s), 0 media file(s), 0 artifact file(s) and 0 other file(s)"
      ],
      "text/plain": [
       "<IPython.core.display.HTML object>"
      ]
     },
     "metadata": {},
     "output_type": "display_data"
    },
    {
     "data": {
      "text/html": [
       "Find logs at: <code>./wandb/run-20240924_075727-woplb9s5/logs</code>"
      ],
      "text/plain": [
       "<IPython.core.display.HTML object>"
      ]
     },
     "metadata": {},
     "output_type": "display_data"
    },
    {
     "data": {
      "text/html": [
       "wandb version 0.18.1 is available!  To upgrade, please run:\n",
       " $ pip install wandb --upgrade"
      ],
      "text/plain": [
       "<IPython.core.display.HTML object>"
      ]
     },
     "metadata": {},
     "output_type": "display_data"
    },
    {
     "data": {
      "text/html": [
       "The new W&B backend becomes opt-out in version 0.18.0; try it out with `wandb.require(\"core\")`! See https://wandb.me/wandb-core for more information."
      ],
      "text/plain": [
       "<IPython.core.display.HTML object>"
      ]
     },
     "metadata": {},
     "output_type": "display_data"
    },
    {
     "name": "stderr",
     "output_type": "stream",
     "text": [
      "\u001b[34m\u001b[1mwandb\u001b[0m: Agent Starting Run: nalblq9r with config:\n",
      "\u001b[34m\u001b[1mwandb\u001b[0m: \tbn_momentum: 0.3014931882941457\n",
      "\u001b[34m\u001b[1mwandb\u001b[0m: \tlayers: 6\n",
      "\u001b[34m\u001b[1mwandb\u001b[0m: \tlearning_rate: 0.000894456972896941\n",
      "\u001b[34m\u001b[1mwandb\u001b[0m: \tminibatch_size: 4096\n",
      "\u001b[34m\u001b[1mwandb\u001b[0m: \tunits: 96\n",
      "\u001b[34m\u001b[1mwandb\u001b[0m: \tweight_decay: 0.0004133545350681896\n"
     ]
    },
    {
     "data": {
      "text/html": [
       "Tracking run with wandb version 0.17.9"
      ],
      "text/plain": [
       "<IPython.core.display.HTML object>"
      ]
     },
     "metadata": {},
     "output_type": "display_data"
    },
    {
     "data": {
      "text/html": [
       "Run data is saved locally in <code>/Users/sondrerogde/Dev/LSTM-for-option-pricing/Sondre/wandb/run-20240924_081028-nalblq9r</code>"
      ],
      "text/plain": [
       "<IPython.core.display.HTML object>"
      ]
     },
     "metadata": {},
     "output_type": "display_data"
    },
    {
     "data": {
      "text/html": [
       "Syncing run <strong><a href='https://wandb.ai/sondre-rogde-ntnu/LSTM_OPTION_PRICING/runs/nalblq9r' target=\"_blank\">vivid-sweep-90</a></strong> to <a href='https://wandb.ai/sondre-rogde-ntnu/LSTM_OPTION_PRICING' target=\"_blank\">Weights & Biases</a> (<a href='https://wandb.me/run' target=\"_blank\">docs</a>)<br/>Sweep page: <a href='https://wandb.ai/sondre-rogde-ntnu/LSTM_OPTION_PRICING/sweeps/guuhakot' target=\"_blank\">https://wandb.ai/sondre-rogde-ntnu/LSTM_OPTION_PRICING/sweeps/guuhakot</a>"
      ],
      "text/plain": [
       "<IPython.core.display.HTML object>"
      ]
     },
     "metadata": {},
     "output_type": "display_data"
    },
    {
     "data": {
      "text/html": [
       " View project at <a href='https://wandb.ai/sondre-rogde-ntnu/LSTM_OPTION_PRICING' target=\"_blank\">https://wandb.ai/sondre-rogde-ntnu/LSTM_OPTION_PRICING</a>"
      ],
      "text/plain": [
       "<IPython.core.display.HTML object>"
      ]
     },
     "metadata": {},
     "output_type": "display_data"
    },
    {
     "data": {
      "text/html": [
       " View sweep at <a href='https://wandb.ai/sondre-rogde-ntnu/LSTM_OPTION_PRICING/sweeps/guuhakot' target=\"_blank\">https://wandb.ai/sondre-rogde-ntnu/LSTM_OPTION_PRICING/sweeps/guuhakot</a>"
      ],
      "text/plain": [
       "<IPython.core.display.HTML object>"
      ]
     },
     "metadata": {},
     "output_type": "display_data"
    },
    {
     "data": {
      "text/html": [
       " View run at <a href='https://wandb.ai/sondre-rogde-ntnu/LSTM_OPTION_PRICING/runs/nalblq9r' target=\"_blank\">https://wandb.ai/sondre-rogde-ntnu/LSTM_OPTION_PRICING/runs/nalblq9r</a>"
      ],
      "text/plain": [
       "<IPython.core.display.HTML object>"
      ]
     },
     "metadata": {},
     "output_type": "display_data"
    },
    {
     "name": "stdout",
     "output_type": "stream",
     "text": [
      "Epoch 1/300\n"
     ]
    },
    {
     "name": "stderr",
     "output_type": "stream",
     "text": [
      "/Library/Frameworks/Python.framework/Versions/3.12/lib/python3.12/site-packages/keras/src/layers/rnn/rnn.py:204: UserWarning: Do not pass an `input_shape`/`input_dim` argument to a layer. When using Sequential models, prefer using an `Input(shape)` object as the first layer in the model instead.\n",
      "  super().__init__(**kwargs)\n"
     ]
    },
    {
     "name": "stdout",
     "output_type": "stream",
     "text": [
      "\u001b[1m243/243\u001b[0m \u001b[32m━━━━━━━━━━━━━━━━━━━━\u001b[0m\u001b[37m\u001b[0m \u001b[1m77s\u001b[0m 302ms/step - loss: 646632.8750 - mae: 539.1754 - val_loss: 803755.4375 - val_mae: 613.6563\n",
      "Epoch 2/300\n",
      "\u001b[1m243/243\u001b[0m \u001b[32m━━━━━━━━━━━━━━━━━━━━\u001b[0m\u001b[37m\u001b[0m \u001b[1m80s\u001b[0m 328ms/step - loss: 585166.0000 - mae: 517.3830 - val_loss: 696105.6875 - val_mae: 576.4798\n",
      "Epoch 3/300\n",
      "\u001b[1m243/243\u001b[0m \u001b[32m━━━━━━━━━━━━━━━━━━━━\u001b[0m\u001b[37m\u001b[0m \u001b[1m78s\u001b[0m 322ms/step - loss: 494567.5625 - mae: 480.2125 - val_loss: 560938.1875 - val_mae: 523.2531\n",
      "Epoch 4/300\n",
      "\u001b[1m243/243\u001b[0m \u001b[32m━━━━━━━━━━━━━━━━━━━━\u001b[0m\u001b[37m\u001b[0m \u001b[1m77s\u001b[0m 318ms/step - loss: 385991.4688 - mae: 428.9803 - val_loss: 414537.8750 - val_mae: 452.5042\n",
      "Epoch 5/300\n",
      "\u001b[1m243/243\u001b[0m \u001b[32m━━━━━━━━━━━━━━━━━━━━\u001b[0m\u001b[37m\u001b[0m \u001b[1m77s\u001b[0m 318ms/step - loss: 272960.2812 - mae: 364.8071 - val_loss: 274171.1875 - val_mae: 376.1852\n",
      "Epoch 6/300\n",
      "\u001b[1m243/243\u001b[0m \u001b[32m━━━━━━━━━━━━━━━━━━━━\u001b[0m\u001b[37m\u001b[0m \u001b[1m78s\u001b[0m 320ms/step - loss: 174162.7969 - mae: 295.4786 - val_loss: 169514.3594 - val_mae: 301.2858\n",
      "Epoch 7/300\n",
      "\u001b[1m243/243\u001b[0m \u001b[32m━━━━━━━━━━━━━━━━━━━━\u001b[0m\u001b[37m\u001b[0m \u001b[1m75s\u001b[0m 309ms/step - loss: 97301.5859 - mae: 224.0059 - val_loss: 84344.4844 - val_mae: 218.9677\n",
      "Epoch 8/300\n",
      "\u001b[1m243/243\u001b[0m \u001b[32m━━━━━━━━━━━━━━━━━━━━\u001b[0m\u001b[37m\u001b[0m \u001b[1m77s\u001b[0m 318ms/step - loss: 46878.7109 - mae: 157.6532 - val_loss: 31494.9668 - val_mae: 139.5451\n",
      "Epoch 9/300\n",
      "\u001b[1m243/243\u001b[0m \u001b[32m━━━━━━━━━━━━━━━━━━━━\u001b[0m\u001b[37m\u001b[0m \u001b[1m77s\u001b[0m 317ms/step - loss: 19146.7441 - mae: 101.9508 - val_loss: 10634.2520 - val_mae: 77.6717\n",
      "Epoch 10/300\n",
      "\u001b[1m243/243\u001b[0m \u001b[32m━━━━━━━━━━━━━━━━━━━━\u001b[0m\u001b[37m\u001b[0m \u001b[1m77s\u001b[0m 316ms/step - loss: 6401.1206 - mae: 59.4248 - val_loss: 1891.4594 - val_mae: 32.9377\n",
      "Epoch 11/300\n",
      "\u001b[1m243/243\u001b[0m \u001b[32m━━━━━━━━━━━━━━━━━━━━\u001b[0m\u001b[37m\u001b[0m \u001b[1m77s\u001b[0m 316ms/step - loss: 2020.7527 - mae: 32.5219 - val_loss: 381.4417 - val_mae: 16.5109\n",
      "Epoch 12/300\n",
      "\u001b[1m243/243\u001b[0m \u001b[32m━━━━━━━━━━━━━━━━━━━━\u001b[0m\u001b[37m\u001b[0m \u001b[1m77s\u001b[0m 316ms/step - loss: 642.2051 - mae: 17.2861 - val_loss: 373.2394 - val_mae: 16.3928\n",
      "Epoch 13/300\n",
      "\u001b[1m243/243\u001b[0m \u001b[32m━━━━━━━━━━━━━━━━━━━━\u001b[0m\u001b[37m\u001b[0m \u001b[1m78s\u001b[0m 321ms/step - loss: 361.2695 - mae: 13.1257 - val_loss: 729.8868 - val_mae: 23.6165\n",
      "Epoch 14/300\n",
      "\u001b[1m243/243\u001b[0m \u001b[32m━━━━━━━━━━━━━━━━━━━━\u001b[0m\u001b[37m\u001b[0m \u001b[1m78s\u001b[0m 322ms/step - loss: 335.7519 - mae: 12.6881 - val_loss: 415.1845 - val_mae: 13.1730\n",
      "Epoch 15/300\n",
      "\u001b[1m243/243\u001b[0m \u001b[32m━━━━━━━━━━━━━━━━━━━━\u001b[0m\u001b[37m\u001b[0m \u001b[1m76s\u001b[0m 313ms/step - loss: 265.5879 - mae: 10.9253 - val_loss: 265.7149 - val_mae: 12.4176\n",
      "Epoch 16/300\n",
      "\u001b[1m243/243\u001b[0m \u001b[32m━━━━━━━━━━━━━━━━━━━━\u001b[0m\u001b[37m\u001b[0m \u001b[1m76s\u001b[0m 313ms/step - loss: 294.3305 - mae: 11.5059 - val_loss: 330.5382 - val_mae: 15.3774\n",
      "Epoch 17/300\n",
      "\u001b[1m243/243\u001b[0m \u001b[32m━━━━━━━━━━━━━━━━━━━━\u001b[0m\u001b[37m\u001b[0m \u001b[1m77s\u001b[0m 317ms/step - loss: 241.9304 - mae: 10.4078 - val_loss: 345.4799 - val_mae: 15.7281\n",
      "Epoch 18/300\n",
      "\u001b[1m243/243\u001b[0m \u001b[32m━━━━━━━━━━━━━━━━━━━━\u001b[0m\u001b[37m\u001b[0m \u001b[1m76s\u001b[0m 314ms/step - loss: 303.2810 - mae: 11.5968 - val_loss: 131.4975 - val_mae: 8.3855\n",
      "Epoch 19/300\n",
      "\u001b[1m243/243\u001b[0m \u001b[32m━━━━━━━━━━━━━━━━━━━━\u001b[0m\u001b[37m\u001b[0m \u001b[1m76s\u001b[0m 312ms/step - loss: 254.9303 - mae: 10.7149 - val_loss: 147.3388 - val_mae: 9.1091\n",
      "Epoch 20/300\n",
      "\u001b[1m243/243\u001b[0m \u001b[32m━━━━━━━━━━━━━━━━━━━━\u001b[0m\u001b[37m\u001b[0m \u001b[1m75s\u001b[0m 310ms/step - loss: 245.1419 - mae: 10.3824 - val_loss: 151.6739 - val_mae: 9.5668\n",
      "Epoch 21/300\n",
      "\u001b[1m243/243\u001b[0m \u001b[32m━━━━━━━━━━━━━━━━━━━━\u001b[0m\u001b[37m\u001b[0m \u001b[1m77s\u001b[0m 316ms/step - loss: 243.7088 - mae: 10.3492 - val_loss: 273.8380 - val_mae: 12.5940\n",
      "Epoch 22/300\n",
      "\u001b[1m243/243\u001b[0m \u001b[32m━━━━━━━━━━━━━━━━━━━━\u001b[0m\u001b[37m\u001b[0m \u001b[1m76s\u001b[0m 314ms/step - loss: 284.1108 - mae: 11.2783 - val_loss: 131.3620 - val_mae: 8.9228\n",
      "Epoch 23/300\n",
      "\u001b[1m243/243\u001b[0m \u001b[32m━━━━━━━━━━━━━━━━━━━━\u001b[0m\u001b[37m\u001b[0m \u001b[1m77s\u001b[0m 316ms/step - loss: 236.6481 - mae: 10.1562 - val_loss: 122.6469 - val_mae: 7.0701\n",
      "Epoch 24/300\n",
      "\u001b[1m243/243\u001b[0m \u001b[32m━━━━━━━━━━━━━━━━━━━━\u001b[0m\u001b[37m\u001b[0m \u001b[1m77s\u001b[0m 315ms/step - loss: 267.7141 - mae: 10.9209 - val_loss: 709.3154 - val_mae: 23.0980\n",
      "Epoch 25/300\n",
      "\u001b[1m243/243\u001b[0m \u001b[32m━━━━━━━━━━━━━━━━━━━━\u001b[0m\u001b[37m\u001b[0m \u001b[1m76s\u001b[0m 311ms/step - loss: 222.8498 - mae: 9.9827 - val_loss: 635.1749 - val_mae: 22.0447\n",
      "Epoch 26/300\n",
      "\u001b[1m243/243\u001b[0m \u001b[32m━━━━━━━━━━━━━━━━━━━━\u001b[0m\u001b[37m\u001b[0m \u001b[1m76s\u001b[0m 313ms/step - loss: 223.2065 - mae: 9.8059 - val_loss: 88.7174 - val_mae: 5.8933\n",
      "Epoch 27/300\n",
      "\u001b[1m243/243\u001b[0m \u001b[32m━━━━━━━━━━━━━━━━━━━━\u001b[0m\u001b[37m\u001b[0m \u001b[1m78s\u001b[0m 320ms/step - loss: 261.3086 - mae: 10.6038 - val_loss: 253.6950 - val_mae: 12.4919\n",
      "Epoch 28/300\n",
      "\u001b[1m243/243\u001b[0m \u001b[32m━━━━━━━━━━━━━━━━━━━━\u001b[0m\u001b[37m\u001b[0m \u001b[1m77s\u001b[0m 318ms/step - loss: 302.9517 - mae: 11.2678 - val_loss: 513.4039 - val_mae: 16.6837\n",
      "Epoch 29/300\n",
      "\u001b[1m243/243\u001b[0m \u001b[32m━━━━━━━━━━━━━━━━━━━━\u001b[0m\u001b[37m\u001b[0m \u001b[1m77s\u001b[0m 318ms/step - loss: 309.3584 - mae: 11.6662 - val_loss: 279.6375 - val_mae: 13.8171\n",
      "Epoch 30/300\n",
      "\u001b[1m243/243\u001b[0m \u001b[32m━━━━━━━━━━━━━━━━━━━━\u001b[0m\u001b[37m\u001b[0m \u001b[1m76s\u001b[0m 314ms/step - loss: 214.6566 - mae: 9.7411 - val_loss: 53.1710 - val_mae: 5.1003\n",
      "Epoch 31/300\n",
      "\u001b[1m243/243\u001b[0m \u001b[32m━━━━━━━━━━━━━━━━━━━━\u001b[0m\u001b[37m\u001b[0m \u001b[1m100s\u001b[0m 414ms/step - loss: 261.7841 - mae: 10.6337 - val_loss: 582.9787 - val_mae: 20.1557\n",
      "Epoch 32/300\n",
      "\u001b[1m243/243\u001b[0m \u001b[32m━━━━━━━━━━━━━━━━━━━━\u001b[0m\u001b[37m\u001b[0m \u001b[1m78s\u001b[0m 322ms/step - loss: 307.3066 - mae: 11.1675 - val_loss: 174.0167 - val_mae: 9.7895\n",
      "Epoch 33/300\n",
      "\u001b[1m243/243\u001b[0m \u001b[32m━━━━━━━━━━━━━━━━━━━━\u001b[0m\u001b[37m\u001b[0m \u001b[1m74s\u001b[0m 306ms/step - loss: 251.3400 - mae: 10.5104 - val_loss: 122.3839 - val_mae: 8.8406\n",
      "Epoch 34/300\n",
      "\u001b[1m243/243\u001b[0m \u001b[32m━━━━━━━━━━━━━━━━━━━━\u001b[0m\u001b[37m\u001b[0m \u001b[1m73s\u001b[0m 300ms/step - loss: 235.5589 - mae: 9.8347 - val_loss: 162.5778 - val_mae: 9.1147\n",
      "Epoch 35/300\n",
      "\u001b[1m243/243\u001b[0m \u001b[32m━━━━━━━━━━━━━━━━━━━━\u001b[0m\u001b[37m\u001b[0m \u001b[1m73s\u001b[0m 299ms/step - loss: 282.2209 - mae: 11.1040 - val_loss: 145.1841 - val_mae: 8.6549\n",
      "\u001b[1m3888/3888\u001b[0m \u001b[32m━━━━━━━━━━━━━━━━━━━━\u001b[0m\u001b[37m\u001b[0m \u001b[1m10s\u001b[0m 3ms/step - loss: 150.3122 - mae: 9.4220\n"
     ]
    },
    {
     "data": {
      "text/html": [
       "<style>\n",
       "    table.wandb td:nth-child(1) { padding: 0 10px; text-align: left ; width: auto;} td:nth-child(2) {text-align: left ; width: 100%}\n",
       "    .wandb-row { display: flex; flex-direction: row; flex-wrap: wrap; justify-content: flex-start; width: 100% }\n",
       "    .wandb-col { display: flex; flex-direction: column; flex-basis: 100%; flex: 1; padding: 10px; }\n",
       "    </style>\n",
       "<div class=\"wandb-row\"><div class=\"wandb-col\"><h3>Run history:</h3><br/><table class=\"wandb\"><tr><td>epoch/epoch</td><td>▁▁▁▂▂▂▂▂▃▃▃▃▃▄▄▄▄▅▅▅▅▅▆▆▆▆▆▇▇▇▇▇███</td></tr><tr><td>epoch/learning_rate</td><td>▁▁▁▁▁▁▁▁▁▁▁▁▁▁▁▁▁▁▁▁▁▁▁▁▁▁▁▁▁▁▁▁▁▁▁</td></tr><tr><td>epoch/loss</td><td>█▇▆▅▄▃▂▁▁▁▁▁▁▁▁▁▁▁▁▁▁▁▁▁▁▁▁▁▁▁▁▁▁▁▁</td></tr><tr><td>epoch/mae</td><td>██▇▆▆▅▄▃▂▂▁▁▁▁▁▁▁▁▁▁▁▁▁▁▁▁▁▁▁▁▁▁▁▁▁</td></tr><tr><td>epoch/val_loss</td><td>█▇▆▅▃▂▂▁▁▁▁▁▁▁▁▁▁▁▁▁▁▁▁▁▁▁▁▁▁▁▁▁▁▁▁</td></tr><tr><td>epoch/val_mae</td><td>██▇▆▅▄▃▃▂▁▁▁▁▁▁▁▁▁▁▁▁▁▁▁▁▁▁▁▁▁▁▁▁▁▁</td></tr><tr><td>validation_loss</td><td>▁</td></tr></table><br/></div><div class=\"wandb-col\"><h3>Run summary:</h3><br/><table class=\"wandb\"><tr><td>epoch/epoch</td><td>34</td></tr><tr><td>epoch/learning_rate</td><td>0.00089</td></tr><tr><td>epoch/loss</td><td>251.98117</td></tr><tr><td>epoch/mae</td><td>10.30747</td></tr><tr><td>epoch/val_loss</td><td>145.18411</td></tr><tr><td>epoch/val_mae</td><td>8.6549</td></tr><tr><td>validation_loss</td><td>145.18404</td></tr></table><br/></div></div>"
      ],
      "text/plain": [
       "<IPython.core.display.HTML object>"
      ]
     },
     "metadata": {},
     "output_type": "display_data"
    },
    {
     "data": {
      "text/html": [
       " View run <strong style=\"color:#cdcd00\">vivid-sweep-90</strong> at: <a href='https://wandb.ai/sondre-rogde-ntnu/LSTM_OPTION_PRICING/runs/nalblq9r' target=\"_blank\">https://wandb.ai/sondre-rogde-ntnu/LSTM_OPTION_PRICING/runs/nalblq9r</a><br/> View project at: <a href='https://wandb.ai/sondre-rogde-ntnu/LSTM_OPTION_PRICING' target=\"_blank\">https://wandb.ai/sondre-rogde-ntnu/LSTM_OPTION_PRICING</a><br/>Synced 5 W&B file(s), 0 media file(s), 0 artifact file(s) and 0 other file(s)"
      ],
      "text/plain": [
       "<IPython.core.display.HTML object>"
      ]
     },
     "metadata": {},
     "output_type": "display_data"
    },
    {
     "data": {
      "text/html": [
       "Find logs at: <code>./wandb/run-20240924_081028-nalblq9r/logs</code>"
      ],
      "text/plain": [
       "<IPython.core.display.HTML object>"
      ]
     },
     "metadata": {},
     "output_type": "display_data"
    },
    {
     "data": {
      "text/html": [
       "wandb version 0.18.1 is available!  To upgrade, please run:\n",
       " $ pip install wandb --upgrade"
      ],
      "text/plain": [
       "<IPython.core.display.HTML object>"
      ]
     },
     "metadata": {},
     "output_type": "display_data"
    },
    {
     "data": {
      "text/html": [
       "The new W&B backend becomes opt-out in version 0.18.0; try it out with `wandb.require(\"core\")`! See https://wandb.me/wandb-core for more information."
      ],
      "text/plain": [
       "<IPython.core.display.HTML object>"
      ]
     },
     "metadata": {},
     "output_type": "display_data"
    },
    {
     "name": "stderr",
     "output_type": "stream",
     "text": [
      "\u001b[34m\u001b[1mwandb\u001b[0m: Sweep Agent: Waiting for job.\n",
      "\u001b[34m\u001b[1mwandb\u001b[0m: Job received.\n",
      "\u001b[34m\u001b[1mwandb\u001b[0m: Agent Starting Run: 5d5kwe0l with config:\n",
      "\u001b[34m\u001b[1mwandb\u001b[0m: \tbn_momentum: 0.2333724696597632\n",
      "\u001b[34m\u001b[1mwandb\u001b[0m: \tlayers: 6\n",
      "\u001b[34m\u001b[1mwandb\u001b[0m: \tlearning_rate: 0.0026690491836513256\n",
      "\u001b[34m\u001b[1mwandb\u001b[0m: \tminibatch_size: 4096\n",
      "\u001b[34m\u001b[1mwandb\u001b[0m: \tunits: 128\n",
      "\u001b[34m\u001b[1mwandb\u001b[0m: \tweight_decay: 0.00023605083044188368\n"
     ]
    },
    {
     "data": {
      "text/html": [
       "Tracking run with wandb version 0.17.9"
      ],
      "text/plain": [
       "<IPython.core.display.HTML object>"
      ]
     },
     "metadata": {},
     "output_type": "display_data"
    },
    {
     "data": {
      "text/html": [
       "Run data is saved locally in <code>/Users/sondrerogde/Dev/LSTM-for-option-pricing/Sondre/wandb/run-20240924_085604-5d5kwe0l</code>"
      ],
      "text/plain": [
       "<IPython.core.display.HTML object>"
      ]
     },
     "metadata": {},
     "output_type": "display_data"
    },
    {
     "data": {
      "text/html": [
       "Syncing run <strong><a href='https://wandb.ai/sondre-rogde-ntnu/LSTM_OPTION_PRICING/runs/5d5kwe0l' target=\"_blank\">wobbly-sweep-91</a></strong> to <a href='https://wandb.ai/sondre-rogde-ntnu/LSTM_OPTION_PRICING' target=\"_blank\">Weights & Biases</a> (<a href='https://wandb.me/run' target=\"_blank\">docs</a>)<br/>Sweep page: <a href='https://wandb.ai/sondre-rogde-ntnu/LSTM_OPTION_PRICING/sweeps/guuhakot' target=\"_blank\">https://wandb.ai/sondre-rogde-ntnu/LSTM_OPTION_PRICING/sweeps/guuhakot</a>"
      ],
      "text/plain": [
       "<IPython.core.display.HTML object>"
      ]
     },
     "metadata": {},
     "output_type": "display_data"
    },
    {
     "data": {
      "text/html": [
       " View project at <a href='https://wandb.ai/sondre-rogde-ntnu/LSTM_OPTION_PRICING' target=\"_blank\">https://wandb.ai/sondre-rogde-ntnu/LSTM_OPTION_PRICING</a>"
      ],
      "text/plain": [
       "<IPython.core.display.HTML object>"
      ]
     },
     "metadata": {},
     "output_type": "display_data"
    },
    {
     "data": {
      "text/html": [
       " View sweep at <a href='https://wandb.ai/sondre-rogde-ntnu/LSTM_OPTION_PRICING/sweeps/guuhakot' target=\"_blank\">https://wandb.ai/sondre-rogde-ntnu/LSTM_OPTION_PRICING/sweeps/guuhakot</a>"
      ],
      "text/plain": [
       "<IPython.core.display.HTML object>"
      ]
     },
     "metadata": {},
     "output_type": "display_data"
    },
    {
     "data": {
      "text/html": [
       " View run at <a href='https://wandb.ai/sondre-rogde-ntnu/LSTM_OPTION_PRICING/runs/5d5kwe0l' target=\"_blank\">https://wandb.ai/sondre-rogde-ntnu/LSTM_OPTION_PRICING/runs/5d5kwe0l</a>"
      ],
      "text/plain": [
       "<IPython.core.display.HTML object>"
      ]
     },
     "metadata": {},
     "output_type": "display_data"
    },
    {
     "name": "stderr",
     "output_type": "stream",
     "text": [
      "/Library/Frameworks/Python.framework/Versions/3.12/lib/python3.12/site-packages/keras/src/layers/rnn/rnn.py:204: UserWarning: Do not pass an `input_shape`/`input_dim` argument to a layer. When using Sequential models, prefer using an `Input(shape)` object as the first layer in the model instead.\n",
      "  super().__init__(**kwargs)\n"
     ]
    },
    {
     "name": "stdout",
     "output_type": "stream",
     "text": [
      "Epoch 1/300\n",
      "\u001b[1m243/243\u001b[0m \u001b[32m━━━━━━━━━━━━━━━━━━━━\u001b[0m\u001b[37m\u001b[0m \u001b[1m129s\u001b[0m 518ms/step - loss: 602650.8750 - mae: 522.9001 - val_loss: 493448.2812 - val_mae: 496.0711\n",
      "Epoch 2/300\n",
      "\u001b[1m243/243\u001b[0m \u001b[32m━━━━━━━━━━━━━━━━━━━━\u001b[0m\u001b[37m\u001b[0m \u001b[1m134s\u001b[0m 552ms/step - loss: 263095.1562 - mae: 355.8987 - val_loss: 87833.6797 - val_mae: 226.7070\n",
      "Epoch 3/300\n",
      "\u001b[1m243/243\u001b[0m \u001b[32m━━━━━━━━━━━━━━━━━━━━\u001b[0m\u001b[37m\u001b[0m \u001b[1m128s\u001b[0m 528ms/step - loss: 28657.2129 - mae: 120.0543 - val_loss: 1913.0977 - val_mae: 36.2533\n",
      "Epoch 4/300\n",
      "\u001b[1m243/243\u001b[0m \u001b[32m━━━━━━━━━━━━━━━━━━━━\u001b[0m\u001b[37m\u001b[0m \u001b[1m122s\u001b[0m 504ms/step - loss: 775.4316 - mae: 19.5968 - val_loss: 1099.5031 - val_mae: 29.5033\n",
      "Epoch 5/300\n",
      "\u001b[1m243/243\u001b[0m \u001b[32m━━━━━━━━━━━━━━━━━━━━\u001b[0m\u001b[37m\u001b[0m \u001b[1m120s\u001b[0m 495ms/step - loss: 330.0746 - mae: 12.4129 - val_loss: 500.8952 - val_mae: 19.0279\n",
      "Epoch 6/300\n",
      "\u001b[1m243/243\u001b[0m \u001b[32m━━━━━━━━━━━━━━━━━━━━\u001b[0m\u001b[37m\u001b[0m \u001b[1m124s\u001b[0m 509ms/step - loss: 304.5332 - mae: 12.1831 - val_loss: 120.7212 - val_mae: 6.7097\n",
      "Epoch 7/300\n",
      "\u001b[1m243/243\u001b[0m \u001b[32m━━━━━━━━━━━━━━━━━━━━\u001b[0m\u001b[37m\u001b[0m \u001b[1m117s\u001b[0m 483ms/step - loss: 289.6885 - mae: 11.1568 - val_loss: 1005.1008 - val_mae: 29.0586\n",
      "Epoch 8/300\n",
      "\u001b[1m243/243\u001b[0m \u001b[32m━━━━━━━━━━━━━━━━━━━━\u001b[0m\u001b[37m\u001b[0m \u001b[1m128s\u001b[0m 525ms/step - loss: 315.4825 - mae: 12.3609 - val_loss: 409.8384 - val_mae: 16.3321\n",
      "Epoch 9/300\n",
      "\u001b[1m243/243\u001b[0m \u001b[32m━━━━━━━━━━━━━━━━━━━━\u001b[0m\u001b[37m\u001b[0m \u001b[1m118s\u001b[0m 487ms/step - loss: 357.3698 - mae: 13.1578 - val_loss: 156.3866 - val_mae: 9.7949\n",
      "Epoch 10/300\n",
      "\u001b[1m243/243\u001b[0m \u001b[32m━━━━━━━━━━━━━━━━━━━━\u001b[0m\u001b[37m\u001b[0m \u001b[1m118s\u001b[0m 487ms/step - loss: 280.0133 - mae: 11.3711 - val_loss: 738.1257 - val_mae: 20.4173\n",
      "Epoch 11/300\n",
      "\u001b[1m243/243\u001b[0m \u001b[32m━━━━━━━━━━━━━━━━━━━━\u001b[0m\u001b[37m\u001b[0m \u001b[1m119s\u001b[0m 490ms/step - loss: 309.0674 - mae: 12.0929 - val_loss: 881.9096 - val_mae: 26.8853\n",
      "\u001b[1m3888/3888\u001b[0m \u001b[32m━━━━━━━━━━━━━━━━━━━━\u001b[0m\u001b[37m\u001b[0m \u001b[1m17s\u001b[0m 4ms/step - loss: 751.6132 - mae: 25.0693\n"
     ]
    },
    {
     "data": {
      "text/html": [
       "<style>\n",
       "    table.wandb td:nth-child(1) { padding: 0 10px; text-align: left ; width: auto;} td:nth-child(2) {text-align: left ; width: 100%}\n",
       "    .wandb-row { display: flex; flex-direction: row; flex-wrap: wrap; justify-content: flex-start; width: 100% }\n",
       "    .wandb-col { display: flex; flex-direction: column; flex-basis: 100%; flex: 1; padding: 10px; }\n",
       "    </style>\n",
       "<div class=\"wandb-row\"><div class=\"wandb-col\"><h3>Run history:</h3><br/><table class=\"wandb\"><tr><td>epoch/epoch</td><td>▁▂▂▃▄▅▅▆▇▇█</td></tr><tr><td>epoch/learning_rate</td><td>▁▁▁▁▁▁▁▁▁▁▁</td></tr><tr><td>epoch/loss</td><td>█▃▁▁▁▁▁▁▁▁▁</td></tr><tr><td>epoch/mae</td><td>█▅▂▁▁▁▁▁▁▁▁</td></tr><tr><td>epoch/val_loss</td><td>█▂▁▁▁▁▁▁▁▁▁</td></tr><tr><td>epoch/val_mae</td><td>█▄▁▁▁▁▁▁▁▁▁</td></tr><tr><td>validation_loss</td><td>▁</td></tr></table><br/></div><div class=\"wandb-col\"><h3>Run summary:</h3><br/><table class=\"wandb\"><tr><td>epoch/epoch</td><td>10</td></tr><tr><td>epoch/learning_rate</td><td>0.00267</td></tr><tr><td>epoch/loss</td><td>284.86462</td></tr><tr><td>epoch/mae</td><td>11.4334</td></tr><tr><td>epoch/val_loss</td><td>881.90961</td></tr><tr><td>epoch/val_mae</td><td>26.88526</td></tr><tr><td>validation_loss</td><td>881.90906</td></tr></table><br/></div></div>"
      ],
      "text/plain": [
       "<IPython.core.display.HTML object>"
      ]
     },
     "metadata": {},
     "output_type": "display_data"
    },
    {
     "data": {
      "text/html": [
       " View run <strong style=\"color:#cdcd00\">wobbly-sweep-91</strong> at: <a href='https://wandb.ai/sondre-rogde-ntnu/LSTM_OPTION_PRICING/runs/5d5kwe0l' target=\"_blank\">https://wandb.ai/sondre-rogde-ntnu/LSTM_OPTION_PRICING/runs/5d5kwe0l</a><br/> View project at: <a href='https://wandb.ai/sondre-rogde-ntnu/LSTM_OPTION_PRICING' target=\"_blank\">https://wandb.ai/sondre-rogde-ntnu/LSTM_OPTION_PRICING</a><br/>Synced 5 W&B file(s), 0 media file(s), 0 artifact file(s) and 0 other file(s)"
      ],
      "text/plain": [
       "<IPython.core.display.HTML object>"
      ]
     },
     "metadata": {},
     "output_type": "display_data"
    },
    {
     "data": {
      "text/html": [
       "Find logs at: <code>./wandb/run-20240924_085604-5d5kwe0l/logs</code>"
      ],
      "text/plain": [
       "<IPython.core.display.HTML object>"
      ]
     },
     "metadata": {},
     "output_type": "display_data"
    },
    {
     "data": {
      "text/html": [
       "wandb version 0.18.1 is available!  To upgrade, please run:\n",
       " $ pip install wandb --upgrade"
      ],
      "text/plain": [
       "<IPython.core.display.HTML object>"
      ]
     },
     "metadata": {},
     "output_type": "display_data"
    },
    {
     "data": {
      "text/html": [
       "The new W&B backend becomes opt-out in version 0.18.0; try it out with `wandb.require(\"core\")`! See https://wandb.me/wandb-core for more information."
      ],
      "text/plain": [
       "<IPython.core.display.HTML object>"
      ]
     },
     "metadata": {},
     "output_type": "display_data"
    },
    {
     "name": "stderr",
     "output_type": "stream",
     "text": [
      "\u001b[34m\u001b[1mwandb\u001b[0m: Agent Starting Run: kf5ezwu6 with config:\n",
      "\u001b[34m\u001b[1mwandb\u001b[0m: \tbn_momentum: 0.2205718117989136\n",
      "\u001b[34m\u001b[1mwandb\u001b[0m: \tlayers: 4\n",
      "\u001b[34m\u001b[1mwandb\u001b[0m: \tlearning_rate: 0.0033455543770945536\n",
      "\u001b[34m\u001b[1mwandb\u001b[0m: \tminibatch_size: 1024\n",
      "\u001b[34m\u001b[1mwandb\u001b[0m: \tunits: 32\n",
      "\u001b[34m\u001b[1mwandb\u001b[0m: \tweight_decay: 0.00013163260381106768\n"
     ]
    },
    {
     "data": {
      "text/html": [
       "Tracking run with wandb version 0.17.9"
      ],
      "text/plain": [
       "<IPython.core.display.HTML object>"
      ]
     },
     "metadata": {},
     "output_type": "display_data"
    },
    {
     "data": {
      "text/html": [
       "Run data is saved locally in <code>/Users/sondrerogde/Dev/LSTM-for-option-pricing/Sondre/wandb/run-20240924_091910-kf5ezwu6</code>"
      ],
      "text/plain": [
       "<IPython.core.display.HTML object>"
      ]
     },
     "metadata": {},
     "output_type": "display_data"
    },
    {
     "data": {
      "text/html": [
       "Syncing run <strong><a href='https://wandb.ai/sondre-rogde-ntnu/LSTM_OPTION_PRICING/runs/kf5ezwu6' target=\"_blank\">serene-sweep-92</a></strong> to <a href='https://wandb.ai/sondre-rogde-ntnu/LSTM_OPTION_PRICING' target=\"_blank\">Weights & Biases</a> (<a href='https://wandb.me/run' target=\"_blank\">docs</a>)<br/>Sweep page: <a href='https://wandb.ai/sondre-rogde-ntnu/LSTM_OPTION_PRICING/sweeps/guuhakot' target=\"_blank\">https://wandb.ai/sondre-rogde-ntnu/LSTM_OPTION_PRICING/sweeps/guuhakot</a>"
      ],
      "text/plain": [
       "<IPython.core.display.HTML object>"
      ]
     },
     "metadata": {},
     "output_type": "display_data"
    },
    {
     "data": {
      "text/html": [
       " View project at <a href='https://wandb.ai/sondre-rogde-ntnu/LSTM_OPTION_PRICING' target=\"_blank\">https://wandb.ai/sondre-rogde-ntnu/LSTM_OPTION_PRICING</a>"
      ],
      "text/plain": [
       "<IPython.core.display.HTML object>"
      ]
     },
     "metadata": {},
     "output_type": "display_data"
    },
    {
     "data": {
      "text/html": [
       " View sweep at <a href='https://wandb.ai/sondre-rogde-ntnu/LSTM_OPTION_PRICING/sweeps/guuhakot' target=\"_blank\">https://wandb.ai/sondre-rogde-ntnu/LSTM_OPTION_PRICING/sweeps/guuhakot</a>"
      ],
      "text/plain": [
       "<IPython.core.display.HTML object>"
      ]
     },
     "metadata": {},
     "output_type": "display_data"
    },
    {
     "data": {
      "text/html": [
       " View run at <a href='https://wandb.ai/sondre-rogde-ntnu/LSTM_OPTION_PRICING/runs/kf5ezwu6' target=\"_blank\">https://wandb.ai/sondre-rogde-ntnu/LSTM_OPTION_PRICING/runs/kf5ezwu6</a>"
      ],
      "text/plain": [
       "<IPython.core.display.HTML object>"
      ]
     },
     "metadata": {},
     "output_type": "display_data"
    },
    {
     "name": "stdout",
     "output_type": "stream",
     "text": [
      "Epoch 1/300\n"
     ]
    },
    {
     "name": "stderr",
     "output_type": "stream",
     "text": [
      "/Library/Frameworks/Python.framework/Versions/3.12/lib/python3.12/site-packages/keras/src/layers/rnn/rnn.py:204: UserWarning: Do not pass an `input_shape`/`input_dim` argument to a layer. When using Sequential models, prefer using an `Input(shape)` object as the first layer in the model instead.\n",
      "  super().__init__(**kwargs)\n"
     ]
    },
    {
     "name": "stdout",
     "output_type": "stream",
     "text": [
      "\u001b[1m972/972\u001b[0m \u001b[32m━━━━━━━━━━━━━━━━━━━━\u001b[0m\u001b[37m\u001b[0m \u001b[1m23s\u001b[0m 21ms/step - loss: 499082.3438 - mae: 465.2841 - val_loss: 34592.6719 - val_mae: 149.4817\n",
      "Epoch 2/300\n",
      "\u001b[1m972/972\u001b[0m \u001b[32m━━━━━━━━━━━━━━━━━━━━\u001b[0m\u001b[37m\u001b[0m \u001b[1m20s\u001b[0m 20ms/step - loss: 4193.0571 - mae: 38.9570 - val_loss: 3338.0833 - val_mae: 41.1798\n",
      "Epoch 3/300\n",
      "\u001b[1m972/972\u001b[0m \u001b[32m━━━━━━━━━━━━━━━━━━━━\u001b[0m\u001b[37m\u001b[0m \u001b[1m20s\u001b[0m 20ms/step - loss: 819.1234 - mae: 19.0176 - val_loss: 293.1243 - val_mae: 14.5672\n",
      "Epoch 4/300\n",
      "\u001b[1m972/972\u001b[0m \u001b[32m━━━━━━━━━━━━━━━━━━━━\u001b[0m\u001b[37m\u001b[0m \u001b[1m19s\u001b[0m 20ms/step - loss: 850.8055 - mae: 19.1454 - val_loss: 764.9783 - val_mae: 24.2807\n",
      "Epoch 5/300\n",
      "\u001b[1m972/972\u001b[0m \u001b[32m━━━━━━━━━━━━━━━━━━━━\u001b[0m\u001b[37m\u001b[0m \u001b[1m19s\u001b[0m 20ms/step - loss: 876.6042 - mae: 19.7401 - val_loss: 3345.5063 - val_mae: 49.6515\n",
      "Epoch 6/300\n",
      "\u001b[1m972/972\u001b[0m \u001b[32m━━━━━━━━━━━━━━━━━━━━\u001b[0m\u001b[37m\u001b[0m \u001b[1m20s\u001b[0m 20ms/step - loss: 868.0126 - mae: 19.3069 - val_loss: 1392.9017 - val_mae: 28.2134\n",
      "Epoch 7/300\n",
      "\u001b[1m972/972\u001b[0m \u001b[32m━━━━━━━━━━━━━━━━━━━━\u001b[0m\u001b[37m\u001b[0m \u001b[1m19s\u001b[0m 20ms/step - loss: 837.6880 - mae: 18.8357 - val_loss: 232.6587 - val_mae: 10.9943\n",
      "Epoch 8/300\n",
      "\u001b[1m972/972\u001b[0m \u001b[32m━━━━━━━━━━━━━━━━━━━━\u001b[0m\u001b[37m\u001b[0m \u001b[1m21s\u001b[0m 22ms/step - loss: 831.1824 - mae: 19.1144 - val_loss: 2312.4189 - val_mae: 40.4545\n",
      "Epoch 9/300\n",
      "\u001b[1m972/972\u001b[0m \u001b[32m━━━━━━━━━━━━━━━━━━━━\u001b[0m\u001b[37m\u001b[0m \u001b[1m20s\u001b[0m 20ms/step - loss: 793.9493 - mae: 18.5982 - val_loss: 107.5287 - val_mae: 7.9732\n",
      "Epoch 10/300\n",
      "\u001b[1m972/972\u001b[0m \u001b[32m━━━━━━━━━━━━━━━━━━━━\u001b[0m\u001b[37m\u001b[0m \u001b[1m19s\u001b[0m 20ms/step - loss: 871.3459 - mae: 19.4411 - val_loss: 1094.3718 - val_mae: 27.3894\n",
      "Epoch 11/300\n",
      "\u001b[1m972/972\u001b[0m \u001b[32m━━━━━━━━━━━━━━━━━━━━\u001b[0m\u001b[37m\u001b[0m \u001b[1m20s\u001b[0m 21ms/step - loss: 885.9176 - mae: 19.5082 - val_loss: 322.6007 - val_mae: 13.5880\n",
      "Epoch 12/300\n",
      "\u001b[1m972/972\u001b[0m \u001b[32m━━━━━━━━━━━━━━━━━━━━\u001b[0m\u001b[37m\u001b[0m \u001b[1m20s\u001b[0m 21ms/step - loss: 791.5669 - mae: 18.3349 - val_loss: 166.8497 - val_mae: 9.5757\n",
      "Epoch 13/300\n",
      "\u001b[1m972/972\u001b[0m \u001b[32m━━━━━━━━━━━━━━━━━━━━\u001b[0m\u001b[37m\u001b[0m \u001b[1m20s\u001b[0m 20ms/step - loss: 844.9956 - mae: 18.9357 - val_loss: 93.1410 - val_mae: 7.0782\n",
      "Epoch 14/300\n",
      "\u001b[1m972/972\u001b[0m \u001b[32m━━━━━━━━━━━━━━━━━━━━\u001b[0m\u001b[37m\u001b[0m \u001b[1m19s\u001b[0m 20ms/step - loss: 857.8323 - mae: 19.2927 - val_loss: 2611.8188 - val_mae: 41.3639\n",
      "Epoch 15/300\n",
      "\u001b[1m972/972\u001b[0m \u001b[32m━━━━━━━━━━━━━━━━━━━━\u001b[0m\u001b[37m\u001b[0m \u001b[1m21s\u001b[0m 21ms/step - loss: 817.2656 - mae: 18.5244 - val_loss: 216.0983 - val_mae: 11.1598\n",
      "Epoch 16/300\n",
      "\u001b[1m972/972\u001b[0m \u001b[32m━━━━━━━━━━━━━━━━━━━━\u001b[0m\u001b[37m\u001b[0m \u001b[1m19s\u001b[0m 20ms/step - loss: 896.8265 - mae: 19.6140 - val_loss: 1436.6818 - val_mae: 34.2017\n",
      "Epoch 17/300\n",
      "\u001b[1m972/972\u001b[0m \u001b[32m━━━━━━━━━━━━━━━━━━━━\u001b[0m\u001b[37m\u001b[0m \u001b[1m18s\u001b[0m 19ms/step - loss: 925.9570 - mae: 19.6997 - val_loss: 944.9579 - val_mae: 23.8218\n",
      "Epoch 18/300\n",
      "\u001b[1m972/972\u001b[0m \u001b[32m━━━━━━━━━━━━━━━━━━━━\u001b[0m\u001b[37m\u001b[0m \u001b[1m19s\u001b[0m 20ms/step - loss: 821.1276 - mae: 18.9115 - val_loss: 171.2984 - val_mae: 8.7979\n",
      "\u001b[1m3888/3888\u001b[0m \u001b[32m━━━━━━━━━━━━━━━━━━━━\u001b[0m\u001b[37m\u001b[0m \u001b[1m3s\u001b[0m 694us/step - loss: 153.8797 - mae: 9.3312\n"
     ]
    },
    {
     "data": {
      "text/html": [
       "<style>\n",
       "    table.wandb td:nth-child(1) { padding: 0 10px; text-align: left ; width: auto;} td:nth-child(2) {text-align: left ; width: 100%}\n",
       "    .wandb-row { display: flex; flex-direction: row; flex-wrap: wrap; justify-content: flex-start; width: 100% }\n",
       "    .wandb-col { display: flex; flex-direction: column; flex-basis: 100%; flex: 1; padding: 10px; }\n",
       "    </style>\n",
       "<div class=\"wandb-row\"><div class=\"wandb-col\"><h3>Run history:</h3><br/><table class=\"wandb\"><tr><td>epoch/epoch</td><td>▁▁▂▂▃▃▃▄▄▅▅▆▆▆▇▇██</td></tr><tr><td>epoch/learning_rate</td><td>▁▁▁▁▁▁▁▁▁▁▁▁▁▁▁▁▁▁</td></tr><tr><td>epoch/loss</td><td>█▁▁▁▁▁▁▁▁▁▁▁▁▁▁▁▁▁</td></tr><tr><td>epoch/mae</td><td>█▁▁▁▁▁▁▁▁▁▁▁▁▁▁▁▁▁</td></tr><tr><td>epoch/val_loss</td><td>█▂▁▁▂▁▁▁▁▁▁▁▁▂▁▁▁▁</td></tr><tr><td>epoch/val_mae</td><td>█▃▁▂▃▂▁▃▁▂▁▁▁▃▁▂▂▁</td></tr><tr><td>validation_loss</td><td>▁</td></tr></table><br/></div><div class=\"wandb-col\"><h3>Run summary:</h3><br/><table class=\"wandb\"><tr><td>epoch/epoch</td><td>17</td></tr><tr><td>epoch/learning_rate</td><td>0.00335</td></tr><tr><td>epoch/loss</td><td>838.70374</td></tr><tr><td>epoch/mae</td><td>18.97062</td></tr><tr><td>epoch/val_loss</td><td>171.2984</td></tr><tr><td>epoch/val_mae</td><td>8.79794</td></tr><tr><td>validation_loss</td><td>171.29846</td></tr></table><br/></div></div>"
      ],
      "text/plain": [
       "<IPython.core.display.HTML object>"
      ]
     },
     "metadata": {},
     "output_type": "display_data"
    },
    {
     "data": {
      "text/html": [
       " View run <strong style=\"color:#cdcd00\">serene-sweep-92</strong> at: <a href='https://wandb.ai/sondre-rogde-ntnu/LSTM_OPTION_PRICING/runs/kf5ezwu6' target=\"_blank\">https://wandb.ai/sondre-rogde-ntnu/LSTM_OPTION_PRICING/runs/kf5ezwu6</a><br/> View project at: <a href='https://wandb.ai/sondre-rogde-ntnu/LSTM_OPTION_PRICING' target=\"_blank\">https://wandb.ai/sondre-rogde-ntnu/LSTM_OPTION_PRICING</a><br/>Synced 5 W&B file(s), 0 media file(s), 0 artifact file(s) and 0 other file(s)"
      ],
      "text/plain": [
       "<IPython.core.display.HTML object>"
      ]
     },
     "metadata": {},
     "output_type": "display_data"
    },
    {
     "data": {
      "text/html": [
       "Find logs at: <code>./wandb/run-20240924_091910-kf5ezwu6/logs</code>"
      ],
      "text/plain": [
       "<IPython.core.display.HTML object>"
      ]
     },
     "metadata": {},
     "output_type": "display_data"
    },
    {
     "data": {
      "text/html": [
       "wandb version 0.18.1 is available!  To upgrade, please run:\n",
       " $ pip install wandb --upgrade"
      ],
      "text/plain": [
       "<IPython.core.display.HTML object>"
      ]
     },
     "metadata": {},
     "output_type": "display_data"
    },
    {
     "data": {
      "text/html": [
       "The new W&B backend becomes opt-out in version 0.18.0; try it out with `wandb.require(\"core\")`! See https://wandb.me/wandb-core for more information."
      ],
      "text/plain": [
       "<IPython.core.display.HTML object>"
      ]
     },
     "metadata": {},
     "output_type": "display_data"
    },
    {
     "name": "stderr",
     "output_type": "stream",
     "text": [
      "\u001b[34m\u001b[1mwandb\u001b[0m: Sweep Agent: Waiting for job.\n",
      "\u001b[34m\u001b[1mwandb\u001b[0m: Job received.\n",
      "\u001b[34m\u001b[1mwandb\u001b[0m: Agent Starting Run: 5dq28j8k with config:\n",
      "\u001b[34m\u001b[1mwandb\u001b[0m: \tbn_momentum: 0.08711701701762863\n",
      "\u001b[34m\u001b[1mwandb\u001b[0m: \tlayers: 6\n",
      "\u001b[34m\u001b[1mwandb\u001b[0m: \tlearning_rate: 0.0032784760337505625\n",
      "\u001b[34m\u001b[1mwandb\u001b[0m: \tminibatch_size: 2048\n",
      "\u001b[34m\u001b[1mwandb\u001b[0m: \tunits: 128\n",
      "\u001b[34m\u001b[1mwandb\u001b[0m: \tweight_decay: 0.00026123179493002047\n"
     ]
    },
    {
     "data": {
      "text/html": [
       "Tracking run with wandb version 0.17.9"
      ],
      "text/plain": [
       "<IPython.core.display.HTML object>"
      ]
     },
     "metadata": {},
     "output_type": "display_data"
    },
    {
     "data": {
      "text/html": [
       "Run data is saved locally in <code>/Users/sondrerogde/Dev/LSTM-for-option-pricing/Sondre/wandb/run-20240924_092531-5dq28j8k</code>"
      ],
      "text/plain": [
       "<IPython.core.display.HTML object>"
      ]
     },
     "metadata": {},
     "output_type": "display_data"
    },
    {
     "data": {
      "text/html": [
       "Syncing run <strong><a href='https://wandb.ai/sondre-rogde-ntnu/LSTM_OPTION_PRICING/runs/5dq28j8k' target=\"_blank\">wobbly-sweep-93</a></strong> to <a href='https://wandb.ai/sondre-rogde-ntnu/LSTM_OPTION_PRICING' target=\"_blank\">Weights & Biases</a> (<a href='https://wandb.me/run' target=\"_blank\">docs</a>)<br/>Sweep page: <a href='https://wandb.ai/sondre-rogde-ntnu/LSTM_OPTION_PRICING/sweeps/guuhakot' target=\"_blank\">https://wandb.ai/sondre-rogde-ntnu/LSTM_OPTION_PRICING/sweeps/guuhakot</a>"
      ],
      "text/plain": [
       "<IPython.core.display.HTML object>"
      ]
     },
     "metadata": {},
     "output_type": "display_data"
    },
    {
     "data": {
      "text/html": [
       " View project at <a href='https://wandb.ai/sondre-rogde-ntnu/LSTM_OPTION_PRICING' target=\"_blank\">https://wandb.ai/sondre-rogde-ntnu/LSTM_OPTION_PRICING</a>"
      ],
      "text/plain": [
       "<IPython.core.display.HTML object>"
      ]
     },
     "metadata": {},
     "output_type": "display_data"
    },
    {
     "data": {
      "text/html": [
       " View sweep at <a href='https://wandb.ai/sondre-rogde-ntnu/LSTM_OPTION_PRICING/sweeps/guuhakot' target=\"_blank\">https://wandb.ai/sondre-rogde-ntnu/LSTM_OPTION_PRICING/sweeps/guuhakot</a>"
      ],
      "text/plain": [
       "<IPython.core.display.HTML object>"
      ]
     },
     "metadata": {},
     "output_type": "display_data"
    },
    {
     "data": {
      "text/html": [
       " View run at <a href='https://wandb.ai/sondre-rogde-ntnu/LSTM_OPTION_PRICING/runs/5dq28j8k' target=\"_blank\">https://wandb.ai/sondre-rogde-ntnu/LSTM_OPTION_PRICING/runs/5dq28j8k</a>"
      ],
      "text/plain": [
       "<IPython.core.display.HTML object>"
      ]
     },
     "metadata": {},
     "output_type": "display_data"
    },
    {
     "name": "stdout",
     "output_type": "stream",
     "text": [
      "Epoch 1/300\n"
     ]
    },
    {
     "name": "stderr",
     "output_type": "stream",
     "text": [
      "/Library/Frameworks/Python.framework/Versions/3.12/lib/python3.12/site-packages/keras/src/layers/rnn/rnn.py:204: UserWarning: Do not pass an `input_shape`/`input_dim` argument to a layer. When using Sequential models, prefer using an `Input(shape)` object as the first layer in the model instead.\n",
      "  super().__init__(**kwargs)\n"
     ]
    },
    {
     "name": "stdout",
     "output_type": "stream",
     "text": [
      "\u001b[1m486/486\u001b[0m \u001b[32m━━━━━━━━━━━━━━━━━━━━\u001b[0m\u001b[37m\u001b[0m \u001b[1m131s\u001b[0m 246ms/step - loss: 486669.4062 - mae: 463.4718 - val_loss: 10033.3086 - val_mae: 76.0679\n",
      "Epoch 2/300\n",
      "\u001b[1m486/486\u001b[0m \u001b[32m━━━━━━━━━━━━━━━━━━━━\u001b[0m\u001b[37m\u001b[0m \u001b[1m131s\u001b[0m 270ms/step - loss: 3820.8848 - mae: 39.3454 - val_loss: 130.7451 - val_mae: 7.1815\n",
      "Epoch 3/300\n",
      "\u001b[1m486/486\u001b[0m \u001b[32m━━━━━━━━━━━━━━━━━━━━\u001b[0m\u001b[37m\u001b[0m \u001b[1m125s\u001b[0m 258ms/step - loss: 607.5969 - mae: 16.6006 - val_loss: 679.4426 - val_mae: 22.2039\n",
      "Epoch 4/300\n",
      "\u001b[1m486/486\u001b[0m \u001b[32m━━━━━━━━━━━━━━━━━━━━\u001b[0m\u001b[37m\u001b[0m \u001b[1m117s\u001b[0m 242ms/step - loss: 477.3325 - mae: 14.8125 - val_loss: 32023.7520 - val_mae: 167.0159\n",
      "Epoch 5/300\n",
      "\u001b[1m486/486\u001b[0m \u001b[32m━━━━━━━━━━━━━━━━━━━━\u001b[0m\u001b[37m\u001b[0m \u001b[1m116s\u001b[0m 238ms/step - loss: 534.5438 - mae: 15.4720 - val_loss: 2383.8499 - val_mae: 44.7240\n",
      "Epoch 6/300\n",
      "\u001b[1m486/486\u001b[0m \u001b[32m━━━━━━━━━━━━━━━━━━━━\u001b[0m\u001b[37m\u001b[0m \u001b[1m114s\u001b[0m 235ms/step - loss: 498.7301 - mae: 14.9730 - val_loss: 6269.7183 - val_mae: 67.8677\n",
      "Epoch 7/300\n",
      "\u001b[1m486/486\u001b[0m \u001b[32m━━━━━━━━━━━━━━━━━━━━\u001b[0m\u001b[37m\u001b[0m \u001b[1m114s\u001b[0m 235ms/step - loss: 448.7206 - mae: 14.5977 - val_loss: 1253.3124 - val_mae: 28.2285\n",
      "\u001b[1m3888/3888\u001b[0m \u001b[32m━━━━━━━━━━━━━━━━━━━━\u001b[0m\u001b[37m\u001b[0m \u001b[1m17s\u001b[0m 4ms/step - loss: 1210.0386 - mae: 29.0088\n"
     ]
    },
    {
     "data": {
      "text/html": [
       "<style>\n",
       "    table.wandb td:nth-child(1) { padding: 0 10px; text-align: left ; width: auto;} td:nth-child(2) {text-align: left ; width: 100%}\n",
       "    .wandb-row { display: flex; flex-direction: row; flex-wrap: wrap; justify-content: flex-start; width: 100% }\n",
       "    .wandb-col { display: flex; flex-direction: column; flex-basis: 100%; flex: 1; padding: 10px; }\n",
       "    </style>\n",
       "<div class=\"wandb-row\"><div class=\"wandb-col\"><h3>Run history:</h3><br/><table class=\"wandb\"><tr><td>epoch/epoch</td><td>▁▂▃▅▆▇█</td></tr><tr><td>epoch/learning_rate</td><td>▁▁▁▁▁▁▁</td></tr><tr><td>epoch/loss</td><td>█▁▁▁▁▁▁</td></tr><tr><td>epoch/mae</td><td>█▁▁▁▁▁▁</td></tr><tr><td>epoch/val_loss</td><td>▃▁▁█▁▂▁</td></tr><tr><td>epoch/val_mae</td><td>▄▁▂█▃▄▂</td></tr><tr><td>validation_loss</td><td>▁</td></tr></table><br/></div><div class=\"wandb-col\"><h3>Run summary:</h3><br/><table class=\"wandb\"><tr><td>epoch/epoch</td><td>6</td></tr><tr><td>epoch/learning_rate</td><td>0.00328</td></tr><tr><td>epoch/loss</td><td>463.00909</td></tr><tr><td>epoch/mae</td><td>14.63152</td></tr><tr><td>epoch/val_loss</td><td>1253.31238</td></tr><tr><td>epoch/val_mae</td><td>28.22855</td></tr><tr><td>validation_loss</td><td>1253.3114</td></tr></table><br/></div></div>"
      ],
      "text/plain": [
       "<IPython.core.display.HTML object>"
      ]
     },
     "metadata": {},
     "output_type": "display_data"
    },
    {
     "data": {
      "text/html": [
       " View run <strong style=\"color:#cdcd00\">wobbly-sweep-93</strong> at: <a href='https://wandb.ai/sondre-rogde-ntnu/LSTM_OPTION_PRICING/runs/5dq28j8k' target=\"_blank\">https://wandb.ai/sondre-rogde-ntnu/LSTM_OPTION_PRICING/runs/5dq28j8k</a><br/> View project at: <a href='https://wandb.ai/sondre-rogde-ntnu/LSTM_OPTION_PRICING' target=\"_blank\">https://wandb.ai/sondre-rogde-ntnu/LSTM_OPTION_PRICING</a><br/>Synced 5 W&B file(s), 0 media file(s), 0 artifact file(s) and 0 other file(s)"
      ],
      "text/plain": [
       "<IPython.core.display.HTML object>"
      ]
     },
     "metadata": {},
     "output_type": "display_data"
    },
    {
     "data": {
      "text/html": [
       "Find logs at: <code>./wandb/run-20240924_092531-5dq28j8k/logs</code>"
      ],
      "text/plain": [
       "<IPython.core.display.HTML object>"
      ]
     },
     "metadata": {},
     "output_type": "display_data"
    },
    {
     "data": {
      "text/html": [
       "wandb version 0.18.1 is available!  To upgrade, please run:\n",
       " $ pip install wandb --upgrade"
      ],
      "text/plain": [
       "<IPython.core.display.HTML object>"
      ]
     },
     "metadata": {},
     "output_type": "display_data"
    },
    {
     "data": {
      "text/html": [
       "The new W&B backend becomes opt-out in version 0.18.0; try it out with `wandb.require(\"core\")`! See https://wandb.me/wandb-core for more information."
      ],
      "text/plain": [
       "<IPython.core.display.HTML object>"
      ]
     },
     "metadata": {},
     "output_type": "display_data"
    },
    {
     "name": "stderr",
     "output_type": "stream",
     "text": [
      "\u001b[34m\u001b[1mwandb\u001b[0m: Agent Starting Run: q4tkx2eo with config:\n",
      "\u001b[34m\u001b[1mwandb\u001b[0m: \tbn_momentum: 0.18416626314445048\n",
      "\u001b[34m\u001b[1mwandb\u001b[0m: \tlayers: 5\n",
      "\u001b[34m\u001b[1mwandb\u001b[0m: \tlearning_rate: 0.001436606912352424\n",
      "\u001b[34m\u001b[1mwandb\u001b[0m: \tminibatch_size: 4096\n",
      "\u001b[34m\u001b[1mwandb\u001b[0m: \tunits: 32\n",
      "\u001b[34m\u001b[1mwandb\u001b[0m: \tweight_decay: 0.00011665219444511675\n"
     ]
    },
    {
     "data": {
      "text/html": [
       "Tracking run with wandb version 0.17.9"
      ],
      "text/plain": [
       "<IPython.core.display.HTML object>"
      ]
     },
     "metadata": {},
     "output_type": "display_data"
    },
    {
     "data": {
      "text/html": [
       "Run data is saved locally in <code>/Users/sondrerogde/Dev/LSTM-for-option-pricing/Sondre/wandb/run-20240924_094008-q4tkx2eo</code>"
      ],
      "text/plain": [
       "<IPython.core.display.HTML object>"
      ]
     },
     "metadata": {},
     "output_type": "display_data"
    },
    {
     "data": {
      "text/html": [
       "Syncing run <strong><a href='https://wandb.ai/sondre-rogde-ntnu/LSTM_OPTION_PRICING/runs/q4tkx2eo' target=\"_blank\">deep-sweep-94</a></strong> to <a href='https://wandb.ai/sondre-rogde-ntnu/LSTM_OPTION_PRICING' target=\"_blank\">Weights & Biases</a> (<a href='https://wandb.me/run' target=\"_blank\">docs</a>)<br/>Sweep page: <a href='https://wandb.ai/sondre-rogde-ntnu/LSTM_OPTION_PRICING/sweeps/guuhakot' target=\"_blank\">https://wandb.ai/sondre-rogde-ntnu/LSTM_OPTION_PRICING/sweeps/guuhakot</a>"
      ],
      "text/plain": [
       "<IPython.core.display.HTML object>"
      ]
     },
     "metadata": {},
     "output_type": "display_data"
    },
    {
     "data": {
      "text/html": [
       " View project at <a href='https://wandb.ai/sondre-rogde-ntnu/LSTM_OPTION_PRICING' target=\"_blank\">https://wandb.ai/sondre-rogde-ntnu/LSTM_OPTION_PRICING</a>"
      ],
      "text/plain": [
       "<IPython.core.display.HTML object>"
      ]
     },
     "metadata": {},
     "output_type": "display_data"
    },
    {
     "data": {
      "text/html": [
       " View sweep at <a href='https://wandb.ai/sondre-rogde-ntnu/LSTM_OPTION_PRICING/sweeps/guuhakot' target=\"_blank\">https://wandb.ai/sondre-rogde-ntnu/LSTM_OPTION_PRICING/sweeps/guuhakot</a>"
      ],
      "text/plain": [
       "<IPython.core.display.HTML object>"
      ]
     },
     "metadata": {},
     "output_type": "display_data"
    },
    {
     "data": {
      "text/html": [
       " View run at <a href='https://wandb.ai/sondre-rogde-ntnu/LSTM_OPTION_PRICING/runs/q4tkx2eo' target=\"_blank\">https://wandb.ai/sondre-rogde-ntnu/LSTM_OPTION_PRICING/runs/q4tkx2eo</a>"
      ],
      "text/plain": [
       "<IPython.core.display.HTML object>"
      ]
     },
     "metadata": {},
     "output_type": "display_data"
    },
    {
     "name": "stdout",
     "output_type": "stream",
     "text": [
      "Epoch 1/300\n"
     ]
    },
    {
     "name": "stderr",
     "output_type": "stream",
     "text": [
      "/Library/Frameworks/Python.framework/Versions/3.12/lib/python3.12/site-packages/keras/src/layers/rnn/rnn.py:204: UserWarning: Do not pass an `input_shape`/`input_dim` argument to a layer. When using Sequential models, prefer using an `Input(shape)` object as the first layer in the model instead.\n",
      "  super().__init__(**kwargs)\n"
     ]
    },
    {
     "name": "stdout",
     "output_type": "stream",
     "text": [
      "\u001b[1m243/243\u001b[0m \u001b[32m━━━━━━━━━━━━━━━━━━━━\u001b[0m\u001b[37m\u001b[0m \u001b[1m19s\u001b[0m 62ms/step - loss: 655448.4375 - mae: 541.9119 - val_loss: 831736.5625 - val_mae: 621.9229\n",
      "Epoch 2/300\n",
      "\u001b[1m243/243\u001b[0m \u001b[32m━━━━━━━━━━━━━━━━━━━━\u001b[0m\u001b[37m\u001b[0m \u001b[1m15s\u001b[0m 62ms/step - loss: 606384.6875 - mae: 524.3705 - val_loss: 734034.6875 - val_mae: 587.1669\n",
      "Epoch 3/300\n",
      "\u001b[1m243/243\u001b[0m \u001b[32m━━━━━━━━━━━━━━━━━━━━\u001b[0m\u001b[37m\u001b[0m \u001b[1m15s\u001b[0m 62ms/step - loss: 533063.9375 - mae: 494.2126 - val_loss: 607281.0625 - val_mae: 535.4429\n",
      "Epoch 4/300\n",
      "\u001b[1m243/243\u001b[0m \u001b[32m━━━━━━━━━━━━━━━━━━━━\u001b[0m\u001b[37m\u001b[0m \u001b[1m15s\u001b[0m 63ms/step - loss: 432820.0312 - mae: 447.8465 - val_loss: 476499.6562 - val_mae: 478.1690\n",
      "Epoch 5/300\n",
      "\u001b[1m243/243\u001b[0m \u001b[32m━━━━━━━━━━━━━━━━━━━━\u001b[0m\u001b[37m\u001b[0m \u001b[1m15s\u001b[0m 62ms/step - loss: 326368.5312 - mae: 390.4420 - val_loss: 316874.5000 - val_mae: 388.9729\n",
      "Epoch 6/300\n",
      "\u001b[1m243/243\u001b[0m \u001b[32m━━━━━━━━━━━━━━━━━━━━\u001b[0m\u001b[37m\u001b[0m \u001b[1m15s\u001b[0m 64ms/step - loss: 226539.3594 - mae: 327.4666 - val_loss: 232991.9844 - val_mae: 346.1230\n",
      "Epoch 7/300\n",
      "\u001b[1m243/243\u001b[0m \u001b[32m━━━━━━━━━━━━━━━━━━━━\u001b[0m\u001b[37m\u001b[0m \u001b[1m15s\u001b[0m 62ms/step - loss: 141355.6562 - mae: 259.9501 - val_loss: 117546.3750 - val_mae: 242.3448\n",
      "Epoch 8/300\n",
      "\u001b[1m243/243\u001b[0m \u001b[32m━━━━━━━━━━━━━━━━━━━━\u001b[0m\u001b[37m\u001b[0m \u001b[1m15s\u001b[0m 63ms/step - loss: 77906.6172 - mae: 193.9691 - val_loss: 57185.6953 - val_mae: 166.6365\n",
      "Epoch 9/300\n",
      "\u001b[1m243/243\u001b[0m \u001b[32m━━━━━━━━━━━━━━━━━━━━\u001b[0m\u001b[37m\u001b[0m \u001b[1m15s\u001b[0m 63ms/step - loss: 37301.6250 - mae: 134.9147 - val_loss: 30590.5254 - val_mae: 125.5179\n",
      "Epoch 10/300\n",
      "\u001b[1m243/243\u001b[0m \u001b[32m━━━━━━━━━━━━━━━━━━━━\u001b[0m\u001b[37m\u001b[0m \u001b[1m16s\u001b[0m 65ms/step - loss: 15299.0137 - mae: 86.5364 - val_loss: 6650.3486 - val_mae: 54.7606\n",
      "Epoch 11/300\n",
      "\u001b[1m243/243\u001b[0m \u001b[32m━━━━━━━━━━━━━━━━━━━━\u001b[0m\u001b[37m\u001b[0m \u001b[1m18s\u001b[0m 73ms/step - loss: 5513.2466 - mae: 51.3867 - val_loss: 1301.4980 - val_mae: 27.5023\n",
      "Epoch 12/300\n",
      "\u001b[1m243/243\u001b[0m \u001b[32m━━━━━━━━━━━━━━━━━━━━\u001b[0m\u001b[37m\u001b[0m \u001b[1m18s\u001b[0m 72ms/step - loss: 1624.1202 - mae: 27.6472 - val_loss: 476.7877 - val_mae: 13.8029\n",
      "Epoch 13/300\n",
      "\u001b[1m243/243\u001b[0m \u001b[32m━━━━━━━━━━━━━━━━━━━━\u001b[0m\u001b[37m\u001b[0m \u001b[1m17s\u001b[0m 70ms/step - loss: 555.4736 - mae: 15.7970 - val_loss: 212.9333 - val_mae: 11.8064\n",
      "Epoch 14/300\n",
      "\u001b[1m243/243\u001b[0m \u001b[32m━━━━━━━━━━━━━━━━━━━━\u001b[0m\u001b[37m\u001b[0m \u001b[1m17s\u001b[0m 70ms/step - loss: 341.6302 - mae: 12.5640 - val_loss: 66.9899 - val_mae: 5.8572\n",
      "Epoch 15/300\n",
      "\u001b[1m243/243\u001b[0m \u001b[32m━━━━━━━━━━━━━━━━━━━━\u001b[0m\u001b[37m\u001b[0m \u001b[1m16s\u001b[0m 66ms/step - loss: 299.0437 - mae: 11.6154 - val_loss: 193.3749 - val_mae: 10.8334\n",
      "Epoch 16/300\n",
      "\u001b[1m243/243\u001b[0m \u001b[32m━━━━━━━━━━━━━━━━━━━━\u001b[0m\u001b[37m\u001b[0m \u001b[1m16s\u001b[0m 66ms/step - loss: 270.9897 - mae: 10.7896 - val_loss: 527.0381 - val_mae: 20.1526\n",
      "Epoch 17/300\n",
      "\u001b[1m243/243\u001b[0m \u001b[32m━━━━━━━━━━━━━━━━━━━━\u001b[0m\u001b[37m\u001b[0m \u001b[1m16s\u001b[0m 65ms/step - loss: 277.4951 - mae: 11.1823 - val_loss: 288.7470 - val_mae: 13.6631\n",
      "Epoch 18/300\n",
      "\u001b[1m243/243\u001b[0m \u001b[32m━━━━━━━━━━━━━━━━━━━━\u001b[0m\u001b[37m\u001b[0m \u001b[1m16s\u001b[0m 66ms/step - loss: 266.6808 - mae: 10.7272 - val_loss: 1014.9857 - val_mae: 28.6167\n",
      "Epoch 19/300\n",
      "\u001b[1m243/243\u001b[0m \u001b[32m━━━━━━━━━━━━━━━━━━━━\u001b[0m\u001b[37m\u001b[0m \u001b[1m16s\u001b[0m 66ms/step - loss: 239.4142 - mae: 10.2249 - val_loss: 107.7247 - val_mae: 7.6758\n",
      "\u001b[1m3888/3888\u001b[0m \u001b[32m━━━━━━━━━━━━━━━━━━━━\u001b[0m\u001b[37m\u001b[0m \u001b[1m3s\u001b[0m 842us/step - loss: 70.5276 - mae: 6.4047\n"
     ]
    },
    {
     "data": {
      "text/html": [
       "<style>\n",
       "    table.wandb td:nth-child(1) { padding: 0 10px; text-align: left ; width: auto;} td:nth-child(2) {text-align: left ; width: 100%}\n",
       "    .wandb-row { display: flex; flex-direction: row; flex-wrap: wrap; justify-content: flex-start; width: 100% }\n",
       "    .wandb-col { display: flex; flex-direction: column; flex-basis: 100%; flex: 1; padding: 10px; }\n",
       "    </style>\n",
       "<div class=\"wandb-row\"><div class=\"wandb-col\"><h3>Run history:</h3><br/><table class=\"wandb\"><tr><td>epoch/epoch</td><td>▁▁▂▂▃▃▃▄▄▅▅▅▆▆▆▇▇██</td></tr><tr><td>epoch/learning_rate</td><td>▁▁▁▁▁▁▁▁▁▁▁▁▁▁▁▁▁▁▁</td></tr><tr><td>epoch/loss</td><td>█▇▇▅▄▃▂▂▁▁▁▁▁▁▁▁▁▁▁</td></tr><tr><td>epoch/mae</td><td>██▇▇▆▅▄▃▂▂▁▁▁▁▁▁▁▁▁</td></tr><tr><td>epoch/val_loss</td><td>█▇▆▅▄▃▂▁▁▁▁▁▁▁▁▁▁▁▁</td></tr><tr><td>epoch/val_mae</td><td>██▇▆▅▅▄▃▂▂▁▁▁▁▁▁▁▁▁</td></tr><tr><td>validation_loss</td><td>▁</td></tr></table><br/></div><div class=\"wandb-col\"><h3>Run summary:</h3><br/><table class=\"wandb\"><tr><td>epoch/epoch</td><td>18</td></tr><tr><td>epoch/learning_rate</td><td>0.00144</td></tr><tr><td>epoch/loss</td><td>246.02174</td></tr><tr><td>epoch/mae</td><td>10.48268</td></tr><tr><td>epoch/val_loss</td><td>107.72469</td></tr><tr><td>epoch/val_mae</td><td>7.67575</td></tr><tr><td>validation_loss</td><td>107.72451</td></tr></table><br/></div></div>"
      ],
      "text/plain": [
       "<IPython.core.display.HTML object>"
      ]
     },
     "metadata": {},
     "output_type": "display_data"
    },
    {
     "data": {
      "text/html": [
       " View run <strong style=\"color:#cdcd00\">deep-sweep-94</strong> at: <a href='https://wandb.ai/sondre-rogde-ntnu/LSTM_OPTION_PRICING/runs/q4tkx2eo' target=\"_blank\">https://wandb.ai/sondre-rogde-ntnu/LSTM_OPTION_PRICING/runs/q4tkx2eo</a><br/> View project at: <a href='https://wandb.ai/sondre-rogde-ntnu/LSTM_OPTION_PRICING' target=\"_blank\">https://wandb.ai/sondre-rogde-ntnu/LSTM_OPTION_PRICING</a><br/>Synced 5 W&B file(s), 0 media file(s), 0 artifact file(s) and 0 other file(s)"
      ],
      "text/plain": [
       "<IPython.core.display.HTML object>"
      ]
     },
     "metadata": {},
     "output_type": "display_data"
    },
    {
     "data": {
      "text/html": [
       "Find logs at: <code>./wandb/run-20240924_094008-q4tkx2eo/logs</code>"
      ],
      "text/plain": [
       "<IPython.core.display.HTML object>"
      ]
     },
     "metadata": {},
     "output_type": "display_data"
    },
    {
     "data": {
      "text/html": [
       "wandb version 0.18.1 is available!  To upgrade, please run:\n",
       " $ pip install wandb --upgrade"
      ],
      "text/plain": [
       "<IPython.core.display.HTML object>"
      ]
     },
     "metadata": {},
     "output_type": "display_data"
    },
    {
     "data": {
      "text/html": [
       "The new W&B backend becomes opt-out in version 0.18.0; try it out with `wandb.require(\"core\")`! See https://wandb.me/wandb-core for more information."
      ],
      "text/plain": [
       "<IPython.core.display.HTML object>"
      ]
     },
     "metadata": {},
     "output_type": "display_data"
    },
    {
     "name": "stderr",
     "output_type": "stream",
     "text": [
      "\u001b[34m\u001b[1mwandb\u001b[0m: Sweep Agent: Waiting for job.\n",
      "\u001b[34m\u001b[1mwandb\u001b[0m: Job received.\n",
      "\u001b[34m\u001b[1mwandb\u001b[0m: Agent Starting Run: tpnv8x6h with config:\n",
      "\u001b[34m\u001b[1mwandb\u001b[0m: \tbn_momentum: 0.07806804768823482\n",
      "\u001b[34m\u001b[1mwandb\u001b[0m: \tlayers: 6\n",
      "\u001b[34m\u001b[1mwandb\u001b[0m: \tlearning_rate: 0.0038616088305057305\n",
      "\u001b[34m\u001b[1mwandb\u001b[0m: \tminibatch_size: 2048\n",
      "\u001b[34m\u001b[1mwandb\u001b[0m: \tunits: 96\n",
      "\u001b[34m\u001b[1mwandb\u001b[0m: \tweight_decay: 0.0002252385449383758\n"
     ]
    },
    {
     "data": {
      "text/html": [
       "Tracking run with wandb version 0.17.9"
      ],
      "text/plain": [
       "<IPython.core.display.HTML object>"
      ]
     },
     "metadata": {},
     "output_type": "display_data"
    },
    {
     "data": {
      "text/html": [
       "Run data is saved locally in <code>/Users/sondrerogde/Dev/LSTM-for-option-pricing/Sondre/wandb/run-20240924_094535-tpnv8x6h</code>"
      ],
      "text/plain": [
       "<IPython.core.display.HTML object>"
      ]
     },
     "metadata": {},
     "output_type": "display_data"
    },
    {
     "data": {
      "text/html": [
       "Syncing run <strong><a href='https://wandb.ai/sondre-rogde-ntnu/LSTM_OPTION_PRICING/runs/tpnv8x6h' target=\"_blank\">lucky-sweep-95</a></strong> to <a href='https://wandb.ai/sondre-rogde-ntnu/LSTM_OPTION_PRICING' target=\"_blank\">Weights & Biases</a> (<a href='https://wandb.me/run' target=\"_blank\">docs</a>)<br/>Sweep page: <a href='https://wandb.ai/sondre-rogde-ntnu/LSTM_OPTION_PRICING/sweeps/guuhakot' target=\"_blank\">https://wandb.ai/sondre-rogde-ntnu/LSTM_OPTION_PRICING/sweeps/guuhakot</a>"
      ],
      "text/plain": [
       "<IPython.core.display.HTML object>"
      ]
     },
     "metadata": {},
     "output_type": "display_data"
    },
    {
     "data": {
      "text/html": [
       " View project at <a href='https://wandb.ai/sondre-rogde-ntnu/LSTM_OPTION_PRICING' target=\"_blank\">https://wandb.ai/sondre-rogde-ntnu/LSTM_OPTION_PRICING</a>"
      ],
      "text/plain": [
       "<IPython.core.display.HTML object>"
      ]
     },
     "metadata": {},
     "output_type": "display_data"
    },
    {
     "data": {
      "text/html": [
       " View sweep at <a href='https://wandb.ai/sondre-rogde-ntnu/LSTM_OPTION_PRICING/sweeps/guuhakot' target=\"_blank\">https://wandb.ai/sondre-rogde-ntnu/LSTM_OPTION_PRICING/sweeps/guuhakot</a>"
      ],
      "text/plain": [
       "<IPython.core.display.HTML object>"
      ]
     },
     "metadata": {},
     "output_type": "display_data"
    },
    {
     "data": {
      "text/html": [
       " View run at <a href='https://wandb.ai/sondre-rogde-ntnu/LSTM_OPTION_PRICING/runs/tpnv8x6h' target=\"_blank\">https://wandb.ai/sondre-rogde-ntnu/LSTM_OPTION_PRICING/runs/tpnv8x6h</a>"
      ],
      "text/plain": [
       "<IPython.core.display.HTML object>"
      ]
     },
     "metadata": {},
     "output_type": "display_data"
    },
    {
     "name": "stdout",
     "output_type": "stream",
     "text": [
      "Epoch 1/300\n"
     ]
    },
    {
     "name": "stderr",
     "output_type": "stream",
     "text": [
      "/Library/Frameworks/Python.framework/Versions/3.12/lib/python3.12/site-packages/keras/src/layers/rnn/rnn.py:204: UserWarning: Do not pass an `input_shape`/`input_dim` argument to a layer. When using Sequential models, prefer using an `Input(shape)` object as the first layer in the model instead.\n",
      "  super().__init__(**kwargs)\n"
     ]
    },
    {
     "name": "stdout",
     "output_type": "stream",
     "text": [
      "\u001b[1m486/486\u001b[0m \u001b[32m━━━━━━━━━━━━━━━━━━━━\u001b[0m\u001b[37m\u001b[0m \u001b[1m72s\u001b[0m 141ms/step - loss: 485956.4375 - mae: 461.7259 - val_loss: 14707.6113 - val_mae: 96.3975\n",
      "Epoch 2/300\n",
      "\u001b[1m486/486\u001b[0m \u001b[32m━━━━━━━━━━━━━━━━━━━━\u001b[0m\u001b[37m\u001b[0m \u001b[1m70s\u001b[0m 144ms/step - loss: 3108.8940 - mae: 35.4990 - val_loss: 1426.1561 - val_mae: 28.7030\n",
      "Epoch 3/300\n",
      "\u001b[1m486/486\u001b[0m \u001b[32m━━━━━━━━━━━━━━━━━━━━\u001b[0m\u001b[37m\u001b[0m \u001b[1m77s\u001b[0m 159ms/step - loss: 553.1816 - mae: 15.7177 - val_loss: 4394.2041 - val_mae: 57.6359\n",
      "Epoch 4/300\n",
      "\u001b[1m486/486\u001b[0m \u001b[32m━━━━━━━━━━━━━━━━━━━━\u001b[0m\u001b[37m\u001b[0m \u001b[1m74s\u001b[0m 151ms/step - loss: 512.4439 - mae: 15.4624 - val_loss: 766.6552 - val_mae: 23.5516\n",
      "Epoch 5/300\n",
      "\u001b[1m486/486\u001b[0m \u001b[32m━━━━━━━━━━━━━━━━━━━━\u001b[0m\u001b[37m\u001b[0m \u001b[1m73s\u001b[0m 150ms/step - loss: 481.2105 - mae: 14.6265 - val_loss: 3396.6145 - val_mae: 52.9300\n",
      "Epoch 6/300\n",
      "\u001b[1m486/486\u001b[0m \u001b[32m━━━━━━━━━━━━━━━━━━━━\u001b[0m\u001b[37m\u001b[0m \u001b[1m73s\u001b[0m 151ms/step - loss: 549.5477 - mae: 15.7133 - val_loss: 66.2391 - val_mae: 5.9147\n",
      "Epoch 7/300\n",
      "\u001b[1m486/486\u001b[0m \u001b[32m━━━━━━━━━━━━━━━━━━━━\u001b[0m\u001b[37m\u001b[0m \u001b[1m73s\u001b[0m 149ms/step - loss: 526.7541 - mae: 15.3106 - val_loss: 966.7327 - val_mae: 28.2979\n",
      "Epoch 8/300\n",
      "\u001b[1m486/486\u001b[0m \u001b[32m━━━━━━━━━━━━━━━━━━━━\u001b[0m\u001b[37m\u001b[0m \u001b[1m73s\u001b[0m 151ms/step - loss: 445.7590 - mae: 14.0918 - val_loss: 584.8217 - val_mae: 21.6706\n",
      "Epoch 9/300\n",
      "\u001b[1m486/486\u001b[0m \u001b[32m━━━━━━━━━━━━━━━━━━━━\u001b[0m\u001b[37m\u001b[0m \u001b[1m74s\u001b[0m 152ms/step - loss: 467.5560 - mae: 14.4829 - val_loss: 1745.1470 - val_mae: 38.1966\n",
      "Epoch 10/300\n",
      "\u001b[1m486/486\u001b[0m \u001b[32m━━━━━━━━━━━━━━━━━━━━\u001b[0m\u001b[37m\u001b[0m \u001b[1m75s\u001b[0m 154ms/step - loss: 467.0128 - mae: 14.4728 - val_loss: 393.6029 - val_mae: 16.1376\n",
      "Epoch 11/300\n",
      "\u001b[1m486/486\u001b[0m \u001b[32m━━━━━━━━━━━━━━━━━━━━\u001b[0m\u001b[37m\u001b[0m \u001b[1m74s\u001b[0m 151ms/step - loss: 430.3306 - mae: 13.7480 - val_loss: 723.1357 - val_mae: 23.7101\n",
      "\u001b[1m3888/3888\u001b[0m \u001b[32m━━━━━━━━━━━━━━━━━━━━\u001b[0m\u001b[37m\u001b[0m \u001b[1m10s\u001b[0m 3ms/step - loss: 641.6054 - mae: 22.1711\n"
     ]
    },
    {
     "data": {
      "text/html": [
       "<style>\n",
       "    table.wandb td:nth-child(1) { padding: 0 10px; text-align: left ; width: auto;} td:nth-child(2) {text-align: left ; width: 100%}\n",
       "    .wandb-row { display: flex; flex-direction: row; flex-wrap: wrap; justify-content: flex-start; width: 100% }\n",
       "    .wandb-col { display: flex; flex-direction: column; flex-basis: 100%; flex: 1; padding: 10px; }\n",
       "    </style>\n",
       "<div class=\"wandb-row\"><div class=\"wandb-col\"><h3>Run history:</h3><br/><table class=\"wandb\"><tr><td>epoch/epoch</td><td>▁▂▂▃▄▅▅▆▇▇█</td></tr><tr><td>epoch/learning_rate</td><td>▁▁▁▁▁▁▁▁▁▁▁</td></tr><tr><td>epoch/loss</td><td>█▁▁▁▁▁▁▁▁▁▁</td></tr><tr><td>epoch/mae</td><td>█▁▁▁▁▁▁▁▁▁▁</td></tr><tr><td>epoch/val_loss</td><td>█▂▃▁▃▁▁▁▂▁▁</td></tr><tr><td>epoch/val_mae</td><td>█▃▅▂▅▁▃▂▃▂▂</td></tr><tr><td>validation_loss</td><td>▁</td></tr></table><br/></div><div class=\"wandb-col\"><h3>Run summary:</h3><br/><table class=\"wandb\"><tr><td>epoch/epoch</td><td>10</td></tr><tr><td>epoch/learning_rate</td><td>0.00386</td></tr><tr><td>epoch/loss</td><td>506.76263</td></tr><tr><td>epoch/mae</td><td>14.91281</td></tr><tr><td>epoch/val_loss</td><td>723.13574</td></tr><tr><td>epoch/val_mae</td><td>23.7101</td></tr><tr><td>validation_loss</td><td>723.13525</td></tr></table><br/></div></div>"
      ],
      "text/plain": [
       "<IPython.core.display.HTML object>"
      ]
     },
     "metadata": {},
     "output_type": "display_data"
    },
    {
     "data": {
      "text/html": [
       " View run <strong style=\"color:#cdcd00\">lucky-sweep-95</strong> at: <a href='https://wandb.ai/sondre-rogde-ntnu/LSTM_OPTION_PRICING/runs/tpnv8x6h' target=\"_blank\">https://wandb.ai/sondre-rogde-ntnu/LSTM_OPTION_PRICING/runs/tpnv8x6h</a><br/> View project at: <a href='https://wandb.ai/sondre-rogde-ntnu/LSTM_OPTION_PRICING' target=\"_blank\">https://wandb.ai/sondre-rogde-ntnu/LSTM_OPTION_PRICING</a><br/>Synced 5 W&B file(s), 0 media file(s), 0 artifact file(s) and 0 other file(s)"
      ],
      "text/plain": [
       "<IPython.core.display.HTML object>"
      ]
     },
     "metadata": {},
     "output_type": "display_data"
    },
    {
     "data": {
      "text/html": [
       "Find logs at: <code>./wandb/run-20240924_094535-tpnv8x6h/logs</code>"
      ],
      "text/plain": [
       "<IPython.core.display.HTML object>"
      ]
     },
     "metadata": {},
     "output_type": "display_data"
    },
    {
     "data": {
      "text/html": [
       "wandb version 0.18.1 is available!  To upgrade, please run:\n",
       " $ pip install wandb --upgrade"
      ],
      "text/plain": [
       "<IPython.core.display.HTML object>"
      ]
     },
     "metadata": {},
     "output_type": "display_data"
    },
    {
     "data": {
      "text/html": [
       "The new W&B backend becomes opt-out in version 0.18.0; try it out with `wandb.require(\"core\")`! See https://wandb.me/wandb-core for more information."
      ],
      "text/plain": [
       "<IPython.core.display.HTML object>"
      ]
     },
     "metadata": {},
     "output_type": "display_data"
    },
    {
     "name": "stderr",
     "output_type": "stream",
     "text": [
      "\u001b[34m\u001b[1mwandb\u001b[0m: Sweep Agent: Waiting for job.\n",
      "\u001b[34m\u001b[1mwandb\u001b[0m: Job received.\n",
      "\u001b[34m\u001b[1mwandb\u001b[0m: Agent Starting Run: nyrbcwgv with config:\n",
      "\u001b[34m\u001b[1mwandb\u001b[0m: \tbn_momentum: 0.1838349208238372\n",
      "\u001b[34m\u001b[1mwandb\u001b[0m: \tlayers: 5\n",
      "\u001b[34m\u001b[1mwandb\u001b[0m: \tlearning_rate: 0.0037973133130094687\n",
      "\u001b[34m\u001b[1mwandb\u001b[0m: \tminibatch_size: 1024\n",
      "\u001b[34m\u001b[1mwandb\u001b[0m: \tunits: 32\n",
      "\u001b[34m\u001b[1mwandb\u001b[0m: \tweight_decay: 8.998712778050533e-07\n"
     ]
    },
    {
     "data": {
      "text/html": [
       "Tracking run with wandb version 0.17.9"
      ],
      "text/plain": [
       "<IPython.core.display.HTML object>"
      ]
     },
     "metadata": {},
     "output_type": "display_data"
    },
    {
     "data": {
      "text/html": [
       "Run data is saved locally in <code>/Users/sondrerogde/Dev/LSTM-for-option-pricing/Sondre/wandb/run-20240924_095933-nyrbcwgv</code>"
      ],
      "text/plain": [
       "<IPython.core.display.HTML object>"
      ]
     },
     "metadata": {},
     "output_type": "display_data"
    },
    {
     "data": {
      "text/html": [
       "Syncing run <strong><a href='https://wandb.ai/sondre-rogde-ntnu/LSTM_OPTION_PRICING/runs/nyrbcwgv' target=\"_blank\">glorious-sweep-96</a></strong> to <a href='https://wandb.ai/sondre-rogde-ntnu/LSTM_OPTION_PRICING' target=\"_blank\">Weights & Biases</a> (<a href='https://wandb.me/run' target=\"_blank\">docs</a>)<br/>Sweep page: <a href='https://wandb.ai/sondre-rogde-ntnu/LSTM_OPTION_PRICING/sweeps/guuhakot' target=\"_blank\">https://wandb.ai/sondre-rogde-ntnu/LSTM_OPTION_PRICING/sweeps/guuhakot</a>"
      ],
      "text/plain": [
       "<IPython.core.display.HTML object>"
      ]
     },
     "metadata": {},
     "output_type": "display_data"
    },
    {
     "data": {
      "text/html": [
       " View project at <a href='https://wandb.ai/sondre-rogde-ntnu/LSTM_OPTION_PRICING' target=\"_blank\">https://wandb.ai/sondre-rogde-ntnu/LSTM_OPTION_PRICING</a>"
      ],
      "text/plain": [
       "<IPython.core.display.HTML object>"
      ]
     },
     "metadata": {},
     "output_type": "display_data"
    },
    {
     "data": {
      "text/html": [
       " View sweep at <a href='https://wandb.ai/sondre-rogde-ntnu/LSTM_OPTION_PRICING/sweeps/guuhakot' target=\"_blank\">https://wandb.ai/sondre-rogde-ntnu/LSTM_OPTION_PRICING/sweeps/guuhakot</a>"
      ],
      "text/plain": [
       "<IPython.core.display.HTML object>"
      ]
     },
     "metadata": {},
     "output_type": "display_data"
    },
    {
     "data": {
      "text/html": [
       " View run at <a href='https://wandb.ai/sondre-rogde-ntnu/LSTM_OPTION_PRICING/runs/nyrbcwgv' target=\"_blank\">https://wandb.ai/sondre-rogde-ntnu/LSTM_OPTION_PRICING/runs/nyrbcwgv</a>"
      ],
      "text/plain": [
       "<IPython.core.display.HTML object>"
      ]
     },
     "metadata": {},
     "output_type": "display_data"
    },
    {
     "name": "stdout",
     "output_type": "stream",
     "text": [
      "Epoch 1/300\n"
     ]
    },
    {
     "name": "stderr",
     "output_type": "stream",
     "text": [
      "/Library/Frameworks/Python.framework/Versions/3.12/lib/python3.12/site-packages/keras/src/layers/rnn/rnn.py:204: UserWarning: Do not pass an `input_shape`/`input_dim` argument to a layer. When using Sequential models, prefer using an `Input(shape)` object as the first layer in the model instead.\n",
      "  super().__init__(**kwargs)\n"
     ]
    },
    {
     "name": "stdout",
     "output_type": "stream",
     "text": [
      "\u001b[1m972/972\u001b[0m \u001b[32m━━━━━━━━━━━━━━━━━━━━\u001b[0m\u001b[37m\u001b[0m \u001b[1m27s\u001b[0m 25ms/step - loss: 475147.7500 - mae: 449.1181 - val_loss: 4897.8149 - val_mae: 49.9321\n",
      "Epoch 2/300\n",
      "\u001b[1m972/972\u001b[0m \u001b[32m━━━━━━━━━━━━━━━━━━━━\u001b[0m\u001b[37m\u001b[0m \u001b[1m24s\u001b[0m 24ms/step - loss: 1568.3910 - mae: 25.6089 - val_loss: 2524.6113 - val_mae: 41.7579\n",
      "Epoch 3/300\n",
      "\u001b[1m972/972\u001b[0m \u001b[32m━━━━━━━━━━━━━━━━━━━━\u001b[0m\u001b[37m\u001b[0m \u001b[1m24s\u001b[0m 24ms/step - loss: 905.3025 - mae: 19.5886 - val_loss: 163.0726 - val_mae: 10.5425\n",
      "Epoch 4/300\n",
      "\u001b[1m972/972\u001b[0m \u001b[32m━━━━━━━━━━━━━━━━━━━━\u001b[0m\u001b[37m\u001b[0m \u001b[1m24s\u001b[0m 24ms/step - loss: 812.7623 - mae: 19.1192 - val_loss: 3560.4827 - val_mae: 51.7443\n",
      "Epoch 5/300\n",
      "\u001b[1m972/972\u001b[0m \u001b[32m━━━━━━━━━━━━━━━━━━━━\u001b[0m\u001b[37m\u001b[0m \u001b[1m24s\u001b[0m 24ms/step - loss: 830.1110 - mae: 18.8919 - val_loss: 664.9515 - val_mae: 21.5215\n",
      "Epoch 6/300\n",
      "\u001b[1m972/972\u001b[0m \u001b[32m━━━━━━━━━━━━━━━━━━━━\u001b[0m\u001b[37m\u001b[0m \u001b[1m24s\u001b[0m 24ms/step - loss: 985.2795 - mae: 20.2234 - val_loss: 368.6223 - val_mae: 14.6069\n",
      "Epoch 7/300\n",
      "\u001b[1m972/972\u001b[0m \u001b[32m━━━━━━━━━━━━━━━━━━━━\u001b[0m\u001b[37m\u001b[0m \u001b[1m24s\u001b[0m 24ms/step - loss: 887.7220 - mae: 19.3713 - val_loss: 1285.2119 - val_mae: 32.7112\n",
      "Epoch 8/300\n",
      "\u001b[1m972/972\u001b[0m \u001b[32m━━━━━━━━━━━━━━━━━━━━\u001b[0m\u001b[37m\u001b[0m \u001b[1m24s\u001b[0m 24ms/step - loss: 829.6982 - mae: 19.3436 - val_loss: 773.3624 - val_mae: 25.4224\n",
      "\u001b[1m3888/3888\u001b[0m \u001b[32m━━━━━━━━━━━━━━━━━━━━\u001b[0m\u001b[37m\u001b[0m \u001b[1m3s\u001b[0m 824us/step - loss: 672.3270 - mae: 23.9091\n"
     ]
    },
    {
     "data": {
      "text/html": [
       "<style>\n",
       "    table.wandb td:nth-child(1) { padding: 0 10px; text-align: left ; width: auto;} td:nth-child(2) {text-align: left ; width: 100%}\n",
       "    .wandb-row { display: flex; flex-direction: row; flex-wrap: wrap; justify-content: flex-start; width: 100% }\n",
       "    .wandb-col { display: flex; flex-direction: column; flex-basis: 100%; flex: 1; padding: 10px; }\n",
       "    </style>\n",
       "<div class=\"wandb-row\"><div class=\"wandb-col\"><h3>Run history:</h3><br/><table class=\"wandb\"><tr><td>epoch/epoch</td><td>▁▂▃▄▅▆▇█</td></tr><tr><td>epoch/learning_rate</td><td>▁▁▁▁▁▁▁▁</td></tr><tr><td>epoch/loss</td><td>█▁▁▁▁▁▁▁</td></tr><tr><td>epoch/mae</td><td>█▁▁▁▁▁▁▁</td></tr><tr><td>epoch/val_loss</td><td>█▄▁▆▂▁▃▂</td></tr><tr><td>epoch/val_mae</td><td>█▆▁█▃▂▅▄</td></tr><tr><td>validation_loss</td><td>▁</td></tr></table><br/></div><div class=\"wandb-col\"><h3>Run summary:</h3><br/><table class=\"wandb\"><tr><td>epoch/epoch</td><td>7</td></tr><tr><td>epoch/learning_rate</td><td>0.0038</td></tr><tr><td>epoch/loss</td><td>802.2204</td></tr><tr><td>epoch/mae</td><td>18.85655</td></tr><tr><td>epoch/val_loss</td><td>773.36237</td></tr><tr><td>epoch/val_mae</td><td>25.42239</td></tr><tr><td>validation_loss</td><td>773.36218</td></tr></table><br/></div></div>"
      ],
      "text/plain": [
       "<IPython.core.display.HTML object>"
      ]
     },
     "metadata": {},
     "output_type": "display_data"
    },
    {
     "data": {
      "text/html": [
       " View run <strong style=\"color:#cdcd00\">glorious-sweep-96</strong> at: <a href='https://wandb.ai/sondre-rogde-ntnu/LSTM_OPTION_PRICING/runs/nyrbcwgv' target=\"_blank\">https://wandb.ai/sondre-rogde-ntnu/LSTM_OPTION_PRICING/runs/nyrbcwgv</a><br/> View project at: <a href='https://wandb.ai/sondre-rogde-ntnu/LSTM_OPTION_PRICING' target=\"_blank\">https://wandb.ai/sondre-rogde-ntnu/LSTM_OPTION_PRICING</a><br/>Synced 5 W&B file(s), 0 media file(s), 0 artifact file(s) and 0 other file(s)"
      ],
      "text/plain": [
       "<IPython.core.display.HTML object>"
      ]
     },
     "metadata": {},
     "output_type": "display_data"
    },
    {
     "data": {
      "text/html": [
       "Find logs at: <code>./wandb/run-20240924_095933-nyrbcwgv/logs</code>"
      ],
      "text/plain": [
       "<IPython.core.display.HTML object>"
      ]
     },
     "metadata": {},
     "output_type": "display_data"
    },
    {
     "data": {
      "text/html": [
       "wandb version 0.18.1 is available!  To upgrade, please run:\n",
       " $ pip install wandb --upgrade"
      ],
      "text/plain": [
       "<IPython.core.display.HTML object>"
      ]
     },
     "metadata": {},
     "output_type": "display_data"
    },
    {
     "data": {
      "text/html": [
       "The new W&B backend becomes opt-out in version 0.18.0; try it out with `wandb.require(\"core\")`! See https://wandb.me/wandb-core for more information."
      ],
      "text/plain": [
       "<IPython.core.display.HTML object>"
      ]
     },
     "metadata": {},
     "output_type": "display_data"
    },
    {
     "name": "stderr",
     "output_type": "stream",
     "text": [
      "\u001b[34m\u001b[1mwandb\u001b[0m: Agent Starting Run: 5ztddqq9 with config:\n",
      "\u001b[34m\u001b[1mwandb\u001b[0m: \tbn_momentum: 0.33302214442215977\n",
      "\u001b[34m\u001b[1mwandb\u001b[0m: \tlayers: 5\n",
      "\u001b[34m\u001b[1mwandb\u001b[0m: \tlearning_rate: 0.001741246020980154\n",
      "\u001b[34m\u001b[1mwandb\u001b[0m: \tminibatch_size: 1024\n",
      "\u001b[34m\u001b[1mwandb\u001b[0m: \tunits: 96\n",
      "\u001b[34m\u001b[1mwandb\u001b[0m: \tweight_decay: 0.0003497545976701981\n"
     ]
    },
    {
     "data": {
      "text/html": [
       "Tracking run with wandb version 0.17.9"
      ],
      "text/plain": [
       "<IPython.core.display.HTML object>"
      ]
     },
     "metadata": {},
     "output_type": "display_data"
    },
    {
     "data": {
      "text/html": [
       "Run data is saved locally in <code>/Users/sondrerogde/Dev/LSTM-for-option-pricing/Sondre/wandb/run-20240924_100259-5ztddqq9</code>"
      ],
      "text/plain": [
       "<IPython.core.display.HTML object>"
      ]
     },
     "metadata": {},
     "output_type": "display_data"
    },
    {
     "data": {
      "text/html": [
       "Syncing run <strong><a href='https://wandb.ai/sondre-rogde-ntnu/LSTM_OPTION_PRICING/runs/5ztddqq9' target=\"_blank\">smooth-sweep-97</a></strong> to <a href='https://wandb.ai/sondre-rogde-ntnu/LSTM_OPTION_PRICING' target=\"_blank\">Weights & Biases</a> (<a href='https://wandb.me/run' target=\"_blank\">docs</a>)<br/>Sweep page: <a href='https://wandb.ai/sondre-rogde-ntnu/LSTM_OPTION_PRICING/sweeps/guuhakot' target=\"_blank\">https://wandb.ai/sondre-rogde-ntnu/LSTM_OPTION_PRICING/sweeps/guuhakot</a>"
      ],
      "text/plain": [
       "<IPython.core.display.HTML object>"
      ]
     },
     "metadata": {},
     "output_type": "display_data"
    },
    {
     "data": {
      "text/html": [
       " View project at <a href='https://wandb.ai/sondre-rogde-ntnu/LSTM_OPTION_PRICING' target=\"_blank\">https://wandb.ai/sondre-rogde-ntnu/LSTM_OPTION_PRICING</a>"
      ],
      "text/plain": [
       "<IPython.core.display.HTML object>"
      ]
     },
     "metadata": {},
     "output_type": "display_data"
    },
    {
     "data": {
      "text/html": [
       " View sweep at <a href='https://wandb.ai/sondre-rogde-ntnu/LSTM_OPTION_PRICING/sweeps/guuhakot' target=\"_blank\">https://wandb.ai/sondre-rogde-ntnu/LSTM_OPTION_PRICING/sweeps/guuhakot</a>"
      ],
      "text/plain": [
       "<IPython.core.display.HTML object>"
      ]
     },
     "metadata": {},
     "output_type": "display_data"
    },
    {
     "data": {
      "text/html": [
       " View run at <a href='https://wandb.ai/sondre-rogde-ntnu/LSTM_OPTION_PRICING/runs/5ztddqq9' target=\"_blank\">https://wandb.ai/sondre-rogde-ntnu/LSTM_OPTION_PRICING/runs/5ztddqq9</a>"
      ],
      "text/plain": [
       "<IPython.core.display.HTML object>"
      ]
     },
     "metadata": {},
     "output_type": "display_data"
    },
    {
     "name": "stdout",
     "output_type": "stream",
     "text": [
      "Epoch 1/300\n"
     ]
    },
    {
     "name": "stderr",
     "output_type": "stream",
     "text": [
      "/Library/Frameworks/Python.framework/Versions/3.12/lib/python3.12/site-packages/keras/src/layers/rnn/rnn.py:204: UserWarning: Do not pass an `input_shape`/`input_dim` argument to a layer. When using Sequential models, prefer using an `Input(shape)` object as the first layer in the model instead.\n",
      "  super().__init__(**kwargs)\n"
     ]
    },
    {
     "name": "stdout",
     "output_type": "stream",
     "text": [
      "\u001b[1m972/972\u001b[0m \u001b[32m━━━━━━━━━━━━━━━━━━━━\u001b[0m\u001b[37m\u001b[0m \u001b[1m64s\u001b[0m 63ms/step - loss: 500723.1250 - mae: 471.9136 - val_loss: 25358.4199 - val_mae: 111.0496\n",
      "Epoch 2/300\n",
      "\u001b[1m972/972\u001b[0m \u001b[32m━━━━━━━━━━━━━━━━━━━━\u001b[0m\u001b[37m\u001b[0m \u001b[1m62s\u001b[0m 64ms/step - loss: 9186.3418 - mae: 60.8155 - val_loss: 983.9094 - val_mae: 27.9948\n",
      "Epoch 3/300\n",
      "\u001b[1m972/972\u001b[0m \u001b[32m━━━━━━━━━━━━━━━━━━━━\u001b[0m\u001b[37m\u001b[0m \u001b[1m63s\u001b[0m 64ms/step - loss: 836.9017 - mae: 19.4238 - val_loss: 677.7624 - val_mae: 18.7272\n",
      "Epoch 4/300\n",
      "\u001b[1m972/972\u001b[0m \u001b[32m━━━━━━━━━━━━━━━━━━━━\u001b[0m\u001b[37m\u001b[0m \u001b[1m63s\u001b[0m 65ms/step - loss: 859.8192 - mae: 19.5991 - val_loss: 223.1074 - val_mae: 10.1378\n",
      "Epoch 5/300\n",
      "\u001b[1m972/972\u001b[0m \u001b[32m━━━━━━━━━━━━━━━━━━━━\u001b[0m\u001b[37m\u001b[0m \u001b[1m66s\u001b[0m 68ms/step - loss: 924.8007 - mae: 20.2950 - val_loss: 741.0869 - val_mae: 18.1257\n",
      "Epoch 6/300\n",
      "\u001b[1m972/972\u001b[0m \u001b[32m━━━━━━━━━━━━━━━━━━━━\u001b[0m\u001b[37m\u001b[0m \u001b[1m68s\u001b[0m 70ms/step - loss: 879.1440 - mae: 19.5988 - val_loss: 961.9061 - val_mae: 27.2549\n",
      "Epoch 7/300\n",
      "\u001b[1m972/972\u001b[0m \u001b[32m━━━━━━━━━━━━━━━━━━━━\u001b[0m\u001b[37m\u001b[0m \u001b[1m65s\u001b[0m 67ms/step - loss: 809.3411 - mae: 19.0525 - val_loss: 3353.0779 - val_mae: 52.9159\n",
      "Epoch 8/300\n",
      "\u001b[1m972/972\u001b[0m \u001b[32m━━━━━━━━━━━━━━━━━━━━\u001b[0m\u001b[37m\u001b[0m \u001b[1m65s\u001b[0m 67ms/step - loss: 826.3337 - mae: 18.8682 - val_loss: 402.1933 - val_mae: 13.0587\n",
      "Epoch 9/300\n",
      "\u001b[1m972/972\u001b[0m \u001b[32m━━━━━━━━━━━━━━━━━━━━\u001b[0m\u001b[37m\u001b[0m \u001b[1m65s\u001b[0m 66ms/step - loss: 840.4773 - mae: 19.3375 - val_loss: 353.3077 - val_mae: 14.4029\n",
      "\u001b[1m3888/3888\u001b[0m \u001b[32m━━━━━━━━━━━━━━━━━━━━\u001b[0m\u001b[37m\u001b[0m \u001b[1m9s\u001b[0m 2ms/step - loss: 331.0211 - mae: 13.8766\n"
     ]
    },
    {
     "data": {
      "text/html": [
       "<style>\n",
       "    table.wandb td:nth-child(1) { padding: 0 10px; text-align: left ; width: auto;} td:nth-child(2) {text-align: left ; width: 100%}\n",
       "    .wandb-row { display: flex; flex-direction: row; flex-wrap: wrap; justify-content: flex-start; width: 100% }\n",
       "    .wandb-col { display: flex; flex-direction: column; flex-basis: 100%; flex: 1; padding: 10px; }\n",
       "    </style>\n",
       "<div class=\"wandb-row\"><div class=\"wandb-col\"><h3>Run history:</h3><br/><table class=\"wandb\"><tr><td>epoch/epoch</td><td>▁▂▃▄▅▅▆▇█</td></tr><tr><td>epoch/learning_rate</td><td>▁▁▁▁▁▁▁▁▁</td></tr><tr><td>epoch/loss</td><td>█▁▁▁▁▁▁▁▁</td></tr><tr><td>epoch/mae</td><td>█▁▁▁▁▁▁▁▁</td></tr><tr><td>epoch/val_loss</td><td>█▁▁▁▁▁▂▁▁</td></tr><tr><td>epoch/val_mae</td><td>█▂▂▁▂▂▄▁▁</td></tr><tr><td>validation_loss</td><td>▁</td></tr></table><br/></div><div class=\"wandb-col\"><h3>Run summary:</h3><br/><table class=\"wandb\"><tr><td>epoch/epoch</td><td>8</td></tr><tr><td>epoch/learning_rate</td><td>0.00174</td></tr><tr><td>epoch/loss</td><td>832.45007</td></tr><tr><td>epoch/mae</td><td>18.96873</td></tr><tr><td>epoch/val_loss</td><td>353.30774</td></tr><tr><td>epoch/val_mae</td><td>14.40295</td></tr><tr><td>validation_loss</td><td>353.30768</td></tr></table><br/></div></div>"
      ],
      "text/plain": [
       "<IPython.core.display.HTML object>"
      ]
     },
     "metadata": {},
     "output_type": "display_data"
    },
    {
     "data": {
      "text/html": [
       " View run <strong style=\"color:#cdcd00\">smooth-sweep-97</strong> at: <a href='https://wandb.ai/sondre-rogde-ntnu/LSTM_OPTION_PRICING/runs/5ztddqq9' target=\"_blank\">https://wandb.ai/sondre-rogde-ntnu/LSTM_OPTION_PRICING/runs/5ztddqq9</a><br/> View project at: <a href='https://wandb.ai/sondre-rogde-ntnu/LSTM_OPTION_PRICING' target=\"_blank\">https://wandb.ai/sondre-rogde-ntnu/LSTM_OPTION_PRICING</a><br/>Synced 5 W&B file(s), 0 media file(s), 0 artifact file(s) and 0 other file(s)"
      ],
      "text/plain": [
       "<IPython.core.display.HTML object>"
      ]
     },
     "metadata": {},
     "output_type": "display_data"
    },
    {
     "data": {
      "text/html": [
       "Find logs at: <code>./wandb/run-20240924_100259-5ztddqq9/logs</code>"
      ],
      "text/plain": [
       "<IPython.core.display.HTML object>"
      ]
     },
     "metadata": {},
     "output_type": "display_data"
    },
    {
     "data": {
      "text/html": [
       "wandb version 0.18.1 is available!  To upgrade, please run:\n",
       " $ pip install wandb --upgrade"
      ],
      "text/plain": [
       "<IPython.core.display.HTML object>"
      ]
     },
     "metadata": {},
     "output_type": "display_data"
    },
    {
     "data": {
      "text/html": [
       "The new W&B backend becomes opt-out in version 0.18.0; try it out with `wandb.require(\"core\")`! See https://wandb.me/wandb-core for more information."
      ],
      "text/plain": [
       "<IPython.core.display.HTML object>"
      ]
     },
     "metadata": {},
     "output_type": "display_data"
    },
    {
     "name": "stderr",
     "output_type": "stream",
     "text": [
      "\u001b[34m\u001b[1mwandb\u001b[0m: Agent Starting Run: zxuubi8v with config:\n",
      "\u001b[34m\u001b[1mwandb\u001b[0m: \tbn_momentum: 0.15395807608295176\n",
      "\u001b[34m\u001b[1mwandb\u001b[0m: \tlayers: 5\n",
      "\u001b[34m\u001b[1mwandb\u001b[0m: \tlearning_rate: 0.004871962223506249\n",
      "\u001b[34m\u001b[1mwandb\u001b[0m: \tminibatch_size: 2048\n",
      "\u001b[34m\u001b[1mwandb\u001b[0m: \tunits: 96\n",
      "\u001b[34m\u001b[1mwandb\u001b[0m: \tweight_decay: 0.00012187000051685148\n"
     ]
    },
    {
     "data": {
      "text/html": [
       "Tracking run with wandb version 0.17.9"
      ],
      "text/plain": [
       "<IPython.core.display.HTML object>"
      ]
     },
     "metadata": {},
     "output_type": "display_data"
    },
    {
     "data": {
      "text/html": [
       "Run data is saved locally in <code>/Users/sondrerogde/Dev/LSTM-for-option-pricing/Sondre/wandb/run-20240924_101258-zxuubi8v</code>"
      ],
      "text/plain": [
       "<IPython.core.display.HTML object>"
      ]
     },
     "metadata": {},
     "output_type": "display_data"
    },
    {
     "data": {
      "text/html": [
       "Syncing run <strong><a href='https://wandb.ai/sondre-rogde-ntnu/LSTM_OPTION_PRICING/runs/zxuubi8v' target=\"_blank\">balmy-sweep-98</a></strong> to <a href='https://wandb.ai/sondre-rogde-ntnu/LSTM_OPTION_PRICING' target=\"_blank\">Weights & Biases</a> (<a href='https://wandb.me/run' target=\"_blank\">docs</a>)<br/>Sweep page: <a href='https://wandb.ai/sondre-rogde-ntnu/LSTM_OPTION_PRICING/sweeps/guuhakot' target=\"_blank\">https://wandb.ai/sondre-rogde-ntnu/LSTM_OPTION_PRICING/sweeps/guuhakot</a>"
      ],
      "text/plain": [
       "<IPython.core.display.HTML object>"
      ]
     },
     "metadata": {},
     "output_type": "display_data"
    },
    {
     "data": {
      "text/html": [
       " View project at <a href='https://wandb.ai/sondre-rogde-ntnu/LSTM_OPTION_PRICING' target=\"_blank\">https://wandb.ai/sondre-rogde-ntnu/LSTM_OPTION_PRICING</a>"
      ],
      "text/plain": [
       "<IPython.core.display.HTML object>"
      ]
     },
     "metadata": {},
     "output_type": "display_data"
    },
    {
     "data": {
      "text/html": [
       " View sweep at <a href='https://wandb.ai/sondre-rogde-ntnu/LSTM_OPTION_PRICING/sweeps/guuhakot' target=\"_blank\">https://wandb.ai/sondre-rogde-ntnu/LSTM_OPTION_PRICING/sweeps/guuhakot</a>"
      ],
      "text/plain": [
       "<IPython.core.display.HTML object>"
      ]
     },
     "metadata": {},
     "output_type": "display_data"
    },
    {
     "data": {
      "text/html": [
       " View run at <a href='https://wandb.ai/sondre-rogde-ntnu/LSTM_OPTION_PRICING/runs/zxuubi8v' target=\"_blank\">https://wandb.ai/sondre-rogde-ntnu/LSTM_OPTION_PRICING/runs/zxuubi8v</a>"
      ],
      "text/plain": [
       "<IPython.core.display.HTML object>"
      ]
     },
     "metadata": {},
     "output_type": "display_data"
    },
    {
     "name": "stdout",
     "output_type": "stream",
     "text": [
      "Epoch 1/300\n"
     ]
    },
    {
     "name": "stderr",
     "output_type": "stream",
     "text": [
      "/Library/Frameworks/Python.framework/Versions/3.12/lib/python3.12/site-packages/keras/src/layers/rnn/rnn.py:204: UserWarning: Do not pass an `input_shape`/`input_dim` argument to a layer. When using Sequential models, prefer using an `Input(shape)` object as the first layer in the model instead.\n",
      "  super().__init__(**kwargs)\n"
     ]
    },
    {
     "name": "stdout",
     "output_type": "stream",
     "text": [
      "\u001b[1m486/486\u001b[0m \u001b[32m━━━━━━━━━━━━━━━━━━━━\u001b[0m\u001b[37m\u001b[0m \u001b[1m58s\u001b[0m 114ms/step - loss: 444341.8125 - mae: 432.1367 - val_loss: 1828.9011 - val_mae: 34.0708\n",
      "Epoch 2/300\n",
      "\u001b[1m486/486\u001b[0m \u001b[32m━━━━━━━━━━━━━━━━━━━━\u001b[0m\u001b[37m\u001b[0m \u001b[1m60s\u001b[0m 124ms/step - loss: 686.1248 - mae: 17.9452 - val_loss: 128.3619 - val_mae: 7.4597\n",
      "Epoch 3/300\n",
      "\u001b[1m486/486\u001b[0m \u001b[32m━━━━━━━━━━━━━━━━━━━━\u001b[0m\u001b[37m\u001b[0m \u001b[1m61s\u001b[0m 126ms/step - loss: 573.1971 - mae: 16.3854 - val_loss: 189.6371 - val_mae: 10.3130\n",
      "Epoch 4/300\n",
      "\u001b[1m486/486\u001b[0m \u001b[32m━━━━━━━━━━━━━━━━━━━━\u001b[0m\u001b[37m\u001b[0m \u001b[1m60s\u001b[0m 123ms/step - loss: 520.0234 - mae: 15.4268 - val_loss: 221.7711 - val_mae: 10.5812\n",
      "Epoch 5/300\n",
      "\u001b[1m486/486\u001b[0m \u001b[32m━━━━━━━━━━━━━━━━━━━━\u001b[0m\u001b[37m\u001b[0m \u001b[1m59s\u001b[0m 121ms/step - loss: 487.7455 - mae: 14.6642 - val_loss: 244.7025 - val_mae: 12.2941\n",
      "Epoch 6/300\n",
      "\u001b[1m486/486\u001b[0m \u001b[32m━━━━━━━━━━━━━━━━━━━━\u001b[0m\u001b[37m\u001b[0m \u001b[1m60s\u001b[0m 123ms/step - loss: 443.5490 - mae: 14.4104 - val_loss: 561.5817 - val_mae: 20.6953\n",
      "Epoch 7/300\n",
      "\u001b[1m486/486\u001b[0m \u001b[32m━━━━━━━━━━━━━━━━━━━━\u001b[0m\u001b[37m\u001b[0m \u001b[1m60s\u001b[0m 123ms/step - loss: 477.5956 - mae: 14.8880 - val_loss: 10065.2148 - val_mae: 92.2968\n",
      "\u001b[1m3888/3888\u001b[0m \u001b[32m━━━━━━━━━━━━━━━━━━━━\u001b[0m\u001b[37m\u001b[0m \u001b[1m8s\u001b[0m 2ms/step - loss: 10553.5010 - mae: 95.0413\n"
     ]
    },
    {
     "data": {
      "text/html": [
       "<style>\n",
       "    table.wandb td:nth-child(1) { padding: 0 10px; text-align: left ; width: auto;} td:nth-child(2) {text-align: left ; width: 100%}\n",
       "    .wandb-row { display: flex; flex-direction: row; flex-wrap: wrap; justify-content: flex-start; width: 100% }\n",
       "    .wandb-col { display: flex; flex-direction: column; flex-basis: 100%; flex: 1; padding: 10px; }\n",
       "    </style>\n",
       "<div class=\"wandb-row\"><div class=\"wandb-col\"><h3>Run history:</h3><br/><table class=\"wandb\"><tr><td>epoch/epoch</td><td>▁▂▃▅▆▇█</td></tr><tr><td>epoch/learning_rate</td><td>▁▁▁▁▁▁▁</td></tr><tr><td>epoch/loss</td><td>█▁▁▁▁▁▁</td></tr><tr><td>epoch/mae</td><td>█▁▁▁▁▁▁</td></tr><tr><td>epoch/val_loss</td><td>▂▁▁▁▁▁█</td></tr><tr><td>epoch/val_mae</td><td>▃▁▁▁▁▂█</td></tr><tr><td>validation_loss</td><td>▁</td></tr></table><br/></div><div class=\"wandb-col\"><h3>Run summary:</h3><br/><table class=\"wandb\"><tr><td>epoch/epoch</td><td>6</td></tr><tr><td>epoch/learning_rate</td><td>0.00487</td></tr><tr><td>epoch/loss</td><td>502.75293</td></tr><tr><td>epoch/mae</td><td>15.19189</td></tr><tr><td>epoch/val_loss</td><td>10065.21484</td></tr><tr><td>epoch/val_mae</td><td>92.29681</td></tr><tr><td>validation_loss</td><td>10065.21973</td></tr></table><br/></div></div>"
      ],
      "text/plain": [
       "<IPython.core.display.HTML object>"
      ]
     },
     "metadata": {},
     "output_type": "display_data"
    },
    {
     "data": {
      "text/html": [
       " View run <strong style=\"color:#cdcd00\">balmy-sweep-98</strong> at: <a href='https://wandb.ai/sondre-rogde-ntnu/LSTM_OPTION_PRICING/runs/zxuubi8v' target=\"_blank\">https://wandb.ai/sondre-rogde-ntnu/LSTM_OPTION_PRICING/runs/zxuubi8v</a><br/> View project at: <a href='https://wandb.ai/sondre-rogde-ntnu/LSTM_OPTION_PRICING' target=\"_blank\">https://wandb.ai/sondre-rogde-ntnu/LSTM_OPTION_PRICING</a><br/>Synced 5 W&B file(s), 0 media file(s), 0 artifact file(s) and 0 other file(s)"
      ],
      "text/plain": [
       "<IPython.core.display.HTML object>"
      ]
     },
     "metadata": {},
     "output_type": "display_data"
    },
    {
     "data": {
      "text/html": [
       "Find logs at: <code>./wandb/run-20240924_101258-zxuubi8v/logs</code>"
      ],
      "text/plain": [
       "<IPython.core.display.HTML object>"
      ]
     },
     "metadata": {},
     "output_type": "display_data"
    },
    {
     "data": {
      "text/html": [
       "wandb version 0.18.1 is available!  To upgrade, please run:\n",
       " $ pip install wandb --upgrade"
      ],
      "text/plain": [
       "<IPython.core.display.HTML object>"
      ]
     },
     "metadata": {},
     "output_type": "display_data"
    },
    {
     "data": {
      "text/html": [
       "The new W&B backend becomes opt-out in version 0.18.0; try it out with `wandb.require(\"core\")`! See https://wandb.me/wandb-core for more information."
      ],
      "text/plain": [
       "<IPython.core.display.HTML object>"
      ]
     },
     "metadata": {},
     "output_type": "display_data"
    },
    {
     "name": "stderr",
     "output_type": "stream",
     "text": [
      "\u001b[34m\u001b[1mwandb\u001b[0m: Agent Starting Run: x5pfbinq with config:\n",
      "\u001b[34m\u001b[1mwandb\u001b[0m: \tbn_momentum: 0.28772486838446715\n",
      "\u001b[34m\u001b[1mwandb\u001b[0m: \tlayers: 5\n",
      "\u001b[34m\u001b[1mwandb\u001b[0m: \tlearning_rate: 0.00166144008929878\n",
      "\u001b[34m\u001b[1mwandb\u001b[0m: \tminibatch_size: 4096\n",
      "\u001b[34m\u001b[1mwandb\u001b[0m: \tunits: 96\n",
      "\u001b[34m\u001b[1mwandb\u001b[0m: \tweight_decay: 0.00021999474535919024\n"
     ]
    },
    {
     "data": {
      "text/html": [
       "Tracking run with wandb version 0.17.9"
      ],
      "text/plain": [
       "<IPython.core.display.HTML object>"
      ]
     },
     "metadata": {},
     "output_type": "display_data"
    },
    {
     "data": {
      "text/html": [
       "Run data is saved locally in <code>/Users/sondrerogde/Dev/LSTM-for-option-pricing/Sondre/wandb/run-20240924_102015-x5pfbinq</code>"
      ],
      "text/plain": [
       "<IPython.core.display.HTML object>"
      ]
     },
     "metadata": {},
     "output_type": "display_data"
    },
    {
     "data": {
      "text/html": [
       "Syncing run <strong><a href='https://wandb.ai/sondre-rogde-ntnu/LSTM_OPTION_PRICING/runs/x5pfbinq' target=\"_blank\">devoted-sweep-99</a></strong> to <a href='https://wandb.ai/sondre-rogde-ntnu/LSTM_OPTION_PRICING' target=\"_blank\">Weights & Biases</a> (<a href='https://wandb.me/run' target=\"_blank\">docs</a>)<br/>Sweep page: <a href='https://wandb.ai/sondre-rogde-ntnu/LSTM_OPTION_PRICING/sweeps/guuhakot' target=\"_blank\">https://wandb.ai/sondre-rogde-ntnu/LSTM_OPTION_PRICING/sweeps/guuhakot</a>"
      ],
      "text/plain": [
       "<IPython.core.display.HTML object>"
      ]
     },
     "metadata": {},
     "output_type": "display_data"
    },
    {
     "data": {
      "text/html": [
       " View project at <a href='https://wandb.ai/sondre-rogde-ntnu/LSTM_OPTION_PRICING' target=\"_blank\">https://wandb.ai/sondre-rogde-ntnu/LSTM_OPTION_PRICING</a>"
      ],
      "text/plain": [
       "<IPython.core.display.HTML object>"
      ]
     },
     "metadata": {},
     "output_type": "display_data"
    },
    {
     "data": {
      "text/html": [
       " View sweep at <a href='https://wandb.ai/sondre-rogde-ntnu/LSTM_OPTION_PRICING/sweeps/guuhakot' target=\"_blank\">https://wandb.ai/sondre-rogde-ntnu/LSTM_OPTION_PRICING/sweeps/guuhakot</a>"
      ],
      "text/plain": [
       "<IPython.core.display.HTML object>"
      ]
     },
     "metadata": {},
     "output_type": "display_data"
    },
    {
     "data": {
      "text/html": [
       " View run at <a href='https://wandb.ai/sondre-rogde-ntnu/LSTM_OPTION_PRICING/runs/x5pfbinq' target=\"_blank\">https://wandb.ai/sondre-rogde-ntnu/LSTM_OPTION_PRICING/runs/x5pfbinq</a>"
      ],
      "text/plain": [
       "<IPython.core.display.HTML object>"
      ]
     },
     "metadata": {},
     "output_type": "display_data"
    },
    {
     "name": "stdout",
     "output_type": "stream",
     "text": [
      "Epoch 1/300\n"
     ]
    },
    {
     "name": "stderr",
     "output_type": "stream",
     "text": [
      "/Library/Frameworks/Python.framework/Versions/3.12/lib/python3.12/site-packages/keras/src/layers/rnn/rnn.py:204: UserWarning: Do not pass an `input_shape`/`input_dim` argument to a layer. When using Sequential models, prefer using an `Input(shape)` object as the first layer in the model instead.\n",
      "  super().__init__(**kwargs)\n"
     ]
    },
    {
     "name": "stdout",
     "output_type": "stream",
     "text": [
      "\u001b[1m243/243\u001b[0m \u001b[32m━━━━━━━━━━━━━━━━━━━━\u001b[0m\u001b[37m\u001b[0m \u001b[1m56s\u001b[0m 219ms/step - loss: 633910.4375 - mae: 534.3040 - val_loss: 695228.1250 - val_mae: 570.4650\n",
      "Epoch 2/300\n",
      "\u001b[1m243/243\u001b[0m \u001b[32m━━━━━━━━━━━━━━━━━━━━\u001b[0m\u001b[37m\u001b[0m \u001b[1m56s\u001b[0m 231ms/step - loss: 485035.6250 - mae: 475.3694 - val_loss: 428297.8438 - val_mae: 456.3925\n",
      "Epoch 3/300\n",
      "\u001b[1m243/243\u001b[0m \u001b[32m━━━━━━━━━━━━━━━━━━━━\u001b[0m\u001b[37m\u001b[0m \u001b[1m61s\u001b[0m 251ms/step - loss: 276632.1875 - mae: 366.1164 - val_loss: 191706.8438 - val_mae: 316.6148\n",
      "Epoch 4/300\n",
      "\u001b[1m243/243\u001b[0m \u001b[32m━━━━━━━━━━━━━━━━━━━━\u001b[0m\u001b[37m\u001b[0m \u001b[1m58s\u001b[0m 237ms/step - loss: 106047.1250 - mae: 231.6605 - val_loss: 47440.8711 - val_mae: 163.2986\n",
      "Epoch 5/300\n",
      "\u001b[1m243/243\u001b[0m \u001b[32m━━━━━━━━━━━━━━━━━━━━\u001b[0m\u001b[37m\u001b[0m \u001b[1m58s\u001b[0m 237ms/step - loss: 24622.2520 - mae: 113.8469 - val_loss: 8313.9961 - val_mae: 73.8953\n",
      "Epoch 6/300\n",
      "\u001b[1m243/243\u001b[0m \u001b[32m━━━━━━━━━━━━━━━━━━━━\u001b[0m\u001b[37m\u001b[0m \u001b[1m58s\u001b[0m 238ms/step - loss: 3355.9832 - mae: 41.8923 - val_loss: 180.8115 - val_mae: 10.9543\n",
      "Epoch 7/300\n",
      "\u001b[1m243/243\u001b[0m \u001b[32m━━━━━━━━━━━━━━━━━━━━\u001b[0m\u001b[37m\u001b[0m \u001b[1m59s\u001b[0m 242ms/step - loss: 546.0546 - mae: 16.2078 - val_loss: 829.7805 - val_mae: 22.0464\n",
      "Epoch 8/300\n",
      "\u001b[1m243/243\u001b[0m \u001b[32m━━━━━━━━━━━━━━━━━━━━\u001b[0m\u001b[37m\u001b[0m \u001b[1m84s\u001b[0m 345ms/step - loss: 293.6405 - mae: 11.7901 - val_loss: 2321.6636 - val_mae: 44.3320\n",
      "Epoch 9/300\n",
      "\u001b[1m243/243\u001b[0m \u001b[32m━━━━━━━━━━━━━━━━━━━━\u001b[0m\u001b[37m\u001b[0m \u001b[1m78s\u001b[0m 320ms/step - loss: 280.1703 - mae: 11.1527 - val_loss: 557.7495 - val_mae: 20.6790\n",
      "Epoch 10/300\n",
      "\u001b[1m243/243\u001b[0m \u001b[32m━━━━━━━━━━━━━━━━━━━━\u001b[0m\u001b[37m\u001b[0m \u001b[1m78s\u001b[0m 320ms/step - loss: 269.6266 - mae: 11.0060 - val_loss: 163.6377 - val_mae: 8.8407\n",
      "Epoch 11/300\n",
      "\u001b[1m243/243\u001b[0m \u001b[32m━━━━━━━━━━━━━━━━━━━━\u001b[0m\u001b[37m\u001b[0m \u001b[1m77s\u001b[0m 315ms/step - loss: 255.1014 - mae: 10.8694 - val_loss: 217.5868 - val_mae: 9.2823\n",
      "Epoch 12/300\n",
      "\u001b[1m243/243\u001b[0m \u001b[32m━━━━━━━━━━━━━━━━━━━━\u001b[0m\u001b[37m\u001b[0m \u001b[1m77s\u001b[0m 316ms/step - loss: 259.9297 - mae: 10.6595 - val_loss: 116.5804 - val_mae: 8.0996\n",
      "Epoch 13/300\n",
      "\u001b[1m243/243\u001b[0m \u001b[32m━━━━━━━━━━━━━━━━━━━━\u001b[0m\u001b[37m\u001b[0m \u001b[1m75s\u001b[0m 308ms/step - loss: 300.6266 - mae: 11.6182 - val_loss: 534.7154 - val_mae: 20.0613\n",
      "Epoch 14/300\n",
      "\u001b[1m243/243\u001b[0m \u001b[32m━━━━━━━━━━━━━━━━━━━━\u001b[0m\u001b[37m\u001b[0m \u001b[1m74s\u001b[0m 306ms/step - loss: 251.6284 - mae: 10.6583 - val_loss: 201.9990 - val_mae: 11.4887\n",
      "Epoch 15/300\n",
      "\u001b[1m243/243\u001b[0m \u001b[32m━━━━━━━━━━━━━━━━━━━━\u001b[0m\u001b[37m\u001b[0m \u001b[1m74s\u001b[0m 305ms/step - loss: 250.3268 - mae: 10.4594 - val_loss: 1443.0081 - val_mae: 34.9290\n",
      "Epoch 16/300\n",
      "\u001b[1m243/243\u001b[0m \u001b[32m━━━━━━━━━━━━━━━━━━━━\u001b[0m\u001b[37m\u001b[0m \u001b[1m75s\u001b[0m 309ms/step - loss: 237.8954 - mae: 10.5800 - val_loss: 108.5554 - val_mae: 7.6859\n",
      "Epoch 17/300\n",
      "\u001b[1m243/243\u001b[0m \u001b[32m━━━━━━━━━━━━━━━━━━━━\u001b[0m\u001b[37m\u001b[0m \u001b[1m74s\u001b[0m 306ms/step - loss: 237.6797 - mae: 10.4737 - val_loss: 608.5180 - val_mae: 22.1029\n",
      "Epoch 18/300\n",
      "\u001b[1m243/243\u001b[0m \u001b[32m━━━━━━━━━━━━━━━━━━━━\u001b[0m\u001b[37m\u001b[0m \u001b[1m66s\u001b[0m 271ms/step - loss: 295.1613 - mae: 11.6509 - val_loss: 400.7637 - val_mae: 16.9755\n",
      "Epoch 19/300\n",
      "\u001b[1m243/243\u001b[0m \u001b[32m━━━━━━━━━━━━━━━━━━━━\u001b[0m\u001b[37m\u001b[0m \u001b[1m62s\u001b[0m 256ms/step - loss: 250.1034 - mae: 10.3925 - val_loss: 418.5923 - val_mae: 15.9784\n",
      "Epoch 20/300\n",
      "\u001b[1m243/243\u001b[0m \u001b[32m━━━━━━━━━━━━━━━━━━━━\u001b[0m\u001b[37m\u001b[0m \u001b[1m62s\u001b[0m 255ms/step - loss: 229.3532 - mae: 10.4085 - val_loss: 53.9649 - val_mae: 5.2041\n",
      "Epoch 21/300\n",
      "\u001b[1m243/243\u001b[0m \u001b[32m━━━━━━━━━━━━━━━━━━━━\u001b[0m\u001b[37m\u001b[0m \u001b[1m62s\u001b[0m 256ms/step - loss: 285.7762 - mae: 11.0953 - val_loss: 532.9523 - val_mae: 20.4626\n",
      "Epoch 22/300\n",
      "\u001b[1m243/243\u001b[0m \u001b[32m━━━━━━━━━━━━━━━━━━━━\u001b[0m\u001b[37m\u001b[0m \u001b[1m62s\u001b[0m 255ms/step - loss: 247.1417 - mae: 10.3331 - val_loss: 290.8417 - val_mae: 14.1229\n",
      "Epoch 23/300\n",
      "\u001b[1m243/243\u001b[0m \u001b[32m━━━━━━━━━━━━━━━━━━━━\u001b[0m\u001b[37m\u001b[0m \u001b[1m71s\u001b[0m 292ms/step - loss: 264.7969 - mae: 11.1827 - val_loss: 3203.9812 - val_mae: 50.6503\n",
      "Epoch 24/300\n",
      "\u001b[1m243/243\u001b[0m \u001b[32m━━━━━━━━━━━━━━━━━━━━\u001b[0m\u001b[37m\u001b[0m \u001b[1m68s\u001b[0m 279ms/step - loss: 205.5607 - mae: 9.2875 - val_loss: 512.1119 - val_mae: 20.3935\n",
      "Epoch 25/300\n",
      "\u001b[1m243/243\u001b[0m \u001b[32m━━━━━━━━━━━━━━━━━━━━\u001b[0m\u001b[37m\u001b[0m \u001b[1m64s\u001b[0m 262ms/step - loss: 228.5590 - mae: 10.1164 - val_loss: 277.3432 - val_mae: 13.2854\n",
      "\u001b[1m3888/3888\u001b[0m \u001b[32m━━━━━━━━━━━━━━━━━━━━\u001b[0m\u001b[37m\u001b[0m \u001b[1m9s\u001b[0m 2ms/step - loss: 211.3625 - mae: 11.4897\n"
     ]
    },
    {
     "data": {
      "text/html": [
       "<style>\n",
       "    table.wandb td:nth-child(1) { padding: 0 10px; text-align: left ; width: auto;} td:nth-child(2) {text-align: left ; width: 100%}\n",
       "    .wandb-row { display: flex; flex-direction: row; flex-wrap: wrap; justify-content: flex-start; width: 100% }\n",
       "    .wandb-col { display: flex; flex-direction: column; flex-basis: 100%; flex: 1; padding: 10px; }\n",
       "    </style>\n",
       "<div class=\"wandb-row\"><div class=\"wandb-col\"><h3>Run history:</h3><br/><table class=\"wandb\"><tr><td>epoch/epoch</td><td>▁▁▂▂▂▂▃▃▃▄▄▄▅▅▅▅▆▆▆▇▇▇▇██</td></tr><tr><td>epoch/learning_rate</td><td>▁▁▁▁▁▁▁▁▁▁▁▁▁▁▁▁▁▁▁▁▁▁▁▁▁</td></tr><tr><td>epoch/loss</td><td>█▆▄▂▁▁▁▁▁▁▁▁▁▁▁▁▁▁▁▁▁▁▁▁▁</td></tr><tr><td>epoch/mae</td><td>█▇▅▄▂▁▁▁▁▁▁▁▁▁▁▁▁▁▁▁▁▁▁▁▁</td></tr><tr><td>epoch/val_loss</td><td>█▅▃▁▁▁▁▁▁▁▁▁▁▁▁▁▁▁▁▁▁▁▁▁▁</td></tr><tr><td>epoch/val_mae</td><td>█▇▅▃▂▁▁▁▁▁▁▁▁▁▁▁▁▁▁▁▁▁▂▁▁</td></tr><tr><td>validation_loss</td><td>▁</td></tr></table><br/></div><div class=\"wandb-col\"><h3>Run summary:</h3><br/><table class=\"wandb\"><tr><td>epoch/epoch</td><td>24</td></tr><tr><td>epoch/learning_rate</td><td>0.00166</td></tr><tr><td>epoch/loss</td><td>242.67668</td></tr><tr><td>epoch/mae</td><td>10.34191</td></tr><tr><td>epoch/val_loss</td><td>277.34317</td></tr><tr><td>epoch/val_mae</td><td>13.28538</td></tr><tr><td>validation_loss</td><td>277.34338</td></tr></table><br/></div></div>"
      ],
      "text/plain": [
       "<IPython.core.display.HTML object>"
      ]
     },
     "metadata": {},
     "output_type": "display_data"
    },
    {
     "data": {
      "text/html": [
       " View run <strong style=\"color:#cdcd00\">devoted-sweep-99</strong> at: <a href='https://wandb.ai/sondre-rogde-ntnu/LSTM_OPTION_PRICING/runs/x5pfbinq' target=\"_blank\">https://wandb.ai/sondre-rogde-ntnu/LSTM_OPTION_PRICING/runs/x5pfbinq</a><br/> View project at: <a href='https://wandb.ai/sondre-rogde-ntnu/LSTM_OPTION_PRICING' target=\"_blank\">https://wandb.ai/sondre-rogde-ntnu/LSTM_OPTION_PRICING</a><br/>Synced 5 W&B file(s), 0 media file(s), 0 artifact file(s) and 0 other file(s)"
      ],
      "text/plain": [
       "<IPython.core.display.HTML object>"
      ]
     },
     "metadata": {},
     "output_type": "display_data"
    },
    {
     "data": {
      "text/html": [
       "Find logs at: <code>./wandb/run-20240924_102015-x5pfbinq/logs</code>"
      ],
      "text/plain": [
       "<IPython.core.display.HTML object>"
      ]
     },
     "metadata": {},
     "output_type": "display_data"
    },
    {
     "data": {
      "text/html": [
       "wandb version 0.18.1 is available!  To upgrade, please run:\n",
       " $ pip install wandb --upgrade"
      ],
      "text/plain": [
       "<IPython.core.display.HTML object>"
      ]
     },
     "metadata": {},
     "output_type": "display_data"
    },
    {
     "data": {
      "text/html": [
       "The new W&B backend becomes opt-out in version 0.18.0; try it out with `wandb.require(\"core\")`! See https://wandb.me/wandb-core for more information."
      ],
      "text/plain": [
       "<IPython.core.display.HTML object>"
      ]
     },
     "metadata": {},
     "output_type": "display_data"
    },
    {
     "name": "stderr",
     "output_type": "stream",
     "text": [
      "\u001b[34m\u001b[1mwandb\u001b[0m: Agent Starting Run: itbdmizw with config:\n",
      "\u001b[34m\u001b[1mwandb\u001b[0m: \tbn_momentum: 0.19876415035712047\n",
      "\u001b[34m\u001b[1mwandb\u001b[0m: \tlayers: 5\n",
      "\u001b[34m\u001b[1mwandb\u001b[0m: \tlearning_rate: 0.0016581098986887025\n",
      "\u001b[34m\u001b[1mwandb\u001b[0m: \tminibatch_size: 4096\n",
      "\u001b[34m\u001b[1mwandb\u001b[0m: \tunits: 96\n",
      "\u001b[34m\u001b[1mwandb\u001b[0m: \tweight_decay: 0.00019318747575441963\n"
     ]
    },
    {
     "data": {
      "text/html": [
       "Tracking run with wandb version 0.17.9"
      ],
      "text/plain": [
       "<IPython.core.display.HTML object>"
      ]
     },
     "metadata": {},
     "output_type": "display_data"
    },
    {
     "data": {
      "text/html": [
       "Run data is saved locally in <code>/Users/sondrerogde/Dev/LSTM-for-option-pricing/Sondre/wandb/run-20240924_104959-itbdmizw</code>"
      ],
      "text/plain": [
       "<IPython.core.display.HTML object>"
      ]
     },
     "metadata": {},
     "output_type": "display_data"
    },
    {
     "data": {
      "text/html": [
       "Syncing run <strong><a href='https://wandb.ai/sondre-rogde-ntnu/LSTM_OPTION_PRICING/runs/itbdmizw' target=\"_blank\">dauntless-sweep-100</a></strong> to <a href='https://wandb.ai/sondre-rogde-ntnu/LSTM_OPTION_PRICING' target=\"_blank\">Weights & Biases</a> (<a href='https://wandb.me/run' target=\"_blank\">docs</a>)<br/>Sweep page: <a href='https://wandb.ai/sondre-rogde-ntnu/LSTM_OPTION_PRICING/sweeps/guuhakot' target=\"_blank\">https://wandb.ai/sondre-rogde-ntnu/LSTM_OPTION_PRICING/sweeps/guuhakot</a>"
      ],
      "text/plain": [
       "<IPython.core.display.HTML object>"
      ]
     },
     "metadata": {},
     "output_type": "display_data"
    },
    {
     "data": {
      "text/html": [
       " View project at <a href='https://wandb.ai/sondre-rogde-ntnu/LSTM_OPTION_PRICING' target=\"_blank\">https://wandb.ai/sondre-rogde-ntnu/LSTM_OPTION_PRICING</a>"
      ],
      "text/plain": [
       "<IPython.core.display.HTML object>"
      ]
     },
     "metadata": {},
     "output_type": "display_data"
    },
    {
     "data": {
      "text/html": [
       " View sweep at <a href='https://wandb.ai/sondre-rogde-ntnu/LSTM_OPTION_PRICING/sweeps/guuhakot' target=\"_blank\">https://wandb.ai/sondre-rogde-ntnu/LSTM_OPTION_PRICING/sweeps/guuhakot</a>"
      ],
      "text/plain": [
       "<IPython.core.display.HTML object>"
      ]
     },
     "metadata": {},
     "output_type": "display_data"
    },
    {
     "data": {
      "text/html": [
       " View run at <a href='https://wandb.ai/sondre-rogde-ntnu/LSTM_OPTION_PRICING/runs/itbdmizw' target=\"_blank\">https://wandb.ai/sondre-rogde-ntnu/LSTM_OPTION_PRICING/runs/itbdmizw</a>"
      ],
      "text/plain": [
       "<IPython.core.display.HTML object>"
      ]
     },
     "metadata": {},
     "output_type": "display_data"
    },
    {
     "name": "stdout",
     "output_type": "stream",
     "text": [
      "Epoch 1/300\n"
     ]
    },
    {
     "name": "stderr",
     "output_type": "stream",
     "text": [
      "/Library/Frameworks/Python.framework/Versions/3.12/lib/python3.12/site-packages/keras/src/layers/rnn/rnn.py:204: UserWarning: Do not pass an `input_shape`/`input_dim` argument to a layer. When using Sequential models, prefer using an `Input(shape)` object as the first layer in the model instead.\n",
      "  super().__init__(**kwargs)\n"
     ]
    },
    {
     "name": "stdout",
     "output_type": "stream",
     "text": [
      "\u001b[1m243/243\u001b[0m \u001b[32m━━━━━━━━━━━━━━━━━━━━\u001b[0m\u001b[37m\u001b[0m \u001b[1m57s\u001b[0m 219ms/step - loss: 634445.5000 - mae: 534.4629 - val_loss: 716946.9375 - val_mae: 584.1155\n",
      "Epoch 2/300\n",
      "\u001b[1m243/243\u001b[0m \u001b[32m━━━━━━━━━━━━━━━━━━━━\u001b[0m\u001b[37m\u001b[0m \u001b[1m54s\u001b[0m 224ms/step - loss: 487241.9062 - mae: 476.4033 - val_loss: 455657.6250 - val_mae: 473.8611\n",
      "Epoch 3/300\n",
      "\u001b[1m243/243\u001b[0m \u001b[32m━━━━━━━━━━━━━━━━━━━━\u001b[0m\u001b[37m\u001b[0m \u001b[1m55s\u001b[0m 227ms/step - loss: 279647.3750 - mae: 368.1429 - val_loss: 176630.9688 - val_mae: 301.3722\n",
      "Epoch 4/300\n",
      "\u001b[1m243/243\u001b[0m \u001b[32m━━━━━━━━━━━━━━━━━━━━\u001b[0m\u001b[37m\u001b[0m \u001b[1m55s\u001b[0m 227ms/step - loss: 107115.1094 - mae: 232.5896 - val_loss: 42321.6836 - val_mae: 154.4010\n",
      "Epoch 5/300\n",
      "\u001b[1m243/243\u001b[0m \u001b[32m━━━━━━━━━━━━━━━━━━━━\u001b[0m\u001b[37m\u001b[0m \u001b[1m55s\u001b[0m 227ms/step - loss: 25103.4531 - mae: 114.8750 - val_loss: 13976.4883 - val_mae: 99.3567\n",
      "Epoch 6/300\n",
      "\u001b[1m243/243\u001b[0m \u001b[32m━━━━━━━━━━━━━━━━━━━━\u001b[0m\u001b[37m\u001b[0m \u001b[1m55s\u001b[0m 226ms/step - loss: 3515.7617 - mae: 43.1308 - val_loss: 886.1374 - val_mae: 26.9274\n",
      "Epoch 7/300\n",
      "\u001b[1m243/243\u001b[0m \u001b[32m━━━━━━━━━━━━━━━━━━━━\u001b[0m\u001b[37m\u001b[0m \u001b[1m55s\u001b[0m 227ms/step - loss: 609.0560 - mae: 17.1370 - val_loss: 273.2860 - val_mae: 13.1606\n",
      "Epoch 8/300\n",
      "\u001b[1m243/243\u001b[0m \u001b[32m━━━━━━━━━━━━━━━━━━━━\u001b[0m\u001b[37m\u001b[0m \u001b[1m55s\u001b[0m 227ms/step - loss: 305.1564 - mae: 12.1466 - val_loss: 1271.9626 - val_mae: 28.7041\n",
      "Epoch 9/300\n",
      "\u001b[1m243/243\u001b[0m \u001b[32m━━━━━━━━━━━━━━━━━━━━\u001b[0m\u001b[37m\u001b[0m \u001b[1m61s\u001b[0m 253ms/step - loss: 321.1448 - mae: 11.8702 - val_loss: 303.7502 - val_mae: 13.8221\n",
      "Epoch 10/300\n",
      "\u001b[1m243/243\u001b[0m \u001b[32m━━━━━━━━━━━━━━━━━━━━\u001b[0m\u001b[37m\u001b[0m \u001b[1m65s\u001b[0m 267ms/step - loss: 279.7186 - mae: 11.1107 - val_loss: 160.2331 - val_mae: 8.9855\n",
      "Epoch 11/300\n",
      "\u001b[1m243/243\u001b[0m \u001b[32m━━━━━━━━━━━━━━━━━━━━\u001b[0m\u001b[37m\u001b[0m \u001b[1m62s\u001b[0m 254ms/step - loss: 282.5816 - mae: 11.3599 - val_loss: 668.8068 - val_mae: 20.0089\n",
      "Epoch 12/300\n",
      "\u001b[1m243/243\u001b[0m \u001b[32m━━━━━━━━━━━━━━━━━━━━\u001b[0m\u001b[37m\u001b[0m \u001b[1m61s\u001b[0m 252ms/step - loss: 283.4742 - mae: 11.3221 - val_loss: 1655.7682 - val_mae: 33.6337\n",
      "Epoch 13/300\n",
      "\u001b[1m243/243\u001b[0m \u001b[32m━━━━━━━━━━━━━━━━━━━━\u001b[0m\u001b[37m\u001b[0m \u001b[1m59s\u001b[0m 241ms/step - loss: 292.5069 - mae: 11.2392 - val_loss: 249.3576 - val_mae: 10.0447\n",
      "Epoch 14/300\n",
      "\u001b[1m243/243\u001b[0m \u001b[32m━━━━━━━━━━━━━━━━━━━━\u001b[0m\u001b[37m\u001b[0m \u001b[1m58s\u001b[0m 239ms/step - loss: 290.2176 - mae: 11.4735 - val_loss: 1498.3701 - val_mae: 34.5076\n",
      "Epoch 15/300\n",
      "\u001b[1m243/243\u001b[0m \u001b[32m━━━━━━━━━━━━━━━━━━━━\u001b[0m\u001b[37m\u001b[0m \u001b[1m59s\u001b[0m 245ms/step - loss: 256.5275 - mae: 10.8499 - val_loss: 653.7590 - val_mae: 21.8317\n",
      "\u001b[1m3888/3888\u001b[0m \u001b[32m━━━━━━━━━━━━━━━━━━━━\u001b[0m\u001b[37m\u001b[0m \u001b[1m8s\u001b[0m 2ms/step - loss: 572.0245 - mae: 20.1432\n"
     ]
    },
    {
     "data": {
      "text/html": [
       "<style>\n",
       "    table.wandb td:nth-child(1) { padding: 0 10px; text-align: left ; width: auto;} td:nth-child(2) {text-align: left ; width: 100%}\n",
       "    .wandb-row { display: flex; flex-direction: row; flex-wrap: wrap; justify-content: flex-start; width: 100% }\n",
       "    .wandb-col { display: flex; flex-direction: column; flex-basis: 100%; flex: 1; padding: 10px; }\n",
       "    </style>\n",
       "<div class=\"wandb-row\"><div class=\"wandb-col\"><h3>Run history:</h3><br/><table class=\"wandb\"><tr><td>epoch/epoch</td><td>▁▁▂▃▃▃▄▅▅▅▆▇▇▇█</td></tr><tr><td>epoch/learning_rate</td><td>▁▁▁▁▁▁▁▁▁▁▁▁▁▁▁</td></tr><tr><td>epoch/loss</td><td>█▆▄▂▁▁▁▁▁▁▁▁▁▁▁</td></tr><tr><td>epoch/mae</td><td>█▇▅▄▂▁▁▁▁▁▁▁▁▁▁</td></tr><tr><td>epoch/val_loss</td><td>█▅▃▁▁▁▁▁▁▁▁▁▁▁▁</td></tr><tr><td>epoch/val_mae</td><td>█▇▅▃▂▁▁▁▁▁▁▁▁▁▁</td></tr><tr><td>validation_loss</td><td>▁</td></tr></table><br/></div><div class=\"wandb-col\"><h3>Run summary:</h3><br/><table class=\"wandb\"><tr><td>epoch/epoch</td><td>14</td></tr><tr><td>epoch/learning_rate</td><td>0.00166</td></tr><tr><td>epoch/loss</td><td>251.71851</td></tr><tr><td>epoch/mae</td><td>10.66072</td></tr><tr><td>epoch/val_loss</td><td>653.75897</td></tr><tr><td>epoch/val_mae</td><td>21.83167</td></tr><tr><td>validation_loss</td><td>653.75897</td></tr></table><br/></div></div>"
      ],
      "text/plain": [
       "<IPython.core.display.HTML object>"
      ]
     },
     "metadata": {},
     "output_type": "display_data"
    },
    {
     "data": {
      "text/html": [
       " View run <strong style=\"color:#cdcd00\">dauntless-sweep-100</strong> at: <a href='https://wandb.ai/sondre-rogde-ntnu/LSTM_OPTION_PRICING/runs/itbdmizw' target=\"_blank\">https://wandb.ai/sondre-rogde-ntnu/LSTM_OPTION_PRICING/runs/itbdmizw</a><br/> View project at: <a href='https://wandb.ai/sondre-rogde-ntnu/LSTM_OPTION_PRICING' target=\"_blank\">https://wandb.ai/sondre-rogde-ntnu/LSTM_OPTION_PRICING</a><br/>Synced 5 W&B file(s), 0 media file(s), 0 artifact file(s) and 0 other file(s)"
      ],
      "text/plain": [
       "<IPython.core.display.HTML object>"
      ]
     },
     "metadata": {},
     "output_type": "display_data"
    },
    {
     "data": {
      "text/html": [
       "Find logs at: <code>./wandb/run-20240924_104959-itbdmizw/logs</code>"
      ],
      "text/plain": [
       "<IPython.core.display.HTML object>"
      ]
     },
     "metadata": {},
     "output_type": "display_data"
    },
    {
     "data": {
      "text/html": [
       "wandb version 0.18.1 is available!  To upgrade, please run:\n",
       " $ pip install wandb --upgrade"
      ],
      "text/plain": [
       "<IPython.core.display.HTML object>"
      ]
     },
     "metadata": {},
     "output_type": "display_data"
    },
    {
     "data": {
      "text/html": [
       "The new W&B backend becomes opt-out in version 0.18.0; try it out with `wandb.require(\"core\")`! See https://wandb.me/wandb-core for more information."
      ],
      "text/plain": [
       "<IPython.core.display.HTML object>"
      ]
     },
     "metadata": {},
     "output_type": "display_data"
    }
   ],
   "source": [
    "# sweep_id = wandb.sweep(sweep=sweep_configuration, project=\"LSTM_OPTION_PRICING\")\n",
    "sweep_id = \"guuhakot\"\n",
    "wandb.agent(sweep_id=sweep_id, function=trainer, project=\"LSTM_OPTION_PRICING\", count = 44)"
   ]
  }
 ],
 "metadata": {
  "kernelspec": {
   "display_name": "Python 3.9.4 64-bit",
   "language": "python",
   "name": "python3"
  },
  "language_info": {
   "codemirror_mode": {
    "name": "ipython",
    "version": 3
   },
   "file_extension": ".py",
   "mimetype": "text/x-python",
   "name": "python",
   "nbconvert_exporter": "python",
   "pygments_lexer": "ipython3",
   "version": "3.12.3"
  },
  "orig_nbformat": 4,
  "vscode": {
   "interpreter": {
    "hash": "6d22c5043c0ee61c8547bd88adb0f85d3d6a0a630c1da4282026f99271dac814"
   }
  }
 },
 "nbformat": 4,
 "nbformat_minor": 2
}
