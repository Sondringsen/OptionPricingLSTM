{
 "cells": [
  {
   "cell_type": "markdown",
   "metadata": {},
   "source": [
    "<h1>Tables</h1>\n",
    "<p>This notebook contains some of the tables in the paper. The result tables are are created in the full-compare-notebook.</p>"
   ]
  },
  {
   "cell_type": "code",
   "execution_count": 2,
   "metadata": {},
   "outputs": [],
   "source": [
    "import pandas as pd\n",
    "from preprocessing import read_file"
   ]
  },
  {
   "cell_type": "code",
   "execution_count": 3,
   "metadata": {},
   "outputs": [],
   "source": [
    "df_read = read_file(\"../data/processed/2019-2021_underlying-strike_only-price.csv\")"
   ]
  },
  {
   "cell_type": "markdown",
   "metadata": {},
   "source": [
    "<h3>Data summary</h3>"
   ]
  },
  {
   "cell_type": "code",
   "execution_count": 55,
   "metadata": {},
   "outputs": [],
   "source": [
    "df_read = df_read.loc[df_read.loc[:, \"Quote_date\"] >= \"2020-04-01\", :]\n",
    "\n",
    "df_read[\"Moneyness\"] = \"0.97-1.03\"\n",
    "df_read.loc[df_read.loc[:, \"Underlying_last\"]/df_read.loc[:, \"Strike\"] < 0.97, \"Moneyness\"] = \"<0.97\"\n",
    "df_read.loc[df_read.loc[:, \"Underlying_last\"]/df_read.loc[:, \"Strike\"] > 1.03, \"Moneyness\"] = \">1.03\"\n",
    "\n",
    "df_group_moneyness = df_read.groupby(by=\"Moneyness\")\n"
   ]
  },
  {
   "cell_type": "code",
   "execution_count": 56,
   "metadata": {},
   "outputs": [],
   "source": [
    "level_1 = [\"Price\", \"Underlying_last\", \"Ttl\", \"Volatility\", \"R\"] \n",
    "level_2 = [\"count\", \"mean\", \"std\", \"min\", \"25%\", \"50%\", \"75%\", \"max\"]  \n",
    "index = pd.MultiIndex.from_product([level_1, level_2], names=[\"Feature\", \"Statistic\"])\n",
    "\n",
    "level_3 = [\"<0.97\", \"0.97-1.03\", \">1.03\"]\n",
    "columns = pd.Index(level_3, name=\"Moneyness\")\n",
    "\n",
    "df_summary = pd.DataFrame(index=index, columns=columns)\n",
    "\n",
    "for moneyness_level, group_data in df_group_moneyness:\n",
    "    description = group_data.describe()\n",
    "\n",
    "    for feature in level_1:\n",
    "        for stat in level_2:\n",
    "            try:\n",
    "                df_summary.loc[(feature, stat), str(moneyness_level)] = description[feature][stat]\n",
    "            except KeyError:\n",
    "                print(f\"Feature {feature} or Statistic {stat} not found in description for moneyness {moneyness_level}\")\n",
    "\n",
    "latex_table = df_summary.to_latex(multicolumn=True, multicolumn_format='c', float_format=\"%.2f\")\n",
    "\n",
    "with open('../reports/data_summary.tex', 'w') as f:\n",
    "    f.write(latex_table)\n"
   ]
  },
  {
   "cell_type": "markdown",
   "metadata": {},
   "source": [
    "<h3>Hyperparameters</h3"
   ]
  },
  {
   "cell_type": "code",
   "execution_count": 15,
   "metadata": {},
   "outputs": [],
   "source": [
    "config_lstm = {\n",
    "    \"Layers\": 5,\n",
    "    \"Units per layer\": 64,\n",
    "    \"Learning rate\": 0.002594627161103502,\n",
    "    \"Weight decay\": 0.0003327609151101109,\n",
    "    \"BN momentum\" : 0.26212094315874734,\n",
    "    \"Minibatch size\": 4096,\n",
    "    \"Epochs\": \"Early stopping\",\n",
    "    \"Optimizer\": \"AdamW\",\n",
    "}\n",
    "\n",
    "config_mlp = {\n",
    "    \"Layers\": 4,\n",
    "    \"Units per layer\": 32,\n",
    "    \"Learning rate\": 0.004469423596275494,\n",
    "    \"Weight decay\" : 0.00042470893538329376,\n",
    "    \"BN momentum\" : 0.30057069329591907,\n",
    "    \"Minibatch size\": 4096,\n",
    "    \"Epochs\": \"Early stopping\",\n",
    "    \"Activation function\": \"ReLU\",\n",
    "    \"Optimizer\": \"AdamW\",\n",
    "}\n",
    "\n",
    "config_mlp_garch = {\n",
    "    \"Layers\": 6,\n",
    "    \"Units per layer\": 96,\n",
    "    \"Learning rate\": 0.004102449498283615,\n",
    "    \"Weight decay\" : 0.0002017422068564576,\n",
    "    \"BN momentum\" : 0.32753376728017486,\n",
    "    \"Minibatch size\": 2048,\n",
    "    \"Epochs\": \"Early stopping\",\n",
    "    \"Activation function\": \"ReLU\",\n",
    "    \"Optimizer\": \"AdamW\",\n",
    "}\n",
    "\n",
    "lstm_hyper = pd.DataFrame.from_dict(config_lstm, orient=\"index\")\n",
    "mlp_hyper = pd.DataFrame.from_dict(config_mlp, orient=\"index\")\n",
    "mpl_garch_hyper = pd.DataFrame.from_dict(config_mlp_garch, orient=\"index\")\n",
    "\n",
    "with open('../reports/LSTM_hyperparameters.tex', 'w') as f:\n",
    "    f.write(lstm_hyper.to_latex())\n",
    "\n",
    "with open('../reports/MLP_hyperparameters.tex', 'w') as f:\n",
    "    f.write(mlp_hyper.to_latex())\n",
    "\n",
    "with open('../reports/MLP_GARCH_hyperparameters.tex', 'w') as f:\n",
    "    f.write(mpl_garch_hyper.to_latex())"
   ]
  }
 ],
 "metadata": {
  "kernelspec": {
   "display_name": "Python 3",
   "language": "python",
   "name": "python3"
  },
  "language_info": {
   "codemirror_mode": {
    "name": "ipython",
    "version": 3
   },
   "file_extension": ".py",
   "mimetype": "text/x-python",
   "name": "python",
   "nbconvert_exporter": "python",
   "pygments_lexer": "ipython3",
   "version": "3.12.3"
  }
 },
 "nbformat": 4,
 "nbformat_minor": 2
}
