{
 "cells": [
  {
   "cell_type": "markdown",
   "metadata": {},
   "source": [
    "<h1>Adding benchmarks and merging all predictions</h1>\n",
    "<p>Be sure to run LSTM, MLP, and MLP-GARCH first</p>"
   ]
  },
  {
   "cell_type": "code",
   "execution_count": 1,
   "metadata": {},
   "outputs": [],
   "source": [
    "import pandas as pd\n",
    "import numpy as np\n",
    "from scipy.stats import norm"
   ]
  },
  {
   "cell_type": "code",
   "execution_count": 2,
   "metadata": {},
   "outputs": [],
   "source": [
    "def lag_features(df, features, seq_length):\n",
    "    \"\"\"Transforms a raw 2D dataframe of option data into 2D dataframe ofsequence data.\n",
    "    Last 2 indexes per sequence are bid and ask price. The len(features)*seq_length\n",
    "    features before are sequences of features\"\"\"\n",
    "    df = df.sort_values([\"Expire_date\", \"Strike\", \"Ttl\"], ascending = [True, True, False])\n",
    "    \n",
    "    # Adding lag for naive benchmarking\n",
    "    df[\"Naive\"] = df[\"Price\"].shift(1)\n",
    "\n",
    "    for step in range(seq_length)[::-1]:\n",
    "        for feature in features:\n",
    "            df[feature + \"-\" + str(step)] = df[feature].shift(step)\n",
    "    \n",
    "    df[\"Check_strike\"] = df[\"Strike\"] == df[\"Strike\"].shift(seq_length-1)\n",
    "    df[\"Check_expire\"] = df[\"Expire_date\"] == df[\"Expire_date\"].shift(seq_length-1)\n",
    "    df = df[(df[\"Check_strike\"] == True) & (df[\"Check_expire\"] == True)]\n",
    "    df = df.drop([\"Check_strike\", \"Check_expire\"], axis=1)\n",
    "    #df[[\"Bid_strike_last\", \"Ask_strike_last\"]] = df[[\"Bid_strike\", \"Ask_strike\"]]\n",
    "    #df[[\"Bid_last\", \"Ask_last\"]] = df[[\"Bid\", \"Ask\"]]\n",
    "    df[\"Price_last\"] = df[\"Price\"]\n",
    "    df = df.sort_values([\"Quote_date\"], ascending = [True])\n",
    "    return df\n",
    "\n",
    "    \n",
    "def read_file(file):\n",
    "    \"\"\"Read a single file and return a dataframe\"\"\"\n",
    "    return pd.read_csv(file, skipinitialspace=True)\n"
   ]
  },
  {
   "cell_type": "markdown",
   "metadata": {},
   "source": [
    "<h3>Merging with LSTM, MLP, MLP-GARCH prediction</h3>"
   ]
  },
  {
   "cell_type": "code",
   "execution_count": 10,
   "metadata": {},
   "outputs": [],
   "source": [
    "# Added this to make lag_features work - Sondre\n",
    "file = f\"../data/Predictions/2021_predictions_09-30_10-22.csv\"\n",
    "df_options = read_file(file)\n",
    "df_options = df_options.rename(columns={\"Prediction\": \"MLP\"})\n",
    "df_options[\"Expire_date\"] = pd.to_datetime(df_options[\"Quote_date\"]) + pd.to_timedelta(df_options[\"Ttl\"], unit=\"D\")\n",
    "\n",
    "# file with MLP-GARCH predictions\n",
    "df_merge = read_file(f\"../data/Predictions/2021_predictions_09-30_14-55_GARCH.csv\")[[\"Quote_date\", \"Strike\", \"Ttl\", \"Prediction\"]]\n",
    "df_options = pd.merge(df_options, df_merge, how=\"inner\", on=[\"Quote_date\", \"Strike\", \"Ttl\"])\n",
    "df_options = df_options.rename(columns={\"Prediction\": \"MLP-GARCH\"})\n",
    "\n",
    "# file with LSTM predictions\n",
    "df_merge = read_file(\"../data/Predictions/2021_predictions_09-26_21-44_LSTM.csv\")[[\"Quote_date\", \"Strike\", \"Ttl\", \"Prediction\"]]\n",
    "df_options = pd.merge(df_options, df_merge, how=\"inner\", on=[\"Quote_date\", \"Strike\", \"Ttl\"])\n",
    "df_options = df_options.rename(columns={\"Prediction\": \"LSTM\"})"
   ]
  },
  {
   "cell_type": "markdown",
   "metadata": {},
   "source": [
    "<h3>Adding naive benchmark</h3>"
   ]
  },
  {
   "cell_type": "code",
   "execution_count": 11,
   "metadata": {},
   "outputs": [],
   "source": [
    "features = [\"Underlying_last\", \"Strike\", \"Ttl\", \"Volatility\", \"R\"]\n",
    "seq_length = 5\n",
    "num_features = len(features)\n",
    "num_outputs = 1\n",
    "\n",
    "df_options = lag_features(df_options, features, seq_length)"
   ]
  },
  {
   "cell_type": "markdown",
   "metadata": {},
   "source": [
    "<h3>Adding Black Scholes benchmarks</h3>"
   ]
  },
  {
   "cell_type": "code",
   "execution_count": 12,
   "metadata": {},
   "outputs": [],
   "source": [
    "# Black-Scholes formula for call options\n",
    "def d1(S,K,T,r,sigma):\n",
    "    x1 = S.apply(lambda x : np.log(x)) - K.apply(lambda x : np.log(x))\n",
    "    x2 = (r + ((sigma.apply(lambda x : x**2)) / 2)) * T\n",
    "    x3 = sigma * T.apply(lambda x: np.sqrt(x))\n",
    "    return  (x1 + x2) / x3\n",
    "\n",
    "def d2(S,K,T,r,sigma):\n",
    "    return d1(S,K,T,r,sigma) - sigma * T.apply(lambda x : np.sqrt(x))  \n",
    "\n",
    "def bs_call(S,K,T,r,sigma):\n",
    "    T = T/365\n",
    "    r = r/100\n",
    "    return S * d1(S,K,T,r,sigma).apply(lambda x : norm.cdf(x)) - K * (-r*T).apply(lambda x : np.exp(x)) * d2(S,K,T,r,sigma).apply(lambda x : norm.cdf(x))"
   ]
  },
  {
   "cell_type": "code",
   "execution_count": 6,
   "metadata": {},
   "outputs": [],
   "source": [
    "# df_merge = read_file(\"../data/processed_data/2019-2021_underlying-strike_only-price.csv\")\n",
    "# df_merge = df_merge.drop_duplicates(subset=[\"Quote_date\"], keep=\"first\")[[\"Quote_date\", \"Volatility_GJR_GARCH\"]]\n",
    "# # df_options = pd.merge(df_options, df_merge, how=\"inner\", on=\"Quote_date\")"
   ]
  },
  {
   "cell_type": "code",
   "execution_count": 13,
   "metadata": {},
   "outputs": [],
   "source": [
    "df_options[\"BS\"] = bs_call(df_options[\"Underlying_last\"], df_options[\"Strike\"], df_options[\"Ttl\"], df_options[\"R\"], df_options[\"Volatility\"])\n",
    "df_options[\"BS-GJR-GARCH\"] = bs_call(df_options[\"Underlying_last\"], df_options[\"Strike\"], df_options[\"Ttl\"], df_options[\"R\"], df_options[\"Volatility_GJR_GARCH\"])"
   ]
  },
  {
   "cell_type": "markdown",
   "metadata": {},
   "source": [
    "<h3>Saving results</h3>"
   ]
  },
  {
   "cell_type": "code",
   "execution_count": 14,
   "metadata": {},
   "outputs": [],
   "source": [
    "df_options = df_options[[\"Quote_date\", \"Underlying_last\", \"Strike\", \"Ttl\", \"Volatility\", \"R\", \"Price\", \"Volatility_GJR_GARCH\", \"Naive\", \"MLP\", \"MLP-GARCH\", \"LSTM\", \"BS\", \"BS-GJR-GARCH\"]]\n",
    "df_options['Quote_date'] = pd.to_datetime(df_options.Quote_date, format='%Y-%m-%d')\n",
    "df_options = df_options[df_options.Quote_date.dt.year == 2021]\n",
    "\n",
    "df_options.to_csv('../data/Predictions/all_predictions.csv', encoding='utf-8', index=False)"
   ]
  }
 ],
 "metadata": {
  "kernelspec": {
   "display_name": "Python 3.8.1 64-bit",
   "language": "python",
   "name": "python3"
  },
  "language_info": {
   "codemirror_mode": {
    "name": "ipython",
    "version": 3
   },
   "file_extension": ".py",
   "mimetype": "text/x-python",
   "name": "python",
   "nbconvert_exporter": "python",
   "pygments_lexer": "ipython3",
   "version": "3.12.3"
  },
  "orig_nbformat": 4,
  "vscode": {
   "interpreter": {
    "hash": "0adcc2737ebf6a4a119f135174df96668767fca1ef1112612db5ecadf2b6d608"
   }
  }
 },
 "nbformat": 4,
 "nbformat_minor": 2
}
